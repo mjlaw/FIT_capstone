{
 "cells": [
  {
   "cell_type": "markdown",
   "id": "58ca0853",
   "metadata": {},
   "source": [
    "The EPA's current 24 hour standard for PM 2.5 is 35 µg/m3. Levels above this exceed the standard."
   ]
  },
  {
   "cell_type": "code",
   "execution_count": 1,
   "id": "c941116c",
   "metadata": {},
   "outputs": [],
   "source": [
    "import numpy as np\n",
    "import pandas as pd\n",
    "import matplotlib.pyplot as plt\n",
    "import seaborn as sns\n",
    "%matplotlib inline"
   ]
  },
  {
   "cell_type": "markdown",
   "id": "a4e50bcf",
   "metadata": {},
   "source": [
    "### Load 1999 data and perform exploratory data analysis"
   ]
  },
  {
   "cell_type": "code",
   "execution_count": 2,
   "id": "63faa328",
   "metadata": {
    "scrolled": false
   },
   "outputs": [
    {
     "name": "stdout",
     "output_type": "stream",
     "text": [
      "<class 'pandas.core.frame.DataFrame'>\n",
      "RangeIndex: 103210 entries, 0 to 103209\n",
      "Data columns (total 29 columns):\n",
      " #   Column               Non-Null Count   Dtype  \n",
      "---  ------               --------------   -----  \n",
      " 0   State Code           103210 non-null  int64  \n",
      " 1   County Code          103210 non-null  int64  \n",
      " 2   Site Num             103210 non-null  int64  \n",
      " 3   Parameter Code       103210 non-null  int64  \n",
      " 4   POC                  103210 non-null  int64  \n",
      " 5   Latitude             103210 non-null  float64\n",
      " 6   Longitude            103210 non-null  float64\n",
      " 7   Datum                103210 non-null  object \n",
      " 8   Parameter Name       103210 non-null  object \n",
      " 9   Sample Duration      103210 non-null  object \n",
      " 10  Pollutant Standard   103210 non-null  object \n",
      " 11  Date Local           103210 non-null  object \n",
      " 12  Units of Measure     103210 non-null  object \n",
      " 13  Event Type           103210 non-null  object \n",
      " 14  Observation Count    103210 non-null  int64  \n",
      " 15  Observation Percent  103210 non-null  float64\n",
      " 16  Arithmetic Mean      103210 non-null  float64\n",
      " 17  1st Max Value        103210 non-null  float64\n",
      " 18  1st Max Hour         103210 non-null  int64  \n",
      " 19  AQI                  103210 non-null  int64  \n",
      " 20  Method Code          103210 non-null  int64  \n",
      " 21  Method Name          103210 non-null  object \n",
      " 22  Local Site Name      89089 non-null   object \n",
      " 23  Address              103210 non-null  object \n",
      " 24  State Name           103210 non-null  object \n",
      " 25  County Name          103210 non-null  object \n",
      " 26  City Name            103210 non-null  object \n",
      " 27  CBSA Name            100267 non-null  object \n",
      " 28  Date of Last Change  103210 non-null  object \n",
      "dtypes: float64(5), int64(9), object(15)\n",
      "memory usage: 22.8+ MB\n",
      "None\n",
      "2\n",
      "(103210, 29)\n"
     ]
    }
   ],
   "source": [
    "pm0 = pd.read_csv('C:\\\\Users\\\\Mary\\\\CIS5898\\\\daily_88101_1999.csv') \n",
    "print(pm0.info()) #provides basic information on data\n",
    "print(pm0.ndim) #provides dimensions\n",
    "print(pm0.shape) #provides number of rows and number of columns "
   ]
  },
  {
   "cell_type": "code",
   "execution_count": 3,
   "id": "230f7956",
   "metadata": {},
   "outputs": [
    {
     "data": {
      "text/html": [
       "<div>\n",
       "<style scoped>\n",
       "    .dataframe tbody tr th:only-of-type {\n",
       "        vertical-align: middle;\n",
       "    }\n",
       "\n",
       "    .dataframe tbody tr th {\n",
       "        vertical-align: top;\n",
       "    }\n",
       "\n",
       "    .dataframe thead th {\n",
       "        text-align: right;\n",
       "    }\n",
       "</style>\n",
       "<table border=\"1\" class=\"dataframe\">\n",
       "  <thead>\n",
       "    <tr style=\"text-align: right;\">\n",
       "      <th></th>\n",
       "      <th>State Code</th>\n",
       "      <th>County Code</th>\n",
       "      <th>Site Num</th>\n",
       "      <th>Parameter Code</th>\n",
       "      <th>POC</th>\n",
       "      <th>Latitude</th>\n",
       "      <th>Longitude</th>\n",
       "      <th>Datum</th>\n",
       "      <th>Parameter Name</th>\n",
       "      <th>Sample Duration</th>\n",
       "    </tr>\n",
       "  </thead>\n",
       "  <tbody>\n",
       "    <tr>\n",
       "      <th>0</th>\n",
       "      <td>1</td>\n",
       "      <td>27</td>\n",
       "      <td>1</td>\n",
       "      <td>88101</td>\n",
       "      <td>1</td>\n",
       "      <td>33.284928</td>\n",
       "      <td>-85.803608</td>\n",
       "      <td>NAD83</td>\n",
       "      <td>PM2.5 - Local Conditions</td>\n",
       "      <td>24 HOUR</td>\n",
       "    </tr>\n",
       "    <tr>\n",
       "      <th>1</th>\n",
       "      <td>1</td>\n",
       "      <td>27</td>\n",
       "      <td>1</td>\n",
       "      <td>88101</td>\n",
       "      <td>1</td>\n",
       "      <td>33.284928</td>\n",
       "      <td>-85.803608</td>\n",
       "      <td>NAD83</td>\n",
       "      <td>PM2.5 - Local Conditions</td>\n",
       "      <td>24 HOUR</td>\n",
       "    </tr>\n",
       "    <tr>\n",
       "      <th>2</th>\n",
       "      <td>1</td>\n",
       "      <td>27</td>\n",
       "      <td>1</td>\n",
       "      <td>88101</td>\n",
       "      <td>1</td>\n",
       "      <td>33.284928</td>\n",
       "      <td>-85.803608</td>\n",
       "      <td>NAD83</td>\n",
       "      <td>PM2.5 - Local Conditions</td>\n",
       "      <td>24 HOUR</td>\n",
       "    </tr>\n",
       "    <tr>\n",
       "      <th>3</th>\n",
       "      <td>1</td>\n",
       "      <td>27</td>\n",
       "      <td>1</td>\n",
       "      <td>88101</td>\n",
       "      <td>1</td>\n",
       "      <td>33.284928</td>\n",
       "      <td>-85.803608</td>\n",
       "      <td>NAD83</td>\n",
       "      <td>PM2.5 - Local Conditions</td>\n",
       "      <td>24 HOUR</td>\n",
       "    </tr>\n",
       "    <tr>\n",
       "      <th>4</th>\n",
       "      <td>1</td>\n",
       "      <td>27</td>\n",
       "      <td>1</td>\n",
       "      <td>88101</td>\n",
       "      <td>1</td>\n",
       "      <td>33.284928</td>\n",
       "      <td>-85.803608</td>\n",
       "      <td>NAD83</td>\n",
       "      <td>PM2.5 - Local Conditions</td>\n",
       "      <td>24 HOUR</td>\n",
       "    </tr>\n",
       "  </tbody>\n",
       "</table>\n",
       "</div>"
      ],
      "text/plain": [
       "   State Code  County Code  Site Num  Parameter Code  POC   Latitude  \\\n",
       "0           1           27         1           88101    1  33.284928   \n",
       "1           1           27         1           88101    1  33.284928   \n",
       "2           1           27         1           88101    1  33.284928   \n",
       "3           1           27         1           88101    1  33.284928   \n",
       "4           1           27         1           88101    1  33.284928   \n",
       "\n",
       "   Longitude  Datum            Parameter Name Sample Duration  \n",
       "0 -85.803608  NAD83  PM2.5 - Local Conditions         24 HOUR  \n",
       "1 -85.803608  NAD83  PM2.5 - Local Conditions         24 HOUR  \n",
       "2 -85.803608  NAD83  PM2.5 - Local Conditions         24 HOUR  \n",
       "3 -85.803608  NAD83  PM2.5 - Local Conditions         24 HOUR  \n",
       "4 -85.803608  NAD83  PM2.5 - Local Conditions         24 HOUR  "
      ]
     },
     "execution_count": 3,
     "metadata": {},
     "output_type": "execute_result"
    }
   ],
   "source": [
    "#There are 103,210 rows and 29 columns. Because there are so many columns, look at the first five rows and first 10 columns\n",
    "pm0.iloc[:5, :10]"
   ]
  },
  {
   "cell_type": "code",
   "execution_count": 4,
   "id": "4cd174ad",
   "metadata": {},
   "outputs": [
    {
     "data": {
      "text/html": [
       "<div>\n",
       "<style scoped>\n",
       "    .dataframe tbody tr th:only-of-type {\n",
       "        vertical-align: middle;\n",
       "    }\n",
       "\n",
       "    .dataframe tbody tr th {\n",
       "        vertical-align: top;\n",
       "    }\n",
       "\n",
       "    .dataframe thead th {\n",
       "        text-align: right;\n",
       "    }\n",
       "</style>\n",
       "<table border=\"1\" class=\"dataframe\">\n",
       "  <thead>\n",
       "    <tr style=\"text-align: right;\">\n",
       "      <th></th>\n",
       "      <th>Date Local</th>\n",
       "      <th>Units of Measure</th>\n",
       "      <th>Event Type</th>\n",
       "      <th>Observation Count</th>\n",
       "      <th>Observation Percent</th>\n",
       "      <th>Arithmetic Mean</th>\n",
       "      <th>1st Max Value</th>\n",
       "      <th>1st Max Hour</th>\n",
       "      <th>AQI</th>\n",
       "    </tr>\n",
       "  </thead>\n",
       "  <tbody>\n",
       "    <tr>\n",
       "      <th>0</th>\n",
       "      <td>1999-01-12</td>\n",
       "      <td>Micrograms/cubic meter (LC)</td>\n",
       "      <td>None</td>\n",
       "      <td>1</td>\n",
       "      <td>100.0</td>\n",
       "      <td>8.8</td>\n",
       "      <td>8.8</td>\n",
       "      <td>0</td>\n",
       "      <td>37</td>\n",
       "    </tr>\n",
       "    <tr>\n",
       "      <th>1</th>\n",
       "      <td>1999-01-15</td>\n",
       "      <td>Micrograms/cubic meter (LC)</td>\n",
       "      <td>None</td>\n",
       "      <td>1</td>\n",
       "      <td>100.0</td>\n",
       "      <td>14.9</td>\n",
       "      <td>14.9</td>\n",
       "      <td>0</td>\n",
       "      <td>57</td>\n",
       "    </tr>\n",
       "    <tr>\n",
       "      <th>2</th>\n",
       "      <td>1999-01-18</td>\n",
       "      <td>Micrograms/cubic meter (LC)</td>\n",
       "      <td>None</td>\n",
       "      <td>1</td>\n",
       "      <td>100.0</td>\n",
       "      <td>3.8</td>\n",
       "      <td>3.8</td>\n",
       "      <td>0</td>\n",
       "      <td>16</td>\n",
       "    </tr>\n",
       "    <tr>\n",
       "      <th>3</th>\n",
       "      <td>1999-01-21</td>\n",
       "      <td>Micrograms/cubic meter (LC)</td>\n",
       "      <td>None</td>\n",
       "      <td>1</td>\n",
       "      <td>100.0</td>\n",
       "      <td>9.0</td>\n",
       "      <td>9.0</td>\n",
       "      <td>0</td>\n",
       "      <td>38</td>\n",
       "    </tr>\n",
       "    <tr>\n",
       "      <th>4</th>\n",
       "      <td>1999-01-24</td>\n",
       "      <td>Micrograms/cubic meter (LC)</td>\n",
       "      <td>None</td>\n",
       "      <td>1</td>\n",
       "      <td>100.0</td>\n",
       "      <td>5.4</td>\n",
       "      <td>5.4</td>\n",
       "      <td>0</td>\n",
       "      <td>23</td>\n",
       "    </tr>\n",
       "  </tbody>\n",
       "</table>\n",
       "</div>"
      ],
      "text/plain": [
       "   Date Local             Units of Measure Event Type  Observation Count  \\\n",
       "0  1999-01-12  Micrograms/cubic meter (LC)       None                  1   \n",
       "1  1999-01-15  Micrograms/cubic meter (LC)       None                  1   \n",
       "2  1999-01-18  Micrograms/cubic meter (LC)       None                  1   \n",
       "3  1999-01-21  Micrograms/cubic meter (LC)       None                  1   \n",
       "4  1999-01-24  Micrograms/cubic meter (LC)       None                  1   \n",
       "\n",
       "   Observation Percent  Arithmetic Mean  1st Max Value  1st Max Hour  AQI  \n",
       "0                100.0              8.8            8.8             0   37  \n",
       "1                100.0             14.9           14.9             0   57  \n",
       "2                100.0              3.8            3.8             0   16  \n",
       "3                100.0              9.0            9.0             0   38  \n",
       "4                100.0              5.4            5.4             0   23  "
      ]
     },
     "execution_count": 4,
     "metadata": {},
     "output_type": "execute_result"
    }
   ],
   "source": [
    "#Look at the first five rows and next 9 columns\n",
    "pm0.iloc[:5, 11:20]"
   ]
  },
  {
   "cell_type": "code",
   "execution_count": 5,
   "id": "c0e6d28d",
   "metadata": {},
   "outputs": [
    {
     "data": {
      "text/html": [
       "<div>\n",
       "<style scoped>\n",
       "    .dataframe tbody tr th:only-of-type {\n",
       "        vertical-align: middle;\n",
       "    }\n",
       "\n",
       "    .dataframe tbody tr th {\n",
       "        vertical-align: top;\n",
       "    }\n",
       "\n",
       "    .dataframe thead th {\n",
       "        text-align: right;\n",
       "    }\n",
       "</style>\n",
       "<table border=\"1\" class=\"dataframe\">\n",
       "  <thead>\n",
       "    <tr style=\"text-align: right;\">\n",
       "      <th></th>\n",
       "      <th>Method Name</th>\n",
       "      <th>Local Site Name</th>\n",
       "      <th>Address</th>\n",
       "      <th>State Name</th>\n",
       "      <th>County Name</th>\n",
       "      <th>City Name</th>\n",
       "      <th>CBSA Name</th>\n",
       "      <th>Date of Last Change</th>\n",
       "    </tr>\n",
       "  </thead>\n",
       "  <tbody>\n",
       "    <tr>\n",
       "      <th>0</th>\n",
       "      <td>Andersen RAAS2.5-300 PM2.5 SEQ w/WINS - GRAVIM...</td>\n",
       "      <td>ASHLAND</td>\n",
       "      <td>ASHLAND AIRPORT</td>\n",
       "      <td>Alabama</td>\n",
       "      <td>Clay</td>\n",
       "      <td>Ashland</td>\n",
       "      <td>NaN</td>\n",
       "      <td>2014-06-11</td>\n",
       "    </tr>\n",
       "    <tr>\n",
       "      <th>1</th>\n",
       "      <td>Andersen RAAS2.5-300 PM2.5 SEQ w/WINS - GRAVIM...</td>\n",
       "      <td>ASHLAND</td>\n",
       "      <td>ASHLAND AIRPORT</td>\n",
       "      <td>Alabama</td>\n",
       "      <td>Clay</td>\n",
       "      <td>Ashland</td>\n",
       "      <td>NaN</td>\n",
       "      <td>2014-06-11</td>\n",
       "    </tr>\n",
       "    <tr>\n",
       "      <th>2</th>\n",
       "      <td>Andersen RAAS2.5-300 PM2.5 SEQ w/WINS - GRAVIM...</td>\n",
       "      <td>ASHLAND</td>\n",
       "      <td>ASHLAND AIRPORT</td>\n",
       "      <td>Alabama</td>\n",
       "      <td>Clay</td>\n",
       "      <td>Ashland</td>\n",
       "      <td>NaN</td>\n",
       "      <td>2014-06-11</td>\n",
       "    </tr>\n",
       "    <tr>\n",
       "      <th>3</th>\n",
       "      <td>Andersen RAAS2.5-300 PM2.5 SEQ w/WINS - GRAVIM...</td>\n",
       "      <td>ASHLAND</td>\n",
       "      <td>ASHLAND AIRPORT</td>\n",
       "      <td>Alabama</td>\n",
       "      <td>Clay</td>\n",
       "      <td>Ashland</td>\n",
       "      <td>NaN</td>\n",
       "      <td>2014-06-11</td>\n",
       "    </tr>\n",
       "    <tr>\n",
       "      <th>4</th>\n",
       "      <td>Andersen RAAS2.5-300 PM2.5 SEQ w/WINS - GRAVIM...</td>\n",
       "      <td>ASHLAND</td>\n",
       "      <td>ASHLAND AIRPORT</td>\n",
       "      <td>Alabama</td>\n",
       "      <td>Clay</td>\n",
       "      <td>Ashland</td>\n",
       "      <td>NaN</td>\n",
       "      <td>2014-06-11</td>\n",
       "    </tr>\n",
       "  </tbody>\n",
       "</table>\n",
       "</div>"
      ],
      "text/plain": [
       "                                         Method Name Local Site Name  \\\n",
       "0  Andersen RAAS2.5-300 PM2.5 SEQ w/WINS - GRAVIM...         ASHLAND   \n",
       "1  Andersen RAAS2.5-300 PM2.5 SEQ w/WINS - GRAVIM...         ASHLAND   \n",
       "2  Andersen RAAS2.5-300 PM2.5 SEQ w/WINS - GRAVIM...         ASHLAND   \n",
       "3  Andersen RAAS2.5-300 PM2.5 SEQ w/WINS - GRAVIM...         ASHLAND   \n",
       "4  Andersen RAAS2.5-300 PM2.5 SEQ w/WINS - GRAVIM...         ASHLAND   \n",
       "\n",
       "           Address State Name County Name City Name CBSA Name  \\\n",
       "0  ASHLAND AIRPORT    Alabama        Clay   Ashland       NaN   \n",
       "1  ASHLAND AIRPORT    Alabama        Clay   Ashland       NaN   \n",
       "2  ASHLAND AIRPORT    Alabama        Clay   Ashland       NaN   \n",
       "3  ASHLAND AIRPORT    Alabama        Clay   Ashland       NaN   \n",
       "4  ASHLAND AIRPORT    Alabama        Clay   Ashland       NaN   \n",
       "\n",
       "  Date of Last Change  \n",
       "0          2014-06-11  \n",
       "1          2014-06-11  \n",
       "2          2014-06-11  \n",
       "3          2014-06-11  \n",
       "4          2014-06-11  "
      ]
     },
     "execution_count": 5,
     "metadata": {},
     "output_type": "execute_result"
    }
   ],
   "source": [
    "#Look at the first five rows and the final columns\n",
    "pm0.iloc[:5, 21:]"
   ]
  },
  {
   "cell_type": "code",
   "execution_count": 6,
   "id": "6bb588e5",
   "metadata": {},
   "outputs": [
    {
     "data": {
      "text/plain": [
       "count    103210.000000\n",
       "mean         13.776391\n",
       "std           9.425582\n",
       "min           0.000000\n",
       "25%           7.200000\n",
       "50%          11.500000\n",
       "75%          17.900000\n",
       "max         157.100000\n",
       "Name: Arithmetic Mean, dtype: float64"
      ]
     },
     "execution_count": 6,
     "metadata": {},
     "output_type": "execute_result"
    }
   ],
   "source": [
    "#The column of interest is the Arithmetic Mean. Extract that column and print a brief summary\n",
    "x0 = pm0['Arithmetic Mean']\n",
    "x0.describe()"
   ]
  },
  {
   "cell_type": "markdown",
   "id": "8936016e",
   "metadata": {},
   "source": [
    "### Compare results of 1999 data and summary with Data Analysis Case Study: Changes in Fine Particle Air Pollution in the U.S."
   ]
  },
  {
   "cell_type": "markdown",
   "id": "8804e321",
   "metadata": {},
   "source": [
    "Dr. Peng used raw text files from the EPA. The 1999 PM2.5 dataset had 117,421 rows. The dataset parameters were also\n",
    "slightly different. The parameter used for analysis was Sample Value. \n",
    "\"The sample value is the average atmospheric concentration of the parameter in the time window beginning at the sample\n",
    "begin time and lasting for the sample duration.\" \n",
    "Source:https://aqs.epa.gov/aqsweb/documents/about_aqs_data.html#_the_aqs_data_set <br>\n",
    "No cleaning of data was described. <br>\n",
    "\n",
    "summary(x0) for Dr. Peng's 1999 Sample Value  <br>\n",
    "Min.     0.00  <br>\n",
    "1st Qu.  7.20  <br>\n",
    "Median  11.50  <br>\n",
    "Mean    13.74  <br>\n",
    "3rd Qu. 17.90  <br>\n",
    "Max.   157.10  <br>\n",
    "NA's    13217  <br>\n",
    "\n",
    "My dataset was a csv file of data summarized on a daily basis. This 1999 PM2.5 dataset had 103,210 rows. \n",
    "There were no NA values. The number of NA values in Dr. Peng's raw text file (13,217) combined with the number of rows\n",
    "in the summarized dataset that I used is 116,427.  According to the EPA AQS website: \"historical monitoring or \n",
    "calculation methods may be found to be problematic and require that older data be changed.\" The number of observations\n",
    "between these two datasets differed by 994 after adjusting for removed NA rows. It's not unreasonable to assume \n",
    "those 994 observations were also removed from the summarized file.\n",
    "No cleaning of data was performed by me.\n",
    "\n",
    "The summary(x0) for my 1999 Arithmetic Mean (see cell directly above) closely matches Dr. Peng's 1999 Sample Value, with the exception there are no NA values in my dataset.\n"
   ]
  },
  {
   "cell_type": "markdown",
   "id": "4bc1c7ab",
   "metadata": {},
   "source": [
    "### Load 2012 data and perform exploratory data analysis"
   ]
  },
  {
   "cell_type": "code",
   "execution_count": 7,
   "id": "de26f5b8",
   "metadata": {},
   "outputs": [],
   "source": [
    "pm1 = pd.read_csv('C:\\\\Users\\\\Mary\\\\CIS5898\\\\daily_88101_2012.csv')"
   ]
  },
  {
   "cell_type": "code",
   "execution_count": 8,
   "id": "d24298fc",
   "metadata": {},
   "outputs": [
    {
     "name": "stdout",
     "output_type": "stream",
     "text": [
      "<class 'pandas.core.frame.DataFrame'>\n",
      "RangeIndex: 276671 entries, 0 to 276670\n",
      "Data columns (total 29 columns):\n",
      " #   Column               Non-Null Count   Dtype  \n",
      "---  ------               --------------   -----  \n",
      " 0   State Code           276671 non-null  int64  \n",
      " 1   County Code          276671 non-null  int64  \n",
      " 2   Site Num             276671 non-null  int64  \n",
      " 3   Parameter Code       276671 non-null  int64  \n",
      " 4   POC                  276671 non-null  int64  \n",
      " 5   Latitude             276671 non-null  float64\n",
      " 6   Longitude            276671 non-null  float64\n",
      " 7   Datum                276671 non-null  object \n",
      " 8   Parameter Name       276671 non-null  object \n",
      " 9   Sample Duration      276671 non-null  object \n",
      " 10  Pollutant Standard   191001 non-null  object \n",
      " 11  Date Local           276671 non-null  object \n",
      " 12  Units of Measure     276671 non-null  object \n",
      " 13  Event Type           276671 non-null  object \n",
      " 14  Observation Count    276671 non-null  int64  \n",
      " 15  Observation Percent  276671 non-null  float64\n",
      " 16  Arithmetic Mean      276671 non-null  float64\n",
      " 17  1st Max Value        276671 non-null  float64\n",
      " 18  1st Max Hour         276671 non-null  int64  \n",
      " 19  AQI                  191001 non-null  float64\n",
      " 20  Method Code          193513 non-null  float64\n",
      " 21  Method Name          276671 non-null  object \n",
      " 22  Local Site Name      266359 non-null  object \n",
      " 23  Address              276635 non-null  object \n",
      " 24  State Name           276671 non-null  object \n",
      " 25  County Name          276671 non-null  object \n",
      " 26  City Name            276671 non-null  object \n",
      " 27  CBSA Name            253904 non-null  object \n",
      " 28  Date of Last Change  276671 non-null  object \n",
      "dtypes: float64(7), int64(7), object(15)\n",
      "memory usage: 61.2+ MB\n",
      "None\n",
      "2\n",
      "(276671, 29)\n"
     ]
    }
   ],
   "source": [
    "print(pm1.info())\n",
    "print(pm1.ndim) \n",
    "print(pm1.shape) "
   ]
  },
  {
   "cell_type": "code",
   "execution_count": 9,
   "id": "0c92b705",
   "metadata": {
    "scrolled": true
   },
   "outputs": [
    {
     "data": {
      "text/plain": [
       "count    276671.000000\n",
       "mean          9.141456\n",
       "std           6.520117\n",
       "min          -6.312500\n",
       "25%           5.100000\n",
       "50%           7.916667\n",
       "75%          11.700000\n",
       "max         236.254167\n",
       "Name: Arithmetic Mean, dtype: float64"
      ]
     },
     "execution_count": 9,
     "metadata": {},
     "output_type": "execute_result"
    }
   ],
   "source": [
    "#Again, the column of interest is the Arithmetic Mean. Extract the column and print a brief summary\n",
    "x1 = pm1['Arithmetic Mean']\n",
    "x1.describe() \n"
   ]
  },
  {
   "cell_type": "markdown",
   "id": "050ae537",
   "metadata": {},
   "source": [
    "### Compare results of 2012 data and summary with Data Analysis Case Study: Changes in Fine Particle Air Pollution in the U.S."
   ]
  },
  {
   "cell_type": "markdown",
   "id": "d0af6498",
   "metadata": {},
   "source": [
    "Dr. Peng used raw text files from the EPA. The 2012 PM2.5 dataset had 1,304,290 rows. The parameter used for analysis \n",
    "was Sample Value. Dr. Peng discussed the unusual negative minimum value but made no changes to the dataset. \n",
    "He also commented on the very elevated maximum value. No cleaning of data was described.\n",
    "\n",
    "summary(x0) for Dr. Peng's 2012 Sample Value <br>\n",
    "Min.   -10.00 <br>\n",
    "1st Qu.   4.00 <br>\n",
    "Median    7.63 <br>\n",
    "Mean      9.14 <br>\n",
    "3rd Qu.  12.00 <br>\n",
    "Max.    909.00 <br>\n",
    "NA's     73133 <br>\n",
    "\n",
    "\n",
    "The dataset I used was a csv file of data summarized on a daily basis. The 2012 PM2.5 dataset had 276,671 rows. \n",
    "There were no NA values. The difference in the number of observations between the raw text file and the summarized csv \n",
    "file is 1,027,619. It is unclear why there is such a large discrepancy between the number of observations in the raw text\n",
    "file and the number of observations in the summarized csv file. No initial cleaning of data was performed by me.  \n",
    "\n",
    "The summary(x0) for my 2012 Arithmetic Mean does not align as closely to Dr. Peng's as the 1999 comparison did.\n",
    "The means were exactly the same, though. Interestingly, the minimum value in my summary was also a negative value. \n",
    "The maximum value in my summary was 236.25, a more reasonable value than 909. Presumably, the 909 observation row was\n",
    "removed from the summarized csv file that I used for analysis."
   ]
  },
  {
   "cell_type": "markdown",
   "id": "574de7c0",
   "metadata": {},
   "source": [
    "### Compare aggregate changes in PM2.5 for years 1999 and 2012"
   ]
  },
  {
   "cell_type": "code",
   "execution_count": 10,
   "id": "2d59d142",
   "metadata": {},
   "outputs": [
    {
     "data": {
      "text/plain": [
       "Text(0, 0.5, 'sample values in µg/m3')"
      ]
     },
     "execution_count": 10,
     "metadata": {},
     "output_type": "execute_result"
    },
    {
     "data": {
      "image/png": "[encoded data removed]",
      "text/plain": [
       "<Figure size 576x576 with 1 Axes>"
      ]
     },
     "metadata": {},
     "output_type": "display_data"
    }
   ],
   "source": [
    "#make boxplots\n",
    "plt.style.use('seaborn-darkgrid')\n",
    "fig = plt.figure(figsize = [8, 8]) #make larger\n",
    "years = [x0, x1]\n",
    "plt.boxplot(years)\n",
    "plt.title('Daily Average PM 2.5 Concentration', fontsize=16)\n",
    "plt.xticks(np.arange(3), ['', '1999','2012'])\n",
    "plt.ylabel('sample values in µg/m3')\n",
    "#plt.axhline(y=35, linewidth=1, color='r', label = 'standard')\n",
    "#plt.legend()"
   ]
  },
  {
   "cell_type": "code",
   "execution_count": 11,
   "id": "2d7ccd95",
   "metadata": {},
   "outputs": [],
   "source": [
    "plt.close()"
   ]
  },
  {
   "cell_type": "markdown",
   "id": "cf6efd81",
   "metadata": {},
   "source": [
    "### Compare boxplots"
   ]
  },
  {
   "cell_type": "markdown",
   "id": "fdc81ab1",
   "metadata": {},
   "source": [
    "Dr. Peng took the log of the PM 2.5 values to adjust for skew in the data. In R, the code used was \n",
    "boxplot(log2(x0), log2(x1)). I was unable to recreate this in python with my data, due to the negative values in my 2012 dataset. Dr. Peng's 2012 dataset also had negative values. In R, taking the log of a negative number results in a NaN value and a warning that something unexpected happened. There isn't an error, though, so a plot is drawn. I will remove the negative values in my datasets and then plot the log2 of the PM 2.5 values to see whether my boxplot looks similar. "
   ]
  },
  {
   "cell_type": "code",
   "execution_count": 12,
   "id": "9b1b3073",
   "metadata": {},
   "outputs": [
    {
     "name": "stdout",
     "output_type": "stream",
     "text": [
      "1130\n",
      "0.40842733788506924\n"
     ]
    }
   ],
   "source": [
    "#Look into the number of negative numbers in PM2.5 2012 dataset\n",
    "countNegativeValues = np.count_nonzero(x1 < 0) #find count of negative values\n",
    "print(countNegativeValues)\n",
    "print((countNegativeValues / len(pm1)) * 100) #find percentage of negative values "
   ]
  },
  {
   "cell_type": "code",
   "execution_count": 13,
   "id": "774ce2d4",
   "metadata": {},
   "outputs": [
    {
     "data": {
      "text/plain": [
       "count    274951.000000\n",
       "mean          9.202425\n",
       "std           6.494322\n",
       "min           0.008333\n",
       "25%           5.173913\n",
       "50%           8.000000\n",
       "75%          11.791667\n",
       "max         236.254167\n",
       "Name: Arithmetic Mean, dtype: float64"
      ]
     },
     "execution_count": 13,
     "metadata": {},
     "output_type": "execute_result"
    }
   ],
   "source": [
    "#replace negative values in x1 series with 0's\n",
    "#x1NegativesRemoved = x1.replace(to_replace=np.where(x1 < 0) , value=0)\n",
    "x1NegativesRemoved = x1[(x1 > 0)]\n",
    "x1NegativesRemoved.describe()"
   ]
  },
  {
   "cell_type": "code",
   "execution_count": 14,
   "id": "f56828c1",
   "metadata": {},
   "outputs": [
    {
     "data": {
      "text/plain": [
       "count    276671.000000\n",
       "mean          9.141456\n",
       "std           6.520117\n",
       "min          -6.312500\n",
       "25%           5.100000\n",
       "50%           7.916667\n",
       "75%          11.700000\n",
       "max         236.254167\n",
       "Name: Arithmetic Mean, dtype: float64"
      ]
     },
     "execution_count": 14,
     "metadata": {},
     "output_type": "execute_result"
    }
   ],
   "source": [
    "#compare with x1\n",
    "x1.describe()"
   ]
  },
  {
   "cell_type": "code",
   "execution_count": 15,
   "id": "9234648d",
   "metadata": {},
   "outputs": [
    {
     "name": "stderr",
     "output_type": "stream",
     "text": [
      "C:\\Users\\Mary\\anaconda3\\lib\\site-packages\\pandas\\core\\arraylike.py:364: RuntimeWarning: divide by zero encountered in log2\n",
      "  result = getattr(ufunc, method)(*inputs, **kwargs)\n"
     ]
    },
    {
     "data": {
      "text/plain": [
       "Text(0, 0.5, 'log2 of sample values')"
      ]
     },
     "execution_count": 15,
     "metadata": {},
     "output_type": "execute_result"
    },
    {
     "data": {
      "image/png": "[encoded data removed]",
      "text/plain": [
       "<Figure size 576x576 with 1 Axes>"
      ]
     },
     "metadata": {},
     "output_type": "display_data"
    }
   ],
   "source": [
    "#create boxplots on log2 scale\n",
    "#boxplot(log2(x0), log2(x1))\n",
    "\n",
    "fig = plt.figure(figsize = [8, 8]) #make larger\n",
    "logx0 = np.log2(x0)\n",
    "logx1 = np.log2(x1NegativesRemoved)\n",
    "years = [logx0, logx1]\n",
    "plt.boxplot(years)\n",
    "plt.title('Daily Average PM 2.5 Concentration', fontsize = 16)\n",
    "plt.xticks(np.arange(3), ['', '1999','2012'])\n",
    "plt.ylabel('log2 of sample values')"
   ]
  },
  {
   "cell_type": "code",
   "execution_count": 16,
   "id": "caf0b191",
   "metadata": {},
   "outputs": [],
   "source": [
    "plt.close()"
   ]
  },
  {
   "cell_type": "markdown",
   "id": "6288e7ad",
   "metadata": {},
   "source": [
    "This boxplot compares very similarly to Dr. Peng's."
   ]
  },
  {
   "cell_type": "markdown",
   "id": "9127be9f",
   "metadata": {},
   "source": [
    "### Compare changes in statewide PM 2.5 levels"
   ]
  },
  {
   "cell_type": "code",
   "execution_count": 17,
   "id": "f4e36c57",
   "metadata": {},
   "outputs": [],
   "source": [
    "#calculate the PM 2.5 for each state in 1999 and 2012\n",
    "mn0 = pm0['Arithmetic Mean'].groupby(pm0['State Code']).mean()\n",
    "mn1 = pm1['Arithmetic Mean'].groupby(pm1['State Code']).mean()"
   ]
  },
  {
   "cell_type": "code",
   "execution_count": 18,
   "id": "670cf1e9",
   "metadata": {},
   "outputs": [
    {
     "data": {
      "text/html": [
       "<div>\n",
       "<style scoped>\n",
       "    .dataframe tbody tr th:only-of-type {\n",
       "        vertical-align: middle;\n",
       "    }\n",
       "\n",
       "    .dataframe tbody tr th {\n",
       "        vertical-align: top;\n",
       "    }\n",
       "\n",
       "    .dataframe thead th {\n",
       "        text-align: right;\n",
       "    }\n",
       "</style>\n",
       "<table border=\"1\" class=\"dataframe\">\n",
       "  <thead>\n",
       "    <tr style=\"text-align: right;\">\n",
       "      <th></th>\n",
       "      <th>State Code</th>\n",
       "      <th>Mean_x</th>\n",
       "      <th>Mean_y</th>\n",
       "    </tr>\n",
       "  </thead>\n",
       "  <tbody>\n",
       "    <tr>\n",
       "      <th>0</th>\n",
       "      <td>1</td>\n",
       "      <td>19.951238</td>\n",
       "      <td>9.986336</td>\n",
       "    </tr>\n",
       "    <tr>\n",
       "      <th>1</th>\n",
       "      <td>2</td>\n",
       "      <td>6.665929</td>\n",
       "      <td>5.673691</td>\n",
       "    </tr>\n",
       "    <tr>\n",
       "      <th>2</th>\n",
       "      <td>4</td>\n",
       "      <td>10.795547</td>\n",
       "      <td>8.741076</td>\n",
       "    </tr>\n",
       "    <tr>\n",
       "      <th>3</th>\n",
       "      <td>5</td>\n",
       "      <td>15.676067</td>\n",
       "      <td>10.410378</td>\n",
       "    </tr>\n",
       "    <tr>\n",
       "      <th>4</th>\n",
       "      <td>6</td>\n",
       "      <td>17.653481</td>\n",
       "      <td>9.263684</td>\n",
       "    </tr>\n",
       "  </tbody>\n",
       "</table>\n",
       "</div>"
      ],
      "text/plain": [
       "   State Code     Mean_x     Mean_y\n",
       "0           1  19.951238   9.986336\n",
       "1           2   6.665929   5.673691\n",
       "2           4  10.795547   8.741076\n",
       "3           5  15.676067  10.410378\n",
       "4           6  17.653481   9.263684"
      ]
     },
     "execution_count": 18,
     "metadata": {},
     "output_type": "execute_result"
    }
   ],
   "source": [
    "#Make separate data frames for states / years and merge them\n",
    "d0 = pd.DataFrame(mn0.to_frame().reset_index())\n",
    "d0.rename(columns = {'Arithmetic Mean' : 'Mean'}, inplace = True)\n",
    "d1 = pd.DataFrame(mn1.to_frame().reset_index())\n",
    "d1.rename(columns = {'Arithmetic Mean' : 'Mean'}, inplace = True)\n",
    "mrg = pd.merge(d0, d1, on = 'State Code')\n",
    "mrg.head(5)"
   ]
  },
  {
   "cell_type": "code",
   "execution_count": 22,
   "id": "c85e94fa",
   "metadata": {
    "scrolled": false
   },
   "outputs": [
    {
     "data": {
      "text/plain": [
       "[Text(1, 0, '1999'), Text(3, 0, '2012')]"
      ]
     },
     "execution_count": 22,
     "metadata": {},
     "output_type": "execute_result"
    },
    {
     "data": {
      "image/png": "[encoded data removed]",
      "text/plain": [
       "<Figure size 504x504 with 1 Axes>"
      ]
     },
     "metadata": {},
     "output_type": "display_data"
    }
   ],
   "source": [
    "sns.set(style='whitegrid', context='notebook', rc={'figure.figsize': (8,8)})\n",
    "#Code for this plot was modified from slope chart on\n",
    "#https://www.machinelearningplus.com/plots/top-50-matplotlib-visualizations-the-master-plots-python/\n",
    "import matplotlib.lines as mlines\n",
    "\n",
    "def newline(p1, p2, color='black'):\n",
    "    ax = plt.gca()\n",
    "    l = mlines.Line2D([p1[0],p2[0]], [p1[1],p2[1]], color='royalblue' if p1[1]-p2[1] > 0 else 'red',  marker='o', markersize=6)\n",
    "    ax.add_line(l)\n",
    "    return l\n",
    "\n",
    "fig, ax = plt.subplots(1,1,figsize=(7,7))\n",
    "\n",
    "# Vertical Lines \n",
    "#ax.vlines(x=1, ymin=500, ymax=13000, color='black', alpha=0.7, linewidth=1, linestyles='dotted')\n",
    "ax.vlines(x=1, ymin= 0, ymax=20, color='black', alpha=0.7, linewidth=1, linestyles='dotted')\n",
    "ax.vlines(x=3, ymin=0, ymax=20, color='black', alpha=0.7, linewidth=1, linestyles='dotted')\n",
    "\n",
    "# Points\n",
    "ax.scatter(y=mrg['Mean_x'], x=np.repeat(1, mrg.shape[0]), s=10, color='black', alpha=0.7)\n",
    "ax.scatter(y=mrg['Mean_y'], x=np.repeat(3, mrg.shape[0]), s=10, color='black', alpha=0.7)\n",
    "\n",
    "# Line Segments and Annotation\n",
    "for p1, p2, c in zip(mrg['Mean_x'], mrg['Mean_y'], mrg['State Code']):\n",
    "    newline([1,p1], [3,p2])\n",
    "    \n",
    "# Title and Labels\n",
    "ax.set_title('Statewide Mean PM 2.5 Levels between 1999 and 2012', fontsize = 14)\n",
    "ax.set(xlim=(0,4), ylim=(4,21), ylabel='Statewide Mean PM 2.5')\n",
    "ax.set_xticks([1,3])\n",
    "ax.set_xticklabels([\"1999\", \"2012\"])"
   ]
  },
  {
   "cell_type": "code",
   "execution_count": 20,
   "id": "4b05cda5",
   "metadata": {},
   "outputs": [],
   "source": [
    "plt.close()"
   ]
  },
  {
   "cell_type": "markdown",
   "id": "544e967e",
   "metadata": {},
   "source": [
    "### Summarize and compare state charts\n"
   ]
  },
  {
   "cell_type": "markdown",
   "id": "900146fc",
   "metadata": {},
   "source": [
    "This chart shows that most of the states had a decrease in average PM 2.5 levels from 1999 to 2012. A handful of states had an increase in PM 2.5 levels. Increases are shown by red lines. This chart compares very similarly to Dr. Peng's."
   ]
  },
  {
   "cell_type": "markdown",
   "id": "e9a2c7b9",
   "metadata": {},
   "source": [
    "### End of comparison portion of the PM 2.5 studies"
   ]
  }
 ],
 "metadata": {
  "kernelspec": {
   "display_name": "Python 3 (ipykernel)",
   "language": "python",
   "name": "python3"
  },
  "language_info": {
   "codemirror_mode": {
    "name": "ipython",
    "version": 3
   },
   "file_extension": ".py",
   "mimetype": "text/x-python",
   "name": "python",
   "nbconvert_exporter": "python",
   "pygments_lexer": "ipython3",
   "version": "3.8.12"
  }
 },
 "nbformat": 4,
 "nbformat_minor": 5
}
