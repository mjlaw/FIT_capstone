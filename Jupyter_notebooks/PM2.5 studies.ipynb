{
 "cells": [
  {
   "cell_type": "markdown",
   "id": "58ca0853",
   "metadata": {},
   "source": [
    "The EPA's current 24 hour standard for PM 2.5 is 35 µg/m3. Levels above this exceed the standard."
   ]
  },
  {
   "cell_type": "code",
   "execution_count": 117,
   "id": "c941116c",
   "metadata": {},
   "outputs": [],
   "source": [
    "import numpy as np\n",
    "import pandas as pd\n",
    "\n",
    "pm0 = pd.read_table('C:\\\\Users\\\\Mary\\\\CIS5898\\\\daily_88101_1999.csv', delimiter = ',') #read in PM2.5 data for 1999"
   ]
  },
  {
   "cell_type": "code",
   "execution_count": 118,
   "id": "63faa328",
   "metadata": {},
   "outputs": [
    {
     "name": "stdout",
     "output_type": "stream",
     "text": [
      "<class 'pandas.core.frame.DataFrame'>\n",
      "RangeIndex: 103210 entries, 0 to 103209\n",
      "Data columns (total 29 columns):\n",
      " #   Column               Non-Null Count   Dtype  \n",
      "---  ------               --------------   -----  \n",
      " 0   State Code           103210 non-null  int64  \n",
      " 1   County Code          103210 non-null  int64  \n",
      " 2   Site Num             103210 non-null  int64  \n",
      " 3   Parameter Code       103210 non-null  int64  \n",
      " 4   POC                  103210 non-null  int64  \n",
      " 5   Latitude             103210 non-null  float64\n",
      " 6   Longitude            103210 non-null  float64\n",
      " 7   Datum                103210 non-null  object \n",
      " 8   Parameter Name       103210 non-null  object \n",
      " 9   Sample Duration      103210 non-null  object \n",
      " 10  Pollutant Standard   103210 non-null  object \n",
      " 11  Date Local           103210 non-null  object \n",
      " 12  Units of Measure     103210 non-null  object \n",
      " 13  Event Type           103210 non-null  object \n",
      " 14  Observation Count    103210 non-null  int64  \n",
      " 15  Observation Percent  103210 non-null  float64\n",
      " 16  Arithmetic Mean      103210 non-null  float64\n",
      " 17  1st Max Value        103210 non-null  float64\n",
      " 18  1st Max Hour         103210 non-null  int64  \n",
      " 19  AQI                  103210 non-null  int64  \n",
      " 20  Method Code          103210 non-null  int64  \n",
      " 21  Method Name          103210 non-null  object \n",
      " 22  Local Site Name      89089 non-null   object \n",
      " 23  Address              103210 non-null  object \n",
      " 24  State Name           103210 non-null  object \n",
      " 25  County Name          103210 non-null  object \n",
      " 26  City Name            103210 non-null  object \n",
      " 27  CBSA Name            100267 non-null  object \n",
      " 28  Date of Last Change  103210 non-null  object \n",
      "dtypes: float64(5), int64(9), object(15)\n",
      "memory usage: 22.8+ MB\n",
      "None\n",
      "2\n",
      "(103210, 29)\n"
     ]
    }
   ],
   "source": [
    "print(pm0.info()) #provides basic information on data\n",
    "print(pm0.ndim) #provides dimensions\n",
    "print(pm0.shape) #provides number of rows and number of columns "
   ]
  },
  {
   "cell_type": "code",
   "execution_count": 119,
   "id": "230f7956",
   "metadata": {},
   "outputs": [
    {
     "data": {
      "text/html": [
       "<div>\n",
       "<style scoped>\n",
       "    .dataframe tbody tr th:only-of-type {\n",
       "        vertical-align: middle;\n",
       "    }\n",
       "\n",
       "    .dataframe tbody tr th {\n",
       "        vertical-align: top;\n",
       "    }\n",
       "\n",
       "    .dataframe thead th {\n",
       "        text-align: right;\n",
       "    }\n",
       "</style>\n",
       "<table border=\"1\" class=\"dataframe\">\n",
       "  <thead>\n",
       "    <tr style=\"text-align: right;\">\n",
       "      <th></th>\n",
       "      <th>State Code</th>\n",
       "      <th>County Code</th>\n",
       "      <th>Site Num</th>\n",
       "      <th>Parameter Code</th>\n",
       "      <th>POC</th>\n",
       "      <th>Latitude</th>\n",
       "      <th>Longitude</th>\n",
       "      <th>Datum</th>\n",
       "      <th>Parameter Name</th>\n",
       "      <th>Sample Duration</th>\n",
       "    </tr>\n",
       "  </thead>\n",
       "  <tbody>\n",
       "    <tr>\n",
       "      <th>0</th>\n",
       "      <td>1</td>\n",
       "      <td>27</td>\n",
       "      <td>1</td>\n",
       "      <td>88101</td>\n",
       "      <td>1</td>\n",
       "      <td>33.284928</td>\n",
       "      <td>-85.803608</td>\n",
       "      <td>NAD83</td>\n",
       "      <td>PM2.5 - Local Conditions</td>\n",
       "      <td>24 HOUR</td>\n",
       "    </tr>\n",
       "    <tr>\n",
       "      <th>1</th>\n",
       "      <td>1</td>\n",
       "      <td>27</td>\n",
       "      <td>1</td>\n",
       "      <td>88101</td>\n",
       "      <td>1</td>\n",
       "      <td>33.284928</td>\n",
       "      <td>-85.803608</td>\n",
       "      <td>NAD83</td>\n",
       "      <td>PM2.5 - Local Conditions</td>\n",
       "      <td>24 HOUR</td>\n",
       "    </tr>\n",
       "    <tr>\n",
       "      <th>2</th>\n",
       "      <td>1</td>\n",
       "      <td>27</td>\n",
       "      <td>1</td>\n",
       "      <td>88101</td>\n",
       "      <td>1</td>\n",
       "      <td>33.284928</td>\n",
       "      <td>-85.803608</td>\n",
       "      <td>NAD83</td>\n",
       "      <td>PM2.5 - Local Conditions</td>\n",
       "      <td>24 HOUR</td>\n",
       "    </tr>\n",
       "    <tr>\n",
       "      <th>3</th>\n",
       "      <td>1</td>\n",
       "      <td>27</td>\n",
       "      <td>1</td>\n",
       "      <td>88101</td>\n",
       "      <td>1</td>\n",
       "      <td>33.284928</td>\n",
       "      <td>-85.803608</td>\n",
       "      <td>NAD83</td>\n",
       "      <td>PM2.5 - Local Conditions</td>\n",
       "      <td>24 HOUR</td>\n",
       "    </tr>\n",
       "    <tr>\n",
       "      <th>4</th>\n",
       "      <td>1</td>\n",
       "      <td>27</td>\n",
       "      <td>1</td>\n",
       "      <td>88101</td>\n",
       "      <td>1</td>\n",
       "      <td>33.284928</td>\n",
       "      <td>-85.803608</td>\n",
       "      <td>NAD83</td>\n",
       "      <td>PM2.5 - Local Conditions</td>\n",
       "      <td>24 HOUR</td>\n",
       "    </tr>\n",
       "  </tbody>\n",
       "</table>\n",
       "</div>"
      ],
      "text/plain": [
       "   State Code  County Code  Site Num  Parameter Code  POC   Latitude  \\\n",
       "0           1           27         1           88101    1  33.284928   \n",
       "1           1           27         1           88101    1  33.284928   \n",
       "2           1           27         1           88101    1  33.284928   \n",
       "3           1           27         1           88101    1  33.284928   \n",
       "4           1           27         1           88101    1  33.284928   \n",
       "\n",
       "   Longitude  Datum            Parameter Name Sample Duration  \n",
       "0 -85.803608  NAD83  PM2.5 - Local Conditions         24 HOUR  \n",
       "1 -85.803608  NAD83  PM2.5 - Local Conditions         24 HOUR  \n",
       "2 -85.803608  NAD83  PM2.5 - Local Conditions         24 HOUR  \n",
       "3 -85.803608  NAD83  PM2.5 - Local Conditions         24 HOUR  \n",
       "4 -85.803608  NAD83  PM2.5 - Local Conditions         24 HOUR  "
      ]
     },
     "execution_count": 119,
     "metadata": {},
     "output_type": "execute_result"
    }
   ],
   "source": [
    "#There are 103,210 rows and 29 columns. Because there are so many columns, look at the first five rows and first 10 columns\n",
    "\n",
    "pm0.iloc[:5, :10]\n"
   ]
  },
  {
   "cell_type": "code",
   "execution_count": 120,
   "id": "4cd174ad",
   "metadata": {},
   "outputs": [
    {
     "data": {
      "text/html": [
       "<div>\n",
       "<style scoped>\n",
       "    .dataframe tbody tr th:only-of-type {\n",
       "        vertical-align: middle;\n",
       "    }\n",
       "\n",
       "    .dataframe tbody tr th {\n",
       "        vertical-align: top;\n",
       "    }\n",
       "\n",
       "    .dataframe thead th {\n",
       "        text-align: right;\n",
       "    }\n",
       "</style>\n",
       "<table border=\"1\" class=\"dataframe\">\n",
       "  <thead>\n",
       "    <tr style=\"text-align: right;\">\n",
       "      <th></th>\n",
       "      <th>Date Local</th>\n",
       "      <th>Units of Measure</th>\n",
       "      <th>Event Type</th>\n",
       "      <th>Observation Count</th>\n",
       "      <th>Observation Percent</th>\n",
       "      <th>Arithmetic Mean</th>\n",
       "      <th>1st Max Value</th>\n",
       "      <th>1st Max Hour</th>\n",
       "      <th>AQI</th>\n",
       "    </tr>\n",
       "  </thead>\n",
       "  <tbody>\n",
       "    <tr>\n",
       "      <th>0</th>\n",
       "      <td>1999-01-12</td>\n",
       "      <td>Micrograms/cubic meter (LC)</td>\n",
       "      <td>None</td>\n",
       "      <td>1</td>\n",
       "      <td>100.0</td>\n",
       "      <td>8.8</td>\n",
       "      <td>8.8</td>\n",
       "      <td>0</td>\n",
       "      <td>37</td>\n",
       "    </tr>\n",
       "    <tr>\n",
       "      <th>1</th>\n",
       "      <td>1999-01-15</td>\n",
       "      <td>Micrograms/cubic meter (LC)</td>\n",
       "      <td>None</td>\n",
       "      <td>1</td>\n",
       "      <td>100.0</td>\n",
       "      <td>14.9</td>\n",
       "      <td>14.9</td>\n",
       "      <td>0</td>\n",
       "      <td>57</td>\n",
       "    </tr>\n",
       "    <tr>\n",
       "      <th>2</th>\n",
       "      <td>1999-01-18</td>\n",
       "      <td>Micrograms/cubic meter (LC)</td>\n",
       "      <td>None</td>\n",
       "      <td>1</td>\n",
       "      <td>100.0</td>\n",
       "      <td>3.8</td>\n",
       "      <td>3.8</td>\n",
       "      <td>0</td>\n",
       "      <td>16</td>\n",
       "    </tr>\n",
       "    <tr>\n",
       "      <th>3</th>\n",
       "      <td>1999-01-21</td>\n",
       "      <td>Micrograms/cubic meter (LC)</td>\n",
       "      <td>None</td>\n",
       "      <td>1</td>\n",
       "      <td>100.0</td>\n",
       "      <td>9.0</td>\n",
       "      <td>9.0</td>\n",
       "      <td>0</td>\n",
       "      <td>38</td>\n",
       "    </tr>\n",
       "    <tr>\n",
       "      <th>4</th>\n",
       "      <td>1999-01-24</td>\n",
       "      <td>Micrograms/cubic meter (LC)</td>\n",
       "      <td>None</td>\n",
       "      <td>1</td>\n",
       "      <td>100.0</td>\n",
       "      <td>5.4</td>\n",
       "      <td>5.4</td>\n",
       "      <td>0</td>\n",
       "      <td>23</td>\n",
       "    </tr>\n",
       "  </tbody>\n",
       "</table>\n",
       "</div>"
      ],
      "text/plain": [
       "   Date Local             Units of Measure Event Type  Observation Count  \\\n",
       "0  1999-01-12  Micrograms/cubic meter (LC)       None                  1   \n",
       "1  1999-01-15  Micrograms/cubic meter (LC)       None                  1   \n",
       "2  1999-01-18  Micrograms/cubic meter (LC)       None                  1   \n",
       "3  1999-01-21  Micrograms/cubic meter (LC)       None                  1   \n",
       "4  1999-01-24  Micrograms/cubic meter (LC)       None                  1   \n",
       "\n",
       "   Observation Percent  Arithmetic Mean  1st Max Value  1st Max Hour  AQI  \n",
       "0                100.0              8.8            8.8             0   37  \n",
       "1                100.0             14.9           14.9             0   57  \n",
       "2                100.0              3.8            3.8             0   16  \n",
       "3                100.0              9.0            9.0             0   38  \n",
       "4                100.0              5.4            5.4             0   23  "
      ]
     },
     "execution_count": 120,
     "metadata": {},
     "output_type": "execute_result"
    }
   ],
   "source": [
    "#Look at the first five rows and next 9 columns\n",
    "pm0.iloc[:5, 11:20]"
   ]
  },
  {
   "cell_type": "code",
   "execution_count": 121,
   "id": "c0e6d28d",
   "metadata": {},
   "outputs": [
    {
     "data": {
      "text/html": [
       "<div>\n",
       "<style scoped>\n",
       "    .dataframe tbody tr th:only-of-type {\n",
       "        vertical-align: middle;\n",
       "    }\n",
       "\n",
       "    .dataframe tbody tr th {\n",
       "        vertical-align: top;\n",
       "    }\n",
       "\n",
       "    .dataframe thead th {\n",
       "        text-align: right;\n",
       "    }\n",
       "</style>\n",
       "<table border=\"1\" class=\"dataframe\">\n",
       "  <thead>\n",
       "    <tr style=\"text-align: right;\">\n",
       "      <th></th>\n",
       "      <th>Method Name</th>\n",
       "      <th>Local Site Name</th>\n",
       "      <th>Address</th>\n",
       "      <th>State Name</th>\n",
       "      <th>County Name</th>\n",
       "      <th>City Name</th>\n",
       "      <th>CBSA Name</th>\n",
       "      <th>Date of Last Change</th>\n",
       "    </tr>\n",
       "  </thead>\n",
       "  <tbody>\n",
       "    <tr>\n",
       "      <th>0</th>\n",
       "      <td>Andersen RAAS2.5-300 PM2.5 SEQ w/WINS - GRAVIM...</td>\n",
       "      <td>ASHLAND</td>\n",
       "      <td>ASHLAND AIRPORT</td>\n",
       "      <td>Alabama</td>\n",
       "      <td>Clay</td>\n",
       "      <td>Ashland</td>\n",
       "      <td>NaN</td>\n",
       "      <td>2014-06-11</td>\n",
       "    </tr>\n",
       "    <tr>\n",
       "      <th>1</th>\n",
       "      <td>Andersen RAAS2.5-300 PM2.5 SEQ w/WINS - GRAVIM...</td>\n",
       "      <td>ASHLAND</td>\n",
       "      <td>ASHLAND AIRPORT</td>\n",
       "      <td>Alabama</td>\n",
       "      <td>Clay</td>\n",
       "      <td>Ashland</td>\n",
       "      <td>NaN</td>\n",
       "      <td>2014-06-11</td>\n",
       "    </tr>\n",
       "    <tr>\n",
       "      <th>2</th>\n",
       "      <td>Andersen RAAS2.5-300 PM2.5 SEQ w/WINS - GRAVIM...</td>\n",
       "      <td>ASHLAND</td>\n",
       "      <td>ASHLAND AIRPORT</td>\n",
       "      <td>Alabama</td>\n",
       "      <td>Clay</td>\n",
       "      <td>Ashland</td>\n",
       "      <td>NaN</td>\n",
       "      <td>2014-06-11</td>\n",
       "    </tr>\n",
       "    <tr>\n",
       "      <th>3</th>\n",
       "      <td>Andersen RAAS2.5-300 PM2.5 SEQ w/WINS - GRAVIM...</td>\n",
       "      <td>ASHLAND</td>\n",
       "      <td>ASHLAND AIRPORT</td>\n",
       "      <td>Alabama</td>\n",
       "      <td>Clay</td>\n",
       "      <td>Ashland</td>\n",
       "      <td>NaN</td>\n",
       "      <td>2014-06-11</td>\n",
       "    </tr>\n",
       "    <tr>\n",
       "      <th>4</th>\n",
       "      <td>Andersen RAAS2.5-300 PM2.5 SEQ w/WINS - GRAVIM...</td>\n",
       "      <td>ASHLAND</td>\n",
       "      <td>ASHLAND AIRPORT</td>\n",
       "      <td>Alabama</td>\n",
       "      <td>Clay</td>\n",
       "      <td>Ashland</td>\n",
       "      <td>NaN</td>\n",
       "      <td>2014-06-11</td>\n",
       "    </tr>\n",
       "  </tbody>\n",
       "</table>\n",
       "</div>"
      ],
      "text/plain": [
       "                                         Method Name Local Site Name  \\\n",
       "0  Andersen RAAS2.5-300 PM2.5 SEQ w/WINS - GRAVIM...         ASHLAND   \n",
       "1  Andersen RAAS2.5-300 PM2.5 SEQ w/WINS - GRAVIM...         ASHLAND   \n",
       "2  Andersen RAAS2.5-300 PM2.5 SEQ w/WINS - GRAVIM...         ASHLAND   \n",
       "3  Andersen RAAS2.5-300 PM2.5 SEQ w/WINS - GRAVIM...         ASHLAND   \n",
       "4  Andersen RAAS2.5-300 PM2.5 SEQ w/WINS - GRAVIM...         ASHLAND   \n",
       "\n",
       "           Address State Name County Name City Name CBSA Name  \\\n",
       "0  ASHLAND AIRPORT    Alabama        Clay   Ashland       NaN   \n",
       "1  ASHLAND AIRPORT    Alabama        Clay   Ashland       NaN   \n",
       "2  ASHLAND AIRPORT    Alabama        Clay   Ashland       NaN   \n",
       "3  ASHLAND AIRPORT    Alabama        Clay   Ashland       NaN   \n",
       "4  ASHLAND AIRPORT    Alabama        Clay   Ashland       NaN   \n",
       "\n",
       "  Date of Last Change  \n",
       "0          2014-06-11  \n",
       "1          2014-06-11  \n",
       "2          2014-06-11  \n",
       "3          2014-06-11  \n",
       "4          2014-06-11  "
      ]
     },
     "execution_count": 121,
     "metadata": {},
     "output_type": "execute_result"
    }
   ],
   "source": [
    "#Look at the first five rows and the final columns\n",
    "pm0.iloc[:5, 21:]"
   ]
  },
  {
   "cell_type": "code",
   "execution_count": 122,
   "id": "6bb588e5",
   "metadata": {},
   "outputs": [
    {
     "data": {
      "text/plain": [
       "count    103210.000000\n",
       "mean         13.776391\n",
       "std           9.425582\n",
       "min           0.000000\n",
       "25%           7.200000\n",
       "50%          11.500000\n",
       "75%          17.900000\n",
       "max         157.100000\n",
       "Name: Arithmetic Mean, dtype: float64"
      ]
     },
     "execution_count": 122,
     "metadata": {},
     "output_type": "execute_result"
    }
   ],
   "source": [
    "#The column of interest is the Arithmetic Mean. Extract that column and print a brief summary\n",
    "x0 = pm0['Arithmetic Mean']\n",
    "x0.describe()"
   ]
  },
  {
   "cell_type": "markdown",
   "id": "8804e321",
   "metadata": {},
   "source": [
    "Compare results of data and summary with Data Analysis Case Study: Changes in Fine Particle Air Pollution in the U.S.\n",
    "\n",
    "Dr. Peng used raw text files from the EPA. The 1999 PM2.5 dataset had 117,421 rows. The dataset parameters were also\n",
    "slightly different. The parameter used for analysis was Sample Value. \n",
    "\"The sample value is the average atmospheric concentration of the parameter in the time window beginning at the sample\n",
    "begin time and lasting for the sample duration.\" \n",
    "Source:https://aqs.epa.gov/aqsweb/documents/about_aqs_data.html#_the_aqs_data_set <br>\n",
    "No cleaning of data was described. <br>\n",
    "\n",
    "summary(x0) for Dr. Peng's 1999 Sample Value  <br>\n",
    "Min.     0.00  <br>\n",
    "1st Qu.  7.20  <br>\n",
    "Median  11.50  <br>\n",
    "Mean    13.74  <br>\n",
    "3rd Qu. 17.90  <br>\n",
    "Max.   157.10  <br>\n",
    "NA's    13217  <br>\n",
    "\n",
    "My dataset was a csv file of data summarized on a daily basis. This 1999 PM2.5 dataset had 103,210 rows. \n",
    "There were no NA values. The number of NA values in Dr. Peng's raw text file (13,217) combined with the number of rows\n",
    "in the summarized dataset that I used is 116,427.  According to the EPA AQS website: \"historical monitoring or \n",
    "calculation methods may be found to be problematic and require that older data be changed.\" The number of observations\n",
    "between these two datasets differed by 994 after adjusting for removed NA rows. It's not unreasonable to assume \n",
    "those 994 observations were also removed from the summarized file.\n",
    "No cleaning of data was performed by me.\n",
    "\n",
    "The summary(x0) for my 1999 Arithmetic Mean (see cell directly above) closely matches Dr. Peng's 1999 Sample Value, with the exception there are no NA values in my dataset.\n"
   ]
  },
  {
   "cell_type": "code",
   "execution_count": 123,
   "id": "de26f5b8",
   "metadata": {},
   "outputs": [],
   "source": [
    "pm1 = pd.read_table('C:\\\\Users\\\\Mary\\\\CIS5898\\\\daily_88101_2012.csv', delimiter = ',') #read in PM2.5 data for 2012"
   ]
  },
  {
   "cell_type": "code",
   "execution_count": 124,
   "id": "d24298fc",
   "metadata": {},
   "outputs": [
    {
     "name": "stdout",
     "output_type": "stream",
     "text": [
      "<class 'pandas.core.frame.DataFrame'>\n",
      "RangeIndex: 276671 entries, 0 to 276670\n",
      "Data columns (total 29 columns):\n",
      " #   Column               Non-Null Count   Dtype  \n",
      "---  ------               --------------   -----  \n",
      " 0   State Code           276671 non-null  int64  \n",
      " 1   County Code          276671 non-null  int64  \n",
      " 2   Site Num             276671 non-null  int64  \n",
      " 3   Parameter Code       276671 non-null  int64  \n",
      " 4   POC                  276671 non-null  int64  \n",
      " 5   Latitude             276671 non-null  float64\n",
      " 6   Longitude            276671 non-null  float64\n",
      " 7   Datum                276671 non-null  object \n",
      " 8   Parameter Name       276671 non-null  object \n",
      " 9   Sample Duration      276671 non-null  object \n",
      " 10  Pollutant Standard   191001 non-null  object \n",
      " 11  Date Local           276671 non-null  object \n",
      " 12  Units of Measure     276671 non-null  object \n",
      " 13  Event Type           276671 non-null  object \n",
      " 14  Observation Count    276671 non-null  int64  \n",
      " 15  Observation Percent  276671 non-null  float64\n",
      " 16  Arithmetic Mean      276671 non-null  float64\n",
      " 17  1st Max Value        276671 non-null  float64\n",
      " 18  1st Max Hour         276671 non-null  int64  \n",
      " 19  AQI                  191001 non-null  float64\n",
      " 20  Method Code          193513 non-null  float64\n",
      " 21  Method Name          276671 non-null  object \n",
      " 22  Local Site Name      266359 non-null  object \n",
      " 23  Address              276635 non-null  object \n",
      " 24  State Name           276671 non-null  object \n",
      " 25  County Name          276671 non-null  object \n",
      " 26  City Name            276671 non-null  object \n",
      " 27  CBSA Name            253904 non-null  object \n",
      " 28  Date of Last Change  276671 non-null  object \n",
      "dtypes: float64(7), int64(7), object(15)\n",
      "memory usage: 61.2+ MB\n",
      "None\n",
      "2\n",
      "(276671, 29)\n"
     ]
    }
   ],
   "source": [
    "print(pm1.info())\n",
    "print(pm1.ndim) \n",
    "print(pm1.shape) "
   ]
  },
  {
   "cell_type": "code",
   "execution_count": 125,
   "id": "0c92b705",
   "metadata": {
    "scrolled": true
   },
   "outputs": [
    {
     "data": {
      "text/plain": [
       "count    276671.000000\n",
       "mean          9.141456\n",
       "std           6.520117\n",
       "min          -6.312500\n",
       "25%           5.100000\n",
       "50%           7.916667\n",
       "75%          11.700000\n",
       "max         236.254167\n",
       "Name: Arithmetic Mean, dtype: float64"
      ]
     },
     "execution_count": 125,
     "metadata": {},
     "output_type": "execute_result"
    }
   ],
   "source": [
    "#Again, the column of interest is the Arithmetic Mean. Extract the column and print a brief summary\n",
    "x1 = pm1['Arithmetic Mean']\n",
    "x1.describe() "
   ]
  },
  {
   "cell_type": "markdown",
   "id": "d0af6498",
   "metadata": {},
   "source": [
    "Compare results of data and summary with Data Analysis Case Study: Changes in Fine Particle Air Pollution in the U.S.\n",
    "    \n",
    "Dr. Peng used raw text files from the EPA. The 2012 PM2.5 dataset had 1,304,290 rows. The parameter used for analysis \n",
    "was Sample Value. Dr. Peng discussed the unusual negative minimum value but made no changes to the dataset. \n",
    "He also commented on the very elevated maximum value. No cleaning of data was described.\n",
    "\n",
    "summary(x0) for Dr. Peng's 2012 Sample Value <br>\n",
    "Min.   -10.00 <br>\n",
    "1st Qu.   4.00 <br>\n",
    "Median    7.63 <br>\n",
    "Mean      9.14 <br>\n",
    "3rd Qu.  12.00 <br>\n",
    "Max.    909.00 <br>\n",
    "NA's     73133 <br>\n",
    "\n",
    "\n",
    "The dataset I used was a csv file of data summarized on a daily basis. The 2012 PM2.5 dataset had 276,671 rows. \n",
    "There were no NA values. The difference in the number of observations between the raw text file and the summarized csv \n",
    "file is 1,027,619. It is unclear why there is such a large discrepancy between the number of observations in the raw text\n",
    "file and the number of observations in the summarized csv file. No initial cleaning of data was performed by me.  \n",
    "\n",
    "The summary(x0) for my 2012 Arithmetic Mean does not align as closely to Dr. Peng's as the 1999 comparison did.\n",
    "The means were exactly the same, though. Interestingly, the minimum value in my summary was also a negative value. \n",
    "The maximum value in my summary was 236.25, a more reasonable value than 909. Presumably, the 909 observation row was\n",
    "removed from the summarized csv file."
   ]
  },
  {
   "cell_type": "code",
   "execution_count": 126,
   "id": "5ade607d",
   "metadata": {},
   "outputs": [
    {
     "name": "stdout",
     "output_type": "stream",
     "text": [
      "1130\n",
      "0.40842733788506924\n"
     ]
    }
   ],
   "source": [
    "#Look into the number of negative numbers in PM2.5 2012 dataset\n",
    "countNegativeValues = np.count_nonzero(x1 < 0) #find count of negative values\n",
    "print(countNegativeValues)\n",
    "print((countNegativeValues / len(pm1)) * 100) #find percentage of negative values "
   ]
  },
  {
   "cell_type": "code",
   "execution_count": 127,
   "id": "2d59d142",
   "metadata": {},
   "outputs": [
    {
     "data": {
      "image/png": "[encoded data removed]",
      "text/plain": [
       "<Figure size 432x288 with 1 Axes>"
      ]
     },
     "metadata": {
      "needs_background": "light"
     },
     "output_type": "display_data"
    }
   ],
   "source": [
    "## Compare aggregate changes in PM2.5 for years 1999 and 2012 by making boxplots.\n",
    "import matplotlib.pyplot as plt\n",
    "\n",
    "years = [x0, x1]\n",
    "plt.boxplot(years)\n",
    "plt.show()\n"
   ]
  },
  {
   "cell_type": "code",
   "execution_count": null,
   "id": "ecd2fafe",
   "metadata": {},
   "outputs": [],
   "source": [
    "Dr. Peng took the log of the PM values to adjust for skew in the data. In R the code used was \n",
    "boxplot(log2(x0), log2(x1))\n",
    "\n",
    "I was unable to recreate this in python with my data due to the negative values in the 2012 dataset. Since sample values\n",
    "should not be negative, I will look more closely at the negative values in the 2012 dataset.\n",
    "#TODO re-write after cleaning dataset."
   ]
  },
  {
   "cell_type": "code",
   "execution_count": 114,
   "id": "74abb90d",
   "metadata": {},
   "outputs": [],
   "source": [
    "pm2 = pd.read_table('C:\\\\Users\\\\Mary\\\\CIS5898\\\\daily_88101_2020.csv', delimiter = ',') #read in PM2.5 data for 2020"
   ]
  },
  {
   "cell_type": "code",
   "execution_count": 115,
   "id": "73eb5f8f",
   "metadata": {},
   "outputs": [
    {
     "name": "stdout",
     "output_type": "stream",
     "text": [
      "<class 'pandas.core.frame.DataFrame'>\n",
      "RangeIndex: 554830 entries, 0 to 554829\n",
      "Data columns (total 29 columns):\n",
      " #   Column               Non-Null Count   Dtype  \n",
      "---  ------               --------------   -----  \n",
      " 0   State Code           554830 non-null  int64  \n",
      " 1   County Code          554830 non-null  int64  \n",
      " 2   Site Num             554830 non-null  int64  \n",
      " 3   Parameter Code       554830 non-null  int64  \n",
      " 4   POC                  554830 non-null  int64  \n",
      " 5   Latitude             554830 non-null  float64\n",
      " 6   Longitude            554830 non-null  float64\n",
      " 7   Datum                554830 non-null  object \n",
      " 8   Parameter Name       554830 non-null  object \n",
      " 9   Sample Duration      554830 non-null  object \n",
      " 10  Pollutant Standard   311371 non-null  object \n",
      " 11  Date Local           554830 non-null  object \n",
      " 12  Units of Measure     554830 non-null  object \n",
      " 13  Event Type           554830 non-null  object \n",
      " 14  Observation Count    554830 non-null  int64  \n",
      " 15  Observation Percent  554830 non-null  float64\n",
      " 16  Arithmetic Mean      554830 non-null  float64\n",
      " 17  1st Max Value        554830 non-null  float64\n",
      " 18  1st Max Hour         554830 non-null  int64  \n",
      " 19  AQI                  311371 non-null  float64\n",
      " 20  Method Code          315514 non-null  float64\n",
      " 21  Method Name          554830 non-null  object \n",
      " 22  Local Site Name      525039 non-null  object \n",
      " 23  Address              554565 non-null  object \n",
      " 24  State Name           554830 non-null  object \n",
      " 25  County Name          554830 non-null  object \n",
      " 26  City Name            554830 non-null  object \n",
      " 27  CBSA Name            510954 non-null  object \n",
      " 28  Date of Last Change  554830 non-null  object \n",
      "dtypes: float64(7), int64(7), object(15)\n",
      "memory usage: 122.8+ MB\n",
      "None\n",
      "2\n",
      "(554830, 29)\n"
     ]
    }
   ],
   "source": [
    "print(pm2.info())\n",
    "print(pm2.ndim) \n",
    "print(pm2.shape) "
   ]
  },
  {
   "cell_type": "code",
   "execution_count": 116,
   "id": "0c4501f9",
   "metadata": {},
   "outputs": [
    {
     "data": {
      "text/plain": [
       "count    554830.000000\n",
       "mean          8.159036\n",
       "std          10.625555\n",
       "min          -5.000000\n",
       "25%           4.300000\n",
       "50%           6.500000\n",
       "75%           9.500000\n",
       "max         824.104167\n",
       "Name: Arithmetic Mean, dtype: float64"
      ]
     },
     "execution_count": 116,
     "metadata": {},
     "output_type": "execute_result"
    }
   ],
   "source": [
    "#Again, the column of interest is the Arithmetic Mean. Extract the column and print a brief summary\n",
    "x2 = pm2['Arithmetic Mean']\n",
    "x2.describe() "
   ]
  },
  {
   "cell_type": "markdown",
   "id": "7965102b",
   "metadata": {},
   "source": [
    "Unfortunately, this dataset also has negative values. I contacted the EPA via email to understand\n",
    "the negative values. I received this response: \n",
    "\n",
    "\"Thanks for your message and reaching out. We have a short write up on acceptable values in EPA's Air Quality System (AQS) here: https://aqs.epa.gov/aqsweb/documents/about_aqs_data.html#_acceptable_values, but since that explanation is very short I can elaborate.\n",
    "\n",
    "Every instrument has an allowable uncertainty, and occasionally as you've noted monitors can yield small negative hourly values. Say it's +/- 10 ppb for whatever substance. If the instrument reads 100 ppb, that means the real concentration will be somewhere between 90 and 110. If the instrument reads -3 that means the real value can be anywhere between 0 and 7 (negative concentrations not being possible). We allow reporting of the negative values to capture valid, quality assured readings that are valid members of the sample set. With PM2.5 monitors, negative hourly concentrations for PM2.5 down to -4.99 ug/m3 (the default QC range check) are used in computing 24-hour averages so as not to bias that average.\n",
    "\n",
    "Hope this helps clarify things.\"\n",
    "\n",
    "Looking at the datasets more closely: In 1999, all of the reported values were for sample durations of 24 hours.  In 2012, there were sample durations of 1 hour,  24 hours, and 24 hour block averages. The negative values were either 1 hour or 24 hour block averages. Some monitor sites list more than 1 type of sample duration for a given day, which requires cleaning of the datasets. In light of the EPA's response to my inquiry, I will not remove negative values.\n",
    "\n"
   ]
  }
 ],
 "metadata": {
  "kernelspec": {
   "display_name": "Python 3",
   "language": "python",
   "name": "python3"
  },
  "language_info": {
   "codemirror_mode": {
    "name": "ipython",
    "version": 3
   },
   "file_extension": ".py",
   "mimetype": "text/x-python",
   "name": "python",
   "nbconvert_exporter": "python",
   "pygments_lexer": "ipython3",
   "version": "3.8.8"
  }
 },
 "nbformat": 4,
 "nbformat_minor": 5
}
