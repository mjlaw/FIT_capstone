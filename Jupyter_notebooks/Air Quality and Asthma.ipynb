{
 "cells": [
  {
   "cell_type": "markdown",
   "id": "de47beca",
   "metadata": {},
   "source": [
    "### Explore the relationship between air quality and asthma at the U.S. State level"
   ]
  },
  {
   "cell_type": "code",
   "execution_count": 1,
   "id": "f47c957d",
   "metadata": {},
   "outputs": [],
   "source": [
    "import numpy as np\n",
    "import pandas as pd\n",
    "import matplotlib.pyplot as plt\n",
    "import seaborn as sns\n",
    "import geopandas as gpd\n",
    "%matplotlib inline"
   ]
  },
  {
   "cell_type": "markdown",
   "id": "c9298e3b",
   "metadata": {},
   "source": [
    "### Read in previously cleaned datafiles for 2012 air quality and 2012 asthma"
   ]
  },
  {
   "cell_type": "code",
   "execution_count": 2,
   "id": "147eef43",
   "metadata": {},
   "outputs": [],
   "source": [
    "AQI1Cleaned = pd.read_csv('C:\\\\Users\\\\Mary\\\\CIS5898\\\\FIT_capstone\\\\annual_aqi_by_county_2012_cleaned.csv')"
   ]
  },
  {
   "cell_type": "code",
   "execution_count": 3,
   "id": "a075dace",
   "metadata": {},
   "outputs": [
    {
     "name": "stdout",
     "output_type": "stream",
     "text": [
      "<class 'pandas.core.frame.DataFrame'>\n",
      "RangeIndex: 1053 entries, 0 to 1052\n",
      "Data columns (total 20 columns):\n",
      " #   Column                               Non-Null Count  Dtype \n",
      "---  ------                               --------------  ----- \n",
      " 0   Unnamed: 0                           1053 non-null   int64 \n",
      " 1   State                                1053 non-null   object\n",
      " 2   County                               1053 non-null   object\n",
      " 3   Year                                 1053 non-null   int64 \n",
      " 4   Days with AQI                        1053 non-null   int64 \n",
      " 5   Good Days                            1053 non-null   int64 \n",
      " 6   Moderate Days                        1053 non-null   int64 \n",
      " 7   Unhealthy for Sensitive Groups Days  1053 non-null   int64 \n",
      " 8   Unhealthy Days                       1053 non-null   int64 \n",
      " 9   Very Unhealthy Days                  1053 non-null   int64 \n",
      " 10  Hazardous Days                       1053 non-null   int64 \n",
      " 11  Max AQI                              1053 non-null   int64 \n",
      " 12  90th Percentile AQI                  1053 non-null   int64 \n",
      " 13  Median AQI                           1053 non-null   int64 \n",
      " 14  Days CO                              1053 non-null   int64 \n",
      " 15  Days NO2                             1053 non-null   int64 \n",
      " 16  Days Ozone                           1053 non-null   int64 \n",
      " 17  Days SO2                             1053 non-null   int64 \n",
      " 18  Days PM2.5                           1053 non-null   int64 \n",
      " 19  Days PM10                            1053 non-null   int64 \n",
      "dtypes: int64(18), object(2)\n",
      "memory usage: 164.7+ KB\n"
     ]
    }
   ],
   "source": [
    "AQI1Cleaned.info()"
   ]
  },
  {
   "cell_type": "code",
   "execution_count": 4,
   "id": "bb8f424b",
   "metadata": {},
   "outputs": [
    {
     "data": {
      "text/html": [
       "<div>\n",
       "<style scoped>\n",
       "    .dataframe tbody tr th:only-of-type {\n",
       "        vertical-align: middle;\n",
       "    }\n",
       "\n",
       "    .dataframe tbody tr th {\n",
       "        vertical-align: top;\n",
       "    }\n",
       "\n",
       "    .dataframe thead th {\n",
       "        text-align: right;\n",
       "    }\n",
       "</style>\n",
       "<table border=\"1\" class=\"dataframe\">\n",
       "  <thead>\n",
       "    <tr style=\"text-align: right;\">\n",
       "      <th></th>\n",
       "      <th>Unnamed: 0</th>\n",
       "      <th>State</th>\n",
       "      <th>County</th>\n",
       "      <th>Year</th>\n",
       "      <th>Days with AQI</th>\n",
       "      <th>Good Days</th>\n",
       "      <th>Moderate Days</th>\n",
       "      <th>Unhealthy for Sensitive Groups Days</th>\n",
       "      <th>Unhealthy Days</th>\n",
       "      <th>Very Unhealthy Days</th>\n",
       "      <th>Hazardous Days</th>\n",
       "      <th>Max AQI</th>\n",
       "      <th>90th Percentile AQI</th>\n",
       "      <th>Median AQI</th>\n",
       "      <th>Days CO</th>\n",
       "      <th>Days NO2</th>\n",
       "      <th>Days Ozone</th>\n",
       "      <th>Days SO2</th>\n",
       "      <th>Days PM2.5</th>\n",
       "      <th>Days PM10</th>\n",
       "    </tr>\n",
       "  </thead>\n",
       "  <tbody>\n",
       "    <tr>\n",
       "      <th>0</th>\n",
       "      <td>0</td>\n",
       "      <td>Alabama</td>\n",
       "      <td>Baldwin</td>\n",
       "      <td>2012</td>\n",
       "      <td>284</td>\n",
       "      <td>226</td>\n",
       "      <td>56</td>\n",
       "      <td>2</td>\n",
       "      <td>0</td>\n",
       "      <td>0</td>\n",
       "      <td>0</td>\n",
       "      <td>112</td>\n",
       "      <td>61</td>\n",
       "      <td>38</td>\n",
       "      <td>0</td>\n",
       "      <td>0</td>\n",
       "      <td>210</td>\n",
       "      <td>0</td>\n",
       "      <td>74</td>\n",
       "      <td>0</td>\n",
       "    </tr>\n",
       "    <tr>\n",
       "      <th>1</th>\n",
       "      <td>1</td>\n",
       "      <td>Alabama</td>\n",
       "      <td>Clay</td>\n",
       "      <td>2012</td>\n",
       "      <td>121</td>\n",
       "      <td>99</td>\n",
       "      <td>22</td>\n",
       "      <td>0</td>\n",
       "      <td>0</td>\n",
       "      <td>0</td>\n",
       "      <td>0</td>\n",
       "      <td>72</td>\n",
       "      <td>56</td>\n",
       "      <td>35</td>\n",
       "      <td>0</td>\n",
       "      <td>0</td>\n",
       "      <td>0</td>\n",
       "      <td>0</td>\n",
       "      <td>121</td>\n",
       "      <td>0</td>\n",
       "    </tr>\n",
       "    <tr>\n",
       "      <th>2</th>\n",
       "      <td>2</td>\n",
       "      <td>Alabama</td>\n",
       "      <td>Colbert</td>\n",
       "      <td>2012</td>\n",
       "      <td>283</td>\n",
       "      <td>222</td>\n",
       "      <td>55</td>\n",
       "      <td>6</td>\n",
       "      <td>0</td>\n",
       "      <td>0</td>\n",
       "      <td>0</td>\n",
       "      <td>136</td>\n",
       "      <td>62</td>\n",
       "      <td>40</td>\n",
       "      <td>0</td>\n",
       "      <td>0</td>\n",
       "      <td>209</td>\n",
       "      <td>0</td>\n",
       "      <td>74</td>\n",
       "      <td>0</td>\n",
       "    </tr>\n",
       "    <tr>\n",
       "      <th>3</th>\n",
       "      <td>3</td>\n",
       "      <td>Alabama</td>\n",
       "      <td>DeKalb</td>\n",
       "      <td>2012</td>\n",
       "      <td>361</td>\n",
       "      <td>282</td>\n",
       "      <td>74</td>\n",
       "      <td>5</td>\n",
       "      <td>0</td>\n",
       "      <td>0</td>\n",
       "      <td>0</td>\n",
       "      <td>115</td>\n",
       "      <td>64</td>\n",
       "      <td>40</td>\n",
       "      <td>0</td>\n",
       "      <td>0</td>\n",
       "      <td>320</td>\n",
       "      <td>0</td>\n",
       "      <td>41</td>\n",
       "      <td>0</td>\n",
       "    </tr>\n",
       "    <tr>\n",
       "      <th>4</th>\n",
       "      <td>4</td>\n",
       "      <td>Alabama</td>\n",
       "      <td>Elmore</td>\n",
       "      <td>2012</td>\n",
       "      <td>245</td>\n",
       "      <td>212</td>\n",
       "      <td>33</td>\n",
       "      <td>0</td>\n",
       "      <td>0</td>\n",
       "      <td>0</td>\n",
       "      <td>0</td>\n",
       "      <td>100</td>\n",
       "      <td>54</td>\n",
       "      <td>40</td>\n",
       "      <td>0</td>\n",
       "      <td>0</td>\n",
       "      <td>245</td>\n",
       "      <td>0</td>\n",
       "      <td>0</td>\n",
       "      <td>0</td>\n",
       "    </tr>\n",
       "  </tbody>\n",
       "</table>\n",
       "</div>"
      ],
      "text/plain": [
       "   Unnamed: 0    State   County  Year  Days with AQI  Good Days  \\\n",
       "0           0  Alabama  Baldwin  2012            284        226   \n",
       "1           1  Alabama     Clay  2012            121         99   \n",
       "2           2  Alabama  Colbert  2012            283        222   \n",
       "3           3  Alabama   DeKalb  2012            361        282   \n",
       "4           4  Alabama   Elmore  2012            245        212   \n",
       "\n",
       "   Moderate Days  Unhealthy for Sensitive Groups Days  Unhealthy Days  \\\n",
       "0             56                                    2               0   \n",
       "1             22                                    0               0   \n",
       "2             55                                    6               0   \n",
       "3             74                                    5               0   \n",
       "4             33                                    0               0   \n",
       "\n",
       "   Very Unhealthy Days  Hazardous Days  Max AQI  90th Percentile AQI  \\\n",
       "0                    0               0      112                   61   \n",
       "1                    0               0       72                   56   \n",
       "2                    0               0      136                   62   \n",
       "3                    0               0      115                   64   \n",
       "4                    0               0      100                   54   \n",
       "\n",
       "   Median AQI  Days CO  Days NO2  Days Ozone  Days SO2  Days PM2.5  Days PM10  \n",
       "0          38        0         0         210         0          74          0  \n",
       "1          35        0         0           0         0         121          0  \n",
       "2          40        0         0         209         0          74          0  \n",
       "3          40        0         0         320         0          41          0  \n",
       "4          40        0         0         245         0           0          0  "
      ]
     },
     "execution_count": 4,
     "metadata": {},
     "output_type": "execute_result"
    }
   ],
   "source": [
    "AQI1Cleaned.head()"
   ]
  },
  {
   "cell_type": "code",
   "execution_count": 5,
   "id": "1a513fff",
   "metadata": {},
   "outputs": [],
   "source": [
    "asthma2012Cleaned = pd.read_csv('C:\\\\Users\\\\Mary\\\\CIS5898\\\\FIT_capstone\\\\asthma2012_cleaned.csv')"
   ]
  },
  {
   "cell_type": "code",
   "execution_count": 6,
   "id": "afbb371f",
   "metadata": {},
   "outputs": [
    {
     "name": "stdout",
     "output_type": "stream",
     "text": [
      "<class 'pandas.core.frame.DataFrame'>\n",
      "RangeIndex: 50 entries, 0 to 49\n",
      "Data columns (total 19 columns):\n",
      " #   Column                   Non-Null Count  Dtype  \n",
      "---  ------                   --------------  -----  \n",
      " 0   Unnamed: 0               50 non-null     int64  \n",
      " 1   YearStart                50 non-null     int64  \n",
      " 2   YearEnd                  50 non-null     int64  \n",
      " 3   LocationAbbr             50 non-null     object \n",
      " 4   LocationDesc             50 non-null     object \n",
      " 5   DataSource               50 non-null     object \n",
      " 6   Topic                    50 non-null     object \n",
      " 7   Question                 50 non-null     object \n",
      " 8   Response                 0 non-null      float64\n",
      " 9   DataValueUnit            50 non-null     object \n",
      " 10  DataValueType            50 non-null     object \n",
      " 11  DataValue                50 non-null     float64\n",
      " 12  DataValueAlt             50 non-null     float64\n",
      " 13  DataValueFootnoteSymbol  0 non-null      float64\n",
      " 14  DatavalueFootnote        0 non-null      float64\n",
      " 15  LowConfidenceLimit       50 non-null     float64\n",
      " 16  HighConfidenceLimit      50 non-null     float64\n",
      " 17  StratificationCategory1  50 non-null     object \n",
      " 18  Stratification1          50 non-null     object \n",
      "dtypes: float64(7), int64(3), object(9)\n",
      "memory usage: 7.5+ KB\n"
     ]
    }
   ],
   "source": [
    "asthma2012Cleaned.info()"
   ]
  },
  {
   "cell_type": "code",
   "execution_count": 7,
   "id": "a42fad53",
   "metadata": {},
   "outputs": [
    {
     "data": {
      "text/html": [
       "<div>\n",
       "<style scoped>\n",
       "    .dataframe tbody tr th:only-of-type {\n",
       "        vertical-align: middle;\n",
       "    }\n",
       "\n",
       "    .dataframe tbody tr th {\n",
       "        vertical-align: top;\n",
       "    }\n",
       "\n",
       "    .dataframe thead th {\n",
       "        text-align: right;\n",
       "    }\n",
       "</style>\n",
       "<table border=\"1\" class=\"dataframe\">\n",
       "  <thead>\n",
       "    <tr style=\"text-align: right;\">\n",
       "      <th></th>\n",
       "      <th>Unnamed: 0</th>\n",
       "      <th>YearStart</th>\n",
       "      <th>YearEnd</th>\n",
       "      <th>LocationAbbr</th>\n",
       "      <th>LocationDesc</th>\n",
       "      <th>DataSource</th>\n",
       "      <th>Topic</th>\n",
       "      <th>Question</th>\n",
       "      <th>Response</th>\n",
       "      <th>DataValueUnit</th>\n",
       "      <th>DataValueType</th>\n",
       "      <th>DataValue</th>\n",
       "      <th>DataValueAlt</th>\n",
       "      <th>DataValueFootnoteSymbol</th>\n",
       "      <th>DatavalueFootnote</th>\n",
       "      <th>LowConfidenceLimit</th>\n",
       "      <th>HighConfidenceLimit</th>\n",
       "      <th>StratificationCategory1</th>\n",
       "      <th>Stratification1</th>\n",
       "    </tr>\n",
       "  </thead>\n",
       "  <tbody>\n",
       "    <tr>\n",
       "      <th>0</th>\n",
       "      <td>23161</td>\n",
       "      <td>2012</td>\n",
       "      <td>2012</td>\n",
       "      <td>AK</td>\n",
       "      <td>Alaska</td>\n",
       "      <td>BRFSS</td>\n",
       "      <td>Asthma</td>\n",
       "      <td>Current asthma prevalence among adults aged &gt;=...</td>\n",
       "      <td>NaN</td>\n",
       "      <td>%</td>\n",
       "      <td>Crude Prevalence</td>\n",
       "      <td>9.0</td>\n",
       "      <td>9.0</td>\n",
       "      <td>NaN</td>\n",
       "      <td>NaN</td>\n",
       "      <td>7.9</td>\n",
       "      <td>10.3</td>\n",
       "      <td>Overall</td>\n",
       "      <td>Overall</td>\n",
       "    </tr>\n",
       "    <tr>\n",
       "      <th>1</th>\n",
       "      <td>23038</td>\n",
       "      <td>2012</td>\n",
       "      <td>2012</td>\n",
       "      <td>AL</td>\n",
       "      <td>Alabama</td>\n",
       "      <td>BRFSS</td>\n",
       "      <td>Asthma</td>\n",
       "      <td>Current asthma prevalence among adults aged &gt;=...</td>\n",
       "      <td>NaN</td>\n",
       "      <td>%</td>\n",
       "      <td>Crude Prevalence</td>\n",
       "      <td>8.6</td>\n",
       "      <td>8.6</td>\n",
       "      <td>NaN</td>\n",
       "      <td>NaN</td>\n",
       "      <td>7.8</td>\n",
       "      <td>9.5</td>\n",
       "      <td>Overall</td>\n",
       "      <td>Overall</td>\n",
       "    </tr>\n",
       "    <tr>\n",
       "      <th>2</th>\n",
       "      <td>22988</td>\n",
       "      <td>2012</td>\n",
       "      <td>2012</td>\n",
       "      <td>AR</td>\n",
       "      <td>Arkansas</td>\n",
       "      <td>BRFSS</td>\n",
       "      <td>Asthma</td>\n",
       "      <td>Current asthma prevalence among adults aged &gt;=...</td>\n",
       "      <td>NaN</td>\n",
       "      <td>%</td>\n",
       "      <td>Crude Prevalence</td>\n",
       "      <td>8.8</td>\n",
       "      <td>8.8</td>\n",
       "      <td>NaN</td>\n",
       "      <td>NaN</td>\n",
       "      <td>7.8</td>\n",
       "      <td>9.8</td>\n",
       "      <td>Overall</td>\n",
       "      <td>Overall</td>\n",
       "    </tr>\n",
       "    <tr>\n",
       "      <th>3</th>\n",
       "      <td>23560</td>\n",
       "      <td>2012</td>\n",
       "      <td>2012</td>\n",
       "      <td>AZ</td>\n",
       "      <td>Arizona</td>\n",
       "      <td>BRFSS</td>\n",
       "      <td>Asthma</td>\n",
       "      <td>Current asthma prevalence among adults aged &gt;=...</td>\n",
       "      <td>NaN</td>\n",
       "      <td>%</td>\n",
       "      <td>Crude Prevalence</td>\n",
       "      <td>8.6</td>\n",
       "      <td>8.6</td>\n",
       "      <td>NaN</td>\n",
       "      <td>NaN</td>\n",
       "      <td>7.7</td>\n",
       "      <td>9.7</td>\n",
       "      <td>Overall</td>\n",
       "      <td>Overall</td>\n",
       "    </tr>\n",
       "    <tr>\n",
       "      <th>4</th>\n",
       "      <td>23261</td>\n",
       "      <td>2012</td>\n",
       "      <td>2012</td>\n",
       "      <td>CA</td>\n",
       "      <td>California</td>\n",
       "      <td>BRFSS</td>\n",
       "      <td>Asthma</td>\n",
       "      <td>Current asthma prevalence among adults aged &gt;=...</td>\n",
       "      <td>NaN</td>\n",
       "      <td>%</td>\n",
       "      <td>Crude Prevalence</td>\n",
       "      <td>8.8</td>\n",
       "      <td>8.8</td>\n",
       "      <td>NaN</td>\n",
       "      <td>NaN</td>\n",
       "      <td>8.2</td>\n",
       "      <td>9.5</td>\n",
       "      <td>Overall</td>\n",
       "      <td>Overall</td>\n",
       "    </tr>\n",
       "  </tbody>\n",
       "</table>\n",
       "</div>"
      ],
      "text/plain": [
       "   Unnamed: 0  YearStart  YearEnd LocationAbbr LocationDesc DataSource  \\\n",
       "0       23161       2012     2012           AK       Alaska      BRFSS   \n",
       "1       23038       2012     2012           AL      Alabama      BRFSS   \n",
       "2       22988       2012     2012           AR     Arkansas      BRFSS   \n",
       "3       23560       2012     2012           AZ      Arizona      BRFSS   \n",
       "4       23261       2012     2012           CA   California      BRFSS   \n",
       "\n",
       "    Topic                                           Question  Response  \\\n",
       "0  Asthma  Current asthma prevalence among adults aged >=...       NaN   \n",
       "1  Asthma  Current asthma prevalence among adults aged >=...       NaN   \n",
       "2  Asthma  Current asthma prevalence among adults aged >=...       NaN   \n",
       "3  Asthma  Current asthma prevalence among adults aged >=...       NaN   \n",
       "4  Asthma  Current asthma prevalence among adults aged >=...       NaN   \n",
       "\n",
       "  DataValueUnit     DataValueType  DataValue  DataValueAlt  \\\n",
       "0             %  Crude Prevalence        9.0           9.0   \n",
       "1             %  Crude Prevalence        8.6           8.6   \n",
       "2             %  Crude Prevalence        8.8           8.8   \n",
       "3             %  Crude Prevalence        8.6           8.6   \n",
       "4             %  Crude Prevalence        8.8           8.8   \n",
       "\n",
       "   DataValueFootnoteSymbol  DatavalueFootnote  LowConfidenceLimit  \\\n",
       "0                      NaN                NaN                 7.9   \n",
       "1                      NaN                NaN                 7.8   \n",
       "2                      NaN                NaN                 7.8   \n",
       "3                      NaN                NaN                 7.7   \n",
       "4                      NaN                NaN                 8.2   \n",
       "\n",
       "   HighConfidenceLimit StratificationCategory1 Stratification1  \n",
       "0                 10.3                 Overall         Overall  \n",
       "1                  9.5                 Overall         Overall  \n",
       "2                  9.8                 Overall         Overall  \n",
       "3                  9.7                 Overall         Overall  \n",
       "4                  9.5                 Overall         Overall  "
      ]
     },
     "execution_count": 7,
     "metadata": {},
     "output_type": "execute_result"
    }
   ],
   "source": [
    "asthma2012Cleaned.head()"
   ]
  },
  {
   "cell_type": "markdown",
   "id": "03d6ff72",
   "metadata": {},
   "source": [
    "### Read in saved dataframes for 2012 PM2.5 and ozone by state"
   ]
  },
  {
   "cell_type": "code",
   "execution_count": 8,
   "id": "fe08d271",
   "metadata": {},
   "outputs": [
    {
     "data": {
      "text/html": [
       "<div>\n",
       "<style scoped>\n",
       "    .dataframe tbody tr th:only-of-type {\n",
       "        vertical-align: middle;\n",
       "    }\n",
       "\n",
       "    .dataframe tbody tr th {\n",
       "        vertical-align: top;\n",
       "    }\n",
       "\n",
       "    .dataframe thead th {\n",
       "        text-align: right;\n",
       "    }\n",
       "</style>\n",
       "<table border=\"1\" class=\"dataframe\">\n",
       "  <thead>\n",
       "    <tr style=\"text-align: right;\">\n",
       "      <th></th>\n",
       "      <th>Unnamed: 0</th>\n",
       "      <th>State Name</th>\n",
       "      <th>Mean</th>\n",
       "    </tr>\n",
       "  </thead>\n",
       "  <tbody>\n",
       "    <tr>\n",
       "      <th>0</th>\n",
       "      <td>0</td>\n",
       "      <td>Alabama</td>\n",
       "      <td>9.774805</td>\n",
       "    </tr>\n",
       "    <tr>\n",
       "      <th>1</th>\n",
       "      <td>1</td>\n",
       "      <td>Alaska</td>\n",
       "      <td>6.043637</td>\n",
       "    </tr>\n",
       "    <tr>\n",
       "      <th>2</th>\n",
       "      <td>2</td>\n",
       "      <td>Arizona</td>\n",
       "      <td>8.713038</td>\n",
       "    </tr>\n",
       "    <tr>\n",
       "      <th>3</th>\n",
       "      <td>3</td>\n",
       "      <td>Arkansas</td>\n",
       "      <td>10.427459</td>\n",
       "    </tr>\n",
       "    <tr>\n",
       "      <th>4</th>\n",
       "      <td>4</td>\n",
       "      <td>California</td>\n",
       "      <td>9.351435</td>\n",
       "    </tr>\n",
       "  </tbody>\n",
       "</table>\n",
       "</div>"
      ],
      "text/plain": [
       "   Unnamed: 0  State Name       Mean\n",
       "0           0     Alabama   9.774805\n",
       "1           1      Alaska   6.043637\n",
       "2           2     Arizona   8.713038\n",
       "3           3    Arkansas  10.427459\n",
       "4           4  California   9.351435"
      ]
     },
     "execution_count": 8,
     "metadata": {},
     "output_type": "execute_result"
    }
   ],
   "source": [
    "pm25States = pd.read_csv('C:\\\\Users\\\\Mary\\\\CIS5898\\\\FIT_capstone\\\\88101_2012_byState.csv')\n",
    "pm25States.head()"
   ]
  },
  {
   "cell_type": "code",
   "execution_count": 9,
   "id": "4f9234b3",
   "metadata": {},
   "outputs": [
    {
     "data": {
      "text/plain": [
       "48"
      ]
     },
     "execution_count": 9,
     "metadata": {},
     "output_type": "execute_result"
    }
   ],
   "source": [
    "len(pm25States)"
   ]
  },
  {
   "cell_type": "code",
   "execution_count": 10,
   "id": "a4d9c64e",
   "metadata": {},
   "outputs": [],
   "source": [
    "pm25States = pm25States.rename(columns={'State Name': 'State','Mean': 'PM2.5 Mean'}).copy()"
   ]
  },
  {
   "cell_type": "code",
   "execution_count": 11,
   "id": "52d25839",
   "metadata": {},
   "outputs": [],
   "source": [
    "pm25States['PM2.5 Mean'] = pm25States.iloc[:, 2:]"
   ]
  },
  {
   "cell_type": "code",
   "execution_count": 12,
   "id": "8ccec231",
   "metadata": {},
   "outputs": [
    {
     "data": {
      "text/html": [
       "<div>\n",
       "<style scoped>\n",
       "    .dataframe tbody tr th:only-of-type {\n",
       "        vertical-align: middle;\n",
       "    }\n",
       "\n",
       "    .dataframe tbody tr th {\n",
       "        vertical-align: top;\n",
       "    }\n",
       "\n",
       "    .dataframe thead th {\n",
       "        text-align: right;\n",
       "    }\n",
       "</style>\n",
       "<table border=\"1\" class=\"dataframe\">\n",
       "  <thead>\n",
       "    <tr style=\"text-align: right;\">\n",
       "      <th></th>\n",
       "      <th>Unnamed: 0</th>\n",
       "      <th>State</th>\n",
       "      <th>PM2.5 Mean</th>\n",
       "    </tr>\n",
       "  </thead>\n",
       "  <tbody>\n",
       "    <tr>\n",
       "      <th>0</th>\n",
       "      <td>0</td>\n",
       "      <td>Alabama</td>\n",
       "      <td>9.774805</td>\n",
       "    </tr>\n",
       "    <tr>\n",
       "      <th>1</th>\n",
       "      <td>1</td>\n",
       "      <td>Alaska</td>\n",
       "      <td>6.043637</td>\n",
       "    </tr>\n",
       "    <tr>\n",
       "      <th>2</th>\n",
       "      <td>2</td>\n",
       "      <td>Arizona</td>\n",
       "      <td>8.713038</td>\n",
       "    </tr>\n",
       "    <tr>\n",
       "      <th>3</th>\n",
       "      <td>3</td>\n",
       "      <td>Arkansas</td>\n",
       "      <td>10.427459</td>\n",
       "    </tr>\n",
       "    <tr>\n",
       "      <th>4</th>\n",
       "      <td>4</td>\n",
       "      <td>California</td>\n",
       "      <td>9.351435</td>\n",
       "    </tr>\n",
       "  </tbody>\n",
       "</table>\n",
       "</div>"
      ],
      "text/plain": [
       "   Unnamed: 0       State  PM2.5 Mean\n",
       "0           0     Alabama    9.774805\n",
       "1           1      Alaska    6.043637\n",
       "2           2     Arizona    8.713038\n",
       "3           3    Arkansas   10.427459\n",
       "4           4  California    9.351435"
      ]
     },
     "execution_count": 12,
     "metadata": {},
     "output_type": "execute_result"
    }
   ],
   "source": [
    "pm25States.head()"
   ]
  },
  {
   "cell_type": "code",
   "execution_count": 13,
   "id": "58fa32f2",
   "metadata": {},
   "outputs": [],
   "source": [
    "pm25States = pm25States.drop(columns = 'Unnamed: 0')"
   ]
  },
  {
   "cell_type": "code",
   "execution_count": 14,
   "id": "ae7bd290",
   "metadata": {},
   "outputs": [
    {
     "data": {
      "text/html": [
       "<div>\n",
       "<style scoped>\n",
       "    .dataframe tbody tr th:only-of-type {\n",
       "        vertical-align: middle;\n",
       "    }\n",
       "\n",
       "    .dataframe tbody tr th {\n",
       "        vertical-align: top;\n",
       "    }\n",
       "\n",
       "    .dataframe thead th {\n",
       "        text-align: right;\n",
       "    }\n",
       "</style>\n",
       "<table border=\"1\" class=\"dataframe\">\n",
       "  <thead>\n",
       "    <tr style=\"text-align: right;\">\n",
       "      <th></th>\n",
       "      <th>State</th>\n",
       "      <th>PM2.5 Mean</th>\n",
       "    </tr>\n",
       "  </thead>\n",
       "  <tbody>\n",
       "    <tr>\n",
       "      <th>0</th>\n",
       "      <td>Alabama</td>\n",
       "      <td>9.774805</td>\n",
       "    </tr>\n",
       "    <tr>\n",
       "      <th>1</th>\n",
       "      <td>Alaska</td>\n",
       "      <td>6.043637</td>\n",
       "    </tr>\n",
       "    <tr>\n",
       "      <th>2</th>\n",
       "      <td>Arizona</td>\n",
       "      <td>8.713038</td>\n",
       "    </tr>\n",
       "    <tr>\n",
       "      <th>3</th>\n",
       "      <td>Arkansas</td>\n",
       "      <td>10.427459</td>\n",
       "    </tr>\n",
       "    <tr>\n",
       "      <th>4</th>\n",
       "      <td>California</td>\n",
       "      <td>9.351435</td>\n",
       "    </tr>\n",
       "  </tbody>\n",
       "</table>\n",
       "</div>"
      ],
      "text/plain": [
       "        State  PM2.5 Mean\n",
       "0     Alabama    9.774805\n",
       "1      Alaska    6.043637\n",
       "2     Arizona    8.713038\n",
       "3    Arkansas   10.427459\n",
       "4  California    9.351435"
      ]
     },
     "execution_count": 14,
     "metadata": {},
     "output_type": "execute_result"
    }
   ],
   "source": [
    "pm25States.head()"
   ]
  },
  {
   "cell_type": "code",
   "execution_count": 15,
   "id": "e04c9628",
   "metadata": {},
   "outputs": [
    {
     "data": {
      "text/html": [
       "<div>\n",
       "<style scoped>\n",
       "    .dataframe tbody tr th:only-of-type {\n",
       "        vertical-align: middle;\n",
       "    }\n",
       "\n",
       "    .dataframe tbody tr th {\n",
       "        vertical-align: top;\n",
       "    }\n",
       "\n",
       "    .dataframe thead th {\n",
       "        text-align: right;\n",
       "    }\n",
       "</style>\n",
       "<table border=\"1\" class=\"dataframe\">\n",
       "  <thead>\n",
       "    <tr style=\"text-align: right;\">\n",
       "      <th></th>\n",
       "      <th>Unnamed: 0</th>\n",
       "      <th>State Name</th>\n",
       "      <th>Arithmetic Mean</th>\n",
       "    </tr>\n",
       "  </thead>\n",
       "  <tbody>\n",
       "    <tr>\n",
       "      <th>0</th>\n",
       "      <td>0</td>\n",
       "      <td>Alabama</td>\n",
       "      <td>0.030212</td>\n",
       "    </tr>\n",
       "    <tr>\n",
       "      <th>1</th>\n",
       "      <td>1</td>\n",
       "      <td>Alaska</td>\n",
       "      <td>0.023342</td>\n",
       "    </tr>\n",
       "    <tr>\n",
       "      <th>2</th>\n",
       "      <td>2</td>\n",
       "      <td>Arizona</td>\n",
       "      <td>0.037280</td>\n",
       "    </tr>\n",
       "    <tr>\n",
       "      <th>3</th>\n",
       "      <td>3</td>\n",
       "      <td>Arkansas</td>\n",
       "      <td>0.033581</td>\n",
       "    </tr>\n",
       "    <tr>\n",
       "      <th>4</th>\n",
       "      <td>4</td>\n",
       "      <td>California</td>\n",
       "      <td>0.032747</td>\n",
       "    </tr>\n",
       "  </tbody>\n",
       "</table>\n",
       "</div>"
      ],
      "text/plain": [
       "   Unnamed: 0  State Name  Arithmetic Mean\n",
       "0           0     Alabama         0.030212\n",
       "1           1      Alaska         0.023342\n",
       "2           2     Arizona         0.037280\n",
       "3           3    Arkansas         0.033581\n",
       "4           4  California         0.032747"
      ]
     },
     "execution_count": 15,
     "metadata": {},
     "output_type": "execute_result"
    }
   ],
   "source": [
    "ozoneStates = pd.read_csv('C:\\\\Users\\\\Mary\\\\CIS5898\\\\FIT_capstone\\\\44201_2012_byState.csv')\n",
    "ozoneStates.head()"
   ]
  },
  {
   "cell_type": "code",
   "execution_count": 16,
   "id": "9c2e5c4b",
   "metadata": {},
   "outputs": [
    {
     "data": {
      "text/plain": [
       "50"
      ]
     },
     "execution_count": 16,
     "metadata": {},
     "output_type": "execute_result"
    }
   ],
   "source": [
    "len(ozoneStates)"
   ]
  },
  {
   "cell_type": "code",
   "execution_count": 17,
   "id": "2bdd4ed9",
   "metadata": {},
   "outputs": [],
   "source": [
    "ozoneStates = ozoneStates.rename(columns={'State Name': 'State','Arithmetic Mean': 'Ozone Mean'}).copy()"
   ]
  },
  {
   "cell_type": "code",
   "execution_count": 18,
   "id": "20af31c8",
   "metadata": {},
   "outputs": [],
   "source": [
    "ozoneStates['Ozone Mean'] = ozoneStates.iloc[:, 2:]"
   ]
  },
  {
   "cell_type": "code",
   "execution_count": 19,
   "id": "2ab4bc0f",
   "metadata": {},
   "outputs": [],
   "source": [
    "ozoneStates = ozoneStates.drop(columns = 'Unnamed: 0')"
   ]
  },
  {
   "cell_type": "code",
   "execution_count": 20,
   "id": "8d28bfb2",
   "metadata": {},
   "outputs": [
    {
     "data": {
      "text/html": [
       "<div>\n",
       "<style scoped>\n",
       "    .dataframe tbody tr th:only-of-type {\n",
       "        vertical-align: middle;\n",
       "    }\n",
       "\n",
       "    .dataframe tbody tr th {\n",
       "        vertical-align: top;\n",
       "    }\n",
       "\n",
       "    .dataframe thead th {\n",
       "        text-align: right;\n",
       "    }\n",
       "</style>\n",
       "<table border=\"1\" class=\"dataframe\">\n",
       "  <thead>\n",
       "    <tr style=\"text-align: right;\">\n",
       "      <th></th>\n",
       "      <th>State</th>\n",
       "      <th>Ozone Mean</th>\n",
       "    </tr>\n",
       "  </thead>\n",
       "  <tbody>\n",
       "    <tr>\n",
       "      <th>0</th>\n",
       "      <td>Alabama</td>\n",
       "      <td>0.030212</td>\n",
       "    </tr>\n",
       "    <tr>\n",
       "      <th>1</th>\n",
       "      <td>Alaska</td>\n",
       "      <td>0.023342</td>\n",
       "    </tr>\n",
       "    <tr>\n",
       "      <th>2</th>\n",
       "      <td>Arizona</td>\n",
       "      <td>0.037280</td>\n",
       "    </tr>\n",
       "    <tr>\n",
       "      <th>3</th>\n",
       "      <td>Arkansas</td>\n",
       "      <td>0.033581</td>\n",
       "    </tr>\n",
       "    <tr>\n",
       "      <th>4</th>\n",
       "      <td>California</td>\n",
       "      <td>0.032747</td>\n",
       "    </tr>\n",
       "  </tbody>\n",
       "</table>\n",
       "</div>"
      ],
      "text/plain": [
       "        State  Ozone Mean\n",
       "0     Alabama    0.030212\n",
       "1      Alaska    0.023342\n",
       "2     Arizona    0.037280\n",
       "3    Arkansas    0.033581\n",
       "4  California    0.032747"
      ]
     },
     "execution_count": 20,
     "metadata": {},
     "output_type": "execute_result"
    }
   ],
   "source": [
    "ozoneStates.head()"
   ]
  },
  {
   "cell_type": "markdown",
   "id": "8cc3180d",
   "metadata": {},
   "source": [
    "### Join datasets"
   ]
  },
  {
   "cell_type": "markdown",
   "id": "a7b60f7c",
   "metadata": {},
   "source": [
    "Join the PM2.5 and ozone datasets"
   ]
  },
  {
   "cell_type": "code",
   "execution_count": 21,
   "id": "7acaa475",
   "metadata": {},
   "outputs": [
    {
     "data": {
      "text/html": [
       "<div>\n",
       "<style scoped>\n",
       "    .dataframe tbody tr th:only-of-type {\n",
       "        vertical-align: middle;\n",
       "    }\n",
       "\n",
       "    .dataframe tbody tr th {\n",
       "        vertical-align: top;\n",
       "    }\n",
       "\n",
       "    .dataframe thead th {\n",
       "        text-align: right;\n",
       "    }\n",
       "</style>\n",
       "<table border=\"1\" class=\"dataframe\">\n",
       "  <thead>\n",
       "    <tr style=\"text-align: right;\">\n",
       "      <th></th>\n",
       "      <th>State</th>\n",
       "      <th>PM2.5 Mean</th>\n",
       "      <th>Ozone Mean</th>\n",
       "    </tr>\n",
       "  </thead>\n",
       "  <tbody>\n",
       "    <tr>\n",
       "      <th>0</th>\n",
       "      <td>Alabama</td>\n",
       "      <td>9.774805</td>\n",
       "      <td>0.030212</td>\n",
       "    </tr>\n",
       "    <tr>\n",
       "      <th>1</th>\n",
       "      <td>Alaska</td>\n",
       "      <td>6.043637</td>\n",
       "      <td>0.023342</td>\n",
       "    </tr>\n",
       "    <tr>\n",
       "      <th>2</th>\n",
       "      <td>Arizona</td>\n",
       "      <td>8.713038</td>\n",
       "      <td>0.037280</td>\n",
       "    </tr>\n",
       "    <tr>\n",
       "      <th>3</th>\n",
       "      <td>Arkansas</td>\n",
       "      <td>10.427459</td>\n",
       "      <td>0.033581</td>\n",
       "    </tr>\n",
       "    <tr>\n",
       "      <th>4</th>\n",
       "      <td>California</td>\n",
       "      <td>9.351435</td>\n",
       "      <td>0.032747</td>\n",
       "    </tr>\n",
       "  </tbody>\n",
       "</table>\n",
       "</div>"
      ],
      "text/plain": [
       "        State  PM2.5 Mean  Ozone Mean\n",
       "0     Alabama    9.774805    0.030212\n",
       "1      Alaska    6.043637    0.023342\n",
       "2     Arizona    8.713038    0.037280\n",
       "3    Arkansas   10.427459    0.033581\n",
       "4  California    9.351435    0.032747"
      ]
     },
     "execution_count": 21,
     "metadata": {},
     "output_type": "execute_result"
    }
   ],
   "source": [
    "pm25OzoneMerged2012 = pd.merge(pm25States, ozoneStates, on=['State'], \n",
    "             how = 'right') #pm25States dataframe is missing 2 states\n",
    "pm25OzoneMerged2012.head()"
   ]
  },
  {
   "cell_type": "code",
   "execution_count": 22,
   "id": "8ce1ea84",
   "metadata": {},
   "outputs": [
    {
     "data": {
      "text/plain": [
       "50"
      ]
     },
     "execution_count": 22,
     "metadata": {},
     "output_type": "execute_result"
    }
   ],
   "source": [
    "len(pm25OzoneMerged2012)"
   ]
  },
  {
   "cell_type": "code",
   "execution_count": 23,
   "id": "0fb9f885",
   "metadata": {},
   "outputs": [
    {
     "data": {
      "text/plain": [
       "array(['Illinois', 'Maine'], dtype=object)"
      ]
     },
     "execution_count": 23,
     "metadata": {},
     "output_type": "execute_result"
    }
   ],
   "source": [
    "#which states have missing values?\n",
    "pm25OzoneMerged2012.loc[pm25OzoneMerged2012['PM2.5 Mean'].isnull(), 'State'].unique()"
   ]
  },
  {
   "cell_type": "code",
   "execution_count": 24,
   "id": "d69422cb",
   "metadata": {},
   "outputs": [
    {
     "data": {
      "text/plain": [
       "8.9"
      ]
     },
     "execution_count": 24,
     "metadata": {},
     "output_type": "execute_result"
    }
   ],
   "source": [
    "#create variable to calculate the mean of the PM2.5 Mean column and round to 1 decimal place\n",
    "naValue = round(pm25OzoneMerged2012['PM2.5 Mean'].mean(), 1)\n",
    "naValue"
   ]
  },
  {
   "cell_type": "code",
   "execution_count": 25,
   "id": "1fff1c2d",
   "metadata": {},
   "outputs": [],
   "source": [
    "#replace missing values with mean\n",
    "pm25OzoneMerged2012 = pm25OzoneMerged2012.fillna(naValue).copy()"
   ]
  },
  {
   "cell_type": "code",
   "execution_count": 26,
   "id": "66cb3bff",
   "metadata": {},
   "outputs": [
    {
     "data": {
      "text/html": [
       "<div>\n",
       "<style scoped>\n",
       "    .dataframe tbody tr th:only-of-type {\n",
       "        vertical-align: middle;\n",
       "    }\n",
       "\n",
       "    .dataframe tbody tr th {\n",
       "        vertical-align: top;\n",
       "    }\n",
       "\n",
       "    .dataframe thead th {\n",
       "        text-align: right;\n",
       "    }\n",
       "</style>\n",
       "<table border=\"1\" class=\"dataframe\">\n",
       "  <thead>\n",
       "    <tr style=\"text-align: right;\">\n",
       "      <th></th>\n",
       "      <th>State</th>\n",
       "      <th>PM2.5 Mean</th>\n",
       "      <th>Ozone Mean</th>\n",
       "    </tr>\n",
       "  </thead>\n",
       "  <tbody>\n",
       "    <tr>\n",
       "      <th>12</th>\n",
       "      <td>Illinois</td>\n",
       "      <td>8.9</td>\n",
       "      <td>0.030986</td>\n",
       "    </tr>\n",
       "  </tbody>\n",
       "</table>\n",
       "</div>"
      ],
      "text/plain": [
       "       State  PM2.5 Mean  Ozone Mean\n",
       "12  Illinois         8.9    0.030986"
      ]
     },
     "execution_count": 26,
     "metadata": {},
     "output_type": "execute_result"
    }
   ],
   "source": [
    "#check whether the initially missing PM2.5 value was replaced with the mean\n",
    "pm25OzoneMerged2012[(pm25OzoneMerged2012['State']=='Illinois')]"
   ]
  },
  {
   "cell_type": "markdown",
   "id": "4db7808a",
   "metadata": {},
   "source": [
    "The asthma2012 dataset does not have county level information. To join the datasets, group the AQI2012 dataset by State."
   ]
  },
  {
   "cell_type": "code",
   "execution_count": 27,
   "id": "e705438f",
   "metadata": {},
   "outputs": [],
   "source": [
    "#calculate State means of all numeric columns\n",
    "AQI1States = AQI1Cleaned.iloc[:, 4:].groupby(AQI1Cleaned['State']).mean()"
   ]
  },
  {
   "cell_type": "code",
   "execution_count": 28,
   "id": "6d14690e",
   "metadata": {},
   "outputs": [
    {
     "data": {
      "text/html": [
       "<div>\n",
       "<style scoped>\n",
       "    .dataframe tbody tr th:only-of-type {\n",
       "        vertical-align: middle;\n",
       "    }\n",
       "\n",
       "    .dataframe tbody tr th {\n",
       "        vertical-align: top;\n",
       "    }\n",
       "\n",
       "    .dataframe thead th {\n",
       "        text-align: right;\n",
       "    }\n",
       "</style>\n",
       "<table border=\"1\" class=\"dataframe\">\n",
       "  <thead>\n",
       "    <tr style=\"text-align: right;\">\n",
       "      <th></th>\n",
       "      <th>Days with AQI</th>\n",
       "      <th>Good Days</th>\n",
       "      <th>Moderate Days</th>\n",
       "      <th>Unhealthy for Sensitive Groups Days</th>\n",
       "      <th>Unhealthy Days</th>\n",
       "      <th>Very Unhealthy Days</th>\n",
       "      <th>Hazardous Days</th>\n",
       "      <th>Max AQI</th>\n",
       "      <th>90th Percentile AQI</th>\n",
       "      <th>Median AQI</th>\n",
       "      <th>Days CO</th>\n",
       "      <th>Days NO2</th>\n",
       "      <th>Days Ozone</th>\n",
       "      <th>Days SO2</th>\n",
       "      <th>Days PM2.5</th>\n",
       "      <th>Days PM10</th>\n",
       "    </tr>\n",
       "    <tr>\n",
       "      <th>State</th>\n",
       "      <th></th>\n",
       "      <th></th>\n",
       "      <th></th>\n",
       "      <th></th>\n",
       "      <th></th>\n",
       "      <th></th>\n",
       "      <th></th>\n",
       "      <th></th>\n",
       "      <th></th>\n",
       "      <th></th>\n",
       "      <th></th>\n",
       "      <th></th>\n",
       "      <th></th>\n",
       "      <th></th>\n",
       "      <th></th>\n",
       "      <th></th>\n",
       "    </tr>\n",
       "  </thead>\n",
       "  <tbody>\n",
       "    <tr>\n",
       "      <th>Alabama</th>\n",
       "      <td>263.588235</td>\n",
       "      <td>201.000000</td>\n",
       "      <td>58.823529</td>\n",
       "      <td>3.529412</td>\n",
       "      <td>0.235294</td>\n",
       "      <td>0.000000</td>\n",
       "      <td>0.000000</td>\n",
       "      <td>110.235294</td>\n",
       "      <td>62.352941</td>\n",
       "      <td>40.176471</td>\n",
       "      <td>0.000000</td>\n",
       "      <td>0.000000</td>\n",
       "      <td>174.529412</td>\n",
       "      <td>0.411765</td>\n",
       "      <td>85.117647</td>\n",
       "      <td>3.529412</td>\n",
       "    </tr>\n",
       "    <tr>\n",
       "      <th>Alaska</th>\n",
       "      <td>301.250000</td>\n",
       "      <td>258.625000</td>\n",
       "      <td>36.625000</td>\n",
       "      <td>2.625000</td>\n",
       "      <td>3.125000</td>\n",
       "      <td>0.250000</td>\n",
       "      <td>0.000000</td>\n",
       "      <td>96.250000</td>\n",
       "      <td>50.875000</td>\n",
       "      <td>22.125000</td>\n",
       "      <td>1.375000</td>\n",
       "      <td>0.000000</td>\n",
       "      <td>95.250000</td>\n",
       "      <td>0.875000</td>\n",
       "      <td>152.750000</td>\n",
       "      <td>51.000000</td>\n",
       "    </tr>\n",
       "    <tr>\n",
       "      <th>Arizona</th>\n",
       "      <td>336.538462</td>\n",
       "      <td>185.846154</td>\n",
       "      <td>120.076923</td>\n",
       "      <td>26.923077</td>\n",
       "      <td>3.076923</td>\n",
       "      <td>0.307692</td>\n",
       "      <td>0.307692</td>\n",
       "      <td>173.538462</td>\n",
       "      <td>82.846154</td>\n",
       "      <td>49.538462</td>\n",
       "      <td>0.000000</td>\n",
       "      <td>3.000000</td>\n",
       "      <td>179.307692</td>\n",
       "      <td>19.307692</td>\n",
       "      <td>22.307692</td>\n",
       "      <td>112.615385</td>\n",
       "    </tr>\n",
       "    <tr>\n",
       "      <th>Arkansas</th>\n",
       "      <td>225.071429</td>\n",
       "      <td>164.571429</td>\n",
       "      <td>56.500000</td>\n",
       "      <td>3.642857</td>\n",
       "      <td>0.357143</td>\n",
       "      <td>0.000000</td>\n",
       "      <td>0.000000</td>\n",
       "      <td>111.357143</td>\n",
       "      <td>63.714286</td>\n",
       "      <td>38.071429</td>\n",
       "      <td>0.000000</td>\n",
       "      <td>2.642857</td>\n",
       "      <td>123.285714</td>\n",
       "      <td>18.142857</td>\n",
       "      <td>81.000000</td>\n",
       "      <td>0.000000</td>\n",
       "    </tr>\n",
       "    <tr>\n",
       "      <th>California</th>\n",
       "      <td>349.611111</td>\n",
       "      <td>202.314815</td>\n",
       "      <td>113.833333</td>\n",
       "      <td>25.851852</td>\n",
       "      <td>6.833333</td>\n",
       "      <td>0.370370</td>\n",
       "      <td>0.407407</td>\n",
       "      <td>288.703704</td>\n",
       "      <td>87.907407</td>\n",
       "      <td>48.703704</td>\n",
       "      <td>0.037037</td>\n",
       "      <td>6.759259</td>\n",
       "      <td>219.462963</td>\n",
       "      <td>0.092593</td>\n",
       "      <td>110.722222</td>\n",
       "      <td>12.537037</td>\n",
       "    </tr>\n",
       "  </tbody>\n",
       "</table>\n",
       "</div>"
      ],
      "text/plain": [
       "            Days with AQI   Good Days  Moderate Days  \\\n",
       "State                                                  \n",
       "Alabama        263.588235  201.000000      58.823529   \n",
       "Alaska         301.250000  258.625000      36.625000   \n",
       "Arizona        336.538462  185.846154     120.076923   \n",
       "Arkansas       225.071429  164.571429      56.500000   \n",
       "California     349.611111  202.314815     113.833333   \n",
       "\n",
       "            Unhealthy for Sensitive Groups Days  Unhealthy Days  \\\n",
       "State                                                             \n",
       "Alabama                                3.529412        0.235294   \n",
       "Alaska                                 2.625000        3.125000   \n",
       "Arizona                               26.923077        3.076923   \n",
       "Arkansas                               3.642857        0.357143   \n",
       "California                            25.851852        6.833333   \n",
       "\n",
       "            Very Unhealthy Days  Hazardous Days     Max AQI  \\\n",
       "State                                                         \n",
       "Alabama                0.000000        0.000000  110.235294   \n",
       "Alaska                 0.250000        0.000000   96.250000   \n",
       "Arizona                0.307692        0.307692  173.538462   \n",
       "Arkansas               0.000000        0.000000  111.357143   \n",
       "California             0.370370        0.407407  288.703704   \n",
       "\n",
       "            90th Percentile AQI  Median AQI   Days CO  Days NO2  Days Ozone  \\\n",
       "State                                                                         \n",
       "Alabama               62.352941   40.176471  0.000000  0.000000  174.529412   \n",
       "Alaska                50.875000   22.125000  1.375000  0.000000   95.250000   \n",
       "Arizona               82.846154   49.538462  0.000000  3.000000  179.307692   \n",
       "Arkansas              63.714286   38.071429  0.000000  2.642857  123.285714   \n",
       "California            87.907407   48.703704  0.037037  6.759259  219.462963   \n",
       "\n",
       "             Days SO2  Days PM2.5   Days PM10  \n",
       "State                                          \n",
       "Alabama      0.411765   85.117647    3.529412  \n",
       "Alaska       0.875000  152.750000   51.000000  \n",
       "Arizona     19.307692   22.307692  112.615385  \n",
       "Arkansas    18.142857   81.000000    0.000000  \n",
       "California   0.092593  110.722222   12.537037  "
      ]
     },
     "execution_count": 28,
     "metadata": {},
     "output_type": "execute_result"
    }
   ],
   "source": [
    "AQI1States.head()"
   ]
  },
  {
   "cell_type": "code",
   "execution_count": 29,
   "id": "5a155aee",
   "metadata": {},
   "outputs": [],
   "source": [
    "#round the calculated mean columns and convert to integers\n",
    "AQI1States = AQI1States.iloc[:, :].round().astype(int)"
   ]
  },
  {
   "cell_type": "code",
   "execution_count": 30,
   "id": "41351b00",
   "metadata": {},
   "outputs": [
    {
     "data": {
      "text/html": [
       "<div>\n",
       "<style scoped>\n",
       "    .dataframe tbody tr th:only-of-type {\n",
       "        vertical-align: middle;\n",
       "    }\n",
       "\n",
       "    .dataframe tbody tr th {\n",
       "        vertical-align: top;\n",
       "    }\n",
       "\n",
       "    .dataframe thead th {\n",
       "        text-align: right;\n",
       "    }\n",
       "</style>\n",
       "<table border=\"1\" class=\"dataframe\">\n",
       "  <thead>\n",
       "    <tr style=\"text-align: right;\">\n",
       "      <th></th>\n",
       "      <th>Days with AQI</th>\n",
       "      <th>Good Days</th>\n",
       "      <th>Moderate Days</th>\n",
       "      <th>Unhealthy for Sensitive Groups Days</th>\n",
       "      <th>Unhealthy Days</th>\n",
       "      <th>Very Unhealthy Days</th>\n",
       "      <th>Hazardous Days</th>\n",
       "      <th>Max AQI</th>\n",
       "      <th>90th Percentile AQI</th>\n",
       "      <th>Median AQI</th>\n",
       "      <th>Days CO</th>\n",
       "      <th>Days NO2</th>\n",
       "      <th>Days Ozone</th>\n",
       "      <th>Days SO2</th>\n",
       "      <th>Days PM2.5</th>\n",
       "      <th>Days PM10</th>\n",
       "    </tr>\n",
       "    <tr>\n",
       "      <th>State</th>\n",
       "      <th></th>\n",
       "      <th></th>\n",
       "      <th></th>\n",
       "      <th></th>\n",
       "      <th></th>\n",
       "      <th></th>\n",
       "      <th></th>\n",
       "      <th></th>\n",
       "      <th></th>\n",
       "      <th></th>\n",
       "      <th></th>\n",
       "      <th></th>\n",
       "      <th></th>\n",
       "      <th></th>\n",
       "      <th></th>\n",
       "      <th></th>\n",
       "    </tr>\n",
       "  </thead>\n",
       "  <tbody>\n",
       "    <tr>\n",
       "      <th>Alabama</th>\n",
       "      <td>264</td>\n",
       "      <td>201</td>\n",
       "      <td>59</td>\n",
       "      <td>4</td>\n",
       "      <td>0</td>\n",
       "      <td>0</td>\n",
       "      <td>0</td>\n",
       "      <td>110</td>\n",
       "      <td>62</td>\n",
       "      <td>40</td>\n",
       "      <td>0</td>\n",
       "      <td>0</td>\n",
       "      <td>175</td>\n",
       "      <td>0</td>\n",
       "      <td>85</td>\n",
       "      <td>4</td>\n",
       "    </tr>\n",
       "    <tr>\n",
       "      <th>Alaska</th>\n",
       "      <td>301</td>\n",
       "      <td>259</td>\n",
       "      <td>37</td>\n",
       "      <td>3</td>\n",
       "      <td>3</td>\n",
       "      <td>0</td>\n",
       "      <td>0</td>\n",
       "      <td>96</td>\n",
       "      <td>51</td>\n",
       "      <td>22</td>\n",
       "      <td>1</td>\n",
       "      <td>0</td>\n",
       "      <td>95</td>\n",
       "      <td>1</td>\n",
       "      <td>153</td>\n",
       "      <td>51</td>\n",
       "    </tr>\n",
       "    <tr>\n",
       "      <th>Arizona</th>\n",
       "      <td>337</td>\n",
       "      <td>186</td>\n",
       "      <td>120</td>\n",
       "      <td>27</td>\n",
       "      <td>3</td>\n",
       "      <td>0</td>\n",
       "      <td>0</td>\n",
       "      <td>174</td>\n",
       "      <td>83</td>\n",
       "      <td>50</td>\n",
       "      <td>0</td>\n",
       "      <td>3</td>\n",
       "      <td>179</td>\n",
       "      <td>19</td>\n",
       "      <td>22</td>\n",
       "      <td>113</td>\n",
       "    </tr>\n",
       "    <tr>\n",
       "      <th>Arkansas</th>\n",
       "      <td>225</td>\n",
       "      <td>165</td>\n",
       "      <td>56</td>\n",
       "      <td>4</td>\n",
       "      <td>0</td>\n",
       "      <td>0</td>\n",
       "      <td>0</td>\n",
       "      <td>111</td>\n",
       "      <td>64</td>\n",
       "      <td>38</td>\n",
       "      <td>0</td>\n",
       "      <td>3</td>\n",
       "      <td>123</td>\n",
       "      <td>18</td>\n",
       "      <td>81</td>\n",
       "      <td>0</td>\n",
       "    </tr>\n",
       "    <tr>\n",
       "      <th>California</th>\n",
       "      <td>350</td>\n",
       "      <td>202</td>\n",
       "      <td>114</td>\n",
       "      <td>26</td>\n",
       "      <td>7</td>\n",
       "      <td>0</td>\n",
       "      <td>0</td>\n",
       "      <td>289</td>\n",
       "      <td>88</td>\n",
       "      <td>49</td>\n",
       "      <td>0</td>\n",
       "      <td>7</td>\n",
       "      <td>219</td>\n",
       "      <td>0</td>\n",
       "      <td>111</td>\n",
       "      <td>13</td>\n",
       "    </tr>\n",
       "  </tbody>\n",
       "</table>\n",
       "</div>"
      ],
      "text/plain": [
       "            Days with AQI  Good Days  Moderate Days  \\\n",
       "State                                                 \n",
       "Alabama               264        201             59   \n",
       "Alaska                301        259             37   \n",
       "Arizona               337        186            120   \n",
       "Arkansas              225        165             56   \n",
       "California            350        202            114   \n",
       "\n",
       "            Unhealthy for Sensitive Groups Days  Unhealthy Days  \\\n",
       "State                                                             \n",
       "Alabama                                       4               0   \n",
       "Alaska                                        3               3   \n",
       "Arizona                                      27               3   \n",
       "Arkansas                                      4               0   \n",
       "California                                   26               7   \n",
       "\n",
       "            Very Unhealthy Days  Hazardous Days  Max AQI  90th Percentile AQI  \\\n",
       "State                                                                           \n",
       "Alabama                       0               0      110                   62   \n",
       "Alaska                        0               0       96                   51   \n",
       "Arizona                       0               0      174                   83   \n",
       "Arkansas                      0               0      111                   64   \n",
       "California                    0               0      289                   88   \n",
       "\n",
       "            Median AQI  Days CO  Days NO2  Days Ozone  Days SO2  Days PM2.5  \\\n",
       "State                                                                         \n",
       "Alabama             40        0         0         175         0          85   \n",
       "Alaska              22        1         0          95         1         153   \n",
       "Arizona             50        0         3         179        19          22   \n",
       "Arkansas            38        0         3         123        18          81   \n",
       "California          49        0         7         219         0         111   \n",
       "\n",
       "            Days PM10  \n",
       "State                  \n",
       "Alabama             4  \n",
       "Alaska             51  \n",
       "Arizona           113  \n",
       "Arkansas            0  \n",
       "California         13  "
      ]
     },
     "execution_count": 30,
     "metadata": {},
     "output_type": "execute_result"
    }
   ],
   "source": [
    "AQI1States.head()"
   ]
  },
  {
   "cell_type": "code",
   "execution_count": 31,
   "id": "bf1594cc",
   "metadata": {},
   "outputs": [],
   "source": [
    "AQI1States = AQI1States.reset_index()"
   ]
  },
  {
   "cell_type": "code",
   "execution_count": 32,
   "id": "5879beca",
   "metadata": {},
   "outputs": [
    {
     "data": {
      "text/html": [
       "<div>\n",
       "<style scoped>\n",
       "    .dataframe tbody tr th:only-of-type {\n",
       "        vertical-align: middle;\n",
       "    }\n",
       "\n",
       "    .dataframe tbody tr th {\n",
       "        vertical-align: top;\n",
       "    }\n",
       "\n",
       "    .dataframe thead th {\n",
       "        text-align: right;\n",
       "    }\n",
       "</style>\n",
       "<table border=\"1\" class=\"dataframe\">\n",
       "  <thead>\n",
       "    <tr style=\"text-align: right;\">\n",
       "      <th></th>\n",
       "      <th>State</th>\n",
       "      <th>PM2.5 Mean</th>\n",
       "      <th>Ozone Mean</th>\n",
       "      <th>Days with AQI</th>\n",
       "      <th>Good Days</th>\n",
       "      <th>Moderate Days</th>\n",
       "      <th>Unhealthy for Sensitive Groups Days</th>\n",
       "      <th>Unhealthy Days</th>\n",
       "      <th>Very Unhealthy Days</th>\n",
       "      <th>Hazardous Days</th>\n",
       "      <th>Max AQI</th>\n",
       "      <th>90th Percentile AQI</th>\n",
       "      <th>Median AQI</th>\n",
       "      <th>Days CO</th>\n",
       "      <th>Days NO2</th>\n",
       "      <th>Days Ozone</th>\n",
       "      <th>Days SO2</th>\n",
       "      <th>Days PM2.5</th>\n",
       "      <th>Days PM10</th>\n",
       "    </tr>\n",
       "  </thead>\n",
       "  <tbody>\n",
       "    <tr>\n",
       "      <th>0</th>\n",
       "      <td>Alabama</td>\n",
       "      <td>9.774805</td>\n",
       "      <td>0.030212</td>\n",
       "      <td>264</td>\n",
       "      <td>201</td>\n",
       "      <td>59</td>\n",
       "      <td>4</td>\n",
       "      <td>0</td>\n",
       "      <td>0</td>\n",
       "      <td>0</td>\n",
       "      <td>110</td>\n",
       "      <td>62</td>\n",
       "      <td>40</td>\n",
       "      <td>0</td>\n",
       "      <td>0</td>\n",
       "      <td>175</td>\n",
       "      <td>0</td>\n",
       "      <td>85</td>\n",
       "      <td>4</td>\n",
       "    </tr>\n",
       "    <tr>\n",
       "      <th>1</th>\n",
       "      <td>Alaska</td>\n",
       "      <td>6.043637</td>\n",
       "      <td>0.023342</td>\n",
       "      <td>301</td>\n",
       "      <td>259</td>\n",
       "      <td>37</td>\n",
       "      <td>3</td>\n",
       "      <td>3</td>\n",
       "      <td>0</td>\n",
       "      <td>0</td>\n",
       "      <td>96</td>\n",
       "      <td>51</td>\n",
       "      <td>22</td>\n",
       "      <td>1</td>\n",
       "      <td>0</td>\n",
       "      <td>95</td>\n",
       "      <td>1</td>\n",
       "      <td>153</td>\n",
       "      <td>51</td>\n",
       "    </tr>\n",
       "    <tr>\n",
       "      <th>2</th>\n",
       "      <td>Arizona</td>\n",
       "      <td>8.713038</td>\n",
       "      <td>0.037280</td>\n",
       "      <td>337</td>\n",
       "      <td>186</td>\n",
       "      <td>120</td>\n",
       "      <td>27</td>\n",
       "      <td>3</td>\n",
       "      <td>0</td>\n",
       "      <td>0</td>\n",
       "      <td>174</td>\n",
       "      <td>83</td>\n",
       "      <td>50</td>\n",
       "      <td>0</td>\n",
       "      <td>3</td>\n",
       "      <td>179</td>\n",
       "      <td>19</td>\n",
       "      <td>22</td>\n",
       "      <td>113</td>\n",
       "    </tr>\n",
       "    <tr>\n",
       "      <th>3</th>\n",
       "      <td>Arkansas</td>\n",
       "      <td>10.427459</td>\n",
       "      <td>0.033581</td>\n",
       "      <td>225</td>\n",
       "      <td>165</td>\n",
       "      <td>56</td>\n",
       "      <td>4</td>\n",
       "      <td>0</td>\n",
       "      <td>0</td>\n",
       "      <td>0</td>\n",
       "      <td>111</td>\n",
       "      <td>64</td>\n",
       "      <td>38</td>\n",
       "      <td>0</td>\n",
       "      <td>3</td>\n",
       "      <td>123</td>\n",
       "      <td>18</td>\n",
       "      <td>81</td>\n",
       "      <td>0</td>\n",
       "    </tr>\n",
       "    <tr>\n",
       "      <th>4</th>\n",
       "      <td>California</td>\n",
       "      <td>9.351435</td>\n",
       "      <td>0.032747</td>\n",
       "      <td>350</td>\n",
       "      <td>202</td>\n",
       "      <td>114</td>\n",
       "      <td>26</td>\n",
       "      <td>7</td>\n",
       "      <td>0</td>\n",
       "      <td>0</td>\n",
       "      <td>289</td>\n",
       "      <td>88</td>\n",
       "      <td>49</td>\n",
       "      <td>0</td>\n",
       "      <td>7</td>\n",
       "      <td>219</td>\n",
       "      <td>0</td>\n",
       "      <td>111</td>\n",
       "      <td>13</td>\n",
       "    </tr>\n",
       "  </tbody>\n",
       "</table>\n",
       "</div>"
      ],
      "text/plain": [
       "        State  PM2.5 Mean  Ozone Mean  Days with AQI  Good Days  \\\n",
       "0     Alabama    9.774805    0.030212            264        201   \n",
       "1      Alaska    6.043637    0.023342            301        259   \n",
       "2     Arizona    8.713038    0.037280            337        186   \n",
       "3    Arkansas   10.427459    0.033581            225        165   \n",
       "4  California    9.351435    0.032747            350        202   \n",
       "\n",
       "   Moderate Days  Unhealthy for Sensitive Groups Days  Unhealthy Days  \\\n",
       "0             59                                    4               0   \n",
       "1             37                                    3               3   \n",
       "2            120                                   27               3   \n",
       "3             56                                    4               0   \n",
       "4            114                                   26               7   \n",
       "\n",
       "   Very Unhealthy Days  Hazardous Days  Max AQI  90th Percentile AQI  \\\n",
       "0                    0               0      110                   62   \n",
       "1                    0               0       96                   51   \n",
       "2                    0               0      174                   83   \n",
       "3                    0               0      111                   64   \n",
       "4                    0               0      289                   88   \n",
       "\n",
       "   Median AQI  Days CO  Days NO2  Days Ozone  Days SO2  Days PM2.5  Days PM10  \n",
       "0          40        0         0         175         0          85          4  \n",
       "1          22        1         0          95         1         153         51  \n",
       "2          50        0         3         179        19          22        113  \n",
       "3          38        0         3         123        18          81          0  \n",
       "4          49        0         7         219         0         111         13  "
      ]
     },
     "execution_count": 32,
     "metadata": {},
     "output_type": "execute_result"
    }
   ],
   "source": [
    "#merge the AQ dataframe with the PM2.5 and ozone dataframe\n",
    "AQStates = pd.merge(pm25OzoneMerged2012, AQI1States, on=['State'], how = 'left')\n",
    "AQStates.head()"
   ]
  },
  {
   "cell_type": "code",
   "execution_count": 33,
   "id": "03f195de",
   "metadata": {},
   "outputs": [
    {
     "data": {
      "text/html": [
       "<div>\n",
       "<style scoped>\n",
       "    .dataframe tbody tr th:only-of-type {\n",
       "        vertical-align: middle;\n",
       "    }\n",
       "\n",
       "    .dataframe tbody tr th {\n",
       "        vertical-align: top;\n",
       "    }\n",
       "\n",
       "    .dataframe thead th {\n",
       "        text-align: right;\n",
       "    }\n",
       "</style>\n",
       "<table border=\"1\" class=\"dataframe\">\n",
       "  <thead>\n",
       "    <tr style=\"text-align: right;\">\n",
       "      <th></th>\n",
       "      <th>LocationDesc</th>\n",
       "      <th>Question</th>\n",
       "      <th>DataValueType</th>\n",
       "      <th>DataValue</th>\n",
       "    </tr>\n",
       "  </thead>\n",
       "  <tbody>\n",
       "    <tr>\n",
       "      <th>0</th>\n",
       "      <td>Alaska</td>\n",
       "      <td>Current asthma prevalence among adults aged &gt;=...</td>\n",
       "      <td>Crude Prevalence</td>\n",
       "      <td>9.0</td>\n",
       "    </tr>\n",
       "    <tr>\n",
       "      <th>1</th>\n",
       "      <td>Alabama</td>\n",
       "      <td>Current asthma prevalence among adults aged &gt;=...</td>\n",
       "      <td>Crude Prevalence</td>\n",
       "      <td>8.6</td>\n",
       "    </tr>\n",
       "    <tr>\n",
       "      <th>2</th>\n",
       "      <td>Arkansas</td>\n",
       "      <td>Current asthma prevalence among adults aged &gt;=...</td>\n",
       "      <td>Crude Prevalence</td>\n",
       "      <td>8.8</td>\n",
       "    </tr>\n",
       "    <tr>\n",
       "      <th>3</th>\n",
       "      <td>Arizona</td>\n",
       "      <td>Current asthma prevalence among adults aged &gt;=...</td>\n",
       "      <td>Crude Prevalence</td>\n",
       "      <td>8.6</td>\n",
       "    </tr>\n",
       "    <tr>\n",
       "      <th>4</th>\n",
       "      <td>California</td>\n",
       "      <td>Current asthma prevalence among adults aged &gt;=...</td>\n",
       "      <td>Crude Prevalence</td>\n",
       "      <td>8.8</td>\n",
       "    </tr>\n",
       "  </tbody>\n",
       "</table>\n",
       "</div>"
      ],
      "text/plain": [
       "  LocationDesc                                           Question  \\\n",
       "0       Alaska  Current asthma prevalence among adults aged >=...   \n",
       "1      Alabama  Current asthma prevalence among adults aged >=...   \n",
       "2     Arkansas  Current asthma prevalence among adults aged >=...   \n",
       "3      Arizona  Current asthma prevalence among adults aged >=...   \n",
       "4   California  Current asthma prevalence among adults aged >=...   \n",
       "\n",
       "      DataValueType  DataValue  \n",
       "0  Crude Prevalence        9.0  \n",
       "1  Crude Prevalence        8.6  \n",
       "2  Crude Prevalence        8.8  \n",
       "3  Crude Prevalence        8.6  \n",
       "4  Crude Prevalence        8.8  "
      ]
     },
     "execution_count": 33,
     "metadata": {},
     "output_type": "execute_result"
    }
   ],
   "source": [
    "#limit the columns in the asthma2012 dataset to most relevant\n",
    "asthma2012Compact = asthma2012Cleaned[['LocationDesc', 'Question', 'DataValueType', 'DataValue']]\n",
    "asthma2012Compact.head()"
   ]
  },
  {
   "cell_type": "code",
   "execution_count": 34,
   "id": "2f594ef6",
   "metadata": {},
   "outputs": [
    {
     "data": {
      "text/html": [
       "<div>\n",
       "<style scoped>\n",
       "    .dataframe tbody tr th:only-of-type {\n",
       "        vertical-align: middle;\n",
       "    }\n",
       "\n",
       "    .dataframe tbody tr th {\n",
       "        vertical-align: top;\n",
       "    }\n",
       "\n",
       "    .dataframe thead th {\n",
       "        text-align: right;\n",
       "    }\n",
       "</style>\n",
       "<table border=\"1\" class=\"dataframe\">\n",
       "  <thead>\n",
       "    <tr style=\"text-align: right;\">\n",
       "      <th></th>\n",
       "      <th>key_0</th>\n",
       "      <th>State</th>\n",
       "      <th>PM2.5 Mean</th>\n",
       "      <th>Ozone Mean</th>\n",
       "      <th>Days with AQI</th>\n",
       "      <th>Good Days</th>\n",
       "      <th>Moderate Days</th>\n",
       "      <th>Unhealthy for Sensitive Groups Days</th>\n",
       "      <th>Unhealthy Days</th>\n",
       "      <th>Very Unhealthy Days</th>\n",
       "      <th>...</th>\n",
       "      <th>Days CO</th>\n",
       "      <th>Days NO2</th>\n",
       "      <th>Days Ozone</th>\n",
       "      <th>Days SO2</th>\n",
       "      <th>Days PM2.5</th>\n",
       "      <th>Days PM10</th>\n",
       "      <th>LocationDesc</th>\n",
       "      <th>Question</th>\n",
       "      <th>DataValueType</th>\n",
       "      <th>DataValue</th>\n",
       "    </tr>\n",
       "  </thead>\n",
       "  <tbody>\n",
       "    <tr>\n",
       "      <th>0</th>\n",
       "      <td>Alabama</td>\n",
       "      <td>Alabama</td>\n",
       "      <td>9.774805</td>\n",
       "      <td>0.030212</td>\n",
       "      <td>264</td>\n",
       "      <td>201</td>\n",
       "      <td>59</td>\n",
       "      <td>4</td>\n",
       "      <td>0</td>\n",
       "      <td>0</td>\n",
       "      <td>...</td>\n",
       "      <td>0</td>\n",
       "      <td>0</td>\n",
       "      <td>175</td>\n",
       "      <td>0</td>\n",
       "      <td>85</td>\n",
       "      <td>4</td>\n",
       "      <td>Alabama</td>\n",
       "      <td>Current asthma prevalence among adults aged &gt;=...</td>\n",
       "      <td>Crude Prevalence</td>\n",
       "      <td>8.6</td>\n",
       "    </tr>\n",
       "    <tr>\n",
       "      <th>1</th>\n",
       "      <td>Alaska</td>\n",
       "      <td>Alaska</td>\n",
       "      <td>6.043637</td>\n",
       "      <td>0.023342</td>\n",
       "      <td>301</td>\n",
       "      <td>259</td>\n",
       "      <td>37</td>\n",
       "      <td>3</td>\n",
       "      <td>3</td>\n",
       "      <td>0</td>\n",
       "      <td>...</td>\n",
       "      <td>1</td>\n",
       "      <td>0</td>\n",
       "      <td>95</td>\n",
       "      <td>1</td>\n",
       "      <td>153</td>\n",
       "      <td>51</td>\n",
       "      <td>Alaska</td>\n",
       "      <td>Current asthma prevalence among adults aged &gt;=...</td>\n",
       "      <td>Crude Prevalence</td>\n",
       "      <td>9.0</td>\n",
       "    </tr>\n",
       "    <tr>\n",
       "      <th>2</th>\n",
       "      <td>Arizona</td>\n",
       "      <td>Arizona</td>\n",
       "      <td>8.713038</td>\n",
       "      <td>0.037280</td>\n",
       "      <td>337</td>\n",
       "      <td>186</td>\n",
       "      <td>120</td>\n",
       "      <td>27</td>\n",
       "      <td>3</td>\n",
       "      <td>0</td>\n",
       "      <td>...</td>\n",
       "      <td>0</td>\n",
       "      <td>3</td>\n",
       "      <td>179</td>\n",
       "      <td>19</td>\n",
       "      <td>22</td>\n",
       "      <td>113</td>\n",
       "      <td>Arizona</td>\n",
       "      <td>Current asthma prevalence among adults aged &gt;=...</td>\n",
       "      <td>Crude Prevalence</td>\n",
       "      <td>8.6</td>\n",
       "    </tr>\n",
       "    <tr>\n",
       "      <th>3</th>\n",
       "      <td>Arkansas</td>\n",
       "      <td>Arkansas</td>\n",
       "      <td>10.427459</td>\n",
       "      <td>0.033581</td>\n",
       "      <td>225</td>\n",
       "      <td>165</td>\n",
       "      <td>56</td>\n",
       "      <td>4</td>\n",
       "      <td>0</td>\n",
       "      <td>0</td>\n",
       "      <td>...</td>\n",
       "      <td>0</td>\n",
       "      <td>3</td>\n",
       "      <td>123</td>\n",
       "      <td>18</td>\n",
       "      <td>81</td>\n",
       "      <td>0</td>\n",
       "      <td>Arkansas</td>\n",
       "      <td>Current asthma prevalence among adults aged &gt;=...</td>\n",
       "      <td>Crude Prevalence</td>\n",
       "      <td>8.8</td>\n",
       "    </tr>\n",
       "    <tr>\n",
       "      <th>4</th>\n",
       "      <td>California</td>\n",
       "      <td>California</td>\n",
       "      <td>9.351435</td>\n",
       "      <td>0.032747</td>\n",
       "      <td>350</td>\n",
       "      <td>202</td>\n",
       "      <td>114</td>\n",
       "      <td>26</td>\n",
       "      <td>7</td>\n",
       "      <td>0</td>\n",
       "      <td>...</td>\n",
       "      <td>0</td>\n",
       "      <td>7</td>\n",
       "      <td>219</td>\n",
       "      <td>0</td>\n",
       "      <td>111</td>\n",
       "      <td>13</td>\n",
       "      <td>California</td>\n",
       "      <td>Current asthma prevalence among adults aged &gt;=...</td>\n",
       "      <td>Crude Prevalence</td>\n",
       "      <td>8.8</td>\n",
       "    </tr>\n",
       "  </tbody>\n",
       "</table>\n",
       "<p>5 rows × 24 columns</p>\n",
       "</div>"
      ],
      "text/plain": [
       "        key_0       State  PM2.5 Mean  Ozone Mean  Days with AQI  Good Days  \\\n",
       "0     Alabama     Alabama    9.774805    0.030212            264        201   \n",
       "1      Alaska      Alaska    6.043637    0.023342            301        259   \n",
       "2     Arizona     Arizona    8.713038    0.037280            337        186   \n",
       "3    Arkansas    Arkansas   10.427459    0.033581            225        165   \n",
       "4  California  California    9.351435    0.032747            350        202   \n",
       "\n",
       "   Moderate Days  Unhealthy for Sensitive Groups Days  Unhealthy Days  \\\n",
       "0             59                                    4               0   \n",
       "1             37                                    3               3   \n",
       "2            120                                   27               3   \n",
       "3             56                                    4               0   \n",
       "4            114                                   26               7   \n",
       "\n",
       "   Very Unhealthy Days  ...  Days CO  Days NO2  Days Ozone  Days SO2  \\\n",
       "0                    0  ...        0         0         175         0   \n",
       "1                    0  ...        1         0          95         1   \n",
       "2                    0  ...        0         3         179        19   \n",
       "3                    0  ...        0         3         123        18   \n",
       "4                    0  ...        0         7         219         0   \n",
       "\n",
       "   Days PM2.5  Days PM10  LocationDesc  \\\n",
       "0          85          4       Alabama   \n",
       "1         153         51        Alaska   \n",
       "2          22        113       Arizona   \n",
       "3          81          0      Arkansas   \n",
       "4         111         13    California   \n",
       "\n",
       "                                            Question     DataValueType  \\\n",
       "0  Current asthma prevalence among adults aged >=...  Crude Prevalence   \n",
       "1  Current asthma prevalence among adults aged >=...  Crude Prevalence   \n",
       "2  Current asthma prevalence among adults aged >=...  Crude Prevalence   \n",
       "3  Current asthma prevalence among adults aged >=...  Crude Prevalence   \n",
       "4  Current asthma prevalence among adults aged >=...  Crude Prevalence   \n",
       "\n",
       "   DataValue  \n",
       "0        8.6  \n",
       "1        9.0  \n",
       "2        8.6  \n",
       "3        8.8  \n",
       "4        8.8  \n",
       "\n",
       "[5 rows x 24 columns]"
      ]
     },
     "execution_count": 34,
     "metadata": {},
     "output_type": "execute_result"
    }
   ],
   "source": [
    "#merge the datasets\n",
    "merged2012 = pd.merge(AQStates, asthma2012Compact, left_on=AQStates['State'], \n",
    "             right_on=asthma2012Compact['LocationDesc'],\n",
    "             how = 'left')\n",
    "merged2012.head()"
   ]
  },
  {
   "cell_type": "code",
   "execution_count": 35,
   "id": "4af122af",
   "metadata": {},
   "outputs": [
    {
     "data": {
      "text/plain": [
       "Index(['key_0', 'State', 'PM2.5 Mean', 'Ozone Mean', 'Days with AQI',\n",
       "       'Good Days', 'Moderate Days', 'Unhealthy for Sensitive Groups Days',\n",
       "       'Unhealthy Days', 'Very Unhealthy Days', 'Hazardous Days', 'Max AQI',\n",
       "       '90th Percentile AQI', 'Median AQI', 'Days CO', 'Days NO2',\n",
       "       'Days Ozone', 'Days SO2', 'Days PM2.5', 'Days PM10', 'LocationDesc',\n",
       "       'Question', 'DataValueType', 'DataValue'],\n",
       "      dtype='object')"
      ]
     },
     "execution_count": 35,
     "metadata": {},
     "output_type": "execute_result"
    }
   ],
   "source": [
    "merged2012.columns"
   ]
  },
  {
   "cell_type": "code",
   "execution_count": 36,
   "id": "a84a3745",
   "metadata": {},
   "outputs": [
    {
     "data": {
      "text/html": [
       "<div>\n",
       "<style scoped>\n",
       "    .dataframe tbody tr th:only-of-type {\n",
       "        vertical-align: middle;\n",
       "    }\n",
       "\n",
       "    .dataframe tbody tr th {\n",
       "        vertical-align: top;\n",
       "    }\n",
       "\n",
       "    .dataframe thead th {\n",
       "        text-align: right;\n",
       "    }\n",
       "</style>\n",
       "<table border=\"1\" class=\"dataframe\">\n",
       "  <thead>\n",
       "    <tr style=\"text-align: right;\">\n",
       "      <th></th>\n",
       "      <th>PM2.5 Mean</th>\n",
       "      <th>Ozone Mean</th>\n",
       "      <th>Days with AQI</th>\n",
       "      <th>Good Days</th>\n",
       "      <th>Moderate Days</th>\n",
       "      <th>U for SG Days</th>\n",
       "      <th>Unhealthy Days</th>\n",
       "      <th>Very Unhealthy Days</th>\n",
       "      <th>Hazardous Days</th>\n",
       "      <th>Max AQI</th>\n",
       "      <th>...</th>\n",
       "      <th>Days CO</th>\n",
       "      <th>Days NO2</th>\n",
       "      <th>Days Ozone</th>\n",
       "      <th>Days SO2</th>\n",
       "      <th>Days PM2.5</th>\n",
       "      <th>Days PM10</th>\n",
       "      <th>LocationDesc</th>\n",
       "      <th>Question</th>\n",
       "      <th>DataValueType</th>\n",
       "      <th>Asthma Prevalence</th>\n",
       "    </tr>\n",
       "    <tr>\n",
       "      <th>State</th>\n",
       "      <th></th>\n",
       "      <th></th>\n",
       "      <th></th>\n",
       "      <th></th>\n",
       "      <th></th>\n",
       "      <th></th>\n",
       "      <th></th>\n",
       "      <th></th>\n",
       "      <th></th>\n",
       "      <th></th>\n",
       "      <th></th>\n",
       "      <th></th>\n",
       "      <th></th>\n",
       "      <th></th>\n",
       "      <th></th>\n",
       "      <th></th>\n",
       "      <th></th>\n",
       "      <th></th>\n",
       "      <th></th>\n",
       "      <th></th>\n",
       "      <th></th>\n",
       "    </tr>\n",
       "  </thead>\n",
       "  <tbody>\n",
       "    <tr>\n",
       "      <th>Alabama</th>\n",
       "      <td>9.774805</td>\n",
       "      <td>0.030212</td>\n",
       "      <td>264</td>\n",
       "      <td>201</td>\n",
       "      <td>59</td>\n",
       "      <td>4</td>\n",
       "      <td>0</td>\n",
       "      <td>0</td>\n",
       "      <td>0</td>\n",
       "      <td>110</td>\n",
       "      <td>...</td>\n",
       "      <td>0</td>\n",
       "      <td>0</td>\n",
       "      <td>175</td>\n",
       "      <td>0</td>\n",
       "      <td>85</td>\n",
       "      <td>4</td>\n",
       "      <td>Alabama</td>\n",
       "      <td>Current asthma prevalence among adults aged &gt;=...</td>\n",
       "      <td>Crude Prevalence</td>\n",
       "      <td>8.6</td>\n",
       "    </tr>\n",
       "    <tr>\n",
       "      <th>Alaska</th>\n",
       "      <td>6.043637</td>\n",
       "      <td>0.023342</td>\n",
       "      <td>301</td>\n",
       "      <td>259</td>\n",
       "      <td>37</td>\n",
       "      <td>3</td>\n",
       "      <td>3</td>\n",
       "      <td>0</td>\n",
       "      <td>0</td>\n",
       "      <td>96</td>\n",
       "      <td>...</td>\n",
       "      <td>1</td>\n",
       "      <td>0</td>\n",
       "      <td>95</td>\n",
       "      <td>1</td>\n",
       "      <td>153</td>\n",
       "      <td>51</td>\n",
       "      <td>Alaska</td>\n",
       "      <td>Current asthma prevalence among adults aged &gt;=...</td>\n",
       "      <td>Crude Prevalence</td>\n",
       "      <td>9.0</td>\n",
       "    </tr>\n",
       "    <tr>\n",
       "      <th>Arizona</th>\n",
       "      <td>8.713038</td>\n",
       "      <td>0.037280</td>\n",
       "      <td>337</td>\n",
       "      <td>186</td>\n",
       "      <td>120</td>\n",
       "      <td>27</td>\n",
       "      <td>3</td>\n",
       "      <td>0</td>\n",
       "      <td>0</td>\n",
       "      <td>174</td>\n",
       "      <td>...</td>\n",
       "      <td>0</td>\n",
       "      <td>3</td>\n",
       "      <td>179</td>\n",
       "      <td>19</td>\n",
       "      <td>22</td>\n",
       "      <td>113</td>\n",
       "      <td>Arizona</td>\n",
       "      <td>Current asthma prevalence among adults aged &gt;=...</td>\n",
       "      <td>Crude Prevalence</td>\n",
       "      <td>8.6</td>\n",
       "    </tr>\n",
       "    <tr>\n",
       "      <th>Arkansas</th>\n",
       "      <td>10.427459</td>\n",
       "      <td>0.033581</td>\n",
       "      <td>225</td>\n",
       "      <td>165</td>\n",
       "      <td>56</td>\n",
       "      <td>4</td>\n",
       "      <td>0</td>\n",
       "      <td>0</td>\n",
       "      <td>0</td>\n",
       "      <td>111</td>\n",
       "      <td>...</td>\n",
       "      <td>0</td>\n",
       "      <td>3</td>\n",
       "      <td>123</td>\n",
       "      <td>18</td>\n",
       "      <td>81</td>\n",
       "      <td>0</td>\n",
       "      <td>Arkansas</td>\n",
       "      <td>Current asthma prevalence among adults aged &gt;=...</td>\n",
       "      <td>Crude Prevalence</td>\n",
       "      <td>8.8</td>\n",
       "    </tr>\n",
       "    <tr>\n",
       "      <th>California</th>\n",
       "      <td>9.351435</td>\n",
       "      <td>0.032747</td>\n",
       "      <td>350</td>\n",
       "      <td>202</td>\n",
       "      <td>114</td>\n",
       "      <td>26</td>\n",
       "      <td>7</td>\n",
       "      <td>0</td>\n",
       "      <td>0</td>\n",
       "      <td>289</td>\n",
       "      <td>...</td>\n",
       "      <td>0</td>\n",
       "      <td>7</td>\n",
       "      <td>219</td>\n",
       "      <td>0</td>\n",
       "      <td>111</td>\n",
       "      <td>13</td>\n",
       "      <td>California</td>\n",
       "      <td>Current asthma prevalence among adults aged &gt;=...</td>\n",
       "      <td>Crude Prevalence</td>\n",
       "      <td>8.8</td>\n",
       "    </tr>\n",
       "  </tbody>\n",
       "</table>\n",
       "<p>5 rows × 22 columns</p>\n",
       "</div>"
      ],
      "text/plain": [
       "            PM2.5 Mean  Ozone Mean  Days with AQI  Good Days  Moderate Days  \\\n",
       "State                                                                         \n",
       "Alabama       9.774805    0.030212            264        201             59   \n",
       "Alaska        6.043637    0.023342            301        259             37   \n",
       "Arizona       8.713038    0.037280            337        186            120   \n",
       "Arkansas     10.427459    0.033581            225        165             56   \n",
       "California    9.351435    0.032747            350        202            114   \n",
       "\n",
       "            U for SG Days  Unhealthy Days  Very Unhealthy Days  \\\n",
       "State                                                            \n",
       "Alabama                 4               0                    0   \n",
       "Alaska                  3               3                    0   \n",
       "Arizona                27               3                    0   \n",
       "Arkansas                4               0                    0   \n",
       "California             26               7                    0   \n",
       "\n",
       "            Hazardous Days  Max AQI  ...  Days CO  Days NO2  Days Ozone  \\\n",
       "State                                ...                                  \n",
       "Alabama                  0      110  ...        0         0         175   \n",
       "Alaska                   0       96  ...        1         0          95   \n",
       "Arizona                  0      174  ...        0         3         179   \n",
       "Arkansas                 0      111  ...        0         3         123   \n",
       "California               0      289  ...        0         7         219   \n",
       "\n",
       "            Days SO2  Days PM2.5  Days PM10  LocationDesc  \\\n",
       "State                                                       \n",
       "Alabama            0          85          4       Alabama   \n",
       "Alaska             1         153         51        Alaska   \n",
       "Arizona           19          22        113       Arizona   \n",
       "Arkansas          18          81          0      Arkansas   \n",
       "California         0         111         13    California   \n",
       "\n",
       "                                                     Question  \\\n",
       "State                                                           \n",
       "Alabama     Current asthma prevalence among adults aged >=...   \n",
       "Alaska      Current asthma prevalence among adults aged >=...   \n",
       "Arizona     Current asthma prevalence among adults aged >=...   \n",
       "Arkansas    Current asthma prevalence among adults aged >=...   \n",
       "California  Current asthma prevalence among adults aged >=...   \n",
       "\n",
       "               DataValueType Asthma Prevalence  \n",
       "State                                           \n",
       "Alabama     Crude Prevalence               8.6  \n",
       "Alaska      Crude Prevalence               9.0  \n",
       "Arizona     Crude Prevalence               8.6  \n",
       "Arkansas    Crude Prevalence               8.8  \n",
       "California  Crude Prevalence               8.8  \n",
       "\n",
       "[5 rows x 22 columns]"
      ]
     },
     "execution_count": 36,
     "metadata": {},
     "output_type": "execute_result"
    }
   ],
   "source": [
    "#reformat dataset for exploratory analylsis\n",
    "merged2012 = merged2012.drop('key_0', axis=1)\n",
    "merged2012 = merged2012.set_index('State')\n",
    "merged2012 = merged2012.rename(columns={'Unhealthy for Sensitive Groups Days' : 'U for SG Days', 'DataValue' : 'Asthma Prevalence'})\n",
    "merged2012.head()"
   ]
  },
  {
   "cell_type": "code",
   "execution_count": 37,
   "id": "6fac9fad",
   "metadata": {},
   "outputs": [
    {
     "data": {
      "text/plain": [
       "Index(['PM2.5 Mean', 'Ozone Mean', 'Days with AQI', 'Good Days',\n",
       "       'Moderate Days', 'U for SG Days', 'Unhealthy Days',\n",
       "       'Very Unhealthy Days', 'Hazardous Days', 'Max AQI',\n",
       "       '90th Percentile AQI', 'Median AQI', 'Days CO', 'Days NO2',\n",
       "       'Days Ozone', 'Days SO2', 'Days PM2.5', 'Days PM10', 'LocationDesc',\n",
       "       'Question', 'DataValueType', 'Asthma Prevalence'],\n",
       "      dtype='object')"
      ]
     },
     "execution_count": 37,
     "metadata": {},
     "output_type": "execute_result"
    }
   ],
   "source": [
    "merged2012.columns"
   ]
  },
  {
   "cell_type": "code",
   "execution_count": 38,
   "id": "12ad443d",
   "metadata": {},
   "outputs": [],
   "source": [
    "#specify initial columns of interest\n",
    "cols = ['PM2.5 Mean', 'Ozone Mean', 'U for SG Days', 'Unhealthy Days',\n",
    "       'Very Unhealthy Days', 'Hazardous Days', 'Max AQI',\n",
    "        'Median AQI', 'Days CO', 'Days NO2',\n",
    "       'Days Ozone', 'Days SO2', 'Days PM2.5', 'Days PM10', 'Asthma Prevalence']"
   ]
  },
  {
   "cell_type": "code",
   "execution_count": 39,
   "id": "029eba49",
   "metadata": {},
   "outputs": [],
   "source": [
    "merged2012Plotting = merged2012[cols]"
   ]
  },
  {
   "cell_type": "code",
   "execution_count": 40,
   "id": "436eb74d",
   "metadata": {},
   "outputs": [
    {
     "data": {
      "text/html": [
       "<div>\n",
       "<style scoped>\n",
       "    .dataframe tbody tr th:only-of-type {\n",
       "        vertical-align: middle;\n",
       "    }\n",
       "\n",
       "    .dataframe tbody tr th {\n",
       "        vertical-align: top;\n",
       "    }\n",
       "\n",
       "    .dataframe thead th {\n",
       "        text-align: right;\n",
       "    }\n",
       "</style>\n",
       "<table border=\"1\" class=\"dataframe\">\n",
       "  <thead>\n",
       "    <tr style=\"text-align: right;\">\n",
       "      <th></th>\n",
       "      <th>PM2.5 Mean</th>\n",
       "      <th>Ozone Mean</th>\n",
       "      <th>U for SG Days</th>\n",
       "      <th>Unhealthy Days</th>\n",
       "      <th>Very Unhealthy Days</th>\n",
       "      <th>Hazardous Days</th>\n",
       "      <th>Max AQI</th>\n",
       "      <th>Median AQI</th>\n",
       "      <th>Days CO</th>\n",
       "      <th>Days NO2</th>\n",
       "      <th>Days Ozone</th>\n",
       "      <th>Days SO2</th>\n",
       "      <th>Days PM2.5</th>\n",
       "      <th>Days PM10</th>\n",
       "      <th>Asthma Prevalence</th>\n",
       "    </tr>\n",
       "  </thead>\n",
       "  <tbody>\n",
       "    <tr>\n",
       "      <th>count</th>\n",
       "      <td>50.000000</td>\n",
       "      <td>50.000000</td>\n",
       "      <td>50.000000</td>\n",
       "      <td>50.000000</td>\n",
       "      <td>50.000000</td>\n",
       "      <td>50.000000</td>\n",
       "      <td>50.000000</td>\n",
       "      <td>50.000000</td>\n",
       "      <td>50.000000</td>\n",
       "      <td>50.000000</td>\n",
       "      <td>50.000000</td>\n",
       "      <td>50.000000</td>\n",
       "      <td>50.000000</td>\n",
       "      <td>50.000000</td>\n",
       "      <td>50.000000</td>\n",
       "    </tr>\n",
       "    <tr>\n",
       "      <th>mean</th>\n",
       "      <td>8.866059</td>\n",
       "      <td>0.033063</td>\n",
       "      <td>8.180000</td>\n",
       "      <td>2.180000</td>\n",
       "      <td>0.040000</td>\n",
       "      <td>0.020000</td>\n",
       "      <td>138.040000</td>\n",
       "      <td>38.300000</td>\n",
       "      <td>0.380000</td>\n",
       "      <td>5.240000</td>\n",
       "      <td>168.040000</td>\n",
       "      <td>13.280000</td>\n",
       "      <td>106.720000</td>\n",
       "      <td>16.060000</td>\n",
       "      <td>9.054000</td>\n",
       "    </tr>\n",
       "    <tr>\n",
       "      <th>std</th>\n",
       "      <td>1.600121</td>\n",
       "      <td>0.004032</td>\n",
       "      <td>6.862171</td>\n",
       "      <td>7.739878</td>\n",
       "      <td>0.197949</td>\n",
       "      <td>0.141421</td>\n",
       "      <td>35.481504</td>\n",
       "      <td>6.887581</td>\n",
       "      <td>1.368598</td>\n",
       "      <td>7.558101</td>\n",
       "      <td>60.646167</td>\n",
       "      <td>19.794908</td>\n",
       "      <td>61.435561</td>\n",
       "      <td>24.983595</td>\n",
       "      <td>1.120716</td>\n",
       "    </tr>\n",
       "    <tr>\n",
       "      <th>min</th>\n",
       "      <td>5.368655</td>\n",
       "      <td>0.022133</td>\n",
       "      <td>1.000000</td>\n",
       "      <td>0.000000</td>\n",
       "      <td>0.000000</td>\n",
       "      <td>0.000000</td>\n",
       "      <td>94.000000</td>\n",
       "      <td>22.000000</td>\n",
       "      <td>0.000000</td>\n",
       "      <td>0.000000</td>\n",
       "      <td>32.000000</td>\n",
       "      <td>0.000000</td>\n",
       "      <td>15.000000</td>\n",
       "      <td>0.000000</td>\n",
       "      <td>6.800000</td>\n",
       "    </tr>\n",
       "    <tr>\n",
       "      <th>25%</th>\n",
       "      <td>7.704397</td>\n",
       "      <td>0.030396</td>\n",
       "      <td>3.000000</td>\n",
       "      <td>0.000000</td>\n",
       "      <td>0.000000</td>\n",
       "      <td>0.000000</td>\n",
       "      <td>113.750000</td>\n",
       "      <td>35.000000</td>\n",
       "      <td>0.000000</td>\n",
       "      <td>1.000000</td>\n",
       "      <td>136.000000</td>\n",
       "      <td>1.000000</td>\n",
       "      <td>71.250000</td>\n",
       "      <td>0.000000</td>\n",
       "      <td>8.250000</td>\n",
       "    </tr>\n",
       "    <tr>\n",
       "      <th>50%</th>\n",
       "      <td>8.900000</td>\n",
       "      <td>0.032911</td>\n",
       "      <td>5.500000</td>\n",
       "      <td>1.000000</td>\n",
       "      <td>0.000000</td>\n",
       "      <td>0.000000</td>\n",
       "      <td>128.500000</td>\n",
       "      <td>39.000000</td>\n",
       "      <td>0.000000</td>\n",
       "      <td>3.000000</td>\n",
       "      <td>180.000000</td>\n",
       "      <td>5.500000</td>\n",
       "      <td>95.000000</td>\n",
       "      <td>4.500000</td>\n",
       "      <td>8.900000</td>\n",
       "    </tr>\n",
       "    <tr>\n",
       "      <th>75%</th>\n",
       "      <td>9.999346</td>\n",
       "      <td>0.035833</td>\n",
       "      <td>12.000000</td>\n",
       "      <td>2.000000</td>\n",
       "      <td>0.000000</td>\n",
       "      <td>0.000000</td>\n",
       "      <td>153.250000</td>\n",
       "      <td>42.000000</td>\n",
       "      <td>0.000000</td>\n",
       "      <td>6.750000</td>\n",
       "      <td>210.750000</td>\n",
       "      <td>17.250000</td>\n",
       "      <td>130.000000</td>\n",
       "      <td>19.750000</td>\n",
       "      <td>10.050000</td>\n",
       "    </tr>\n",
       "    <tr>\n",
       "      <th>max</th>\n",
       "      <td>13.464291</td>\n",
       "      <td>0.041155</td>\n",
       "      <td>29.000000</td>\n",
       "      <td>55.000000</td>\n",
       "      <td>1.000000</td>\n",
       "      <td>1.000000</td>\n",
       "      <td>289.000000</td>\n",
       "      <td>64.000000</td>\n",
       "      <td>9.000000</td>\n",
       "      <td>41.000000</td>\n",
       "      <td>262.000000</td>\n",
       "      <td>98.000000</td>\n",
       "      <td>310.000000</td>\n",
       "      <td>113.000000</td>\n",
       "      <td>11.100000</td>\n",
       "    </tr>\n",
       "  </tbody>\n",
       "</table>\n",
       "</div>"
      ],
      "text/plain": [
       "       PM2.5 Mean  Ozone Mean  U for SG Days  Unhealthy Days  \\\n",
       "count   50.000000   50.000000      50.000000       50.000000   \n",
       "mean     8.866059    0.033063       8.180000        2.180000   \n",
       "std      1.600121    0.004032       6.862171        7.739878   \n",
       "min      5.368655    0.022133       1.000000        0.000000   \n",
       "25%      7.704397    0.030396       3.000000        0.000000   \n",
       "50%      8.900000    0.032911       5.500000        1.000000   \n",
       "75%      9.999346    0.035833      12.000000        2.000000   \n",
       "max     13.464291    0.041155      29.000000       55.000000   \n",
       "\n",
       "       Very Unhealthy Days  Hazardous Days     Max AQI  Median AQI    Days CO  \\\n",
       "count            50.000000       50.000000   50.000000   50.000000  50.000000   \n",
       "mean              0.040000        0.020000  138.040000   38.300000   0.380000   \n",
       "std               0.197949        0.141421   35.481504    6.887581   1.368598   \n",
       "min               0.000000        0.000000   94.000000   22.000000   0.000000   \n",
       "25%               0.000000        0.000000  113.750000   35.000000   0.000000   \n",
       "50%               0.000000        0.000000  128.500000   39.000000   0.000000   \n",
       "75%               0.000000        0.000000  153.250000   42.000000   0.000000   \n",
       "max               1.000000        1.000000  289.000000   64.000000   9.000000   \n",
       "\n",
       "        Days NO2  Days Ozone   Days SO2  Days PM2.5   Days PM10  \\\n",
       "count  50.000000   50.000000  50.000000   50.000000   50.000000   \n",
       "mean    5.240000  168.040000  13.280000  106.720000   16.060000   \n",
       "std     7.558101   60.646167  19.794908   61.435561   24.983595   \n",
       "min     0.000000   32.000000   0.000000   15.000000    0.000000   \n",
       "25%     1.000000  136.000000   1.000000   71.250000    0.000000   \n",
       "50%     3.000000  180.000000   5.500000   95.000000    4.500000   \n",
       "75%     6.750000  210.750000  17.250000  130.000000   19.750000   \n",
       "max    41.000000  262.000000  98.000000  310.000000  113.000000   \n",
       "\n",
       "       Asthma Prevalence  \n",
       "count          50.000000  \n",
       "mean            9.054000  \n",
       "std             1.120716  \n",
       "min             6.800000  \n",
       "25%             8.250000  \n",
       "50%             8.900000  \n",
       "75%            10.050000  \n",
       "max            11.100000  "
      ]
     },
     "execution_count": 40,
     "metadata": {},
     "output_type": "execute_result"
    }
   ],
   "source": [
    "merged2012Plotting.describe()"
   ]
  },
  {
   "cell_type": "code",
   "execution_count": 41,
   "id": "e7ea72f3",
   "metadata": {},
   "outputs": [
    {
     "data": {
      "image/png": "[encoded data removed]",
      "text/plain": [
       "<Figure size 864x864 with 1 Axes>"
      ]
     },
     "metadata": {},
     "output_type": "display_data"
    }
   ],
   "source": [
    "sns.set(style='whitegrid', context='notebook', rc = {'figure.figsize':(12,12)})\n",
    "plot = sns.boxplot(data=merged2012Plotting, orient='h')"
   ]
  },
  {
   "cell_type": "code",
   "execution_count": 42,
   "id": "62384101",
   "metadata": {},
   "outputs": [],
   "source": [
    "plt.close()"
   ]
  },
  {
   "cell_type": "markdown",
   "id": "c286de2f",
   "metadata": {},
   "source": [
    "### Create a correlation matrix with heatmap"
   ]
  },
  {
   "cell_type": "code",
   "execution_count": 43,
   "id": "1080fb0f",
   "metadata": {},
   "outputs": [],
   "source": [
    "#correlation matrix with heatmap code from CIS5400, Python and Data Science\n",
    "merged2012[cols].values \n",
    "merged2012[cols].values.T #transpose the matrix\n",
    "cm = np.corrcoef(merged2012[cols].values.T)"
   ]
  },
  {
   "cell_type": "code",
   "execution_count": 44,
   "id": "c22c9f03",
   "metadata": {},
   "outputs": [
    {
     "data": {
      "text/plain": [
       "array([[9.77480531e+00, 3.02117985e-02, 4.00000000e+00, 0.00000000e+00,\n",
       "        0.00000000e+00, 0.00000000e+00, 1.10000000e+02, 4.00000000e+01,\n",
       "        0.00000000e+00, 0.00000000e+00, 1.75000000e+02, 0.00000000e+00,\n",
       "        8.50000000e+01, 4.00000000e+00, 8.60000000e+00],\n",
       "       [6.04363693e+00, 2.33417472e-02, 3.00000000e+00, 3.00000000e+00,\n",
       "        0.00000000e+00, 0.00000000e+00, 9.60000000e+01, 2.20000000e+01,\n",
       "        1.00000000e+00, 0.00000000e+00, 9.50000000e+01, 1.00000000e+00,\n",
       "        1.53000000e+02, 5.10000000e+01, 9.00000000e+00],\n",
       "       [8.71303756e+00, 3.72804162e-02, 2.70000000e+01, 3.00000000e+00,\n",
       "        0.00000000e+00, 0.00000000e+00, 1.74000000e+02, 5.00000000e+01,\n",
       "        0.00000000e+00, 3.00000000e+00, 1.79000000e+02, 1.90000000e+01,\n",
       "        2.20000000e+01, 1.13000000e+02, 8.60000000e+00],\n",
       "       [1.04274590e+01, 3.35814921e-02, 4.00000000e+00, 0.00000000e+00,\n",
       "        0.00000000e+00, 0.00000000e+00, 1.11000000e+02, 3.80000000e+01,\n",
       "        0.00000000e+00, 3.00000000e+00, 1.23000000e+02, 1.80000000e+01,\n",
       "        8.10000000e+01, 0.00000000e+00, 8.80000000e+00],\n",
       "       [9.35143521e+00, 3.27469467e-02, 2.60000000e+01, 7.00000000e+00,\n",
       "        0.00000000e+00, 0.00000000e+00, 2.89000000e+02, 4.90000000e+01,\n",
       "        0.00000000e+00, 7.00000000e+00, 2.19000000e+02, 0.00000000e+00,\n",
       "        1.11000000e+02, 1.30000000e+01, 8.80000000e+00],\n",
       "       [7.59920235e+00, 4.11545840e-02, 1.20000000e+01, 1.00000000e+00,\n",
       "        0.00000000e+00, 0.00000000e+00, 1.26000000e+02, 4.00000000e+01,\n",
       "        0.00000000e+00, 9.00000000e+00, 2.03000000e+02, 0.00000000e+00,\n",
       "        1.50000000e+01, 6.50000000e+01, 8.90000000e+00],\n",
       "       [8.01565168e+00, 3.52863363e-02, 1.30000000e+01, 3.00000000e+00,\n",
       "        0.00000000e+00, 0.00000000e+00, 1.70000000e+02, 4.20000000e+01,\n",
       "        0.00000000e+00, 4.00000000e+00, 1.93000000e+02, 0.00000000e+00,\n",
       "        1.18000000e+02, 0.00000000e+00, 9.90000000e+00],\n",
       "       [9.11414677e+00, 3.05286416e-02, 1.60000000e+01, 3.00000000e+00,\n",
       "        0.00000000e+00, 0.00000000e+00, 1.78000000e+02, 4.30000000e+01,\n",
       "        0.00000000e+00, 2.00000000e+00, 2.54000000e+02, 1.00000000e+00,\n",
       "        1.01000000e+02, 0.00000000e+00, 9.90000000e+00],\n",
       "       [7.23332522e+00, 2.89422115e-02, 2.00000000e+00, 0.00000000e+00,\n",
       "        0.00000000e+00, 0.00000000e+00, 1.13000000e+02, 3.60000000e+01,\n",
       "        0.00000000e+00, 0.00000000e+00, 2.40000000e+02, 1.50000000e+01,\n",
       "        9.30000000e+01, 9.00000000e+00, 8.20000000e+00],\n",
       "       [1.01924609e+01, 3.20124310e-02, 4.00000000e+00, 1.00000000e+00,\n",
       "        0.00000000e+00, 0.00000000e+00, 1.27000000e+02, 4.30000000e+01,\n",
       "        0.00000000e+00, 4.00000000e+00, 1.13000000e+02, 6.00000000e+00,\n",
       "        1.72000000e+02, 1.00000000e+00, 8.20000000e+00],\n",
       "       [7.84912281e+00, 2.21334613e-02, 2.90000000e+01, 5.50000000e+01,\n",
       "        1.00000000e+00, 0.00000000e+00, 1.42000000e+02, 6.40000000e+01,\n",
       "        3.00000000e+00, 2.00000000e+00, 3.20000000e+01, 9.80000000e+01,\n",
       "        2.24000000e+02, 1.00000000e+00, 8.90000000e+00],\n",
       "       [1.34642911e+01, 3.58766958e-02, 4.00000000e+00, 3.00000000e+00,\n",
       "        1.00000000e+00, 0.00000000e+00, 1.63000000e+02, 2.40000000e+01,\n",
       "        0.00000000e+00, 2.00000000e+00, 3.70000000e+01, 3.40000000e+01,\n",
       "        2.12000000e+02, 5.90000000e+01, 8.50000000e+00],\n",
       "       [8.90000000e+00, 3.09863497e-02, 1.30000000e+01, 2.00000000e+00,\n",
       "        0.00000000e+00, 0.00000000e+00, 1.50000000e+02, 3.70000000e+01,\n",
       "        0.00000000e+00, 4.00000000e+00, 2.40000000e+02, 4.40000000e+01,\n",
       "        4.60000000e+01, 0.00000000e+00, 8.50000000e+00],\n",
       "       [1.09871016e+01, 3.61280736e-02, 1.00000000e+01, 1.00000000e+00,\n",
       "        0.00000000e+00, 0.00000000e+00, 1.38000000e+02, 4.00000000e+01,\n",
       "        1.00000000e+00, 1.00000000e+00, 1.14000000e+02, 6.10000000e+01,\n",
       "        9.70000000e+01, 1.00000000e+00, 9.10000000e+00],\n",
       "       [9.91674137e+00, 3.57009822e-02, 4.00000000e+00, 0.00000000e+00,\n",
       "        0.00000000e+00, 0.00000000e+00, 1.09000000e+02, 4.20000000e+01,\n",
       "        0.00000000e+00, 1.00000000e+00, 9.50000000e+01, 1.10000000e+01,\n",
       "        1.56000000e+02, 2.50000000e+01, 8.10000000e+00],\n",
       "       [8.39274395e+00, 3.45159732e-02, 1.30000000e+01, 1.00000000e+00,\n",
       "        0.00000000e+00, 0.00000000e+00, 1.33000000e+02, 3.50000000e+01,\n",
       "        0.00000000e+00, 6.00000000e+00, 2.11000000e+02, 1.00000000e+00,\n",
       "        3.70000000e+01, 4.10000000e+01, 8.40000000e+00],\n",
       "       [1.05738421e+01, 3.55028564e-02, 1.20000000e+01, 1.00000000e+00,\n",
       "        0.00000000e+00, 0.00000000e+00, 1.51000000e+02, 4.20000000e+01,\n",
       "        0.00000000e+00, 3.00000000e+00, 2.11000000e+02, 1.30000000e+01,\n",
       "        7.60000000e+01, 3.00000000e+00, 1.11000000e+01],\n",
       "       [9.11431570e+00, 2.82687275e-02, 5.00000000e+00, 0.00000000e+00,\n",
       "        0.00000000e+00, 0.00000000e+00, 1.26000000e+02, 4.20000000e+01,\n",
       "        0.00000000e+00, 2.00000000e+00, 2.10000000e+02, 5.00000000e+00,\n",
       "        1.21000000e+02, 0.00000000e+00, 7.40000000e+00],\n",
       "       [8.90000000e+00, 3.02730748e-02, 1.00000000e+00, 0.00000000e+00,\n",
       "        0.00000000e+00, 0.00000000e+00, 9.60000000e+01, 3.40000000e+01,\n",
       "        0.00000000e+00, 1.10000000e+01, 2.37000000e+02, 1.00000000e+00,\n",
       "        4.60000000e+01, 5.00000000e+00, 1.11000000e+01],\n",
       "       [9.81546753e+00, 3.47553599e-02, 1.30000000e+01, 3.00000000e+00,\n",
       "        0.00000000e+00, 0.00000000e+00, 1.81000000e+02, 4.50000000e+01,\n",
       "        0.00000000e+00, 7.00000000e+00, 2.00000000e+02, 0.00000000e+00,\n",
       "        1.06000000e+02, 0.00000000e+00, 9.00000000e+00],\n",
       "       [8.35388727e+00, 3.29662648e-02, 6.00000000e+00, 1.00000000e+00,\n",
       "        0.00000000e+00, 0.00000000e+00, 1.47000000e+02, 3.80000000e+01,\n",
       "        0.00000000e+00, 8.00000000e+00, 1.82000000e+02, 3.00000000e+00,\n",
       "        1.31000000e+02, 0.00000000e+00, 1.08000000e+01],\n",
       "       [9.18051424e+00, 3.60912580e-02, 1.60000000e+01, 2.00000000e+00,\n",
       "        0.00000000e+00, 0.00000000e+00, 1.63000000e+02, 4.00000000e+01,\n",
       "        0.00000000e+00, 1.00000000e+00, 1.81000000e+02, 1.20000000e+01,\n",
       "        6.00000000e+01, 2.00000000e+00, 1.05000000e+01],\n",
       "       [7.95000000e+00, 3.06118479e-02, 1.00000000e+00, 0.00000000e+00,\n",
       "        0.00000000e+00, 0.00000000e+00, 1.01000000e+02, 3.30000000e+01,\n",
       "        1.00000000e+00, 6.00000000e+00, 1.32000000e+02, 3.00000000e+00,\n",
       "        1.50000000e+02, 7.00000000e+00, 8.00000000e+00],\n",
       "       [1.12076923e+01, 3.31110894e-02, 4.00000000e+00, 0.00000000e+00,\n",
       "        0.00000000e+00, 0.00000000e+00, 1.18000000e+02, 4.00000000e+01,\n",
       "        0.00000000e+00, 1.00000000e+01, 1.42000000e+02, 1.00000000e+00,\n",
       "        1.59000000e+02, 0.00000000e+00, 8.10000000e+00],\n",
       "       [1.02804435e+01, 3.96940852e-02, 2.00000000e+01, 3.00000000e+00,\n",
       "        0.00000000e+00, 0.00000000e+00, 1.54000000e+02, 4.40000000e+01,\n",
       "        0.00000000e+00, 2.00000000e+00, 1.53000000e+02, 2.80000000e+01,\n",
       "        9.20000000e+01, 1.60000000e+01, 1.04000000e+01],\n",
       "       [9.66758310e+00, 2.96135554e-02, 4.00000000e+00, 2.00000000e+00,\n",
       "        0.00000000e+00, 0.00000000e+00, 1.18000000e+02, 2.90000000e+01,\n",
       "        0.00000000e+00, 2.00000000e+00, 7.10000000e+01, 1.00000000e+01,\n",
       "        1.76000000e+02, 1.90000000e+01, 9.50000000e+00],\n",
       "       [9.05392078e+00, 3.51652026e-02, 3.00000000e+00, 0.00000000e+00,\n",
       "        0.00000000e+00, 0.00000000e+00, 9.60000000e+01, 3.30000000e+01,\n",
       "        2.00000000e+00, 0.00000000e+00, 7.50000000e+01, 3.00000000e+00,\n",
       "        9.10000000e+01, 5.10000000e+01, 7.40000000e+00],\n",
       "       [7.65615551e+00, 3.88479388e-02, 8.00000000e+00, 1.00000000e+00,\n",
       "        0.00000000e+00, 1.00000000e+00, 1.78000000e+02, 3.60000000e+01,\n",
       "        9.00000000e+00, 3.00000000e+00, 1.48000000e+02, 0.00000000e+00,\n",
       "        2.10000000e+01, 7.70000000e+01, 7.40000000e+00],\n",
       "       [6.64681319e+00, 3.11910357e-02, 3.00000000e+00, 0.00000000e+00,\n",
       "        0.00000000e+00, 0.00000000e+00, 1.16000000e+02, 3.70000000e+01,\n",
       "        0.00000000e+00, 0.00000000e+00, 2.62000000e+02, 1.90000000e+01,\n",
       "        6.30000000e+01, 0.00000000e+00, 1.02000000e+01],\n",
       "       [8.97891634e+00, 2.97483864e-02, 1.20000000e+01, 1.00000000e+00,\n",
       "        0.00000000e+00, 0.00000000e+00, 1.47000000e+02, 4.10000000e+01,\n",
       "        0.00000000e+00, 2.50000000e+01, 2.04000000e+02, 1.00000000e+00,\n",
       "        1.07000000e+02, 0.00000000e+00, 8.70000000e+00],\n",
       "       [6.90694683e+00, 3.68267850e-02, 5.00000000e+00, 0.00000000e+00,\n",
       "        0.00000000e+00, 0.00000000e+00, 2.35000000e+02, 3.30000000e+01,\n",
       "        0.00000000e+00, 3.00000000e+00, 1.72000000e+02, 0.00000000e+00,\n",
       "        7.10000000e+01, 2.70000000e+01, 9.20000000e+00],\n",
       "       [8.65174672e+00, 2.95139007e-02, 6.00000000e+00, 0.00000000e+00,\n",
       "        0.00000000e+00, 0.00000000e+00, 1.25000000e+02, 3.60000000e+01,\n",
       "        0.00000000e+00, 7.00000000e+00, 2.54000000e+02, 6.00000000e+00,\n",
       "        8.30000000e+01, 0.00000000e+00, 9.30000000e+00],\n",
       "       [8.72523256e+00, 3.28552511e-02, 3.00000000e+00, 0.00000000e+00,\n",
       "        0.00000000e+00, 0.00000000e+00, 1.28000000e+02, 4.00000000e+01,\n",
       "        0.00000000e+00, 0.00000000e+00, 1.52000000e+02, 8.00000000e+00,\n",
       "        1.26000000e+02, 0.00000000e+00, 7.70000000e+00],\n",
       "       [6.32267511e+00, 3.04180101e-02, 1.00000000e+00, 0.00000000e+00,\n",
       "        0.00000000e+00, 0.00000000e+00, 9.50000000e+01, 3.40000000e+01,\n",
       "        0.00000000e+00, 2.00000000e+00, 2.35000000e+02, 4.60000000e+01,\n",
       "        7.50000000e+01, 7.00000000e+00, 7.60000000e+00],\n",
       "       [1.07753604e+01, 3.59639191e-02, 1.30000000e+01, 2.00000000e+00,\n",
       "        0.00000000e+00, 0.00000000e+00, 1.57000000e+02, 4.10000000e+01,\n",
       "        1.00000000e+00, 0.00000000e+00, 1.46000000e+02, 5.20000000e+01,\n",
       "        1.12000000e+02, 8.00000000e+00, 1.05000000e+01],\n",
       "       [1.00268809e+01, 3.61453728e-02, 1.40000000e+01, 1.00000000e+00,\n",
       "        0.00000000e+00, 0.00000000e+00, 1.44000000e+02, 4.30000000e+01,\n",
       "        0.00000000e+00, 3.00000000e+00, 2.27000000e+02, 1.40000000e+01,\n",
       "        7.20000000e+01, 1.50000000e+01, 1.02000000e+01],\n",
       "       [7.88051350e+00, 2.81790069e-02, 2.00000000e+00, 1.00000000e+00,\n",
       "        0.00000000e+00, 0.00000000e+00, 1.28000000e+02, 2.70000000e+01,\n",
       "        0.00000000e+00, 0.00000000e+00, 5.30000000e+01, 0.00000000e+00,\n",
       "        2.92000000e+02, 0.00000000e+00, 1.06000000e+01],\n",
       "       [1.07248499e+01, 2.96922444e-02, 1.20000000e+01, 1.00000000e+00,\n",
       "        0.00000000e+00, 0.00000000e+00, 1.48000000e+02, 4.40000000e+01,\n",
       "        0.00000000e+00, 2.00000000e+00, 2.10000000e+02, 1.30000000e+01,\n",
       "        1.27000000e+02, 3.00000000e+00, 1.01000000e+01],\n",
       "       [7.09183976e+00, 3.27127787e-02, 8.00000000e+00, 1.00000000e+00,\n",
       "        0.00000000e+00, 0.00000000e+00, 1.62000000e+02, 3.90000000e+01,\n",
       "        0.00000000e+00, 1.00000000e+00, 2.17000000e+02, 1.00000000e+00,\n",
       "        1.24000000e+02, 0.00000000e+00, 1.08000000e+01],\n",
       "       [9.10698925e+00, 3.03888482e-02, 1.00000000e+00, 0.00000000e+00,\n",
       "        0.00000000e+00, 0.00000000e+00, 1.09000000e+02, 3.90000000e+01,\n",
       "        0.00000000e+00, 2.00000000e+00, 1.52000000e+02, 1.10000000e+01,\n",
       "        9.30000000e+01, 2.20000000e+01, 8.70000000e+00],\n",
       "       [7.22959702e+00, 3.55275680e-02, 2.00000000e+00, 0.00000000e+00,\n",
       "        0.00000000e+00, 0.00000000e+00, 1.06000000e+02, 3.90000000e+01,\n",
       "        0.00000000e+00, 1.00000000e+01, 1.96000000e+02, 0.00000000e+00,\n",
       "        9.70000000e+01, 3.50000000e+01, 7.50000000e+00],\n",
       "       [1.15909311e+01, 3.54519214e-02, 9.00000000e+00, 1.00000000e+00,\n",
       "        0.00000000e+00, 0.00000000e+00, 1.40000000e+02, 3.90000000e+01,\n",
       "        0.00000000e+00, 1.90000000e+01, 1.84000000e+02, 1.90000000e+01,\n",
       "        4.30000000e+01, 2.00000000e+01, 7.70000000e+00],\n",
       "       [1.04770642e+01, 3.05034147e-02, 8.00000000e+00, 1.00000000e+00,\n",
       "        0.00000000e+00, 0.00000000e+00, 1.54000000e+02, 4.00000000e+01,\n",
       "        0.00000000e+00, 3.00000000e+00, 2.05000000e+02, 1.00000000e+00,\n",
       "        1.32000000e+02, 1.00000000e+00, 6.80000000e+00],\n",
       "       [7.53312849e+00, 4.05621177e-02, 8.00000000e+00, 0.00000000e+00,\n",
       "        0.00000000e+00, 0.00000000e+00, 1.29000000e+02, 4.40000000e+01,\n",
       "        0.00000000e+00, 2.30000000e+01, 2.52000000e+02, 0.00000000e+00,\n",
       "        6.00000000e+01, 2.00000000e+00, 8.90000000e+00],\n",
       "       [6.78859649e+00, 3.20819972e-02, 1.00000000e+00, 0.00000000e+00,\n",
       "        0.00000000e+00, 0.00000000e+00, 9.40000000e+01, 3.00000000e+01,\n",
       "        1.00000000e+00, 1.00000000e+01, 1.48000000e+02, 0.00000000e+00,\n",
       "        1.44000000e+02, 0.00000000e+00, 1.09000000e+01],\n",
       "       [8.59582109e+00, 3.39799321e-02, 3.00000000e+00, 0.00000000e+00,\n",
       "        0.00000000e+00, 0.00000000e+00, 1.08000000e+02, 3.20000000e+01,\n",
       "        0.00000000e+00, 4.10000000e+01, 1.34000000e+02, 2.00000000e+00,\n",
       "        6.50000000e+01, 1.10000000e+01, 8.70000000e+00],\n",
       "       [7.03654235e+00, 2.70048835e-02, 2.00000000e+00, 1.00000000e+00,\n",
       "        0.00000000e+00, 0.00000000e+00, 1.24000000e+02, 2.60000000e+01,\n",
       "        0.00000000e+00, 2.00000000e+00, 4.30000000e+01, 0.00000000e+00,\n",
       "        3.10000000e+02, 4.00000000e+00, 9.70000000e+00],\n",
       "       [1.03019477e+01, 3.27284663e-02, 5.00000000e+00, 0.00000000e+00,\n",
       "        0.00000000e+00, 0.00000000e+00, 1.28000000e+02, 3.90000000e+01,\n",
       "        0.00000000e+00, 0.00000000e+00, 1.45000000e+02, 5.10000000e+01,\n",
       "        8.60000000e+01, 7.00000000e+00, 1.02000000e+01],\n",
       "       [8.81290323e+00, 3.61658567e-02, 1.00000000e+01, 2.00000000e+00,\n",
       "        0.00000000e+00, 0.00000000e+00, 1.40000000e+02, 3.60000000e+01,\n",
       "        0.00000000e+00, 0.00000000e+00, 1.64000000e+02, 1.20000000e+01,\n",
       "        7.40000000e+01, 6.00000000e+00, 8.60000000e+00],\n",
       "       [5.36865541e+00, 4.01697032e-02, 4.00000000e+00, 1.00000000e+00,\n",
       "        0.00000000e+00, 0.00000000e+00, 1.27000000e+02, 3.50000000e+01,\n",
       "        0.00000000e+00, 6.00000000e+00, 1.82000000e+02, 2.00000000e+01,\n",
       "        2.80000000e+01, 7.20000000e+01, 9.00000000e+00]])"
      ]
     },
     "execution_count": 44,
     "metadata": {},
     "output_type": "execute_result"
    }
   ],
   "source": [
    "merged2012[cols].values "
   ]
  },
  {
   "cell_type": "code",
   "execution_count": 45,
   "id": "7da8955f",
   "metadata": {},
   "outputs": [
    {
     "data": {
      "image/png": "[encoded data removed]",
      "text/plain": [
       "<Figure size 864x864 with 2 Axes>"
      ]
     },
     "metadata": {},
     "output_type": "display_data"
    }
   ],
   "source": [
    "sns.set(font_scale=.75)\n",
    "#cbar - boolean to specify whether or not to draw the color bar\n",
    "#annot - boolean to specify whether or not to annotate the heatmap\n",
    "#square - boolean to specify whether or not to set the Axes aspect \n",
    "#to “equal” so each cell will be square-shaped.\n",
    "#fmt='.2f' - string formatting code to use when adding annotations\n",
    "#annot_kws - dict of key, value mappings, optional keyword arguments for \n",
    "#matplotlib.axes.Axes.text() when annot is True\n",
    "fig, ax = plt.subplots(figsize=(12,12))\n",
    "\n",
    "hm = sns.heatmap(cm,cbar=True,cbar_kws={\"shrink\": 0.82}, annot=True,square=True,fmt='.3f',\n",
    "                annot_kws={'size':12},yticklabels=cols,xticklabels=cols,\n",
    "                ax=ax)"
   ]
  },
  {
   "cell_type": "code",
   "execution_count": 46,
   "id": "b7dd6856",
   "metadata": {},
   "outputs": [],
   "source": [
    "plt.close()"
   ]
  },
  {
   "cell_type": "markdown",
   "id": "e64080c4",
   "metadata": {},
   "source": [
    "### Create scatterplots"
   ]
  },
  {
   "cell_type": "code",
   "execution_count": 47,
   "id": "c69ce094",
   "metadata": {},
   "outputs": [
    {
     "data": {
      "text/plain": [
       "<AxesSubplot:xlabel='PM2.5 Mean', ylabel='Asthma Prevalence'>"
      ]
     },
     "execution_count": 47,
     "metadata": {},
     "output_type": "execute_result"
    },
    {
     "data": {
      "image/png": "[encoded data removed]",
      "text/plain": [
       "<Figure size 432x288 with 1 Axes>"
      ]
     },
     "metadata": {},
     "output_type": "display_data"
    }
   ],
   "source": [
    "sns.set(style='whitegrid', context='notebook', rc={'figure.figsize':(6,4)})\n",
    "#sns.set(rc = {'figure.figsize':(15,12)})\n",
    "sns.scatterplot(x='PM2.5 Mean', y='Asthma Prevalence', data=merged2012Plotting)"
   ]
  },
  {
   "cell_type": "code",
   "execution_count": 48,
   "id": "65280f8b",
   "metadata": {},
   "outputs": [],
   "source": [
    "plt.close()"
   ]
  },
  {
   "cell_type": "code",
   "execution_count": 49,
   "id": "676e6bf6",
   "metadata": {},
   "outputs": [
    {
     "data": {
      "text/plain": [
       "<AxesSubplot:xlabel='Ozone Mean', ylabel='Asthma Prevalence'>"
      ]
     },
     "execution_count": 49,
     "metadata": {},
     "output_type": "execute_result"
    },
    {
     "data": {
      "image/png": "[encoded data removed]",
      "text/plain": [
       "<Figure size 432x288 with 1 Axes>"
      ]
     },
     "metadata": {},
     "output_type": "display_data"
    }
   ],
   "source": [
    "sns.scatterplot(x='Ozone Mean', y='Asthma Prevalence', data=merged2012Plotting)"
   ]
  },
  {
   "cell_type": "code",
   "execution_count": 50,
   "id": "69efd1b9",
   "metadata": {},
   "outputs": [],
   "source": [
    "plt.close()"
   ]
  },
  {
   "cell_type": "code",
   "execution_count": 51,
   "id": "7f12c69f",
   "metadata": {},
   "outputs": [
    {
     "data": {
      "text/plain": [
       "<AxesSubplot:xlabel='U for SG Days', ylabel='Asthma Prevalence'>"
      ]
     },
     "execution_count": 51,
     "metadata": {},
     "output_type": "execute_result"
    },
    {
     "data": {
      "image/png": "[encoded data removed]",
      "text/plain": [
       "<Figure size 432x288 with 1 Axes>"
      ]
     },
     "metadata": {},
     "output_type": "display_data"
    }
   ],
   "source": [
    "sns.scatterplot(x='U for SG Days', y='Asthma Prevalence', data=merged2012Plotting)"
   ]
  },
  {
   "cell_type": "code",
   "execution_count": 52,
   "id": "9dac7d26",
   "metadata": {},
   "outputs": [],
   "source": [
    "plt.close()"
   ]
  },
  {
   "cell_type": "code",
   "execution_count": 53,
   "id": "545233c8",
   "metadata": {},
   "outputs": [
    {
     "data": {
      "text/plain": [
       "<AxesSubplot:xlabel='Unhealthy Days', ylabel='Asthma Prevalence'>"
      ]
     },
     "execution_count": 53,
     "metadata": {},
     "output_type": "execute_result"
    },
    {
     "data": {
      "image/png": "[encoded data removed]",
      "text/plain": [
       "<Figure size 432x288 with 1 Axes>"
      ]
     },
     "metadata": {},
     "output_type": "display_data"
    }
   ],
   "source": [
    "sns.scatterplot(x='Unhealthy Days', y='Asthma Prevalence', data=merged2012Plotting)"
   ]
  },
  {
   "cell_type": "code",
   "execution_count": 54,
   "id": "1c7b952d",
   "metadata": {},
   "outputs": [],
   "source": [
    "plt.close()"
   ]
  },
  {
   "cell_type": "code",
   "execution_count": 55,
   "id": "a196be6f",
   "metadata": {},
   "outputs": [
    {
     "data": {
      "text/plain": [
       "<AxesSubplot:xlabel='Very Unhealthy Days', ylabel='Asthma Prevalence'>"
      ]
     },
     "execution_count": 55,
     "metadata": {},
     "output_type": "execute_result"
    },
    {
     "data": {
      "image/png": "[encoded data removed]",
      "text/plain": [
       "<Figure size 432x288 with 1 Axes>"
      ]
     },
     "metadata": {},
     "output_type": "display_data"
    }
   ],
   "source": [
    "sns.scatterplot(x='Very Unhealthy Days', y='Asthma Prevalence', data=merged2012Plotting)"
   ]
  },
  {
   "cell_type": "code",
   "execution_count": 56,
   "id": "0599703d",
   "metadata": {},
   "outputs": [],
   "source": [
    "plt.close()"
   ]
  },
  {
   "cell_type": "code",
   "execution_count": 57,
   "id": "9a20f92d",
   "metadata": {},
   "outputs": [
    {
     "data": {
      "text/plain": [
       "<AxesSubplot:xlabel='Hazardous Days', ylabel='Asthma Prevalence'>"
      ]
     },
     "execution_count": 57,
     "metadata": {},
     "output_type": "execute_result"
    },
    {
     "data": {
      "image/png": "[encoded data removed]",
      "text/plain": [
       "<Figure size 432x288 with 1 Axes>"
      ]
     },
     "metadata": {},
     "output_type": "display_data"
    }
   ],
   "source": [
    "sns.scatterplot(x='Hazardous Days', y='Asthma Prevalence', data=merged2012Plotting)"
   ]
  },
  {
   "cell_type": "code",
   "execution_count": 58,
   "id": "5a64644a",
   "metadata": {},
   "outputs": [],
   "source": [
    "plt.close()"
   ]
  },
  {
   "cell_type": "code",
   "execution_count": 59,
   "id": "fdde2881",
   "metadata": {},
   "outputs": [
    {
     "data": {
      "text/plain": [
       "<AxesSubplot:xlabel='Max AQI', ylabel='Asthma Prevalence'>"
      ]
     },
     "execution_count": 59,
     "metadata": {},
     "output_type": "execute_result"
    },
    {
     "data": {
      "image/png": "[encoded data removed]",
      "text/plain": [
       "<Figure size 432x288 with 1 Axes>"
      ]
     },
     "metadata": {},
     "output_type": "display_data"
    }
   ],
   "source": [
    "sns.scatterplot(x='Max AQI', y='Asthma Prevalence', data=merged2012Plotting)"
   ]
  },
  {
   "cell_type": "code",
   "execution_count": 60,
   "id": "aac1ec00",
   "metadata": {},
   "outputs": [],
   "source": [
    "plt.close()"
   ]
  },
  {
   "cell_type": "code",
   "execution_count": 61,
   "id": "e0efb01a",
   "metadata": {},
   "outputs": [
    {
     "data": {
      "text/plain": [
       "<AxesSubplot:xlabel='Median AQI', ylabel='Asthma Prevalence'>"
      ]
     },
     "execution_count": 61,
     "metadata": {},
     "output_type": "execute_result"
    },
    {
     "data": {
      "image/png": "[encoded data removed]",
      "text/plain": [
       "<Figure size 432x288 with 1 Axes>"
      ]
     },
     "metadata": {},
     "output_type": "display_data"
    }
   ],
   "source": [
    "sns.scatterplot(x='Median AQI', y='Asthma Prevalence', data=merged2012Plotting)"
   ]
  },
  {
   "cell_type": "code",
   "execution_count": 62,
   "id": "6ea318c5",
   "metadata": {},
   "outputs": [],
   "source": [
    "plt.close()"
   ]
  },
  {
   "cell_type": "code",
   "execution_count": 63,
   "id": "3cdaa90a",
   "metadata": {},
   "outputs": [
    {
     "data": {
      "text/plain": [
       "<AxesSubplot:xlabel='Days CO', ylabel='Asthma Prevalence'>"
      ]
     },
     "execution_count": 63,
     "metadata": {},
     "output_type": "execute_result"
    },
    {
     "data": {
      "image/png": "[encoded data removed]",
      "text/plain": [
       "<Figure size 432x288 with 1 Axes>"
      ]
     },
     "metadata": {},
     "output_type": "display_data"
    }
   ],
   "source": [
    "sns.scatterplot(x='Days CO', y='Asthma Prevalence', data=merged2012Plotting)"
   ]
  },
  {
   "cell_type": "code",
   "execution_count": 64,
   "id": "636a6994",
   "metadata": {},
   "outputs": [],
   "source": [
    "plt.close()"
   ]
  },
  {
   "cell_type": "code",
   "execution_count": 65,
   "id": "bf3e5a27",
   "metadata": {},
   "outputs": [
    {
     "data": {
      "text/plain": [
       "<AxesSubplot:xlabel='Days NO2', ylabel='Asthma Prevalence'>"
      ]
     },
     "execution_count": 65,
     "metadata": {},
     "output_type": "execute_result"
    },
    {
     "data": {
      "image/png": "[encoded data removed]",
      "text/plain": [
       "<Figure size 432x288 with 1 Axes>"
      ]
     },
     "metadata": {},
     "output_type": "display_data"
    }
   ],
   "source": [
    "sns.scatterplot(x='Days NO2', y='Asthma Prevalence', data=merged2012Plotting)"
   ]
  },
  {
   "cell_type": "code",
   "execution_count": 66,
   "id": "e0210910",
   "metadata": {},
   "outputs": [],
   "source": [
    "plt.close()"
   ]
  },
  {
   "cell_type": "code",
   "execution_count": 67,
   "id": "c48f294d",
   "metadata": {},
   "outputs": [
    {
     "data": {
      "text/plain": [
       "<AxesSubplot:xlabel='Days Ozone', ylabel='Asthma Prevalence'>"
      ]
     },
     "execution_count": 67,
     "metadata": {},
     "output_type": "execute_result"
    },
    {
     "data": {
      "image/png": "[encoded data removed]",
      "text/plain": [
       "<Figure size 432x288 with 1 Axes>"
      ]
     },
     "metadata": {},
     "output_type": "display_data"
    }
   ],
   "source": [
    "sns.scatterplot(x='Days Ozone', y='Asthma Prevalence', data=merged2012Plotting)"
   ]
  },
  {
   "cell_type": "code",
   "execution_count": 68,
   "id": "ba48beed",
   "metadata": {},
   "outputs": [],
   "source": [
    "plt.close()"
   ]
  },
  {
   "cell_type": "code",
   "execution_count": 69,
   "id": "e4e83426",
   "metadata": {},
   "outputs": [
    {
     "data": {
      "text/plain": [
       "<AxesSubplot:xlabel='Days SO2', ylabel='Asthma Prevalence'>"
      ]
     },
     "execution_count": 69,
     "metadata": {},
     "output_type": "execute_result"
    },
    {
     "data": {
      "image/png": "[encoded data removed]",
      "text/plain": [
       "<Figure size 432x288 with 1 Axes>"
      ]
     },
     "metadata": {},
     "output_type": "display_data"
    }
   ],
   "source": [
    "sns.scatterplot(x='Days SO2', y='Asthma Prevalence', data=merged2012Plotting)"
   ]
  },
  {
   "cell_type": "code",
   "execution_count": 70,
   "id": "c2fbf96d",
   "metadata": {},
   "outputs": [],
   "source": [
    "plt.close()"
   ]
  },
  {
   "cell_type": "code",
   "execution_count": 71,
   "id": "3bdaeed7",
   "metadata": {},
   "outputs": [
    {
     "data": {
      "text/plain": [
       "<AxesSubplot:xlabel='Days PM2.5', ylabel='Asthma Prevalence'>"
      ]
     },
     "execution_count": 71,
     "metadata": {},
     "output_type": "execute_result"
    },
    {
     "data": {
      "image/png": "[encoded data removed]",
      "text/plain": [
       "<Figure size 432x288 with 1 Axes>"
      ]
     },
     "metadata": {},
     "output_type": "display_data"
    }
   ],
   "source": [
    "sns.scatterplot(x='Days PM2.5', y='Asthma Prevalence', data=merged2012Plotting)"
   ]
  },
  {
   "cell_type": "code",
   "execution_count": 72,
   "id": "c9ed035e",
   "metadata": {},
   "outputs": [],
   "source": [
    "plt.close()"
   ]
  },
  {
   "cell_type": "code",
   "execution_count": 73,
   "id": "eaf87f2a",
   "metadata": {},
   "outputs": [
    {
     "data": {
      "text/plain": [
       "<AxesSubplot:xlabel='Days CO', ylabel='Hazardous Days'>"
      ]
     },
     "execution_count": 73,
     "metadata": {},
     "output_type": "execute_result"
    },
    {
     "data": {
      "image/png": "[encoded data removed]",
      "text/plain": [
       "<Figure size 432x288 with 1 Axes>"
      ]
     },
     "metadata": {},
     "output_type": "display_data"
    }
   ],
   "source": [
    "#just looking at this because of high correlation on heat map\n",
    "sns.scatterplot(x='Days CO', y='Hazardous Days', data=merged2012Plotting)"
   ]
  },
  {
   "cell_type": "markdown",
   "id": "5e3093f3",
   "metadata": {},
   "source": [
    "### End of Air Quality and Asthma at the U.S. State level"
   ]
  },
  {
   "cell_type": "code",
   "execution_count": null,
   "id": "7202983c",
   "metadata": {},
   "outputs": [],
   "source": []
  }
 ],
 "metadata": {
  "kernelspec": {
   "display_name": "Python 3 (ipykernel)",
   "language": "python",
   "name": "python3"
  },
  "language_info": {
   "codemirror_mode": {
    "name": "ipython",
    "version": 3
   },
   "file_extension": ".py",
   "mimetype": "text/x-python",
   "name": "python",
   "nbconvert_exporter": "python",
   "pygments_lexer": "ipython3",
   "version": "3.8.12"
  }
 },
 "nbformat": 4,
 "nbformat_minor": 5
}
