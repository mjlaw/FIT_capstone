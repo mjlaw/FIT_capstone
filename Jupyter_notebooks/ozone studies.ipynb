{
 "cells": [
  {
   "cell_type": "markdown",
   "id": "a68e2d1e",
   "metadata": {},
   "source": [
    "The EPA's current 24 hour standard for ozone is 0.070 parts per million (ppm) as the fourth-highest daily maximum 8-hour concentration, averaged across three consecutive years. In this study, I will look only at the maximum 8-hour concentrations."
   ]
  },
  {
   "cell_type": "code",
   "execution_count": 1,
   "id": "70e388b0",
   "metadata": {},
   "outputs": [],
   "source": [
    "import numpy as np\n",
    "import pandas as pd\n",
    "import seaborn as sns"
   ]
  },
  {
   "cell_type": "code",
   "execution_count": 2,
   "id": "1b1999d9",
   "metadata": {},
   "outputs": [],
   "source": [
    "#ozone0 = pd.read_table('C:\\\\Users\\\\Mary\\\\CIS5898\\\\daily_44201_1999.csv', delimiter = ',') #read in ozone data for 1999\n",
    "ozone0 = pd.read_csv('C:\\\\Users\\\\Mary\\\\CIS5898\\\\daily_44201_1999.csv', low_memory=False) #read in ozone data for 1999"
   ]
  },
  {
   "cell_type": "code",
   "execution_count": 3,
   "id": "a226fcc1",
   "metadata": {},
   "outputs": [
    {
     "name": "stdout",
     "output_type": "stream",
     "text": [
      "<class 'pandas.core.frame.DataFrame'>\n",
      "RangeIndex: 317682 entries, 0 to 317681\n",
      "Data columns (total 29 columns):\n",
      " #   Column               Non-Null Count   Dtype  \n",
      "---  ------               --------------   -----  \n",
      " 0   State Code           317682 non-null  object \n",
      " 1   County Code          317682 non-null  int64  \n",
      " 2   Site Num             317682 non-null  int64  \n",
      " 3   Parameter Code       317682 non-null  int64  \n",
      " 4   POC                  317682 non-null  int64  \n",
      " 5   Latitude             317682 non-null  float64\n",
      " 6   Longitude            317682 non-null  float64\n",
      " 7   Datum                317682 non-null  object \n",
      " 8   Parameter Name       317682 non-null  object \n",
      " 9   Sample Duration      317682 non-null  object \n",
      " 10  Pollutant Standard   317682 non-null  object \n",
      " 11  Date Local           317682 non-null  object \n",
      " 12  Units of Measure     317682 non-null  object \n",
      " 13  Event Type           317682 non-null  object \n",
      " 14  Observation Count    317682 non-null  int64  \n",
      " 15  Observation Percent  317682 non-null  float64\n",
      " 16  Arithmetic Mean      317682 non-null  float64\n",
      " 17  1st Max Value        317682 non-null  float64\n",
      " 18  1st Max Hour         317682 non-null  int64  \n",
      " 19  AQI                  317682 non-null  int64  \n",
      " 20  Method Code          0 non-null       float64\n",
      " 21  Method Name          317682 non-null  object \n",
      " 22  Local Site Name      283148 non-null  object \n",
      " 23  Address              317682 non-null  object \n",
      " 24  State Name           317682 non-null  object \n",
      " 25  County Name          317682 non-null  object \n",
      " 26  City Name            317682 non-null  object \n",
      " 27  CBSA Name            288483 non-null  object \n",
      " 28  Date of Last Change  317682 non-null  object \n",
      "dtypes: float64(6), int64(7), object(16)\n",
      "memory usage: 70.3+ MB\n",
      "None\n",
      "2\n",
      "(317682, 29)\n"
     ]
    }
   ],
   "source": [
    "print(ozone0.info()) #provides basic information on data\n",
    "print(ozone0.ndim) #provides dimensions\n",
    "print(ozone0.shape) #provides number of rows and number of columns "
   ]
  },
  {
   "cell_type": "code",
   "execution_count": 4,
   "id": "645c21db",
   "metadata": {},
   "outputs": [
    {
     "data": {
      "text/html": [
       "<div>\n",
       "<style scoped>\n",
       "    .dataframe tbody tr th:only-of-type {\n",
       "        vertical-align: middle;\n",
       "    }\n",
       "\n",
       "    .dataframe tbody tr th {\n",
       "        vertical-align: top;\n",
       "    }\n",
       "\n",
       "    .dataframe thead th {\n",
       "        text-align: right;\n",
       "    }\n",
       "</style>\n",
       "<table border=\"1\" class=\"dataframe\">\n",
       "  <thead>\n",
       "    <tr style=\"text-align: right;\">\n",
       "      <th></th>\n",
       "      <th>State Code</th>\n",
       "      <th>County Code</th>\n",
       "      <th>Site Num</th>\n",
       "      <th>Parameter Code</th>\n",
       "      <th>POC</th>\n",
       "      <th>Latitude</th>\n",
       "      <th>Longitude</th>\n",
       "      <th>Datum</th>\n",
       "      <th>Parameter Name</th>\n",
       "      <th>Sample Duration</th>\n",
       "    </tr>\n",
       "  </thead>\n",
       "  <tbody>\n",
       "    <tr>\n",
       "      <th>0</th>\n",
       "      <td>01</td>\n",
       "      <td>27</td>\n",
       "      <td>1</td>\n",
       "      <td>44201</td>\n",
       "      <td>1</td>\n",
       "      <td>33.284928</td>\n",
       "      <td>-85.803608</td>\n",
       "      <td>NAD83</td>\n",
       "      <td>Ozone</td>\n",
       "      <td>8-HR RUN AVG BEGIN HOUR</td>\n",
       "    </tr>\n",
       "    <tr>\n",
       "      <th>1</th>\n",
       "      <td>01</td>\n",
       "      <td>27</td>\n",
       "      <td>1</td>\n",
       "      <td>44201</td>\n",
       "      <td>1</td>\n",
       "      <td>33.284928</td>\n",
       "      <td>-85.803608</td>\n",
       "      <td>NAD83</td>\n",
       "      <td>Ozone</td>\n",
       "      <td>8-HR RUN AVG BEGIN HOUR</td>\n",
       "    </tr>\n",
       "    <tr>\n",
       "      <th>2</th>\n",
       "      <td>01</td>\n",
       "      <td>27</td>\n",
       "      <td>1</td>\n",
       "      <td>44201</td>\n",
       "      <td>1</td>\n",
       "      <td>33.284928</td>\n",
       "      <td>-85.803608</td>\n",
       "      <td>NAD83</td>\n",
       "      <td>Ozone</td>\n",
       "      <td>8-HR RUN AVG BEGIN HOUR</td>\n",
       "    </tr>\n",
       "    <tr>\n",
       "      <th>3</th>\n",
       "      <td>01</td>\n",
       "      <td>27</td>\n",
       "      <td>1</td>\n",
       "      <td>44201</td>\n",
       "      <td>1</td>\n",
       "      <td>33.284928</td>\n",
       "      <td>-85.803608</td>\n",
       "      <td>NAD83</td>\n",
       "      <td>Ozone</td>\n",
       "      <td>8-HR RUN AVG BEGIN HOUR</td>\n",
       "    </tr>\n",
       "    <tr>\n",
       "      <th>4</th>\n",
       "      <td>01</td>\n",
       "      <td>27</td>\n",
       "      <td>1</td>\n",
       "      <td>44201</td>\n",
       "      <td>1</td>\n",
       "      <td>33.284928</td>\n",
       "      <td>-85.803608</td>\n",
       "      <td>NAD83</td>\n",
       "      <td>Ozone</td>\n",
       "      <td>8-HR RUN AVG BEGIN HOUR</td>\n",
       "    </tr>\n",
       "  </tbody>\n",
       "</table>\n",
       "</div>"
      ],
      "text/plain": [
       "  State Code  County Code  Site Num  Parameter Code  POC   Latitude  \\\n",
       "0         01           27         1           44201    1  33.284928   \n",
       "1         01           27         1           44201    1  33.284928   \n",
       "2         01           27         1           44201    1  33.284928   \n",
       "3         01           27         1           44201    1  33.284928   \n",
       "4         01           27         1           44201    1  33.284928   \n",
       "\n",
       "   Longitude  Datum Parameter Name          Sample Duration  \n",
       "0 -85.803608  NAD83          Ozone  8-HR RUN AVG BEGIN HOUR  \n",
       "1 -85.803608  NAD83          Ozone  8-HR RUN AVG BEGIN HOUR  \n",
       "2 -85.803608  NAD83          Ozone  8-HR RUN AVG BEGIN HOUR  \n",
       "3 -85.803608  NAD83          Ozone  8-HR RUN AVG BEGIN HOUR  \n",
       "4 -85.803608  NAD83          Ozone  8-HR RUN AVG BEGIN HOUR  "
      ]
     },
     "execution_count": 4,
     "metadata": {},
     "output_type": "execute_result"
    }
   ],
   "source": [
    "#There are 317,682 rows and 29 columns. Because there are so many columns, look at the first five rows and first 10 columns\n",
    "ozone0.iloc[:5, :10]"
   ]
  },
  {
   "cell_type": "code",
   "execution_count": 5,
   "id": "5c9283e5",
   "metadata": {},
   "outputs": [
    {
     "data": {
      "text/html": [
       "<div>\n",
       "<style scoped>\n",
       "    .dataframe tbody tr th:only-of-type {\n",
       "        vertical-align: middle;\n",
       "    }\n",
       "\n",
       "    .dataframe tbody tr th {\n",
       "        vertical-align: top;\n",
       "    }\n",
       "\n",
       "    .dataframe thead th {\n",
       "        text-align: right;\n",
       "    }\n",
       "</style>\n",
       "<table border=\"1\" class=\"dataframe\">\n",
       "  <thead>\n",
       "    <tr style=\"text-align: right;\">\n",
       "      <th></th>\n",
       "      <th>Date Local</th>\n",
       "      <th>Units of Measure</th>\n",
       "      <th>Event Type</th>\n",
       "      <th>Observation Count</th>\n",
       "      <th>Observation Percent</th>\n",
       "      <th>Arithmetic Mean</th>\n",
       "      <th>1st Max Value</th>\n",
       "      <th>1st Max Hour</th>\n",
       "      <th>AQI</th>\n",
       "    </tr>\n",
       "  </thead>\n",
       "  <tbody>\n",
       "    <tr>\n",
       "      <th>0</th>\n",
       "      <td>1999-02-28</td>\n",
       "      <td>Parts per million</td>\n",
       "      <td>None</td>\n",
       "      <td>1</td>\n",
       "      <td>6.0</td>\n",
       "      <td>0.029000</td>\n",
       "      <td>0.029</td>\n",
       "      <td>23</td>\n",
       "      <td>27</td>\n",
       "    </tr>\n",
       "    <tr>\n",
       "      <th>1</th>\n",
       "      <td>1999-03-01</td>\n",
       "      <td>Parts per million</td>\n",
       "      <td>None</td>\n",
       "      <td>17</td>\n",
       "      <td>100.0</td>\n",
       "      <td>0.027118</td>\n",
       "      <td>0.047</td>\n",
       "      <td>10</td>\n",
       "      <td>44</td>\n",
       "    </tr>\n",
       "    <tr>\n",
       "      <th>2</th>\n",
       "      <td>1999-03-02</td>\n",
       "      <td>Parts per million</td>\n",
       "      <td>None</td>\n",
       "      <td>17</td>\n",
       "      <td>100.0</td>\n",
       "      <td>0.049647</td>\n",
       "      <td>0.060</td>\n",
       "      <td>12</td>\n",
       "      <td>67</td>\n",
       "    </tr>\n",
       "    <tr>\n",
       "      <th>3</th>\n",
       "      <td>1999-03-03</td>\n",
       "      <td>Parts per million</td>\n",
       "      <td>None</td>\n",
       "      <td>17</td>\n",
       "      <td>100.0</td>\n",
       "      <td>0.039059</td>\n",
       "      <td>0.044</td>\n",
       "      <td>11</td>\n",
       "      <td>41</td>\n",
       "    </tr>\n",
       "    <tr>\n",
       "      <th>4</th>\n",
       "      <td>1999-03-04</td>\n",
       "      <td>Parts per million</td>\n",
       "      <td>None</td>\n",
       "      <td>17</td>\n",
       "      <td>100.0</td>\n",
       "      <td>0.032529</td>\n",
       "      <td>0.044</td>\n",
       "      <td>9</td>\n",
       "      <td>41</td>\n",
       "    </tr>\n",
       "  </tbody>\n",
       "</table>\n",
       "</div>"
      ],
      "text/plain": [
       "   Date Local   Units of Measure Event Type  Observation Count  \\\n",
       "0  1999-02-28  Parts per million       None                  1   \n",
       "1  1999-03-01  Parts per million       None                 17   \n",
       "2  1999-03-02  Parts per million       None                 17   \n",
       "3  1999-03-03  Parts per million       None                 17   \n",
       "4  1999-03-04  Parts per million       None                 17   \n",
       "\n",
       "   Observation Percent  Arithmetic Mean  1st Max Value  1st Max Hour  AQI  \n",
       "0                  6.0         0.029000          0.029            23   27  \n",
       "1                100.0         0.027118          0.047            10   44  \n",
       "2                100.0         0.049647          0.060            12   67  \n",
       "3                100.0         0.039059          0.044            11   41  \n",
       "4                100.0         0.032529          0.044             9   41  "
      ]
     },
     "execution_count": 5,
     "metadata": {},
     "output_type": "execute_result"
    }
   ],
   "source": [
    "#Look at the first five rows and next 9 columns\n",
    "ozone0.iloc[:5, 11:20]"
   ]
  },
  {
   "cell_type": "code",
   "execution_count": 6,
   "id": "a12c4937",
   "metadata": {},
   "outputs": [
    {
     "data": {
      "text/html": [
       "<div>\n",
       "<style scoped>\n",
       "    .dataframe tbody tr th:only-of-type {\n",
       "        vertical-align: middle;\n",
       "    }\n",
       "\n",
       "    .dataframe tbody tr th {\n",
       "        vertical-align: top;\n",
       "    }\n",
       "\n",
       "    .dataframe thead th {\n",
       "        text-align: right;\n",
       "    }\n",
       "</style>\n",
       "<table border=\"1\" class=\"dataframe\">\n",
       "  <thead>\n",
       "    <tr style=\"text-align: right;\">\n",
       "      <th></th>\n",
       "      <th>Method Name</th>\n",
       "      <th>Local Site Name</th>\n",
       "      <th>Address</th>\n",
       "      <th>State Name</th>\n",
       "      <th>County Name</th>\n",
       "      <th>City Name</th>\n",
       "      <th>CBSA Name</th>\n",
       "      <th>Date of Last Change</th>\n",
       "    </tr>\n",
       "  </thead>\n",
       "  <tbody>\n",
       "    <tr>\n",
       "      <th>0</th>\n",
       "      <td>-</td>\n",
       "      <td>ASHLAND</td>\n",
       "      <td>ASHLAND AIRPORT</td>\n",
       "      <td>Alabama</td>\n",
       "      <td>Clay</td>\n",
       "      <td>Ashland</td>\n",
       "      <td>NaN</td>\n",
       "      <td>2018-07-20</td>\n",
       "    </tr>\n",
       "    <tr>\n",
       "      <th>1</th>\n",
       "      <td>-</td>\n",
       "      <td>ASHLAND</td>\n",
       "      <td>ASHLAND AIRPORT</td>\n",
       "      <td>Alabama</td>\n",
       "      <td>Clay</td>\n",
       "      <td>Ashland</td>\n",
       "      <td>NaN</td>\n",
       "      <td>2018-07-20</td>\n",
       "    </tr>\n",
       "    <tr>\n",
       "      <th>2</th>\n",
       "      <td>-</td>\n",
       "      <td>ASHLAND</td>\n",
       "      <td>ASHLAND AIRPORT</td>\n",
       "      <td>Alabama</td>\n",
       "      <td>Clay</td>\n",
       "      <td>Ashland</td>\n",
       "      <td>NaN</td>\n",
       "      <td>2018-07-20</td>\n",
       "    </tr>\n",
       "    <tr>\n",
       "      <th>3</th>\n",
       "      <td>-</td>\n",
       "      <td>ASHLAND</td>\n",
       "      <td>ASHLAND AIRPORT</td>\n",
       "      <td>Alabama</td>\n",
       "      <td>Clay</td>\n",
       "      <td>Ashland</td>\n",
       "      <td>NaN</td>\n",
       "      <td>2018-07-20</td>\n",
       "    </tr>\n",
       "    <tr>\n",
       "      <th>4</th>\n",
       "      <td>-</td>\n",
       "      <td>ASHLAND</td>\n",
       "      <td>ASHLAND AIRPORT</td>\n",
       "      <td>Alabama</td>\n",
       "      <td>Clay</td>\n",
       "      <td>Ashland</td>\n",
       "      <td>NaN</td>\n",
       "      <td>2018-07-20</td>\n",
       "    </tr>\n",
       "  </tbody>\n",
       "</table>\n",
       "</div>"
      ],
      "text/plain": [
       "  Method Name Local Site Name          Address State Name County Name  \\\n",
       "0          -          ASHLAND  ASHLAND AIRPORT    Alabama        Clay   \n",
       "1          -          ASHLAND  ASHLAND AIRPORT    Alabama        Clay   \n",
       "2          -          ASHLAND  ASHLAND AIRPORT    Alabama        Clay   \n",
       "3          -          ASHLAND  ASHLAND AIRPORT    Alabama        Clay   \n",
       "4          -          ASHLAND  ASHLAND AIRPORT    Alabama        Clay   \n",
       "\n",
       "  City Name CBSA Name Date of Last Change  \n",
       "0   Ashland       NaN          2018-07-20  \n",
       "1   Ashland       NaN          2018-07-20  \n",
       "2   Ashland       NaN          2018-07-20  \n",
       "3   Ashland       NaN          2018-07-20  \n",
       "4   Ashland       NaN          2018-07-20  "
      ]
     },
     "execution_count": 6,
     "metadata": {},
     "output_type": "execute_result"
    }
   ],
   "source": [
    "#Look at the first five rows and the final columns\n",
    "ozone0.iloc[:5, 21:]"
   ]
  },
  {
   "cell_type": "code",
   "execution_count": 7,
   "id": "ecd0c86c",
   "metadata": {},
   "outputs": [
    {
     "data": {
      "text/plain": [
       "Event Type\n",
       "Excluded        19\n",
       "Included     18925\n",
       "None        298738\n",
       "dtype: int64"
      ]
     },
     "execution_count": 7,
     "metadata": {},
     "output_type": "execute_result"
    }
   ],
   "source": [
    "#Check whether there are excluded observations in event type\n",
    "ozone0.groupby('Event Type').size()"
   ]
  },
  {
   "cell_type": "code",
   "execution_count": 8,
   "id": "9403a835",
   "metadata": {},
   "outputs": [],
   "source": [
    "#remove excluded event type observations\n",
    "ozone0Cleaned = ozone0[ozone0['Event Type'] !=  'Excluded']"
   ]
  },
  {
   "cell_type": "code",
   "execution_count": 9,
   "id": "45a0ad27",
   "metadata": {},
   "outputs": [
    {
     "name": "stdout",
     "output_type": "stream",
     "text": [
      "3061\n",
      "188\n"
     ]
    }
   ],
   "source": [
    "#check for state codes of 80 or CC (Country of Mexico or Canada) in ozone0Cleaned because\n",
    "#data type of the state code is an object\n",
    "print(np.count_nonzero(ozone0Cleaned['State Code']== '80' ))\n",
    "print(np.count_nonzero(ozone0Cleaned['State Code']== 'CC' ))"
   ]
  },
  {
   "cell_type": "code",
   "execution_count": 10,
   "id": "82657d38",
   "metadata": {},
   "outputs": [
    {
     "name": "stdout",
     "output_type": "stream",
     "text": [
      "<class 'pandas.core.frame.DataFrame'>\n",
      "Int64Index: 314414 entries, 0 to 314432\n",
      "Data columns (total 29 columns):\n",
      " #   Column               Non-Null Count   Dtype  \n",
      "---  ------               --------------   -----  \n",
      " 0   State Code           314414 non-null  object \n",
      " 1   County Code          314414 non-null  int64  \n",
      " 2   Site Num             314414 non-null  int64  \n",
      " 3   Parameter Code       314414 non-null  int64  \n",
      " 4   POC                  314414 non-null  int64  \n",
      " 5   Latitude             314414 non-null  float64\n",
      " 6   Longitude            314414 non-null  float64\n",
      " 7   Datum                314414 non-null  object \n",
      " 8   Parameter Name       314414 non-null  object \n",
      " 9   Sample Duration      314414 non-null  object \n",
      " 10  Pollutant Standard   314414 non-null  object \n",
      " 11  Date Local           314414 non-null  object \n",
      " 12  Units of Measure     314414 non-null  object \n",
      " 13  Event Type           314414 non-null  object \n",
      " 14  Observation Count    314414 non-null  int64  \n",
      " 15  Observation Percent  314414 non-null  float64\n",
      " 16  Arithmetic Mean      314414 non-null  float64\n",
      " 17  1st Max Value        314414 non-null  float64\n",
      " 18  1st Max Hour         314414 non-null  int64  \n",
      " 19  AQI                  314414 non-null  int64  \n",
      " 20  Method Code          0 non-null       float64\n",
      " 21  Method Name          314414 non-null  object \n",
      " 22  Local Site Name      280069 non-null  object \n",
      " 23  Address              314414 non-null  object \n",
      " 24  State Name           314414 non-null  object \n",
      " 25  County Name          314414 non-null  object \n",
      " 26  City Name            314414 non-null  object \n",
      " 27  CBSA Name            288464 non-null  object \n",
      " 28  Date of Last Change  314414 non-null  object \n",
      "dtypes: float64(6), int64(7), object(16)\n",
      "memory usage: 72.0+ MB\n"
     ]
    }
   ],
   "source": [
    "#remove observations from Mexico and Canada\n",
    "ozone0ReCleaned = ozone0Cleaned[ozone0Cleaned['State Code'] != '80']\n",
    "ozone0Recleaned = ozone0ReCleaned[ozone0ReCleaned['State Code'] != 'CC']\n",
    "ozone0Recleaned.info()\n",
    "#print(np.count_nonzero(ozone0ReCleaned['State Code']== 'CC' ))\n",
    "#print(np.count_nonzero(ozone0Recleaned['State Code']== 'CC' ))\n"
   ]
  },
  {
   "cell_type": "code",
   "execution_count": 11,
   "id": "7947b39b",
   "metadata": {},
   "outputs": [
    {
     "data": {
      "text/plain": [
       "count    314602.000000\n",
       "mean          0.045511\n",
       "std           0.018595\n",
       "min           0.000000\n",
       "25%           0.032000\n",
       "50%           0.044000\n",
       "75%           0.057000\n",
       "max           0.172000\n",
       "Name: 1st Max Value, dtype: float64"
      ]
     },
     "execution_count": 11,
     "metadata": {},
     "output_type": "execute_result"
    }
   ],
   "source": [
    "#The column of interest is the 1st Max Value. Extract that column and print a brief summary\n",
    "x0Updated = ozone0ReCleaned['1st Max Value']\n",
    "x0Updated.describe()"
   ]
  },
  {
   "cell_type": "code",
   "execution_count": 12,
   "id": "64189946",
   "metadata": {},
   "outputs": [],
   "source": [
    "ozone1 = pd.read_csv('C:\\\\Users\\\\Mary\\\\CIS5898\\\\daily_44201_2012.csv') #read in ozone data for 2012"
   ]
  },
  {
   "cell_type": "code",
   "execution_count": 13,
   "id": "9c22e91c",
   "metadata": {},
   "outputs": [
    {
     "name": "stdout",
     "output_type": "stream",
     "text": [
      "<class 'pandas.core.frame.DataFrame'>\n",
      "RangeIndex: 386439 entries, 0 to 386438\n",
      "Data columns (total 29 columns):\n",
      " #   Column               Non-Null Count   Dtype  \n",
      "---  ------               --------------   -----  \n",
      " 0   State Code           386439 non-null  int64  \n",
      " 1   County Code          386439 non-null  int64  \n",
      " 2   Site Num             386439 non-null  int64  \n",
      " 3   Parameter Code       386439 non-null  int64  \n",
      " 4   POC                  386439 non-null  int64  \n",
      " 5   Latitude             386439 non-null  float64\n",
      " 6   Longitude            386439 non-null  float64\n",
      " 7   Datum                386439 non-null  object \n",
      " 8   Parameter Name       386439 non-null  object \n",
      " 9   Sample Duration      386439 non-null  object \n",
      " 10  Pollutant Standard   386439 non-null  object \n",
      " 11  Date Local           386439 non-null  object \n",
      " 12  Units of Measure     386439 non-null  object \n",
      " 13  Event Type           386439 non-null  object \n",
      " 14  Observation Count    386439 non-null  int64  \n",
      " 15  Observation Percent  386439 non-null  float64\n",
      " 16  Arithmetic Mean      386439 non-null  float64\n",
      " 17  1st Max Value        386439 non-null  float64\n",
      " 18  1st Max Hour         386439 non-null  int64  \n",
      " 19  AQI                  386439 non-null  int64  \n",
      " 20  Method Code          0 non-null       float64\n",
      " 21  Method Name          386439 non-null  object \n",
      " 22  Local Site Name      369645 non-null  object \n",
      " 23  Address              386439 non-null  object \n",
      " 24  State Name           386439 non-null  object \n",
      " 25  County Name          386439 non-null  object \n",
      " 26  City Name            386439 non-null  object \n",
      " 27  CBSA Name            347596 non-null  object \n",
      " 28  Date of Last Change  386439 non-null  object \n",
      "dtypes: float64(6), int64(8), object(15)\n",
      "memory usage: 85.5+ MB\n",
      "None\n",
      "2\n",
      "(386439, 29)\n"
     ]
    }
   ],
   "source": [
    "print(ozone1.info()) #provides basic information on data\n",
    "print(ozone1.ndim) #provides dimensions\n",
    "print(ozone1.shape) #provides number of rows and number of columns "
   ]
  },
  {
   "cell_type": "code",
   "execution_count": 14,
   "id": "5cc892de",
   "metadata": {},
   "outputs": [
    {
     "data": {
      "text/plain": [
       "Event Type\n",
       "Excluded       354\n",
       "Included     12538\n",
       "None        373547\n",
       "dtype: int64"
      ]
     },
     "execution_count": 14,
     "metadata": {},
     "output_type": "execute_result"
    }
   ],
   "source": [
    "#Check whether there are excluded observations in event type\n",
    "ozone1.groupby('Event Type').size()"
   ]
  },
  {
   "cell_type": "code",
   "execution_count": 15,
   "id": "7ceb54ee",
   "metadata": {},
   "outputs": [],
   "source": [
    "#remove excluded event type observations\n",
    "ozone1Cleaned = ozone1[ozone1['Event Type'] !=  'Excluded']"
   ]
  },
  {
   "cell_type": "code",
   "execution_count": 16,
   "id": "e92986f7",
   "metadata": {},
   "outputs": [
    {
     "name": "stdout",
     "output_type": "stream",
     "text": [
      "1432\n",
      "0\n"
     ]
    }
   ],
   "source": [
    "#check for state codes of 80 and CC in ozone1Cleaned\n",
    "print(np.count_nonzero(ozone1Cleaned['State Code']== 80))\n",
    "print(np.count_nonzero(ozone1Cleaned['State Code']== 'CC'))"
   ]
  },
  {
   "cell_type": "code",
   "execution_count": 17,
   "id": "9bc996f2",
   "metadata": {},
   "outputs": [],
   "source": [
    "#remove observations with state codes of 80\n",
    "ozone1ReCleaned = ozone1Cleaned[ozone1Cleaned['State Code']!= 80]"
   ]
  },
  {
   "cell_type": "code",
   "execution_count": 18,
   "id": "dba32992",
   "metadata": {},
   "outputs": [
    {
     "data": {
      "text/plain": [
       "count    384653.000000\n",
       "mean          0.043062\n",
       "std           0.014444\n",
       "min           0.000000\n",
       "25%           0.033000\n",
       "50%           0.042000\n",
       "75%           0.053000\n",
       "max           0.136000\n",
       "Name: 1st Max Value, dtype: float64"
      ]
     },
     "execution_count": 18,
     "metadata": {},
     "output_type": "execute_result"
    }
   ],
   "source": [
    "#Again, the column of interest is the 1st Max Value. Extract the column and print a brief summary\n",
    "x1Updated = ozone1ReCleaned['1st Max Value']\n",
    "x1Updated.describe()"
   ]
  },
  {
   "cell_type": "code",
   "execution_count": 19,
   "id": "6dc699c6",
   "metadata": {},
   "outputs": [],
   "source": [
    "ozone2 = pd.read_csv('C:\\\\Users\\\\Mary\\\\CIS5898\\\\daily_44201_2020.csv') #read in ozone data for 2020"
   ]
  },
  {
   "cell_type": "code",
   "execution_count": 20,
   "id": "99fad039",
   "metadata": {},
   "outputs": [
    {
     "data": {
      "text/plain": [
       "Event Type\n",
       "Excluded       369\n",
       "Included      8208\n",
       "None        383346\n",
       "dtype: int64"
      ]
     },
     "execution_count": 20,
     "metadata": {},
     "output_type": "execute_result"
    }
   ],
   "source": [
    "#Check whether there are excluded observations in event type\n",
    "ozone2.groupby('Event Type').size()"
   ]
  },
  {
   "cell_type": "code",
   "execution_count": 21,
   "id": "b9d9f425",
   "metadata": {},
   "outputs": [],
   "source": [
    "#remove excluded event type observations\n",
    "ozone2Cleaned = ozone2[ozone2['Event Type'] !=  'Excluded']"
   ]
  },
  {
   "cell_type": "code",
   "execution_count": 22,
   "id": "f0789782",
   "metadata": {},
   "outputs": [
    {
     "data": {
      "text/plain": [
       "146"
      ]
     },
     "execution_count": 22,
     "metadata": {},
     "output_type": "execute_result"
    }
   ],
   "source": [
    "#check for state codes of 80 in ozone2Cleaned\n",
    "np.count_nonzero(ozone2Cleaned['State Code']== 80)"
   ]
  },
  {
   "cell_type": "code",
   "execution_count": 23,
   "id": "fafb160a",
   "metadata": {},
   "outputs": [],
   "source": [
    "#remove observations with state codes of 80\n",
    "ozone2ReCleaned = ozone2Cleaned[ozone2Cleaned['State Code']!= 80]"
   ]
  },
  {
   "cell_type": "code",
   "execution_count": 24,
   "id": "2d7205ee",
   "metadata": {},
   "outputs": [
    {
     "data": {
      "text/plain": [
       "count    391408.000000\n",
       "mean          0.039174\n",
       "std           0.012182\n",
       "min          -0.003000\n",
       "25%           0.031000\n",
       "50%           0.039000\n",
       "75%           0.046000\n",
       "max           0.183000\n",
       "Name: 1st Max Value, dtype: float64"
      ]
     },
     "execution_count": 24,
     "metadata": {},
     "output_type": "execute_result"
    }
   ],
   "source": [
    "#Again, the column of interest is the 1st Max Value. Extract the column and print a brief summary\n",
    "x2Updated = ozone2ReCleaned['1st Max Value']\n",
    "x2Updated.describe() "
   ]
  },
  {
   "cell_type": "code",
   "execution_count": 25,
   "id": "4ec66571",
   "metadata": {},
   "outputs": [
    {
     "name": "stdout",
     "output_type": "stream",
     "text": [
      "2\n",
      "0.0005103043199812208\n"
     ]
    }
   ],
   "source": [
    "#Look into the number of negative numbers in ozone 2020 dataset\n",
    "countNegativeValues = np.count_nonzero(x2Updated < 0) #find count of negative values\n",
    "print(countNegativeValues)\n",
    "print((countNegativeValues / len(ozone2)) * 100) #find percentage of negative values "
   ]
  },
  {
   "cell_type": "code",
   "execution_count": 26,
   "id": "15108077",
   "metadata": {},
   "outputs": [],
   "source": [
    "#Ignore the 2 negative values in the 2020 dataset."
   ]
  },
  {
   "cell_type": "markdown",
   "id": "9fb1b49b",
   "metadata": {},
   "source": [
    "## Compare aggregate changes in ozone for years 1999, 2012, and 2020"
   ]
  },
  {
   "cell_type": "code",
   "execution_count": 27,
   "id": "084c15f9",
   "metadata": {},
   "outputs": [
    {
     "data": {
      "text/plain": [
       "Text(0, 0.5, 'sample values (ppm)')"
      ]
     },
     "execution_count": 27,
     "metadata": {},
     "output_type": "execute_result"
    },
    {
     "data": {
      "image/png": "[encoded data removed]",
      "text/plain": [
       "<Figure size 648x432 with 1 Axes>"
      ]
     },
     "metadata": {},
     "output_type": "display_data"
    }
   ],
   "source": [
    "# Compare aggregate changes in ozone for years 1999, 2012, and 2020 by making boxplots.\n",
    "import matplotlib.pyplot as plt\n",
    "%matplotlib inline\n",
    "\n",
    "plt.style.use('ggplot')\n",
    "fig = plt.figure(figsize = [9, 6]) #make larger\n",
    "years = [x0Updated, x1Updated, x2Updated]\n",
    "plt.boxplot(years)\n",
    "plt.title('Dispersion of Daily Maximum Ozone Concentration')\n",
    "plt.xticks(np.arange(4), ['', '1999','2012', '2020'])\n",
    "plt.ylabel('sample values (ppm)')"
   ]
  },
  {
   "cell_type": "code",
   "execution_count": 28,
   "id": "d90da2b4",
   "metadata": {},
   "outputs": [],
   "source": [
    "plt.close()"
   ]
  },
  {
   "cell_type": "markdown",
   "id": "7098548f",
   "metadata": {},
   "source": [
    "The boxplot shows a slight downward trend in the median maximum ozone concentration from 1999 to 2020. The range of values is largest in the third dataset (2020). The third dataset has the most outliers and has the \n",
    "highest maximum value of the three datasets. "
   ]
  },
  {
   "cell_type": "code",
   "execution_count": 29,
   "id": "69b871e6",
   "metadata": {},
   "outputs": [
    {
     "data": {
      "text/plain": [
       "Text(0, 0.5, 'sample values (ppm)')"
      ]
     },
     "execution_count": 29,
     "metadata": {},
     "output_type": "execute_result"
    },
    {
     "data": {
      "image/png": "[encoded data removed]",
      "text/plain": [
       "<Figure size 648x432 with 1 Axes>"
      ]
     },
     "metadata": {},
     "output_type": "display_data"
    }
   ],
   "source": [
    "#re-create the boxplots removing the outliers\n",
    "fig1 = plt.figure(figsize = [9, 6]) #make larger\n",
    "years = [x0Updated, x1Updated, x2Updated]\n",
    "plt.boxplot(years, showfliers=False)\n",
    "plt.title('Daily Maximum Ozone Concentration, Outliers Removed')\n",
    "plt.xticks(np.arange(4), ['', '1999','2012', '2020'])\n",
    "plt.ylabel('sample values (ppm)')"
   ]
  },
  {
   "cell_type": "code",
   "execution_count": 30,
   "id": "ba9d232b",
   "metadata": {},
   "outputs": [],
   "source": [
    "plt.close()"
   ]
  },
  {
   "cell_type": "markdown",
   "id": "eb79ffff",
   "metadata": {},
   "source": [
    "## How have state levels of ozone changed over time?"
   ]
  },
  {
   "cell_type": "code",
   "execution_count": 31,
   "id": "ee9d0183",
   "metadata": {},
   "outputs": [],
   "source": [
    "#calculate the ozone for each state in 1999, 2012, and 2020\n",
    "mn0 = ozone0Recleaned['1st Max Value'].groupby(ozone0Recleaned['State Code']).mean()\n",
    "mn1 = ozone1ReCleaned['1st Max Value'].groupby(ozone1ReCleaned['State Code']).mean()\n",
    "mn2 = ozone2ReCleaned['1st Max Value'].groupby(ozone2ReCleaned['State Code']).mean()"
   ]
  },
  {
   "cell_type": "code",
   "execution_count": 32,
   "id": "8f691717",
   "metadata": {},
   "outputs": [],
   "source": [
    "#Make separate data frames for states / years\n",
    "d0 = pd.DataFrame(mn0.to_frame().reset_index())\n",
    "d1 = pd.DataFrame(mn1.to_frame().reset_index())\n",
    "d2 = pd.DataFrame(mn2.to_frame().reset_index())"
   ]
  },
  {
   "cell_type": "markdown",
   "id": "dbded2d2",
   "metadata": {},
   "source": [
    "### Compare 1999 and 2012 ozone levels"
   ]
  },
  {
   "cell_type": "code",
   "execution_count": 33,
   "id": "a1ef053b",
   "metadata": {},
   "outputs": [
    {
     "name": "stdout",
     "output_type": "stream",
     "text": [
      "<class 'pandas.core.frame.DataFrame'>\n",
      "RangeIndex: 53 entries, 0 to 52\n",
      "Data columns (total 2 columns):\n",
      " #   Column         Non-Null Count  Dtype  \n",
      "---  ------         --------------  -----  \n",
      " 0   State Code     53 non-null     object \n",
      " 1   1st Max Value  53 non-null     float64\n",
      "dtypes: float64(1), object(1)\n",
      "memory usage: 976.0+ bytes\n",
      "None\n",
      "<class 'pandas.core.frame.DataFrame'>\n",
      "RangeIndex: 52 entries, 0 to 51\n",
      "Data columns (total 2 columns):\n",
      " #   Column         Non-Null Count  Dtype  \n",
      "---  ------         --------------  -----  \n",
      " 0   State Code     52 non-null     int64  \n",
      " 1   1st Max Value  52 non-null     float64\n",
      "dtypes: float64(1), int64(1)\n",
      "memory usage: 960.0 bytes\n",
      "None\n"
     ]
    }
   ],
   "source": [
    "#check data types of state codes in dataframes before merging\n",
    "print(d0.info())\n",
    "print(d1.info())"
   ]
  },
  {
   "cell_type": "code",
   "execution_count": 34,
   "id": "4ac38e29",
   "metadata": {},
   "outputs": [],
   "source": [
    "#convert d0 State code from object to int so merge can occur\n",
    "d0['State Code'] = d0['State Code'].astype(int)"
   ]
  },
  {
   "cell_type": "code",
   "execution_count": 35,
   "id": "7788889e",
   "metadata": {},
   "outputs": [
    {
     "data": {
      "text/html": [
       "<div>\n",
       "<style scoped>\n",
       "    .dataframe tbody tr th:only-of-type {\n",
       "        vertical-align: middle;\n",
       "    }\n",
       "\n",
       "    .dataframe tbody tr th {\n",
       "        vertical-align: top;\n",
       "    }\n",
       "\n",
       "    .dataframe thead th {\n",
       "        text-align: right;\n",
       "    }\n",
       "</style>\n",
       "<table border=\"1\" class=\"dataframe\">\n",
       "  <thead>\n",
       "    <tr style=\"text-align: right;\">\n",
       "      <th></th>\n",
       "      <th>State Code</th>\n",
       "      <th>1st Max Value_x</th>\n",
       "      <th>1st Max Value_y</th>\n",
       "    </tr>\n",
       "  </thead>\n",
       "  <tbody>\n",
       "    <tr>\n",
       "      <th>0</th>\n",
       "      <td>1</td>\n",
       "      <td>0.050486</td>\n",
       "      <td>0.043559</td>\n",
       "    </tr>\n",
       "    <tr>\n",
       "      <th>1</th>\n",
       "      <td>2</td>\n",
       "      <td>0.033153</td>\n",
       "      <td>0.028425</td>\n",
       "    </tr>\n",
       "    <tr>\n",
       "      <th>2</th>\n",
       "      <td>4</td>\n",
       "      <td>0.051214</td>\n",
       "      <td>0.048763</td>\n",
       "    </tr>\n",
       "    <tr>\n",
       "      <th>3</th>\n",
       "      <td>5</td>\n",
       "      <td>0.043615</td>\n",
       "      <td>0.042730</td>\n",
       "    </tr>\n",
       "    <tr>\n",
       "      <th>4</th>\n",
       "      <td>6</td>\n",
       "      <td>0.043602</td>\n",
       "      <td>0.043648</td>\n",
       "    </tr>\n",
       "  </tbody>\n",
       "</table>\n",
       "</div>"
      ],
      "text/plain": [
       "   State Code  1st Max Value_x  1st Max Value_y\n",
       "0           1         0.050486         0.043559\n",
       "1           2         0.033153         0.028425\n",
       "2           4         0.051214         0.048763\n",
       "3           5         0.043615         0.042730\n",
       "4           6         0.043602         0.043648"
      ]
     },
     "execution_count": 35,
     "metadata": {},
     "output_type": "execute_result"
    }
   ],
   "source": [
    "mrg = pd.merge(d0, d1, on = 'State Code')\n",
    "mrg.head()"
   ]
  },
  {
   "cell_type": "code",
   "execution_count": 36,
   "id": "02ff4767",
   "metadata": {},
   "outputs": [],
   "source": [
    "#rename columns\n",
    "mrg = mrg.rename(columns = {'1st Max Value_x' : 'max x', '1st Max Value_y' : 'max y'})\n",
    "#mrg"
   ]
  },
  {
   "cell_type": "code",
   "execution_count": 55,
   "id": "f84964b2",
   "metadata": {},
   "outputs": [
    {
     "data": {
      "text/plain": [
       "[Text(1, 0, '1999'), Text(3, 0, '2012')]"
      ]
     },
     "execution_count": 55,
     "metadata": {},
     "output_type": "execute_result"
    },
    {
     "data": {
      "image/png": "[encoded data removed]",
      "text/plain": [
       "<Figure size 640x640 with 1 Axes>"
      ]
     },
     "metadata": {},
     "output_type": "display_data"
    }
   ],
   "source": [
    "#Code for this plot was modified from slope chart on\n",
    "#https://www.machinelearningplus.com/plots/top-50-matplotlib-visualizations-the-master-plots-python/\n",
    "import matplotlib.lines as mlines\n",
    "\n",
    "def newline(p1, p2, color='black'):\n",
    "    ax = plt.gca()\n",
    "    l = mlines.Line2D([p1[0],p2[0]], [p1[1],p2[1]], color='blue' if p1[1]-p2[1] > 0 else 'red',  marker='o', markersize=6)\n",
    "    ax.add_line(l)\n",
    "    return l\n",
    "\n",
    "fig, ax = plt.subplots(1,1,figsize=(8,8), dpi= 80)\n",
    "\n",
    "# Vertical Lines \n",
    "#ax.vlines(x=1, ymin=500, ymax=13000, color='black', alpha=0.7, linewidth=1, linestyles='dotted')\n",
    "ax.vlines(x=1, ymin= 0, ymax=1, color='black', alpha=0.7, linewidth=1, linestyles='dotted')\n",
    "ax.vlines(x=3, ymin=0, ymax=1, color='black', alpha=0.7, linewidth=1, linestyles='dotted')\n",
    "\n",
    "# Points\n",
    "ax.scatter(y=mrg['max x'], x=np.repeat(1, mrg.shape[0]), s=10, color='black', alpha=0.7)\n",
    "ax.scatter(y=mrg['max y'], x=np.repeat(3, mrg.shape[0]), s=10, color='black', alpha=0.7)\n",
    "\n",
    "# Line Segmentsand Annotation\n",
    "for p1, p2, c in zip(mrg['max x'], mrg['max y'], mrg['State Code']):\n",
    "    newline([1,p1], [3,p2])\n",
    "    \n",
    "# Decoration\n",
    "ax.set_title(\"Comparing Statewide Ozone Levels between 1999 and 2012\")\n",
    "ax.set(xlim=(0,4), ylim=(0.01,0.06), ylabel='Statewide Ozone (ppm)')\n",
    "ax.set_xticks([1,3])\n",
    "ax.set_xticklabels([\"1999\", \"2012\"])"
   ]
  },
  {
   "cell_type": "markdown",
   "id": "c5ed6782",
   "metadata": {},
   "source": [
    "More states have decreased ozone levels from 1999 to 2012 than increased levels. Increases are depicted with red lines."
   ]
  },
  {
   "cell_type": "code",
   "execution_count": 38,
   "id": "4a4050c8",
   "metadata": {},
   "outputs": [],
   "source": [
    "plt.close()"
   ]
  },
  {
   "cell_type": "markdown",
   "id": "2be18636",
   "metadata": {},
   "source": [
    "### Compare 2012 and 2020 ozone levels"
   ]
  },
  {
   "cell_type": "code",
   "execution_count": 39,
   "id": "92e0c561",
   "metadata": {},
   "outputs": [
    {
     "name": "stdout",
     "output_type": "stream",
     "text": [
      "<class 'pandas.core.frame.DataFrame'>\n",
      "RangeIndex: 52 entries, 0 to 51\n",
      "Data columns (total 2 columns):\n",
      " #   Column         Non-Null Count  Dtype  \n",
      "---  ------         --------------  -----  \n",
      " 0   State Code     52 non-null     int64  \n",
      " 1   1st Max Value  52 non-null     float64\n",
      "dtypes: float64(1), int64(1)\n",
      "memory usage: 960.0 bytes\n",
      "None\n"
     ]
    }
   ],
   "source": [
    "#check data types of state codes in 2020 dataframe before merging\n",
    "print(d2.info())"
   ]
  },
  {
   "cell_type": "code",
   "execution_count": 40,
   "id": "498315f8",
   "metadata": {},
   "outputs": [
    {
     "data": {
      "text/html": [
       "<div>\n",
       "<style scoped>\n",
       "    .dataframe tbody tr th:only-of-type {\n",
       "        vertical-align: middle;\n",
       "    }\n",
       "\n",
       "    .dataframe tbody tr th {\n",
       "        vertical-align: top;\n",
       "    }\n",
       "\n",
       "    .dataframe thead th {\n",
       "        text-align: right;\n",
       "    }\n",
       "</style>\n",
       "<table border=\"1\" class=\"dataframe\">\n",
       "  <thead>\n",
       "    <tr style=\"text-align: right;\">\n",
       "      <th></th>\n",
       "      <th>State Code</th>\n",
       "      <th>1st Max Value_x</th>\n",
       "      <th>1st Max Value_y</th>\n",
       "    </tr>\n",
       "  </thead>\n",
       "  <tbody>\n",
       "    <tr>\n",
       "      <th>0</th>\n",
       "      <td>1</td>\n",
       "      <td>0.043559</td>\n",
       "      <td>0.036378</td>\n",
       "    </tr>\n",
       "    <tr>\n",
       "      <th>1</th>\n",
       "      <td>2</td>\n",
       "      <td>0.028425</td>\n",
       "      <td>0.031169</td>\n",
       "    </tr>\n",
       "    <tr>\n",
       "      <th>2</th>\n",
       "      <td>4</td>\n",
       "      <td>0.048763</td>\n",
       "      <td>0.047856</td>\n",
       "    </tr>\n",
       "    <tr>\n",
       "      <th>3</th>\n",
       "      <td>5</td>\n",
       "      <td>0.042730</td>\n",
       "      <td>0.035418</td>\n",
       "    </tr>\n",
       "    <tr>\n",
       "      <th>4</th>\n",
       "      <td>6</td>\n",
       "      <td>0.043648</td>\n",
       "      <td>0.043002</td>\n",
       "    </tr>\n",
       "  </tbody>\n",
       "</table>\n",
       "</div>"
      ],
      "text/plain": [
       "   State Code  1st Max Value_x  1st Max Value_y\n",
       "0           1         0.043559         0.036378\n",
       "1           2         0.028425         0.031169\n",
       "2           4         0.048763         0.047856\n",
       "3           5         0.042730         0.035418\n",
       "4           6         0.043648         0.043002"
      ]
     },
     "execution_count": 40,
     "metadata": {},
     "output_type": "execute_result"
    }
   ],
   "source": [
    "mrg1 = pd.merge(d1, d2, on = 'State Code')\n",
    "mrg1.head()"
   ]
  },
  {
   "cell_type": "code",
   "execution_count": 41,
   "id": "561a459f",
   "metadata": {},
   "outputs": [],
   "source": [
    "#rename columns\n",
    "mrg1 = mrg1.rename(columns = {'1st Max Value_x' : 'max x', '1st Max Value_y' : 'max y'})"
   ]
  },
  {
   "cell_type": "code",
   "execution_count": 56,
   "id": "b8a954b3",
   "metadata": {},
   "outputs": [
    {
     "data": {
      "text/plain": [
       "[Text(1, 0, '2012'), Text(3, 0, '2022')]"
      ]
     },
     "execution_count": 56,
     "metadata": {},
     "output_type": "execute_result"
    },
    {
     "data": {
      "image/png": "[encoded data removed]",
      "text/plain": [
       "<Figure size 640x640 with 1 Axes>"
      ]
     },
     "metadata": {},
     "output_type": "display_data"
    }
   ],
   "source": [
    "#Code for this plot was modified from slope chart on\n",
    "#https://www.machinelearningplus.com/plots/top-50-matplotlib-visualizations-the-master-plots-python/\n",
    "import matplotlib.lines as mlines\n",
    "\n",
    "def newline(p1, p2, color='black'):\n",
    "    ax = plt.gca()\n",
    "    l = mlines.Line2D([p1[0],p2[0]], [p1[1],p2[1]], color='blue' if p1[1]-p2[1] > 0 else 'red',  marker='o', markersize=6)\n",
    "    ax.add_line(l)\n",
    "    return l\n",
    "\n",
    "fig, ax = plt.subplots(1,1,figsize=(8,8), dpi= 80)\n",
    "\n",
    "# Vertical Lines \n",
    "#ax.vlines(x=1, ymin=500, ymax=13000, color='black', alpha=0.7, linewidth=1, linestyles='dotted')\n",
    "ax.vlines(x=1, ymin= 0, ymax=1, color='black', alpha=0.7, linewidth=1, linestyles='dotted')\n",
    "ax.vlines(x=3, ymin=0, ymax=1, color='black', alpha=0.7, linewidth=1, linestyles='dotted')\n",
    "\n",
    "# Points\n",
    "ax.scatter(y=mrg1['max x'], x=np.repeat(1, mrg1.shape[0]), s=10, color='black', alpha=0.7)\n",
    "ax.scatter(y=mrg1['max y'], x=np.repeat(3, mrg1.shape[0]), s=10, color='black', alpha=0.7)\n",
    "\n",
    "# Line Segmentsand Annotation\n",
    "for p1, p2, c in zip(mrg1['max x'], mrg1['max y'], mrg1['State Code']):\n",
    "    newline([1,p1], [3,p2])\n",
    "    \n",
    "# Decoration\n",
    "ax.set_title('Comparing Statewide Ozone Levels between 2012 and 2022')\n",
    "ax.set(xlim=(0,4), ylim=(0.01,0.06), ylabel='Statewide Ozone (ppm)')\n",
    "ax.set_xticks([1,3])\n",
    "ax.set_xticklabels(['2012', '2022'])"
   ]
  },
  {
   "cell_type": "markdown",
   "id": "959f8968",
   "metadata": {},
   "source": [
    "Most states have decreased ozone levels from 2012 to 2020. Two states\n",
    "have increased levels; increases are depicted with red lines."
   ]
  },
  {
   "cell_type": "code",
   "execution_count": 74,
   "id": "04012212",
   "metadata": {},
   "outputs": [],
   "source": [
    "plt.close()"
   ]
  },
  {
   "cell_type": "markdown",
   "id": "7f99540a",
   "metadata": {},
   "source": [
    "## Which states have the highest levels of ozone?\n"
   ]
  },
  {
   "cell_type": "code",
   "execution_count": 47,
   "id": "41211a40",
   "metadata": {},
   "outputs": [],
   "source": [
    "#Need a new datafile from AQS on site information\n",
    "#This was completed in the PM2.5 studies and copied/pasted into this ozone notebook\n",
    "sites = pd.read_csv('C:\\\\Users\\\\Mary\\\\CIS5898\\\\FIT_capstone\\\\Original_datasets\\\\aqs_sites.csv')\n"
   ]
  },
  {
   "cell_type": "code",
   "execution_count": 48,
   "id": "ac9593b4",
   "metadata": {},
   "outputs": [
    {
     "name": "stdout",
     "output_type": "stream",
     "text": [
      "<class 'pandas.core.frame.DataFrame'>\n",
      "RangeIndex: 54 entries, 0 to 53\n",
      "Data columns (total 2 columns):\n",
      " #   Column      Non-Null Count  Dtype \n",
      "---  ------      --------------  ----- \n",
      " 0   State Name  54 non-null     object\n",
      " 1   State Code  54 non-null     int32 \n",
      "dtypes: int32(1), object(1)\n",
      "memory usage: 776.0+ bytes\n",
      "None\n",
      "              State Name  State Code\n",
      "0                Alabama           1\n",
      "1                 Alaska           2\n",
      "2                Arizona           4\n",
      "3               Arkansas           5\n",
      "4             California           6\n",
      "5               Colorado           8\n",
      "6            Connecticut           9\n",
      "7               Delaware          10\n",
      "8   District Of Columbia          11\n",
      "9                Florida          12\n",
      "10               Georgia          13\n",
      "11                Hawaii          15\n",
      "12                 Idaho          16\n",
      "13              Illinois          17\n",
      "14               Indiana          18\n",
      "15                  Iowa          19\n",
      "16                Kansas          20\n",
      "17              Kentucky          21\n",
      "18             Louisiana          22\n",
      "19                 Maine          23\n",
      "20              Maryland          24\n",
      "21         Massachusetts          25\n",
      "22              Michigan          26\n",
      "23             Minnesota          27\n",
      "24           Mississippi          28\n",
      "25              Missouri          29\n",
      "26               Montana          30\n",
      "27              Nebraska          31\n",
      "28                Nevada          32\n",
      "29         New Hampshire          33\n",
      "30            New Jersey          34\n",
      "31            New Mexico          35\n",
      "32              New York          36\n",
      "33        North Carolina          37\n",
      "34          North Dakota          38\n",
      "35                  Ohio          39\n",
      "36              Oklahoma          40\n",
      "37                Oregon          41\n",
      "38          Pennsylvania          42\n",
      "39          Rhode Island          44\n",
      "40        South Carolina          45\n",
      "41          South Dakota          46\n",
      "42             Tennessee          47\n",
      "43                 Texas          48\n",
      "44                  Utah          49\n",
      "45               Vermont          50\n",
      "46              Virginia          51\n",
      "47            Washington          53\n",
      "48         West Virginia          54\n",
      "49             Wisconsin          55\n",
      "50               Wyoming          56\n",
      "51                  Guam          66\n",
      "52           Puerto Rico          72\n",
      "53        Virgin Islands          78\n"
     ]
    }
   ],
   "source": [
    "sitesSubset = sites[['State Code', 'State Name']]\n",
    "sitesStateNames = sitesSubset['State Name'].unique()\n",
    "sitesStateNames\n",
    "#remove 'Country Of Mexico' and 'Canada' but leave in Guam, Puerto Rico, and Virgin Islands\n",
    "cleanedSitesStateNames = np.delete(sitesStateNames, [-2, -1]) #by index\n",
    "cleanedSitesStateNames\n",
    "\n",
    "sitesStateCodes = sitesSubset['State Code'].unique()\n",
    "sitesStateCodes\n",
    "#remove the last two elements that correspond with Mexico and Canada\n",
    "cleanedSitesStateCodes = np.delete(sitesStateCodes, [-2, -1]) #by index\n",
    "cleanedSitesStateCodes\n",
    "\n",
    "cleanedSites = pd.DataFrame(data = [cleanedSitesStateNames, cleanedSitesStateCodes]).T\n",
    "cleanedSites.columns = ['State Name', 'State Code']\n",
    "cleanedSites\n",
    "\n",
    "cleanedSites['State Code'] = cleanedSites['State Code'].astype(int)\n",
    "cleanedSites\n",
    "print(cleanedSites.info())\n",
    "print(cleanedSites)\n"
   ]
  },
  {
   "cell_type": "code",
   "execution_count": 53,
   "id": "4fb83662",
   "metadata": {},
   "outputs": [
    {
     "data": {
      "text/html": [
       "<div>\n",
       "<style scoped>\n",
       "    .dataframe tbody tr th:only-of-type {\n",
       "        vertical-align: middle;\n",
       "    }\n",
       "\n",
       "    .dataframe tbody tr th {\n",
       "        vertical-align: top;\n",
       "    }\n",
       "\n",
       "    .dataframe thead th {\n",
       "        text-align: right;\n",
       "    }\n",
       "</style>\n",
       "<table border=\"1\" class=\"dataframe\">\n",
       "  <thead>\n",
       "    <tr style=\"text-align: right;\">\n",
       "      <th></th>\n",
       "      <th>State Code</th>\n",
       "      <th>1st Max Value</th>\n",
       "      <th>State Name</th>\n",
       "    </tr>\n",
       "  </thead>\n",
       "  <tbody>\n",
       "    <tr>\n",
       "      <th>10</th>\n",
       "      <td>13</td>\n",
       "      <td>0.055384</td>\n",
       "      <td>Georgia</td>\n",
       "    </tr>\n",
       "    <tr>\n",
       "      <th>42</th>\n",
       "      <td>47</td>\n",
       "      <td>0.054777</td>\n",
       "      <td>Tennessee</td>\n",
       "    </tr>\n",
       "    <tr>\n",
       "      <th>44</th>\n",
       "      <td>49</td>\n",
       "      <td>0.054535</td>\n",
       "      <td>Utah</td>\n",
       "    </tr>\n",
       "    <tr>\n",
       "      <th>17</th>\n",
       "      <td>21</td>\n",
       "      <td>0.054107</td>\n",
       "      <td>Kentucky</td>\n",
       "    </tr>\n",
       "    <tr>\n",
       "      <th>33</th>\n",
       "      <td>37</td>\n",
       "      <td>0.053741</td>\n",
       "      <td>North Carolina</td>\n",
       "    </tr>\n",
       "    <tr>\n",
       "      <th>14</th>\n",
       "      <td>18</td>\n",
       "      <td>0.052980</td>\n",
       "      <td>Indiana</td>\n",
       "    </tr>\n",
       "    <tr>\n",
       "      <th>24</th>\n",
       "      <td>28</td>\n",
       "      <td>0.052008</td>\n",
       "      <td>Mississippi</td>\n",
       "    </tr>\n",
       "    <tr>\n",
       "      <th>50</th>\n",
       "      <td>56</td>\n",
       "      <td>0.051687</td>\n",
       "      <td>Wyoming</td>\n",
       "    </tr>\n",
       "    <tr>\n",
       "      <th>2</th>\n",
       "      <td>4</td>\n",
       "      <td>0.051214</td>\n",
       "      <td>Arizona</td>\n",
       "    </tr>\n",
       "    <tr>\n",
       "      <th>48</th>\n",
       "      <td>54</td>\n",
       "      <td>0.051121</td>\n",
       "      <td>West Virginia</td>\n",
       "    </tr>\n",
       "  </tbody>\n",
       "</table>\n",
       "</div>"
      ],
      "text/plain": [
       "    State Code  1st Max Value      State Name\n",
       "10          13       0.055384         Georgia\n",
       "42          47       0.054777       Tennessee\n",
       "44          49       0.054535            Utah\n",
       "17          21       0.054107        Kentucky\n",
       "33          37       0.053741  North Carolina\n",
       "14          18       0.052980         Indiana\n",
       "24          28       0.052008     Mississippi\n",
       "50          56       0.051687         Wyoming\n",
       "2            4       0.051214         Arizona\n",
       "48          54       0.051121   West Virginia"
      ]
     },
     "execution_count": 53,
     "metadata": {},
     "output_type": "execute_result"
    }
   ],
   "source": [
    "d0merged = d0.merge(cleanedSites, on='State Code', how = 'left')\n",
    "d0TopTen = d0merged.sort_values('1st Max Value', ascending = False).head(10)\n",
    "d0TopTen"
   ]
  },
  {
   "cell_type": "code",
   "execution_count": 57,
   "id": "595d514f",
   "metadata": {},
   "outputs": [
    {
     "data": {
      "text/plain": [
       "[Text(0.5, 0, 'Concentrations (ppm)'),\n",
       " Text(0, 0.5, ''),\n",
       " Text(0.5, 1.0, '1999 Highest Concentrations of Ozone')]"
      ]
     },
     "execution_count": 57,
     "metadata": {},
     "output_type": "execute_result"
    },
    {
     "data": {
      "image/png": "[encoded data removed]",
      "text/plain": [
       "<Figure size 432x288 with 1 Axes>"
      ]
     },
     "metadata": {},
     "output_type": "display_data"
    }
   ],
   "source": [
    "ax = sns.barplot(x = d0TopTen['1st Max Value'], y = d0TopTen['State Name'], palette = 'rocket')\n",
    "ax.set(xlabel = 'Concentrations (ppm)', ylabel = '', title='1999 Highest Concentrations of Ozone')"
   ]
  },
  {
   "cell_type": "code",
   "execution_count": 64,
   "id": "f7ca1917",
   "metadata": {},
   "outputs": [],
   "source": [
    "plt.close()"
   ]
  },
  {
   "cell_type": "code",
   "execution_count": 58,
   "id": "206abbb6",
   "metadata": {},
   "outputs": [
    {
     "data": {
      "text/html": [
       "<div>\n",
       "<style scoped>\n",
       "    .dataframe tbody tr th:only-of-type {\n",
       "        vertical-align: middle;\n",
       "    }\n",
       "\n",
       "    .dataframe tbody tr th {\n",
       "        vertical-align: top;\n",
       "    }\n",
       "\n",
       "    .dataframe thead th {\n",
       "        text-align: right;\n",
       "    }\n",
       "</style>\n",
       "<table border=\"1\" class=\"dataframe\">\n",
       "  <thead>\n",
       "    <tr style=\"text-align: right;\">\n",
       "      <th></th>\n",
       "      <th>State Code</th>\n",
       "      <th>1st Max Value</th>\n",
       "      <th>State Name</th>\n",
       "    </tr>\n",
       "  </thead>\n",
       "  <tbody>\n",
       "    <tr>\n",
       "      <th>25</th>\n",
       "      <td>29</td>\n",
       "      <td>0.049654</td>\n",
       "      <td>Missouri</td>\n",
       "    </tr>\n",
       "    <tr>\n",
       "      <th>5</th>\n",
       "      <td>8</td>\n",
       "      <td>0.049241</td>\n",
       "      <td>Colorado</td>\n",
       "    </tr>\n",
       "    <tr>\n",
       "      <th>2</th>\n",
       "      <td>4</td>\n",
       "      <td>0.048763</td>\n",
       "      <td>Arizona</td>\n",
       "    </tr>\n",
       "    <tr>\n",
       "      <th>44</th>\n",
       "      <td>49</td>\n",
       "      <td>0.048563</td>\n",
       "      <td>Utah</td>\n",
       "    </tr>\n",
       "    <tr>\n",
       "      <th>28</th>\n",
       "      <td>32</td>\n",
       "      <td>0.048219</td>\n",
       "      <td>Nevada</td>\n",
       "    </tr>\n",
       "    <tr>\n",
       "      <th>14</th>\n",
       "      <td>18</td>\n",
       "      <td>0.047677</td>\n",
       "      <td>Indiana</td>\n",
       "    </tr>\n",
       "    <tr>\n",
       "      <th>31</th>\n",
       "      <td>35</td>\n",
       "      <td>0.047327</td>\n",
       "      <td>New Mexico</td>\n",
       "    </tr>\n",
       "    <tr>\n",
       "      <th>35</th>\n",
       "      <td>39</td>\n",
       "      <td>0.047230</td>\n",
       "      <td>Ohio</td>\n",
       "    </tr>\n",
       "    <tr>\n",
       "      <th>42</th>\n",
       "      <td>47</td>\n",
       "      <td>0.046996</td>\n",
       "      <td>Tennessee</td>\n",
       "    </tr>\n",
       "    <tr>\n",
       "      <th>17</th>\n",
       "      <td>21</td>\n",
       "      <td>0.046554</td>\n",
       "      <td>Kentucky</td>\n",
       "    </tr>\n",
       "  </tbody>\n",
       "</table>\n",
       "</div>"
      ],
      "text/plain": [
       "    State Code  1st Max Value  State Name\n",
       "25          29       0.049654    Missouri\n",
       "5            8       0.049241    Colorado\n",
       "2            4       0.048763     Arizona\n",
       "44          49       0.048563        Utah\n",
       "28          32       0.048219      Nevada\n",
       "14          18       0.047677     Indiana\n",
       "31          35       0.047327  New Mexico\n",
       "35          39       0.047230        Ohio\n",
       "42          47       0.046996   Tennessee\n",
       "17          21       0.046554    Kentucky"
      ]
     },
     "execution_count": 58,
     "metadata": {},
     "output_type": "execute_result"
    }
   ],
   "source": [
    "#repeat top ten visualizations for years 2012 and 2020\n",
    "d1merged = d1.merge(cleanedSites, on='State Code', how = 'left')\n",
    "d1TopTen = d1merged.sort_values('1st Max Value', ascending = False).head(10)\n",
    "d1TopTen"
   ]
  },
  {
   "cell_type": "code",
   "execution_count": 59,
   "id": "0d529647",
   "metadata": {},
   "outputs": [
    {
     "data": {
      "text/plain": [
       "[Text(0.5, 0, 'Concentrations (ppm)'),\n",
       " Text(0, 0.5, ''),\n",
       " Text(0.5, 1.0, '2012 Highest Concentrations of Ozone')]"
      ]
     },
     "execution_count": 59,
     "metadata": {},
     "output_type": "execute_result"
    },
    {
     "data": {
      "image/png": "[encoded data removed]",
      "text/plain": [
       "<Figure size 432x288 with 1 Axes>"
      ]
     },
     "metadata": {},
     "output_type": "display_data"
    }
   ],
   "source": [
    "ax = sns.barplot(x = d1TopTen['1st Max Value'], y = d1TopTen['State Name'], palette = 'rocket')\n",
    "ax.set(xlabel = 'Concentrations (ppm)', ylabel = '', title='2012 Highest Concentrations of Ozone')"
   ]
  },
  {
   "cell_type": "code",
   "execution_count": 63,
   "id": "530dfd41",
   "metadata": {},
   "outputs": [],
   "source": [
    "plt.close()"
   ]
  },
  {
   "cell_type": "code",
   "execution_count": 60,
   "id": "41d60c4b",
   "metadata": {},
   "outputs": [
    {
     "data": {
      "text/html": [
       "<div>\n",
       "<style scoped>\n",
       "    .dataframe tbody tr th:only-of-type {\n",
       "        vertical-align: middle;\n",
       "    }\n",
       "\n",
       "    .dataframe tbody tr th {\n",
       "        vertical-align: top;\n",
       "    }\n",
       "\n",
       "    .dataframe thead th {\n",
       "        text-align: right;\n",
       "    }\n",
       "</style>\n",
       "<table border=\"1\" class=\"dataframe\">\n",
       "  <thead>\n",
       "    <tr style=\"text-align: right;\">\n",
       "      <th></th>\n",
       "      <th>State Code</th>\n",
       "      <th>1st Max Value</th>\n",
       "      <th>State Name</th>\n",
       "    </tr>\n",
       "  </thead>\n",
       "  <tbody>\n",
       "    <tr>\n",
       "      <th>2</th>\n",
       "      <td>4</td>\n",
       "      <td>0.047856</td>\n",
       "      <td>Arizona</td>\n",
       "    </tr>\n",
       "    <tr>\n",
       "      <th>5</th>\n",
       "      <td>8</td>\n",
       "      <td>0.046161</td>\n",
       "      <td>Colorado</td>\n",
       "    </tr>\n",
       "    <tr>\n",
       "      <th>31</th>\n",
       "      <td>35</td>\n",
       "      <td>0.046047</td>\n",
       "      <td>New Mexico</td>\n",
       "    </tr>\n",
       "    <tr>\n",
       "      <th>28</th>\n",
       "      <td>32</td>\n",
       "      <td>0.044930</td>\n",
       "      <td>Nevada</td>\n",
       "    </tr>\n",
       "    <tr>\n",
       "      <th>50</th>\n",
       "      <td>56</td>\n",
       "      <td>0.044340</td>\n",
       "      <td>Wyoming</td>\n",
       "    </tr>\n",
       "    <tr>\n",
       "      <th>44</th>\n",
       "      <td>49</td>\n",
       "      <td>0.043773</td>\n",
       "      <td>Utah</td>\n",
       "    </tr>\n",
       "    <tr>\n",
       "      <th>4</th>\n",
       "      <td>6</td>\n",
       "      <td>0.043002</td>\n",
       "      <td>California</td>\n",
       "    </tr>\n",
       "    <tr>\n",
       "      <th>6</th>\n",
       "      <td>9</td>\n",
       "      <td>0.040913</td>\n",
       "      <td>Connecticut</td>\n",
       "    </tr>\n",
       "    <tr>\n",
       "      <th>12</th>\n",
       "      <td>16</td>\n",
       "      <td>0.040549</td>\n",
       "      <td>Idaho</td>\n",
       "    </tr>\n",
       "    <tr>\n",
       "      <th>39</th>\n",
       "      <td>44</td>\n",
       "      <td>0.040292</td>\n",
       "      <td>Rhode Island</td>\n",
       "    </tr>\n",
       "  </tbody>\n",
       "</table>\n",
       "</div>"
      ],
      "text/plain": [
       "    State Code  1st Max Value    State Name\n",
       "2            4       0.047856       Arizona\n",
       "5            8       0.046161      Colorado\n",
       "31          35       0.046047    New Mexico\n",
       "28          32       0.044930        Nevada\n",
       "50          56       0.044340       Wyoming\n",
       "44          49       0.043773          Utah\n",
       "4            6       0.043002    California\n",
       "6            9       0.040913   Connecticut\n",
       "12          16       0.040549         Idaho\n",
       "39          44       0.040292  Rhode Island"
      ]
     },
     "execution_count": 60,
     "metadata": {},
     "output_type": "execute_result"
    }
   ],
   "source": [
    "d2merged = d2.merge(cleanedSites, on='State Code', how = 'left')\n",
    "d2TopTen = d2merged.sort_values('1st Max Value', ascending = False).head(10)\n",
    "d2TopTen"
   ]
  },
  {
   "cell_type": "code",
   "execution_count": 61,
   "id": "3820ecd5",
   "metadata": {},
   "outputs": [
    {
     "data": {
      "text/plain": [
       "[Text(0.5, 0, 'Concentrations (ppm)'),\n",
       " Text(0, 0.5, ''),\n",
       " Text(0.5, 1.0, '2020 Highest Concentrations of Ozone')]"
      ]
     },
     "execution_count": 61,
     "metadata": {},
     "output_type": "execute_result"
    },
    {
     "data": {
      "image/png": "[encoded data removed]",
      "text/plain": [
       "<Figure size 432x288 with 1 Axes>"
      ]
     },
     "metadata": {},
     "output_type": "display_data"
    }
   ],
   "source": [
    "ax = sns.barplot(x = d2TopTen['1st Max Value'], y = d2TopTen['State Name'], palette = 'rocket')\n",
    "ax.set(xlabel = 'Concentrations (ppm)', ylabel = '', title='2020 Highest Concentrations of Ozone')"
   ]
  },
  {
   "cell_type": "code",
   "execution_count": 62,
   "id": "b57b9dd2",
   "metadata": {},
   "outputs": [],
   "source": [
    "plt.close()"
   ]
  },
  {
   "cell_type": "markdown",
   "id": "111f9978",
   "metadata": {},
   "source": [
    "## Which states have the lowest levels of ozone?"
   ]
  },
  {
   "cell_type": "code",
   "execution_count": 65,
   "id": "58d53fdc",
   "metadata": {},
   "outputs": [
    {
     "data": {
      "text/plain": [
       "[Text(0.5, 0, 'Concentrations (ppm)'),\n",
       " Text(0, 0.5, ''),\n",
       " Text(0.5, 1.0, '1999 Lowest Concentrations of Ozone')]"
      ]
     },
     "execution_count": 65,
     "metadata": {},
     "output_type": "execute_result"
    },
    {
     "data": {
      "image/png": "[encoded data removed]",
      "text/plain": [
       "<Figure size 432x288 with 1 Axes>"
      ]
     },
     "metadata": {},
     "output_type": "display_data"
    }
   ],
   "source": [
    "d0LowestTen = d0merged.sort_values('1st Max Value').head(10)\n",
    "ax = sns.barplot(x = d0LowestTen['1st Max Value'], y = d0LowestTen['State Name'], palette = 'mako_r')\n",
    "ax.set(xlabel = 'Concentrations (ppm)', ylabel = '', title='1999 Lowest Concentrations of Ozone')"
   ]
  },
  {
   "cell_type": "code",
   "execution_count": 69,
   "id": "97ae9b68",
   "metadata": {},
   "outputs": [],
   "source": [
    "plt.close()"
   ]
  },
  {
   "cell_type": "code",
   "execution_count": 68,
   "id": "3e6ebbd7",
   "metadata": {},
   "outputs": [
    {
     "data": {
      "text/plain": [
       "[Text(0.5, 0, 'Concentrations (ppm)'),\n",
       " Text(0, 0.5, ''),\n",
       " Text(0.5, 1.0, '2012 Lowest Concentrations of Ozone')]"
      ]
     },
     "execution_count": 68,
     "metadata": {},
     "output_type": "execute_result"
    },
    {
     "data": {
      "image/png": "[encoded data removed]",
      "text/plain": [
       "<Figure size 432x288 with 1 Axes>"
      ]
     },
     "metadata": {},
     "output_type": "display_data"
    }
   ],
   "source": [
    "d1LowestTen = d1merged.sort_values('1st Max Value').head(10)\n",
    "ax = sns.barplot(x = d1LowestTen['1st Max Value'], y = d1LowestTen['State Name'], palette = 'mako_r')\n",
    "ax.set(xlabel = 'Concentrations (ppm)', ylabel = '', title='2012 Lowest Concentrations of Ozone')"
   ]
  },
  {
   "cell_type": "code",
   "execution_count": 70,
   "id": "c0f4f430",
   "metadata": {},
   "outputs": [],
   "source": [
    "plt.close()"
   ]
  },
  {
   "cell_type": "code",
   "execution_count": 71,
   "id": "64bbfcb8",
   "metadata": {},
   "outputs": [
    {
     "data": {
      "text/plain": [
       "[Text(0.5, 0, 'Concentrations (ppm)'),\n",
       " Text(0, 0.5, ''),\n",
       " Text(0.5, 1.0, '2020 Lowest Concentrations of Ozone')]"
      ]
     },
     "execution_count": 71,
     "metadata": {},
     "output_type": "execute_result"
    },
    {
     "data": {
      "image/png": "[encoded data removed]",
      "text/plain": [
       "<Figure size 432x288 with 1 Axes>"
      ]
     },
     "metadata": {},
     "output_type": "display_data"
    }
   ],
   "source": [
    "d2LowestTen = d2merged.sort_values('1st Max Value').head(10)\n",
    "ax = sns.barplot(x = d2LowestTen['1st Max Value'], y = d2LowestTen['State Name'], palette = 'mako_r')\n",
    "ax.set(xlabel = 'Concentrations (ppm)', ylabel = '', title='2020 Lowest Concentrations of Ozone')"
   ]
  },
  {
   "cell_type": "code",
   "execution_count": 72,
   "id": "8baf95ab",
   "metadata": {},
   "outputs": [],
   "source": [
    "plt.close()"
   ]
  },
  {
   "cell_type": "code",
   "execution_count": null,
   "id": "44bd7bf8",
   "metadata": {},
   "outputs": [],
   "source": []
  }
 ],
 "metadata": {
  "kernelspec": {
   "display_name": "Python 3",
   "language": "python",
   "name": "python3"
  },
  "language_info": {
   "codemirror_mode": {
    "name": "ipython",
    "version": 3
   },
   "file_extension": ".py",
   "mimetype": "text/x-python",
   "name": "python",
   "nbconvert_exporter": "python",
   "pygments_lexer": "ipython3",
   "version": "3.8.8"
  }
 },
 "nbformat": 4,
 "nbformat_minor": 5
}
