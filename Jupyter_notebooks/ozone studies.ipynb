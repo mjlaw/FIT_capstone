{
 "cells": [
  {
   "cell_type": "markdown",
   "id": "a68e2d1e",
   "metadata": {},
   "source": [
    "The EPA's current 24 hour standard for ozone is 0.070 parts per million (ppm) as the fourth-highest daily maximum 8-hour concentration, averaged across three consecutive years. In this study, I will look only at the maximum 8-hour concentrations."
   ]
  },
  {
   "cell_type": "code",
   "execution_count": 1,
   "id": "70e388b0",
   "metadata": {},
   "outputs": [
    {
     "name": "stderr",
     "output_type": "stream",
     "text": [
      "C:\\Users\\Mary\\anaconda3\\lib\\site-packages\\IPython\\core\\interactiveshell.py:3165: DtypeWarning: Columns (0) have mixed types.Specify dtype option on import or set low_memory=False.\n",
      "  has_raised = await self.run_ast_nodes(code_ast.body, cell_name,\n"
     ]
    }
   ],
   "source": [
    "import numpy as np\n",
    "import pandas as pd\n",
    "\n",
    "ozone0 = pd.read_table('C:\\\\Users\\\\Mary\\\\CIS5898\\\\daily_44201_1999.csv', delimiter = ',') #read in ozone data for 1999"
   ]
  },
  {
   "cell_type": "code",
   "execution_count": 2,
   "id": "a226fcc1",
   "metadata": {},
   "outputs": [
    {
     "name": "stdout",
     "output_type": "stream",
     "text": [
      "<class 'pandas.core.frame.DataFrame'>\n",
      "RangeIndex: 317682 entries, 0 to 317681\n",
      "Data columns (total 29 columns):\n",
      " #   Column               Non-Null Count   Dtype  \n",
      "---  ------               --------------   -----  \n",
      " 0   State Code           317682 non-null  object \n",
      " 1   County Code          317682 non-null  int64  \n",
      " 2   Site Num             317682 non-null  int64  \n",
      " 3   Parameter Code       317682 non-null  int64  \n",
      " 4   POC                  317682 non-null  int64  \n",
      " 5   Latitude             317682 non-null  float64\n",
      " 6   Longitude            317682 non-null  float64\n",
      " 7   Datum                317682 non-null  object \n",
      " 8   Parameter Name       317682 non-null  object \n",
      " 9   Sample Duration      317682 non-null  object \n",
      " 10  Pollutant Standard   317682 non-null  object \n",
      " 11  Date Local           317682 non-null  object \n",
      " 12  Units of Measure     317682 non-null  object \n",
      " 13  Event Type           317682 non-null  object \n",
      " 14  Observation Count    317682 non-null  int64  \n",
      " 15  Observation Percent  317682 non-null  float64\n",
      " 16  Arithmetic Mean      317682 non-null  float64\n",
      " 17  1st Max Value        317682 non-null  float64\n",
      " 18  1st Max Hour         317682 non-null  int64  \n",
      " 19  AQI                  317682 non-null  int64  \n",
      " 20  Method Code          0 non-null       float64\n",
      " 21  Method Name          317682 non-null  object \n",
      " 22  Local Site Name      283148 non-null  object \n",
      " 23  Address              317682 non-null  object \n",
      " 24  State Name           317682 non-null  object \n",
      " 25  County Name          317682 non-null  object \n",
      " 26  City Name            317682 non-null  object \n",
      " 27  CBSA Name            288483 non-null  object \n",
      " 28  Date of Last Change  317682 non-null  object \n",
      "dtypes: float64(6), int64(7), object(16)\n",
      "memory usage: 70.3+ MB\n",
      "None\n",
      "2\n",
      "(317682, 29)\n"
     ]
    }
   ],
   "source": [
    "print(ozone0.info()) #provides basic information on data\n",
    "print(ozone0.ndim) #provides dimensions\n",
    "print(ozone0.shape) #provides number of rows and number of columns "
   ]
  },
  {
   "cell_type": "code",
   "execution_count": 3,
   "id": "645c21db",
   "metadata": {},
   "outputs": [
    {
     "data": {
      "text/html": [
       "<div>\n",
       "<style scoped>\n",
       "    .dataframe tbody tr th:only-of-type {\n",
       "        vertical-align: middle;\n",
       "    }\n",
       "\n",
       "    .dataframe tbody tr th {\n",
       "        vertical-align: top;\n",
       "    }\n",
       "\n",
       "    .dataframe thead th {\n",
       "        text-align: right;\n",
       "    }\n",
       "</style>\n",
       "<table border=\"1\" class=\"dataframe\">\n",
       "  <thead>\n",
       "    <tr style=\"text-align: right;\">\n",
       "      <th></th>\n",
       "      <th>State Code</th>\n",
       "      <th>County Code</th>\n",
       "      <th>Site Num</th>\n",
       "      <th>Parameter Code</th>\n",
       "      <th>POC</th>\n",
       "      <th>Latitude</th>\n",
       "      <th>Longitude</th>\n",
       "      <th>Datum</th>\n",
       "      <th>Parameter Name</th>\n",
       "      <th>Sample Duration</th>\n",
       "    </tr>\n",
       "  </thead>\n",
       "  <tbody>\n",
       "    <tr>\n",
       "      <th>0</th>\n",
       "      <td>1</td>\n",
       "      <td>27</td>\n",
       "      <td>1</td>\n",
       "      <td>44201</td>\n",
       "      <td>1</td>\n",
       "      <td>33.284928</td>\n",
       "      <td>-85.803608</td>\n",
       "      <td>NAD83</td>\n",
       "      <td>Ozone</td>\n",
       "      <td>8-HR RUN AVG BEGIN HOUR</td>\n",
       "    </tr>\n",
       "    <tr>\n",
       "      <th>1</th>\n",
       "      <td>1</td>\n",
       "      <td>27</td>\n",
       "      <td>1</td>\n",
       "      <td>44201</td>\n",
       "      <td>1</td>\n",
       "      <td>33.284928</td>\n",
       "      <td>-85.803608</td>\n",
       "      <td>NAD83</td>\n",
       "      <td>Ozone</td>\n",
       "      <td>8-HR RUN AVG BEGIN HOUR</td>\n",
       "    </tr>\n",
       "    <tr>\n",
       "      <th>2</th>\n",
       "      <td>1</td>\n",
       "      <td>27</td>\n",
       "      <td>1</td>\n",
       "      <td>44201</td>\n",
       "      <td>1</td>\n",
       "      <td>33.284928</td>\n",
       "      <td>-85.803608</td>\n",
       "      <td>NAD83</td>\n",
       "      <td>Ozone</td>\n",
       "      <td>8-HR RUN AVG BEGIN HOUR</td>\n",
       "    </tr>\n",
       "    <tr>\n",
       "      <th>3</th>\n",
       "      <td>1</td>\n",
       "      <td>27</td>\n",
       "      <td>1</td>\n",
       "      <td>44201</td>\n",
       "      <td>1</td>\n",
       "      <td>33.284928</td>\n",
       "      <td>-85.803608</td>\n",
       "      <td>NAD83</td>\n",
       "      <td>Ozone</td>\n",
       "      <td>8-HR RUN AVG BEGIN HOUR</td>\n",
       "    </tr>\n",
       "    <tr>\n",
       "      <th>4</th>\n",
       "      <td>1</td>\n",
       "      <td>27</td>\n",
       "      <td>1</td>\n",
       "      <td>44201</td>\n",
       "      <td>1</td>\n",
       "      <td>33.284928</td>\n",
       "      <td>-85.803608</td>\n",
       "      <td>NAD83</td>\n",
       "      <td>Ozone</td>\n",
       "      <td>8-HR RUN AVG BEGIN HOUR</td>\n",
       "    </tr>\n",
       "  </tbody>\n",
       "</table>\n",
       "</div>"
      ],
      "text/plain": [
       "  State Code  County Code  Site Num  Parameter Code  POC   Latitude  \\\n",
       "0          1           27         1           44201    1  33.284928   \n",
       "1          1           27         1           44201    1  33.284928   \n",
       "2          1           27         1           44201    1  33.284928   \n",
       "3          1           27         1           44201    1  33.284928   \n",
       "4          1           27         1           44201    1  33.284928   \n",
       "\n",
       "   Longitude  Datum Parameter Name          Sample Duration  \n",
       "0 -85.803608  NAD83          Ozone  8-HR RUN AVG BEGIN HOUR  \n",
       "1 -85.803608  NAD83          Ozone  8-HR RUN AVG BEGIN HOUR  \n",
       "2 -85.803608  NAD83          Ozone  8-HR RUN AVG BEGIN HOUR  \n",
       "3 -85.803608  NAD83          Ozone  8-HR RUN AVG BEGIN HOUR  \n",
       "4 -85.803608  NAD83          Ozone  8-HR RUN AVG BEGIN HOUR  "
      ]
     },
     "execution_count": 3,
     "metadata": {},
     "output_type": "execute_result"
    }
   ],
   "source": [
    "#There are 317,682 rows and 29 columns. Because there are so many columns, look at the first five rows and first 10 columns\n",
    "ozone0.iloc[:5, :10]"
   ]
  },
  {
   "cell_type": "code",
   "execution_count": 4,
   "id": "5c9283e5",
   "metadata": {},
   "outputs": [
    {
     "data": {
      "text/html": [
       "<div>\n",
       "<style scoped>\n",
       "    .dataframe tbody tr th:only-of-type {\n",
       "        vertical-align: middle;\n",
       "    }\n",
       "\n",
       "    .dataframe tbody tr th {\n",
       "        vertical-align: top;\n",
       "    }\n",
       "\n",
       "    .dataframe thead th {\n",
       "        text-align: right;\n",
       "    }\n",
       "</style>\n",
       "<table border=\"1\" class=\"dataframe\">\n",
       "  <thead>\n",
       "    <tr style=\"text-align: right;\">\n",
       "      <th></th>\n",
       "      <th>Date Local</th>\n",
       "      <th>Units of Measure</th>\n",
       "      <th>Event Type</th>\n",
       "      <th>Observation Count</th>\n",
       "      <th>Observation Percent</th>\n",
       "      <th>Arithmetic Mean</th>\n",
       "      <th>1st Max Value</th>\n",
       "      <th>1st Max Hour</th>\n",
       "      <th>AQI</th>\n",
       "    </tr>\n",
       "  </thead>\n",
       "  <tbody>\n",
       "    <tr>\n",
       "      <th>0</th>\n",
       "      <td>1999-02-28</td>\n",
       "      <td>Parts per million</td>\n",
       "      <td>None</td>\n",
       "      <td>1</td>\n",
       "      <td>6.0</td>\n",
       "      <td>0.029000</td>\n",
       "      <td>0.029</td>\n",
       "      <td>23</td>\n",
       "      <td>27</td>\n",
       "    </tr>\n",
       "    <tr>\n",
       "      <th>1</th>\n",
       "      <td>1999-03-01</td>\n",
       "      <td>Parts per million</td>\n",
       "      <td>None</td>\n",
       "      <td>17</td>\n",
       "      <td>100.0</td>\n",
       "      <td>0.027118</td>\n",
       "      <td>0.047</td>\n",
       "      <td>10</td>\n",
       "      <td>44</td>\n",
       "    </tr>\n",
       "    <tr>\n",
       "      <th>2</th>\n",
       "      <td>1999-03-02</td>\n",
       "      <td>Parts per million</td>\n",
       "      <td>None</td>\n",
       "      <td>17</td>\n",
       "      <td>100.0</td>\n",
       "      <td>0.049647</td>\n",
       "      <td>0.060</td>\n",
       "      <td>12</td>\n",
       "      <td>67</td>\n",
       "    </tr>\n",
       "    <tr>\n",
       "      <th>3</th>\n",
       "      <td>1999-03-03</td>\n",
       "      <td>Parts per million</td>\n",
       "      <td>None</td>\n",
       "      <td>17</td>\n",
       "      <td>100.0</td>\n",
       "      <td>0.039059</td>\n",
       "      <td>0.044</td>\n",
       "      <td>11</td>\n",
       "      <td>41</td>\n",
       "    </tr>\n",
       "    <tr>\n",
       "      <th>4</th>\n",
       "      <td>1999-03-04</td>\n",
       "      <td>Parts per million</td>\n",
       "      <td>None</td>\n",
       "      <td>17</td>\n",
       "      <td>100.0</td>\n",
       "      <td>0.032529</td>\n",
       "      <td>0.044</td>\n",
       "      <td>9</td>\n",
       "      <td>41</td>\n",
       "    </tr>\n",
       "  </tbody>\n",
       "</table>\n",
       "</div>"
      ],
      "text/plain": [
       "   Date Local   Units of Measure Event Type  Observation Count  \\\n",
       "0  1999-02-28  Parts per million       None                  1   \n",
       "1  1999-03-01  Parts per million       None                 17   \n",
       "2  1999-03-02  Parts per million       None                 17   \n",
       "3  1999-03-03  Parts per million       None                 17   \n",
       "4  1999-03-04  Parts per million       None                 17   \n",
       "\n",
       "   Observation Percent  Arithmetic Mean  1st Max Value  1st Max Hour  AQI  \n",
       "0                  6.0         0.029000          0.029            23   27  \n",
       "1                100.0         0.027118          0.047            10   44  \n",
       "2                100.0         0.049647          0.060            12   67  \n",
       "3                100.0         0.039059          0.044            11   41  \n",
       "4                100.0         0.032529          0.044             9   41  "
      ]
     },
     "execution_count": 4,
     "metadata": {},
     "output_type": "execute_result"
    }
   ],
   "source": [
    "#Look at the first five rows and next 9 columns\n",
    "ozone0.iloc[:5, 11:20]"
   ]
  },
  {
   "cell_type": "code",
   "execution_count": 5,
   "id": "a12c4937",
   "metadata": {},
   "outputs": [
    {
     "data": {
      "text/html": [
       "<div>\n",
       "<style scoped>\n",
       "    .dataframe tbody tr th:only-of-type {\n",
       "        vertical-align: middle;\n",
       "    }\n",
       "\n",
       "    .dataframe tbody tr th {\n",
       "        vertical-align: top;\n",
       "    }\n",
       "\n",
       "    .dataframe thead th {\n",
       "        text-align: right;\n",
       "    }\n",
       "</style>\n",
       "<table border=\"1\" class=\"dataframe\">\n",
       "  <thead>\n",
       "    <tr style=\"text-align: right;\">\n",
       "      <th></th>\n",
       "      <th>Method Name</th>\n",
       "      <th>Local Site Name</th>\n",
       "      <th>Address</th>\n",
       "      <th>State Name</th>\n",
       "      <th>County Name</th>\n",
       "      <th>City Name</th>\n",
       "      <th>CBSA Name</th>\n",
       "      <th>Date of Last Change</th>\n",
       "    </tr>\n",
       "  </thead>\n",
       "  <tbody>\n",
       "    <tr>\n",
       "      <th>0</th>\n",
       "      <td>-</td>\n",
       "      <td>ASHLAND</td>\n",
       "      <td>ASHLAND AIRPORT</td>\n",
       "      <td>Alabama</td>\n",
       "      <td>Clay</td>\n",
       "      <td>Ashland</td>\n",
       "      <td>NaN</td>\n",
       "      <td>2018-07-20</td>\n",
       "    </tr>\n",
       "    <tr>\n",
       "      <th>1</th>\n",
       "      <td>-</td>\n",
       "      <td>ASHLAND</td>\n",
       "      <td>ASHLAND AIRPORT</td>\n",
       "      <td>Alabama</td>\n",
       "      <td>Clay</td>\n",
       "      <td>Ashland</td>\n",
       "      <td>NaN</td>\n",
       "      <td>2018-07-20</td>\n",
       "    </tr>\n",
       "    <tr>\n",
       "      <th>2</th>\n",
       "      <td>-</td>\n",
       "      <td>ASHLAND</td>\n",
       "      <td>ASHLAND AIRPORT</td>\n",
       "      <td>Alabama</td>\n",
       "      <td>Clay</td>\n",
       "      <td>Ashland</td>\n",
       "      <td>NaN</td>\n",
       "      <td>2018-07-20</td>\n",
       "    </tr>\n",
       "    <tr>\n",
       "      <th>3</th>\n",
       "      <td>-</td>\n",
       "      <td>ASHLAND</td>\n",
       "      <td>ASHLAND AIRPORT</td>\n",
       "      <td>Alabama</td>\n",
       "      <td>Clay</td>\n",
       "      <td>Ashland</td>\n",
       "      <td>NaN</td>\n",
       "      <td>2018-07-20</td>\n",
       "    </tr>\n",
       "    <tr>\n",
       "      <th>4</th>\n",
       "      <td>-</td>\n",
       "      <td>ASHLAND</td>\n",
       "      <td>ASHLAND AIRPORT</td>\n",
       "      <td>Alabama</td>\n",
       "      <td>Clay</td>\n",
       "      <td>Ashland</td>\n",
       "      <td>NaN</td>\n",
       "      <td>2018-07-20</td>\n",
       "    </tr>\n",
       "  </tbody>\n",
       "</table>\n",
       "</div>"
      ],
      "text/plain": [
       "  Method Name Local Site Name          Address State Name County Name  \\\n",
       "0          -          ASHLAND  ASHLAND AIRPORT    Alabama        Clay   \n",
       "1          -          ASHLAND  ASHLAND AIRPORT    Alabama        Clay   \n",
       "2          -          ASHLAND  ASHLAND AIRPORT    Alabama        Clay   \n",
       "3          -          ASHLAND  ASHLAND AIRPORT    Alabama        Clay   \n",
       "4          -          ASHLAND  ASHLAND AIRPORT    Alabama        Clay   \n",
       "\n",
       "  City Name CBSA Name Date of Last Change  \n",
       "0   Ashland       NaN          2018-07-20  \n",
       "1   Ashland       NaN          2018-07-20  \n",
       "2   Ashland       NaN          2018-07-20  \n",
       "3   Ashland       NaN          2018-07-20  \n",
       "4   Ashland       NaN          2018-07-20  "
      ]
     },
     "execution_count": 5,
     "metadata": {},
     "output_type": "execute_result"
    }
   ],
   "source": [
    "#Look at the first five rows and the final columns\n",
    "ozone0.iloc[:5, 21:]"
   ]
  },
  {
   "cell_type": "code",
   "execution_count": 45,
   "id": "4a4600aa",
   "metadata": {},
   "outputs": [
    {
     "data": {
      "text/plain": [
       "count    317682.000000\n",
       "mean          0.045505\n",
       "std           0.018570\n",
       "min           0.000000\n",
       "25%           0.032000\n",
       "50%           0.044000\n",
       "75%           0.057000\n",
       "max           0.172000\n",
       "Name: 1st Max Value, dtype: float64"
      ]
     },
     "execution_count": 45,
     "metadata": {},
     "output_type": "execute_result"
    }
   ],
   "source": [
    "#The column of interest is the 1st Max Value. Extract that column and print a brief summary\n",
    "x0 = ozone0['1st Max Value']\n",
    "x0.describe()"
   ]
  },
  {
   "cell_type": "code",
   "execution_count": 7,
   "id": "64189946",
   "metadata": {},
   "outputs": [],
   "source": [
    "ozone1 = pd.read_table('C:\\\\Users\\\\Mary\\\\CIS5898\\\\daily_44201_2012.csv', delimiter = ',') #read in ozone data for 2012"
   ]
  },
  {
   "cell_type": "code",
   "execution_count": 8,
   "id": "9c22e91c",
   "metadata": {},
   "outputs": [
    {
     "name": "stdout",
     "output_type": "stream",
     "text": [
      "<class 'pandas.core.frame.DataFrame'>\n",
      "RangeIndex: 386439 entries, 0 to 386438\n",
      "Data columns (total 29 columns):\n",
      " #   Column               Non-Null Count   Dtype  \n",
      "---  ------               --------------   -----  \n",
      " 0   State Code           386439 non-null  int64  \n",
      " 1   County Code          386439 non-null  int64  \n",
      " 2   Site Num             386439 non-null  int64  \n",
      " 3   Parameter Code       386439 non-null  int64  \n",
      " 4   POC                  386439 non-null  int64  \n",
      " 5   Latitude             386439 non-null  float64\n",
      " 6   Longitude            386439 non-null  float64\n",
      " 7   Datum                386439 non-null  object \n",
      " 8   Parameter Name       386439 non-null  object \n",
      " 9   Sample Duration      386439 non-null  object \n",
      " 10  Pollutant Standard   386439 non-null  object \n",
      " 11  Date Local           386439 non-null  object \n",
      " 12  Units of Measure     386439 non-null  object \n",
      " 13  Event Type           386439 non-null  object \n",
      " 14  Observation Count    386439 non-null  int64  \n",
      " 15  Observation Percent  386439 non-null  float64\n",
      " 16  Arithmetic Mean      386439 non-null  float64\n",
      " 17  1st Max Value        386439 non-null  float64\n",
      " 18  1st Max Hour         386439 non-null  int64  \n",
      " 19  AQI                  386439 non-null  int64  \n",
      " 20  Method Code          0 non-null       float64\n",
      " 21  Method Name          386439 non-null  object \n",
      " 22  Local Site Name      369645 non-null  object \n",
      " 23  Address              386439 non-null  object \n",
      " 24  State Name           386439 non-null  object \n",
      " 25  County Name          386439 non-null  object \n",
      " 26  City Name            386439 non-null  object \n",
      " 27  CBSA Name            347596 non-null  object \n",
      " 28  Date of Last Change  386439 non-null  object \n",
      "dtypes: float64(6), int64(8), object(15)\n",
      "memory usage: 85.5+ MB\n",
      "None\n",
      "2\n",
      "(386439, 29)\n"
     ]
    }
   ],
   "source": [
    "print(ozone1.info()) #provides basic information on data\n",
    "print(ozone1.ndim) #provides dimensions\n",
    "print(ozone1.shape) #provides number of rows and number of columns "
   ]
  },
  {
   "cell_type": "code",
   "execution_count": 46,
   "id": "3ba58c2e",
   "metadata": {},
   "outputs": [
    {
     "data": {
      "text/plain": [
       "count    386439.000000\n",
       "mean          0.043042\n",
       "std           0.014448\n",
       "min           0.000000\n",
       "25%           0.033000\n",
       "50%           0.042000\n",
       "75%           0.053000\n",
       "max           0.136000\n",
       "Name: 1st Max Value, dtype: float64"
      ]
     },
     "execution_count": 46,
     "metadata": {},
     "output_type": "execute_result"
    }
   ],
   "source": [
    "#Again, the column of interest is the 1st Max Value. Extract the column and print a brief summary\n",
    "x1 = ozone1['1st Max Value']\n",
    "x1.describe() "
   ]
  },
  {
   "cell_type": "code",
   "execution_count": 47,
   "id": "24884887",
   "metadata": {},
   "outputs": [
    {
     "data": {
      "image/png": "[encoded data removed]",
      "text/plain": [
       "<Figure size 432x288 with 1 Axes>"
      ]
     },
     "metadata": {
      "needs_background": "light"
     },
     "output_type": "display_data"
    }
   ],
   "source": [
    "## Compare aggregate changes in maximum ozone for years 1999 and 2012 by making boxplots.\n",
    "import matplotlib.pyplot as plt\n",
    "\n",
    "years = [x0, x1]\n",
    "plt.boxplot(years)\n",
    "plt.show()"
   ]
  },
  {
   "cell_type": "markdown",
   "id": "beff53bf",
   "metadata": {},
   "source": [
    "The boxplot is not very visually meaningful beyond noting that the medians appear to be similar\n",
    "the range of values is larger in the first dataset (1999), and the first dataset has a higher\n",
    "maximum value. We will look for better visualizations after reading in the 2020 ozone data.\n"
   ]
  },
  {
   "cell_type": "code",
   "execution_count": 11,
   "id": "6dc699c6",
   "metadata": {},
   "outputs": [],
   "source": [
    "ozone2 = pd.read_table('C:\\\\Users\\\\Mary\\\\CIS5898\\\\daily_44201_2020.csv', delimiter = ',') #read in ozone data for 2020"
   ]
  },
  {
   "cell_type": "code",
   "execution_count": 49,
   "id": "fdfc9a2c",
   "metadata": {},
   "outputs": [
    {
     "data": {
      "text/plain": [
       "count    391923.000000\n",
       "mean          0.039192\n",
       "std           0.012196\n",
       "min          -0.003000\n",
       "25%           0.031000\n",
       "50%           0.039000\n",
       "75%           0.046000\n",
       "max           0.183000\n",
       "Name: 1st Max Value, dtype: float64"
      ]
     },
     "execution_count": 49,
     "metadata": {},
     "output_type": "execute_result"
    }
   ],
   "source": [
    "#Again, the column of interest is the 1st Max Value. Extract the column and print a brief summary\n",
    "x2 = ozone2['1st Max Value']\n",
    "x2.describe() "
   ]
  },
  {
   "cell_type": "markdown",
   "id": "2cd2a06d",
   "metadata": {},
   "source": [
    "There should not be any values below 0. "
   ]
  },
  {
   "cell_type": "code",
   "execution_count": 50,
   "id": "4ec66571",
   "metadata": {},
   "outputs": [
    {
     "name": "stdout",
     "output_type": "stream",
     "text": [
      "2\n",
      "0.0005103043199812208\n"
     ]
    }
   ],
   "source": [
    "#Look into the number of negative numbers in ozone 2020 dataset\n",
    "countNegativeValues = np.count_nonzero(x2 < 0) #find count of negative values\n",
    "print(countNegativeValues)\n",
    "print((countNegativeValues / len(ozone2)) * 100) #find percentage of negative values "
   ]
  },
  {
   "cell_type": "code",
   "execution_count": 51,
   "id": "084c15f9",
   "metadata": {},
   "outputs": [
    {
     "data": {
      "image/png": "[encoded data removed]",
      "text/plain": [
       "<Figure size 432x288 with 1 Axes>"
      ]
     },
     "metadata": {
      "needs_background": "light"
     },
     "output_type": "display_data"
    }
   ],
   "source": [
    "# Compare aggregate changes in ozone for years 1999, 2012, and 2020 by making boxplots.\n",
    "import matplotlib.pyplot as plt\n",
    "\n",
    "years = [x0, x1, x2]\n",
    "plt.boxplot(years)\n",
    "plt.show()"
   ]
  },
  {
   "cell_type": "markdown",
   "id": "7098548f",
   "metadata": {},
   "source": [
    "Again, the boxplot is not very visually meaningful beyond noting that the medians appear to be \n",
    "similar, the range of values is largest in the third dataset (2020), and the third dataset has a \n",
    "higher maximum value. We will look for better visualizations after removing the negative values in the 2020 ozone data."
   ]
  },
  {
   "cell_type": "code",
   "execution_count": 52,
   "id": "72188b73",
   "metadata": {},
   "outputs": [
    {
     "data": {
      "text/plain": [
       "count    391921.000000\n",
       "mean          0.039192\n",
       "std           0.012196\n",
       "min           0.000000\n",
       "25%           0.031000\n",
       "50%           0.039000\n",
       "75%           0.046000\n",
       "max           0.183000\n",
       "Name: 1st Max Value, dtype: float64"
      ]
     },
     "execution_count": 52,
     "metadata": {},
     "output_type": "execute_result"
    }
   ],
   "source": [
    "#Remove the negative values from the ozone 2020 dataset\n",
    "x2NonNegative = ozone2[ozone2['1st Max Value'] >= 0]\n",
    "#extract the 'Arithmetic Mean' column from the dataset\n",
    "x2NonNegative = x2NonNegative['1st Max Value']\n",
    "x2NonNegative.describe()"
   ]
  },
  {
   "cell_type": "code",
   "execution_count": 53,
   "id": "5f3fa448",
   "metadata": {},
   "outputs": [
    {
     "data": {
      "image/png": "[encoded data removed]",
      "text/plain": [
       "<Figure size 432x288 with 1 Axes>"
      ]
     },
     "metadata": {
      "needs_background": "light"
     },
     "output_type": "display_data"
    }
   ],
   "source": [
    "# Compare aggregate changes in maximum ozone for years 2012, and 2020 by making boxplots.\n",
    "\n",
    "years = [x0, x1, x2NonNegative]\n",
    "plt.boxplot(years)\n",
    "plt.show()"
   ]
  },
  {
   "cell_type": "code",
   "execution_count": 54,
   "id": "fdec21ce",
   "metadata": {},
   "outputs": [
    {
     "name": "stderr",
     "output_type": "stream",
     "text": [
      "C:\\Users\\Mary\\anaconda3\\lib\\site-packages\\pandas\\core\\arraylike.py:358: RuntimeWarning: divide by zero encountered in log2\n",
      "  result = getattr(ufunc, method)(*inputs, **kwargs)\n"
     ]
    },
    {
     "data": {
      "image/png": "[encoded data removed]",
      "text/plain": [
       "<Figure size 432x288 with 1 Axes>"
      ]
     },
     "metadata": {
      "needs_background": "light"
     },
     "output_type": "display_data"
    }
   ],
   "source": [
    "#Dr Peng used the log2 of means for his PM2.5 study to better visualize the data when using box plots for PM 2.5.\n",
    "#Accomplished below, but results still not what I'm looking for. Keep looking for something better.\n",
    "import numpy as np\n",
    "import matplotlib.pyplot as plt\n",
    "\n",
    "logx0 = np.log2(x0)\n",
    "logx1 = np.log2(x1)\n",
    "logx2 = np.log2(x2NonNegative)\n",
    "years = [logx0, logx1, logx2]\n",
    "plt.boxplot(years)\n",
    "plt.show()"
   ]
  },
  {
   "cell_type": "code",
   "execution_count": null,
   "id": "69b871e6",
   "metadata": {},
   "outputs": [],
   "source": []
  }
 ],
 "metadata": {
  "kernelspec": {
   "display_name": "Python 3",
   "language": "python",
   "name": "python3"
  },
  "language_info": {
   "codemirror_mode": {
    "name": "ipython",
    "version": 3
   },
   "file_extension": ".py",
   "mimetype": "text/x-python",
   "name": "python",
   "nbconvert_exporter": "python",
   "pygments_lexer": "ipython3",
   "version": "3.8.8"
  }
 },
 "nbformat": 4,
 "nbformat_minor": 5
}
