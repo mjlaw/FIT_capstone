{
 "cells": [
  {
   "cell_type": "markdown",
   "id": "a68e2d1e",
   "metadata": {},
   "source": [
    "The EPA's current 24 hour standard for ozone is 0.070 parts per million (ppm) as the fourth-highest daily maximum 8-hour concentration, averaged across three consecutive years. In this study, I will look only at the daily average 8-hour concentrations."
   ]
  },
  {
   "cell_type": "code",
   "execution_count": 1,
   "id": "70e388b0",
   "metadata": {},
   "outputs": [],
   "source": [
    "import numpy as np\n",
    "import pandas as pd\n",
    "import matplotlib.pyplot as plt\n",
    "import seaborn as sns\n",
    "%matplotlib inline"
   ]
  },
  {
   "cell_type": "markdown",
   "id": "e52dc38e",
   "metadata": {},
   "source": [
    "### Load 1999 data and perform exploratory data analysis"
   ]
  },
  {
   "cell_type": "code",
   "execution_count": 2,
   "id": "a9ab1480",
   "metadata": {},
   "outputs": [],
   "source": [
    "ozone0 = pd.read_csv('C:\\\\Users\\\\Mary\\\\CIS5898\\\\daily_44201_1999.csv', low_memory=False) "
   ]
  },
  {
   "cell_type": "code",
   "execution_count": 3,
   "id": "a226fcc1",
   "metadata": {
    "scrolled": true
   },
   "outputs": [
    {
     "name": "stdout",
     "output_type": "stream",
     "text": [
      "<class 'pandas.core.frame.DataFrame'>\n",
      "RangeIndex: 317682 entries, 0 to 317681\n",
      "Data columns (total 29 columns):\n",
      " #   Column               Non-Null Count   Dtype  \n",
      "---  ------               --------------   -----  \n",
      " 0   State Code           317682 non-null  object \n",
      " 1   County Code          317682 non-null  int64  \n",
      " 2   Site Num             317682 non-null  int64  \n",
      " 3   Parameter Code       317682 non-null  int64  \n",
      " 4   POC                  317682 non-null  int64  \n",
      " 5   Latitude             317682 non-null  float64\n",
      " 6   Longitude            317682 non-null  float64\n",
      " 7   Datum                317682 non-null  object \n",
      " 8   Parameter Name       317682 non-null  object \n",
      " 9   Sample Duration      317682 non-null  object \n",
      " 10  Pollutant Standard   317682 non-null  object \n",
      " 11  Date Local           317682 non-null  object \n",
      " 12  Units of Measure     317682 non-null  object \n",
      " 13  Event Type           317682 non-null  object \n",
      " 14  Observation Count    317682 non-null  int64  \n",
      " 15  Observation Percent  317682 non-null  float64\n",
      " 16  Arithmetic Mean      317682 non-null  float64\n",
      " 17  1st Max Value        317682 non-null  float64\n",
      " 18  1st Max Hour         317682 non-null  int64  \n",
      " 19  AQI                  317682 non-null  int64  \n",
      " 20  Method Code          0 non-null       float64\n",
      " 21  Method Name          317682 non-null  object \n",
      " 22  Local Site Name      283148 non-null  object \n",
      " 23  Address              317682 non-null  object \n",
      " 24  State Name           317682 non-null  object \n",
      " 25  County Name          317682 non-null  object \n",
      " 26  City Name            317682 non-null  object \n",
      " 27  CBSA Name            288483 non-null  object \n",
      " 28  Date of Last Change  317682 non-null  object \n",
      "dtypes: float64(6), int64(7), object(16)\n",
      "memory usage: 70.3+ MB\n",
      "None\n",
      "2\n",
      "(317682, 29)\n"
     ]
    }
   ],
   "source": [
    "print(ozone0.info()) #provides basic information on data\n",
    "print(ozone0.ndim) #provides dimensions\n",
    "print(ozone0.shape) #provides number of rows and number of columns "
   ]
  },
  {
   "cell_type": "code",
   "execution_count": 4,
   "id": "645c21db",
   "metadata": {},
   "outputs": [
    {
     "data": {
      "text/html": [
       "<div>\n",
       "<style scoped>\n",
       "    .dataframe tbody tr th:only-of-type {\n",
       "        vertical-align: middle;\n",
       "    }\n",
       "\n",
       "    .dataframe tbody tr th {\n",
       "        vertical-align: top;\n",
       "    }\n",
       "\n",
       "    .dataframe thead th {\n",
       "        text-align: right;\n",
       "    }\n",
       "</style>\n",
       "<table border=\"1\" class=\"dataframe\">\n",
       "  <thead>\n",
       "    <tr style=\"text-align: right;\">\n",
       "      <th></th>\n",
       "      <th>State Code</th>\n",
       "      <th>County Code</th>\n",
       "      <th>Site Num</th>\n",
       "      <th>Parameter Code</th>\n",
       "      <th>POC</th>\n",
       "      <th>Latitude</th>\n",
       "      <th>Longitude</th>\n",
       "      <th>Datum</th>\n",
       "      <th>Parameter Name</th>\n",
       "      <th>Sample Duration</th>\n",
       "    </tr>\n",
       "  </thead>\n",
       "  <tbody>\n",
       "    <tr>\n",
       "      <th>0</th>\n",
       "      <td>01</td>\n",
       "      <td>27</td>\n",
       "      <td>1</td>\n",
       "      <td>44201</td>\n",
       "      <td>1</td>\n",
       "      <td>33.284928</td>\n",
       "      <td>-85.803608</td>\n",
       "      <td>NAD83</td>\n",
       "      <td>Ozone</td>\n",
       "      <td>8-HR RUN AVG BEGIN HOUR</td>\n",
       "    </tr>\n",
       "    <tr>\n",
       "      <th>1</th>\n",
       "      <td>01</td>\n",
       "      <td>27</td>\n",
       "      <td>1</td>\n",
       "      <td>44201</td>\n",
       "      <td>1</td>\n",
       "      <td>33.284928</td>\n",
       "      <td>-85.803608</td>\n",
       "      <td>NAD83</td>\n",
       "      <td>Ozone</td>\n",
       "      <td>8-HR RUN AVG BEGIN HOUR</td>\n",
       "    </tr>\n",
       "    <tr>\n",
       "      <th>2</th>\n",
       "      <td>01</td>\n",
       "      <td>27</td>\n",
       "      <td>1</td>\n",
       "      <td>44201</td>\n",
       "      <td>1</td>\n",
       "      <td>33.284928</td>\n",
       "      <td>-85.803608</td>\n",
       "      <td>NAD83</td>\n",
       "      <td>Ozone</td>\n",
       "      <td>8-HR RUN AVG BEGIN HOUR</td>\n",
       "    </tr>\n",
       "    <tr>\n",
       "      <th>3</th>\n",
       "      <td>01</td>\n",
       "      <td>27</td>\n",
       "      <td>1</td>\n",
       "      <td>44201</td>\n",
       "      <td>1</td>\n",
       "      <td>33.284928</td>\n",
       "      <td>-85.803608</td>\n",
       "      <td>NAD83</td>\n",
       "      <td>Ozone</td>\n",
       "      <td>8-HR RUN AVG BEGIN HOUR</td>\n",
       "    </tr>\n",
       "    <tr>\n",
       "      <th>4</th>\n",
       "      <td>01</td>\n",
       "      <td>27</td>\n",
       "      <td>1</td>\n",
       "      <td>44201</td>\n",
       "      <td>1</td>\n",
       "      <td>33.284928</td>\n",
       "      <td>-85.803608</td>\n",
       "      <td>NAD83</td>\n",
       "      <td>Ozone</td>\n",
       "      <td>8-HR RUN AVG BEGIN HOUR</td>\n",
       "    </tr>\n",
       "  </tbody>\n",
       "</table>\n",
       "</div>"
      ],
      "text/plain": [
       "  State Code  County Code  Site Num  Parameter Code  POC   Latitude  \\\n",
       "0         01           27         1           44201    1  33.284928   \n",
       "1         01           27         1           44201    1  33.284928   \n",
       "2         01           27         1           44201    1  33.284928   \n",
       "3         01           27         1           44201    1  33.284928   \n",
       "4         01           27         1           44201    1  33.284928   \n",
       "\n",
       "   Longitude  Datum Parameter Name          Sample Duration  \n",
       "0 -85.803608  NAD83          Ozone  8-HR RUN AVG BEGIN HOUR  \n",
       "1 -85.803608  NAD83          Ozone  8-HR RUN AVG BEGIN HOUR  \n",
       "2 -85.803608  NAD83          Ozone  8-HR RUN AVG BEGIN HOUR  \n",
       "3 -85.803608  NAD83          Ozone  8-HR RUN AVG BEGIN HOUR  \n",
       "4 -85.803608  NAD83          Ozone  8-HR RUN AVG BEGIN HOUR  "
      ]
     },
     "execution_count": 4,
     "metadata": {},
     "output_type": "execute_result"
    }
   ],
   "source": [
    "#There are 317,682 rows and 29 columns. Because there are so many columns, look at the first five rows and first 10 columns\n",
    "ozone0.iloc[:5, :10]"
   ]
  },
  {
   "cell_type": "code",
   "execution_count": 5,
   "id": "5c9283e5",
   "metadata": {},
   "outputs": [
    {
     "data": {
      "text/html": [
       "<div>\n",
       "<style scoped>\n",
       "    .dataframe tbody tr th:only-of-type {\n",
       "        vertical-align: middle;\n",
       "    }\n",
       "\n",
       "    .dataframe tbody tr th {\n",
       "        vertical-align: top;\n",
       "    }\n",
       "\n",
       "    .dataframe thead th {\n",
       "        text-align: right;\n",
       "    }\n",
       "</style>\n",
       "<table border=\"1\" class=\"dataframe\">\n",
       "  <thead>\n",
       "    <tr style=\"text-align: right;\">\n",
       "      <th></th>\n",
       "      <th>Date Local</th>\n",
       "      <th>Units of Measure</th>\n",
       "      <th>Event Type</th>\n",
       "      <th>Observation Count</th>\n",
       "      <th>Observation Percent</th>\n",
       "      <th>Arithmetic Mean</th>\n",
       "      <th>1st Max Value</th>\n",
       "      <th>1st Max Hour</th>\n",
       "      <th>AQI</th>\n",
       "    </tr>\n",
       "  </thead>\n",
       "  <tbody>\n",
       "    <tr>\n",
       "      <th>0</th>\n",
       "      <td>1999-02-28</td>\n",
       "      <td>Parts per million</td>\n",
       "      <td>None</td>\n",
       "      <td>1</td>\n",
       "      <td>6.0</td>\n",
       "      <td>0.029000</td>\n",
       "      <td>0.029</td>\n",
       "      <td>23</td>\n",
       "      <td>27</td>\n",
       "    </tr>\n",
       "    <tr>\n",
       "      <th>1</th>\n",
       "      <td>1999-03-01</td>\n",
       "      <td>Parts per million</td>\n",
       "      <td>None</td>\n",
       "      <td>17</td>\n",
       "      <td>100.0</td>\n",
       "      <td>0.027118</td>\n",
       "      <td>0.047</td>\n",
       "      <td>10</td>\n",
       "      <td>44</td>\n",
       "    </tr>\n",
       "    <tr>\n",
       "      <th>2</th>\n",
       "      <td>1999-03-02</td>\n",
       "      <td>Parts per million</td>\n",
       "      <td>None</td>\n",
       "      <td>17</td>\n",
       "      <td>100.0</td>\n",
       "      <td>0.049647</td>\n",
       "      <td>0.060</td>\n",
       "      <td>12</td>\n",
       "      <td>67</td>\n",
       "    </tr>\n",
       "    <tr>\n",
       "      <th>3</th>\n",
       "      <td>1999-03-03</td>\n",
       "      <td>Parts per million</td>\n",
       "      <td>None</td>\n",
       "      <td>17</td>\n",
       "      <td>100.0</td>\n",
       "      <td>0.039059</td>\n",
       "      <td>0.044</td>\n",
       "      <td>11</td>\n",
       "      <td>41</td>\n",
       "    </tr>\n",
       "    <tr>\n",
       "      <th>4</th>\n",
       "      <td>1999-03-04</td>\n",
       "      <td>Parts per million</td>\n",
       "      <td>None</td>\n",
       "      <td>17</td>\n",
       "      <td>100.0</td>\n",
       "      <td>0.032529</td>\n",
       "      <td>0.044</td>\n",
       "      <td>9</td>\n",
       "      <td>41</td>\n",
       "    </tr>\n",
       "  </tbody>\n",
       "</table>\n",
       "</div>"
      ],
      "text/plain": [
       "   Date Local   Units of Measure Event Type  Observation Count  \\\n",
       "0  1999-02-28  Parts per million       None                  1   \n",
       "1  1999-03-01  Parts per million       None                 17   \n",
       "2  1999-03-02  Parts per million       None                 17   \n",
       "3  1999-03-03  Parts per million       None                 17   \n",
       "4  1999-03-04  Parts per million       None                 17   \n",
       "\n",
       "   Observation Percent  Arithmetic Mean  1st Max Value  1st Max Hour  AQI  \n",
       "0                  6.0         0.029000          0.029            23   27  \n",
       "1                100.0         0.027118          0.047            10   44  \n",
       "2                100.0         0.049647          0.060            12   67  \n",
       "3                100.0         0.039059          0.044            11   41  \n",
       "4                100.0         0.032529          0.044             9   41  "
      ]
     },
     "execution_count": 5,
     "metadata": {},
     "output_type": "execute_result"
    }
   ],
   "source": [
    "#Look at the first five rows and next 9 columns\n",
    "ozone0.iloc[:5, 11:20]"
   ]
  },
  {
   "cell_type": "code",
   "execution_count": 6,
   "id": "a12c4937",
   "metadata": {},
   "outputs": [
    {
     "data": {
      "text/html": [
       "<div>\n",
       "<style scoped>\n",
       "    .dataframe tbody tr th:only-of-type {\n",
       "        vertical-align: middle;\n",
       "    }\n",
       "\n",
       "    .dataframe tbody tr th {\n",
       "        vertical-align: top;\n",
       "    }\n",
       "\n",
       "    .dataframe thead th {\n",
       "        text-align: right;\n",
       "    }\n",
       "</style>\n",
       "<table border=\"1\" class=\"dataframe\">\n",
       "  <thead>\n",
       "    <tr style=\"text-align: right;\">\n",
       "      <th></th>\n",
       "      <th>Method Name</th>\n",
       "      <th>Local Site Name</th>\n",
       "      <th>Address</th>\n",
       "      <th>State Name</th>\n",
       "      <th>County Name</th>\n",
       "      <th>City Name</th>\n",
       "      <th>CBSA Name</th>\n",
       "      <th>Date of Last Change</th>\n",
       "    </tr>\n",
       "  </thead>\n",
       "  <tbody>\n",
       "    <tr>\n",
       "      <th>0</th>\n",
       "      <td>-</td>\n",
       "      <td>ASHLAND</td>\n",
       "      <td>ASHLAND AIRPORT</td>\n",
       "      <td>Alabama</td>\n",
       "      <td>Clay</td>\n",
       "      <td>Ashland</td>\n",
       "      <td>NaN</td>\n",
       "      <td>2018-07-20</td>\n",
       "    </tr>\n",
       "    <tr>\n",
       "      <th>1</th>\n",
       "      <td>-</td>\n",
       "      <td>ASHLAND</td>\n",
       "      <td>ASHLAND AIRPORT</td>\n",
       "      <td>Alabama</td>\n",
       "      <td>Clay</td>\n",
       "      <td>Ashland</td>\n",
       "      <td>NaN</td>\n",
       "      <td>2018-07-20</td>\n",
       "    </tr>\n",
       "    <tr>\n",
       "      <th>2</th>\n",
       "      <td>-</td>\n",
       "      <td>ASHLAND</td>\n",
       "      <td>ASHLAND AIRPORT</td>\n",
       "      <td>Alabama</td>\n",
       "      <td>Clay</td>\n",
       "      <td>Ashland</td>\n",
       "      <td>NaN</td>\n",
       "      <td>2018-07-20</td>\n",
       "    </tr>\n",
       "    <tr>\n",
       "      <th>3</th>\n",
       "      <td>-</td>\n",
       "      <td>ASHLAND</td>\n",
       "      <td>ASHLAND AIRPORT</td>\n",
       "      <td>Alabama</td>\n",
       "      <td>Clay</td>\n",
       "      <td>Ashland</td>\n",
       "      <td>NaN</td>\n",
       "      <td>2018-07-20</td>\n",
       "    </tr>\n",
       "    <tr>\n",
       "      <th>4</th>\n",
       "      <td>-</td>\n",
       "      <td>ASHLAND</td>\n",
       "      <td>ASHLAND AIRPORT</td>\n",
       "      <td>Alabama</td>\n",
       "      <td>Clay</td>\n",
       "      <td>Ashland</td>\n",
       "      <td>NaN</td>\n",
       "      <td>2018-07-20</td>\n",
       "    </tr>\n",
       "  </tbody>\n",
       "</table>\n",
       "</div>"
      ],
      "text/plain": [
       "  Method Name Local Site Name          Address State Name County Name  \\\n",
       "0          -          ASHLAND  ASHLAND AIRPORT    Alabama        Clay   \n",
       "1          -          ASHLAND  ASHLAND AIRPORT    Alabama        Clay   \n",
       "2          -          ASHLAND  ASHLAND AIRPORT    Alabama        Clay   \n",
       "3          -          ASHLAND  ASHLAND AIRPORT    Alabama        Clay   \n",
       "4          -          ASHLAND  ASHLAND AIRPORT    Alabama        Clay   \n",
       "\n",
       "  City Name CBSA Name Date of Last Change  \n",
       "0   Ashland       NaN          2018-07-20  \n",
       "1   Ashland       NaN          2018-07-20  \n",
       "2   Ashland       NaN          2018-07-20  \n",
       "3   Ashland       NaN          2018-07-20  \n",
       "4   Ashland       NaN          2018-07-20  "
      ]
     },
     "execution_count": 6,
     "metadata": {},
     "output_type": "execute_result"
    }
   ],
   "source": [
    "#Look at the first five rows and the final columns\n",
    "ozone0.iloc[:5, 21:]"
   ]
  },
  {
   "cell_type": "markdown",
   "id": "602228bc",
   "metadata": {},
   "source": [
    "### Clean 1999 dataset"
   ]
  },
  {
   "cell_type": "code",
   "execution_count": 7,
   "id": "713ae23e",
   "metadata": {},
   "outputs": [
    {
     "data": {
      "text/plain": [
       "317682"
      ]
     },
     "execution_count": 7,
     "metadata": {},
     "output_type": "execute_result"
    }
   ],
   "source": [
    "len(ozone0)"
   ]
  },
  {
   "cell_type": "code",
   "execution_count": 8,
   "id": "d245b306",
   "metadata": {},
   "outputs": [
    {
     "data": {
      "text/plain": [
       "Sample Duration\n",
       "8-HR RUN AVG BEGIN HOUR    317682\n",
       "dtype: int64"
      ]
     },
     "execution_count": 8,
     "metadata": {},
     "output_type": "execute_result"
    }
   ],
   "source": [
    "#Check whether there are multiple sample durations\n",
    "ozone0.groupby('Sample Duration').size()"
   ]
  },
  {
   "cell_type": "code",
   "execution_count": 9,
   "id": "4375fcf0",
   "metadata": {},
   "outputs": [
    {
     "data": {
      "text/plain": [
       "Event Type\n",
       "Excluded        19\n",
       "Included     18925\n",
       "None        298738\n",
       "dtype: int64"
      ]
     },
     "execution_count": 9,
     "metadata": {},
     "output_type": "execute_result"
    }
   ],
   "source": [
    "#Check whether there are excluded observations in event type\n",
    "ozone0.groupby('Event Type').size()"
   ]
  },
  {
   "cell_type": "code",
   "execution_count": 10,
   "id": "d6d7a8e3",
   "metadata": {},
   "outputs": [
    {
     "data": {
      "text/plain": [
       "317663"
      ]
     },
     "execution_count": 10,
     "metadata": {},
     "output_type": "execute_result"
    }
   ],
   "source": [
    "#remove excluded event type observations\n",
    "ozone0NonExcluded = ozone0[ozone0['Event Type'] !=  'Excluded']\n",
    "len(ozone0NonExcluded)"
   ]
  },
  {
   "cell_type": "code",
   "execution_count": 11,
   "id": "d570809e",
   "metadata": {},
   "outputs": [
    {
     "data": {
      "text/plain": [
       "array(['Alabama', 'Alaska', 'Arizona', 'Arkansas', 'California',\n",
       "       'Colorado', 'Connecticut', 'Delaware', 'District Of Columbia',\n",
       "       'Florida', 'Georgia', 'Hawaii', 'Idaho', 'Illinois', 'Indiana',\n",
       "       'Iowa', 'Kansas', 'Kentucky', 'Louisiana', 'Maine', 'Maryland',\n",
       "       'Massachusetts', 'Michigan', 'Minnesota', 'Mississippi',\n",
       "       'Missouri', 'Montana', 'Nebraska', 'Nevada', 'New Hampshire',\n",
       "       'New Jersey', 'New Mexico', 'New York', 'North Carolina',\n",
       "       'North Dakota', 'Ohio', 'Oklahoma', 'Oregon', 'Pennsylvania',\n",
       "       'Rhode Island', 'South Carolina', 'South Dakota', 'Tennessee',\n",
       "       'Texas', 'Utah', 'Vermont', 'Virginia', 'Washington',\n",
       "       'West Virginia', 'Wisconsin', 'Wyoming', 'Puerto Rico',\n",
       "       'Virgin Islands', 'Country Of Mexico', 'Canada'], dtype=object)"
      ]
     },
     "execution_count": 11,
     "metadata": {},
     "output_type": "execute_result"
    }
   ],
   "source": [
    "#check for non U.S. states \n",
    "ozone0NonExcluded['State Name'].unique()"
   ]
  },
  {
   "cell_type": "code",
   "execution_count": 12,
   "id": "06de0d0a",
   "metadata": {},
   "outputs": [
    {
     "data": {
      "text/plain": [
       "55"
      ]
     },
     "execution_count": 12,
     "metadata": {},
     "output_type": "execute_result"
    }
   ],
   "source": [
    "len(ozone0NonExcluded['State Name'].unique())"
   ]
  },
  {
   "cell_type": "code",
   "execution_count": 13,
   "id": "37a7dde6",
   "metadata": {},
   "outputs": [
    {
     "name": "stdout",
     "output_type": "stream",
     "text": [
      "1091\n",
      "250\n",
      "363\n",
      "3061\n",
      "188\n"
     ]
    }
   ],
   "source": [
    "print(np.count_nonzero(ozone0NonExcluded['State Name']== 'District Of Columbia' ))\n",
    "print(np.count_nonzero(ozone0NonExcluded['State Name']== 'Puerto Rico'))\n",
    "print(np.count_nonzero(ozone0NonExcluded['State Name']== 'Virgin Islands' ))\n",
    "print(np.count_nonzero(ozone0NonExcluded['State Name']== 'Country Of Mexico' ))\n",
    "print(np.count_nonzero(ozone0NonExcluded['State Name']== 'Canada' ))"
   ]
  },
  {
   "cell_type": "code",
   "execution_count": 14,
   "id": "97859965",
   "metadata": {},
   "outputs": [],
   "source": [
    "#remove observations from District of Columbia, Puerto Rico, Virgin Islands, Mexico, and Canada\n",
    "ozone0Cleaned = ozone0NonExcluded[(ozone0NonExcluded['State Name'] != 'District Of Columbia') \n",
    "                & (ozone0NonExcluded['State Name'] != 'Puerto Rico')\n",
    "                & (ozone0NonExcluded['State Name'] != 'Virgin Islands')\n",
    "                & (ozone0NonExcluded['State Name'] != 'Country Of Mexico')                  \n",
    "                & (ozone0NonExcluded['State Name'] != 'Canada')]\n"
   ]
  },
  {
   "cell_type": "code",
   "execution_count": 15,
   "id": "50aa9bbf",
   "metadata": {},
   "outputs": [
    {
     "data": {
      "text/plain": [
       "312710"
      ]
     },
     "execution_count": 15,
     "metadata": {},
     "output_type": "execute_result"
    }
   ],
   "source": [
    "len(ozone0Cleaned)"
   ]
  },
  {
   "cell_type": "code",
   "execution_count": 16,
   "id": "e7879ba0",
   "metadata": {},
   "outputs": [],
   "source": [
    "#save cleaned dataset \n",
    "ozone0Cleaned.to_csv('C:\\\\Users\\\\Mary\\\\CIS5898\\\\FIT_capstone\\\\daily_44201_1999_cleaned.csv', header = True)"
   ]
  },
  {
   "cell_type": "markdown",
   "id": "47e53ee1",
   "metadata": {},
   "source": [
    "### Extract arithmetic mean from 1999 dataset as series and print descriptive statistics"
   ]
  },
  {
   "cell_type": "markdown",
   "id": "04bd6c84",
   "metadata": {},
   "source": [
    "Original (uncleaned) and cleaned datasets"
   ]
  },
  {
   "cell_type": "code",
   "execution_count": 17,
   "id": "77e41392",
   "metadata": {},
   "outputs": [
    {
     "data": {
      "text/plain": [
       "count    317682.000000\n",
       "mean          0.033290\n",
       "std           0.015258\n",
       "min           0.000000\n",
       "25%           0.022059\n",
       "50%           0.032412\n",
       "75%           0.043176\n",
       "max           0.111529\n",
       "Name: Arithmetic Mean, dtype: float64"
      ]
     },
     "execution_count": 17,
     "metadata": {},
     "output_type": "execute_result"
    }
   ],
   "source": [
    "#uncleaned 1999\n",
    "x0 = ozone0['Arithmetic Mean']\n",
    "x0.describe()"
   ]
  },
  {
   "cell_type": "code",
   "execution_count": 18,
   "id": "a8410807",
   "metadata": {},
   "outputs": [
    {
     "data": {
      "text/plain": [
       "count    312710.000000\n",
       "mean          0.033382\n",
       "std           0.015265\n",
       "min           0.000000\n",
       "25%           0.022176\n",
       "50%           0.032471\n",
       "75%           0.043235\n",
       "max           0.111529\n",
       "Name: Arithmetic Mean, dtype: float64"
      ]
     },
     "execution_count": 18,
     "metadata": {},
     "output_type": "execute_result"
    }
   ],
   "source": [
    "#cleaned 1999\n",
    "x0_cleaned = ozone0Cleaned['Arithmetic Mean']\n",
    "x0_cleaned.describe()"
   ]
  },
  {
   "cell_type": "markdown",
   "id": "0d5315e1",
   "metadata": {},
   "source": [
    "### Load 2012 data and perform exploratory data analysis"
   ]
  },
  {
   "cell_type": "code",
   "execution_count": 19,
   "id": "64189946",
   "metadata": {},
   "outputs": [],
   "source": [
    "ozone1 = pd.read_csv('C:\\\\Users\\\\Mary\\\\CIS5898\\\\daily_44201_2012.csv') "
   ]
  },
  {
   "cell_type": "code",
   "execution_count": 20,
   "id": "9c22e91c",
   "metadata": {},
   "outputs": [
    {
     "name": "stdout",
     "output_type": "stream",
     "text": [
      "<class 'pandas.core.frame.DataFrame'>\n",
      "RangeIndex: 386439 entries, 0 to 386438\n",
      "Data columns (total 29 columns):\n",
      " #   Column               Non-Null Count   Dtype  \n",
      "---  ------               --------------   -----  \n",
      " 0   State Code           386439 non-null  int64  \n",
      " 1   County Code          386439 non-null  int64  \n",
      " 2   Site Num             386439 non-null  int64  \n",
      " 3   Parameter Code       386439 non-null  int64  \n",
      " 4   POC                  386439 non-null  int64  \n",
      " 5   Latitude             386439 non-null  float64\n",
      " 6   Longitude            386439 non-null  float64\n",
      " 7   Datum                386439 non-null  object \n",
      " 8   Parameter Name       386439 non-null  object \n",
      " 9   Sample Duration      386439 non-null  object \n",
      " 10  Pollutant Standard   386439 non-null  object \n",
      " 11  Date Local           386439 non-null  object \n",
      " 12  Units of Measure     386439 non-null  object \n",
      " 13  Event Type           386439 non-null  object \n",
      " 14  Observation Count    386439 non-null  int64  \n",
      " 15  Observation Percent  386439 non-null  float64\n",
      " 16  Arithmetic Mean      386439 non-null  float64\n",
      " 17  1st Max Value        386439 non-null  float64\n",
      " 18  1st Max Hour         386439 non-null  int64  \n",
      " 19  AQI                  386439 non-null  int64  \n",
      " 20  Method Code          0 non-null       float64\n",
      " 21  Method Name          386439 non-null  object \n",
      " 22  Local Site Name      369645 non-null  object \n",
      " 23  Address              386439 non-null  object \n",
      " 24  State Name           386439 non-null  object \n",
      " 25  County Name          386439 non-null  object \n",
      " 26  City Name            386439 non-null  object \n",
      " 27  CBSA Name            347596 non-null  object \n",
      " 28  Date of Last Change  386439 non-null  object \n",
      "dtypes: float64(6), int64(8), object(15)\n",
      "memory usage: 85.5+ MB\n",
      "None\n",
      "2\n",
      "(386439, 29)\n"
     ]
    }
   ],
   "source": [
    "print(ozone1.info()) \n",
    "print(ozone1.ndim) \n",
    "print(ozone1.shape) "
   ]
  },
  {
   "cell_type": "markdown",
   "id": "8e71203e",
   "metadata": {},
   "source": [
    "### Clean 2012 dataset"
   ]
  },
  {
   "cell_type": "code",
   "execution_count": 21,
   "id": "50af78e8",
   "metadata": {},
   "outputs": [
    {
     "data": {
      "text/plain": [
       "386439"
      ]
     },
     "execution_count": 21,
     "metadata": {},
     "output_type": "execute_result"
    }
   ],
   "source": [
    "len(ozone1)"
   ]
  },
  {
   "cell_type": "code",
   "execution_count": 22,
   "id": "6e9a7c5b",
   "metadata": {},
   "outputs": [
    {
     "data": {
      "text/plain": [
       "Sample Duration\n",
       "8-HR RUN AVG BEGIN HOUR    386439\n",
       "dtype: int64"
      ]
     },
     "execution_count": 22,
     "metadata": {},
     "output_type": "execute_result"
    }
   ],
   "source": [
    "#Check whether there are multiple sample durations\n",
    "ozone1.groupby('Sample Duration').size()"
   ]
  },
  {
   "cell_type": "code",
   "execution_count": 23,
   "id": "19be8487",
   "metadata": {},
   "outputs": [
    {
     "data": {
      "text/plain": [
       "Event Type\n",
       "Excluded       354\n",
       "Included     12538\n",
       "None        373547\n",
       "dtype: int64"
      ]
     },
     "execution_count": 23,
     "metadata": {},
     "output_type": "execute_result"
    }
   ],
   "source": [
    "#Check whether there are excluded observations in event type\n",
    "ozone1.groupby('Event Type').size()"
   ]
  },
  {
   "cell_type": "code",
   "execution_count": 24,
   "id": "d55b4d11",
   "metadata": {},
   "outputs": [
    {
     "data": {
      "text/plain": [
       "386085"
      ]
     },
     "execution_count": 24,
     "metadata": {},
     "output_type": "execute_result"
    }
   ],
   "source": [
    "#remove excluded event type observations\n",
    "ozone1NonExcluded = ozone1[ozone1['Event Type'] !=  'Excluded']\n",
    "len(ozone1NonExcluded)"
   ]
  },
  {
   "cell_type": "code",
   "execution_count": 25,
   "id": "3a3e9629",
   "metadata": {},
   "outputs": [
    {
     "data": {
      "text/plain": [
       "array(['Alabama', 'Alaska', 'Arizona', 'Arkansas', 'California',\n",
       "       'Colorado', 'Connecticut', 'Delaware', 'District Of Columbia',\n",
       "       'Florida', 'Georgia', 'Hawaii', 'Idaho', 'Illinois', 'Indiana',\n",
       "       'Iowa', 'Kansas', 'Kentucky', 'Louisiana', 'Maine', 'Maryland',\n",
       "       'Massachusetts', 'Michigan', 'Minnesota', 'Mississippi',\n",
       "       'Missouri', 'Montana', 'Nebraska', 'Nevada', 'New Hampshire',\n",
       "       'New Jersey', 'New Mexico', 'New York', 'North Carolina',\n",
       "       'North Dakota', 'Ohio', 'Oklahoma', 'Oregon', 'Pennsylvania',\n",
       "       'Rhode Island', 'South Carolina', 'South Dakota', 'Tennessee',\n",
       "       'Texas', 'Utah', 'Vermont', 'Virginia', 'Washington',\n",
       "       'West Virginia', 'Wisconsin', 'Wyoming', 'Puerto Rico',\n",
       "       'Country Of Mexico'], dtype=object)"
      ]
     },
     "execution_count": 25,
     "metadata": {},
     "output_type": "execute_result"
    }
   ],
   "source": [
    "#check for non U.S. states \n",
    "ozone1NonExcluded['State Name'].unique()"
   ]
  },
  {
   "cell_type": "code",
   "execution_count": 26,
   "id": "837dff77",
   "metadata": {},
   "outputs": [
    {
     "data": {
      "text/plain": [
       "53"
      ]
     },
     "execution_count": 26,
     "metadata": {},
     "output_type": "execute_result"
    }
   ],
   "source": [
    "len(ozone1NonExcluded['State Name'].unique())"
   ]
  },
  {
   "cell_type": "code",
   "execution_count": 27,
   "id": "207a0acf",
   "metadata": {},
   "outputs": [
    {
     "name": "stdout",
     "output_type": "stream",
     "text": [
      "729\n",
      "676\n",
      "0\n",
      "1432\n",
      "0\n"
     ]
    }
   ],
   "source": [
    "print(np.count_nonzero(ozone1NonExcluded['State Name']== 'District Of Columbia' ))\n",
    "print(np.count_nonzero(ozone1NonExcluded['State Name']== 'Puerto Rico'))\n",
    "print(np.count_nonzero(ozone1NonExcluded['State Name']== 'Virgin Islands' ))\n",
    "print(np.count_nonzero(ozone1NonExcluded['State Name']== 'Country Of Mexico' ))\n",
    "print(np.count_nonzero(ozone1NonExcluded['State Name']== 'Canada' ))"
   ]
  },
  {
   "cell_type": "code",
   "execution_count": 28,
   "id": "64f0e32a",
   "metadata": {},
   "outputs": [],
   "source": [
    "#remove observations from District of Columbia, Puerto Rico, and Mexico\n",
    "ozone1Cleaned = ozone1NonExcluded[(ozone1NonExcluded['State Name'] != 'District Of Columbia') \n",
    "                & (ozone1NonExcluded['State Name'] != 'Puerto Rico')                  \n",
    "                & (ozone1NonExcluded['State Name'] != 'Country Of Mexico')]\n"
   ]
  },
  {
   "cell_type": "code",
   "execution_count": 29,
   "id": "775450f8",
   "metadata": {},
   "outputs": [
    {
     "data": {
      "text/plain": [
       "383248"
      ]
     },
     "execution_count": 29,
     "metadata": {},
     "output_type": "execute_result"
    }
   ],
   "source": [
    "len(ozone1Cleaned)"
   ]
  },
  {
   "cell_type": "code",
   "execution_count": 30,
   "id": "b9b06b7e",
   "metadata": {},
   "outputs": [],
   "source": [
    "#save cleaned dataset \n",
    "ozone1Cleaned.to_csv('C:\\\\Users\\\\Mary\\\\CIS5898\\\\FIT_capstone\\\\daily_44201_2012_cleaned.csv', header = True)"
   ]
  },
  {
   "cell_type": "markdown",
   "id": "cd44bbd5",
   "metadata": {},
   "source": [
    "### Extract arithmetic mean from 2012 dataset as series and print descriptive statistics"
   ]
  },
  {
   "cell_type": "markdown",
   "id": "7d7fbb61",
   "metadata": {},
   "source": [
    "Original (uncleaned) and cleaned datasets"
   ]
  },
  {
   "cell_type": "code",
   "execution_count": 31,
   "id": "b4591405",
   "metadata": {},
   "outputs": [
    {
     "data": {
      "text/plain": [
       "count    386439.000000\n",
       "mean          0.033289\n",
       "std           0.012707\n",
       "min           0.000000\n",
       "25%           0.024176\n",
       "50%           0.032647\n",
       "75%           0.041765\n",
       "max           0.097100\n",
       "Name: Arithmetic Mean, dtype: float64"
      ]
     },
     "execution_count": 31,
     "metadata": {},
     "output_type": "execute_result"
    }
   ],
   "source": [
    "#uncleaned 2012\n",
    "x1 = ozone1['Arithmetic Mean']\n",
    "x1.describe()"
   ]
  },
  {
   "cell_type": "code",
   "execution_count": 32,
   "id": "cd86ba4a",
   "metadata": {},
   "outputs": [
    {
     "data": {
      "text/plain": [
       "count    383248.000000\n",
       "mean          0.033346\n",
       "std           0.012677\n",
       "min           0.000000\n",
       "25%           0.024235\n",
       "50%           0.032706\n",
       "75%           0.041765\n",
       "max           0.097100\n",
       "Name: Arithmetic Mean, dtype: float64"
      ]
     },
     "execution_count": 32,
     "metadata": {},
     "output_type": "execute_result"
    }
   ],
   "source": [
    "#cleaned 2012\n",
    "x1_cleaned = ozone1Cleaned['Arithmetic Mean']\n",
    "x1_cleaned.describe()"
   ]
  },
  {
   "cell_type": "markdown",
   "id": "4c6ac0f4",
   "metadata": {},
   "source": [
    "### Read in 2020 dataset"
   ]
  },
  {
   "cell_type": "code",
   "execution_count": 33,
   "id": "6dc699c6",
   "metadata": {},
   "outputs": [],
   "source": [
    "ozone2 = pd.read_csv('C:\\\\Users\\\\Mary\\\\CIS5898\\\\daily_44201_2020.csv')"
   ]
  },
  {
   "cell_type": "markdown",
   "id": "20d0c90d",
   "metadata": {},
   "source": [
    "### Clean 2020 dataset"
   ]
  },
  {
   "cell_type": "code",
   "execution_count": 34,
   "id": "d58b29ba",
   "metadata": {},
   "outputs": [
    {
     "data": {
      "text/plain": [
       "391923"
      ]
     },
     "execution_count": 34,
     "metadata": {},
     "output_type": "execute_result"
    }
   ],
   "source": [
    "len(ozone2)"
   ]
  },
  {
   "cell_type": "code",
   "execution_count": 35,
   "id": "c1a1995b",
   "metadata": {},
   "outputs": [
    {
     "data": {
      "text/plain": [
       "Sample Duration\n",
       "8-HR RUN AVG BEGIN HOUR    391923\n",
       "dtype: int64"
      ]
     },
     "execution_count": 35,
     "metadata": {},
     "output_type": "execute_result"
    }
   ],
   "source": [
    "#Check whether there are multiple sample durations\n",
    "ozone2.groupby('Sample Duration').size()"
   ]
  },
  {
   "cell_type": "code",
   "execution_count": 36,
   "id": "0ac4f34a",
   "metadata": {},
   "outputs": [
    {
     "data": {
      "text/plain": [
       "Event Type\n",
       "Excluded       369\n",
       "Included      8208\n",
       "None        383346\n",
       "dtype: int64"
      ]
     },
     "execution_count": 36,
     "metadata": {},
     "output_type": "execute_result"
    }
   ],
   "source": [
    "#Check whether there are excluded observations in event type\n",
    "ozone2.groupby('Event Type').size()"
   ]
  },
  {
   "cell_type": "code",
   "execution_count": 37,
   "id": "62df882b",
   "metadata": {},
   "outputs": [
    {
     "data": {
      "text/plain": [
       "391554"
      ]
     },
     "execution_count": 37,
     "metadata": {},
     "output_type": "execute_result"
    }
   ],
   "source": [
    "#remove excluded event type observations\n",
    "ozone2NonExcluded = ozone2[ozone2['Event Type'] !=  'Excluded']\n",
    "len(ozone2NonExcluded)"
   ]
  },
  {
   "cell_type": "code",
   "execution_count": 38,
   "id": "6ecfe33f",
   "metadata": {},
   "outputs": [
    {
     "data": {
      "text/plain": [
       "array(['Alabama', 'Alaska', 'Arizona', 'Arkansas', 'California',\n",
       "       'Colorado', 'Connecticut', 'Delaware', 'District Of Columbia',\n",
       "       'Florida', 'Georgia', 'Hawaii', 'Idaho', 'Illinois', 'Indiana',\n",
       "       'Iowa', 'Kansas', 'Kentucky', 'Louisiana', 'Maine', 'Maryland',\n",
       "       'Massachusetts', 'Michigan', 'Minnesota', 'Mississippi',\n",
       "       'Missouri', 'Montana', 'Nebraska', 'Nevada', 'New Hampshire',\n",
       "       'New Jersey', 'New Mexico', 'New York', 'North Carolina',\n",
       "       'North Dakota', 'Ohio', 'Oklahoma', 'Oregon', 'Pennsylvania',\n",
       "       'Rhode Island', 'South Carolina', 'South Dakota', 'Tennessee',\n",
       "       'Texas', 'Utah', 'Vermont', 'Virginia', 'Washington',\n",
       "       'West Virginia', 'Wisconsin', 'Wyoming', 'Puerto Rico',\n",
       "       'Country Of Mexico'], dtype=object)"
      ]
     },
     "execution_count": 38,
     "metadata": {},
     "output_type": "execute_result"
    }
   ],
   "source": [
    "#check for non U.S. states \n",
    "ozone2NonExcluded['State Name'].unique()"
   ]
  },
  {
   "cell_type": "code",
   "execution_count": 39,
   "id": "989b69f9",
   "metadata": {},
   "outputs": [
    {
     "data": {
      "text/plain": [
       "53"
      ]
     },
     "execution_count": 39,
     "metadata": {},
     "output_type": "execute_result"
    }
   ],
   "source": [
    "len(ozone2NonExcluded['State Name'].unique())"
   ]
  },
  {
   "cell_type": "code",
   "execution_count": 40,
   "id": "0f6bb089",
   "metadata": {},
   "outputs": [
    {
     "name": "stdout",
     "output_type": "stream",
     "text": [
      "1088\n",
      "981\n",
      "0\n",
      "146\n",
      "0\n"
     ]
    }
   ],
   "source": [
    "print(np.count_nonzero(ozone2NonExcluded['State Name']== 'District Of Columbia' ))\n",
    "print(np.count_nonzero(ozone2NonExcluded['State Name']== 'Puerto Rico'))\n",
    "print(np.count_nonzero(ozone2NonExcluded['State Name']== 'Virgin Islands' ))\n",
    "print(np.count_nonzero(ozone2NonExcluded['State Name']== 'Country Of Mexico' ))\n",
    "print(np.count_nonzero(ozone2NonExcluded['State Name']== 'Canada' ))"
   ]
  },
  {
   "cell_type": "code",
   "execution_count": 41,
   "id": "50ca5e92",
   "metadata": {},
   "outputs": [],
   "source": [
    "#remove observations from District of Columbia, Puerto Rico, and Mexico\n",
    "ozone2Cleaned = ozone2NonExcluded[(ozone2NonExcluded['State Name'] != 'District Of Columbia') \n",
    "                & (ozone2NonExcluded['State Name'] != 'Puerto Rico')                  \n",
    "                & (ozone2NonExcluded['State Name'] != 'Country Of Mexico')]"
   ]
  },
  {
   "cell_type": "code",
   "execution_count": 42,
   "id": "6323589c",
   "metadata": {},
   "outputs": [
    {
     "data": {
      "text/plain": [
       "389339"
      ]
     },
     "execution_count": 42,
     "metadata": {},
     "output_type": "execute_result"
    }
   ],
   "source": [
    "len(ozone2Cleaned)"
   ]
  },
  {
   "cell_type": "code",
   "execution_count": 43,
   "id": "37975555",
   "metadata": {},
   "outputs": [],
   "source": [
    "#save cleaned dataset \n",
    "ozone2Cleaned.to_csv('C:\\\\Users\\\\Mary\\\\CIS5898\\\\FIT_capstone\\\\daily_44201_2020_cleaned.csv', header = True)"
   ]
  },
  {
   "cell_type": "markdown",
   "id": "58bbb25d",
   "metadata": {},
   "source": [
    "### Extract arithmetic mean from 2020 dataset as series and print descriptive statistics"
   ]
  },
  {
   "cell_type": "markdown",
   "id": "3daa6b4c",
   "metadata": {},
   "source": [
    "Original (uncleaned) and cleaned datasets"
   ]
  },
  {
   "cell_type": "code",
   "execution_count": 44,
   "id": "bdbdd74d",
   "metadata": {},
   "outputs": [
    {
     "data": {
      "text/plain": [
       "count    391923.000000\n",
       "mean          0.030817\n",
       "std           0.010771\n",
       "min          -0.003300\n",
       "25%           0.023235\n",
       "50%           0.030706\n",
       "75%           0.038059\n",
       "max           0.135529\n",
       "Name: Arithmetic Mean, dtype: float64"
      ]
     },
     "execution_count": 44,
     "metadata": {},
     "output_type": "execute_result"
    }
   ],
   "source": [
    "#uncleaned 2020\n",
    "x2 = ozone2['Arithmetic Mean']\n",
    "x2.describe()"
   ]
  },
  {
   "cell_type": "code",
   "execution_count": 45,
   "id": "7bfa6d8e",
   "metadata": {},
   "outputs": [
    {
     "data": {
      "text/plain": [
       "count    389339.000000\n",
       "mean          0.030859\n",
       "std           0.010717\n",
       "min          -0.003300\n",
       "25%           0.023294\n",
       "50%           0.030706\n",
       "75%           0.038059\n",
       "max           0.135529\n",
       "Name: Arithmetic Mean, dtype: float64"
      ]
     },
     "execution_count": 45,
     "metadata": {},
     "output_type": "execute_result"
    }
   ],
   "source": [
    "#cleaned 2020\n",
    "x2_cleaned = ozone2Cleaned['Arithmetic Mean']\n",
    "x2_cleaned.describe()"
   ]
  },
  {
   "cell_type": "code",
   "execution_count": 46,
   "id": "4ec66571",
   "metadata": {},
   "outputs": [
    {
     "name": "stdout",
     "output_type": "stream",
     "text": [
      "4\n",
      "0.0010273823069356011\n"
     ]
    }
   ],
   "source": [
    "#Look into the number of negative numbers in ozone 2020 dataset\n",
    "countNegativeValues = np.count_nonzero(x2_cleaned < 0) #find count of negative values\n",
    "print(countNegativeValues)\n",
    "print((countNegativeValues / len(ozone2Cleaned)) * 100) #find percentage of negative values "
   ]
  },
  {
   "cell_type": "code",
   "execution_count": 47,
   "id": "9d02e5cf",
   "metadata": {},
   "outputs": [],
   "source": [
    "#Ignore the 4 negative values in the 2020 dataset."
   ]
  },
  {
   "cell_type": "markdown",
   "id": "d37c757f",
   "metadata": {},
   "source": [
    "### Compare aggregate changes in ozone for years 1999, 2012, and 2020"
   ]
  },
  {
   "cell_type": "code",
   "execution_count": 48,
   "id": "084c15f9",
   "metadata": {},
   "outputs": [
    {
     "data": {
      "text/plain": [
       "Text(0, 0.5, 'Ozone concentration (ppm)')"
      ]
     },
     "execution_count": 48,
     "metadata": {},
     "output_type": "execute_result"
    },
    {
     "data": {
      "image/png": "[encoded data removed]",
      "text/plain": [
       "<Figure size 576x576 with 1 Axes>"
      ]
     },
     "metadata": {},
     "output_type": "display_data"
    }
   ],
   "source": [
    "#make boxplots\n",
    "plt.style.use('seaborn-darkgrid')\n",
    "#sns.set(rc={'figure.figsize': (8,8)})\n",
    "fig = plt.figure(figsize = [8, 8]) #make larger\n",
    "years = [x0_cleaned, x1_cleaned, x2_cleaned]\n",
    "plt.boxplot(years)\n",
    "plt.title('Daily Average Ozone Concentration', fontsize=16)\n",
    "plt.xticks(np.arange(4), ['', '1999','2012', '2020'])\n",
    "plt.ylabel('Ozone concentration (ppm)')"
   ]
  },
  {
   "cell_type": "code",
   "execution_count": 49,
   "id": "19455572",
   "metadata": {},
   "outputs": [],
   "source": [
    "plt.close()"
   ]
  },
  {
   "cell_type": "markdown",
   "id": "7098548f",
   "metadata": {},
   "source": [
    "The boxplot shows similar median ozone concentrations across the three years, with the median ozone concentration in 2020 slightly lower. The range of data in 1999 is the highest. The interquartile range decreases from 1999 to 2020. The 2020 dataset has the most outliers.\n"
   ]
  },
  {
   "cell_type": "code",
   "execution_count": 50,
   "id": "69b871e6",
   "metadata": {},
   "outputs": [
    {
     "data": {
      "text/plain": [
       "Text(0, 0.5, 'Ozone concentration (ppm)')"
      ]
     },
     "execution_count": 50,
     "metadata": {},
     "output_type": "execute_result"
    },
    {
     "data": {
      "image/png": "[encoded data removed]",
      "text/plain": [
       "<Figure size 576x576 with 1 Axes>"
      ]
     },
     "metadata": {},
     "output_type": "display_data"
    }
   ],
   "source": [
    "#re-create the boxplots removing the outliers to better visualize the distribution\n",
    "fig1 = plt.figure(figsize = [8, 8]) #make larger\n",
    "years = [x0_cleaned, x1_cleaned, x2_cleaned]\n",
    "plt.boxplot(years, showfliers=False)\n",
    "plt.title('Daily Average Ozone Concentration, Outliers Removed', fontsize=16)\n",
    "plt.xticks(np.arange(4), ['', '1999','2012', '2020'])\n",
    "plt.ylabel('Ozone concentration (ppm)', fontsize=12)"
   ]
  },
  {
   "cell_type": "code",
   "execution_count": 51,
   "id": "26495d7e",
   "metadata": {},
   "outputs": [],
   "source": [
    "plt.close()"
   ]
  },
  {
   "cell_type": "code",
   "execution_count": 52,
   "id": "dea48d0f",
   "metadata": {},
   "outputs": [
    {
     "data": {
      "text/plain": [
       "Text(0.5, 0, '')"
      ]
     },
     "execution_count": 52,
     "metadata": {},
     "output_type": "execute_result"
    },
    {
     "data": {
      "image/png": "[encoded data removed]",
      "text/plain": [
       "<Figure size 504x504 with 1 Axes>"
      ]
     },
     "metadata": {},
     "output_type": "display_data"
    }
   ],
   "source": [
    "#Re-create boxplots using seaborn boxplots  \n",
    "#Create separate dataframes for arithmetic year series, add a year column and combine dataframes\n",
    "#Code modified from https://stackoverflow.com/questions/42004381/box-plot-of-a-many-pandas-dataframes\n",
    "df0 = pd.DataFrame(x0_cleaned.to_frame()).assign(Year=1999)\n",
    "df1 = pd.DataFrame(x1_cleaned.to_frame()).assign(Year=2012)\n",
    "df2 = pd.DataFrame(x2_cleaned.to_frame()).assign(Year=2020)\n",
    "cdf = pd.concat([df0, df1, df2])\n",
    "sns.set(style='whitegrid', context='notebook', rc={'figure.figsize': (7,7)})\n",
    "ax = sns.boxplot(x=\"Year\", y=\"Arithmetic Mean\", data=cdf, width = 0.5, palette='Blues')  \n",
    "ax.set_title('Daily Average Ozone Concentration', fontsize=16)\n",
    "ax.set_ylabel('ozone concentration in ppm', fontsize=14)\n",
    "ax.set_xlabel('')\n",
    "\n"
   ]
  },
  {
   "cell_type": "code",
   "execution_count": 53,
   "id": "0c12f0ca",
   "metadata": {},
   "outputs": [],
   "source": [
    "plt.close()"
   ]
  },
  {
   "cell_type": "code",
   "execution_count": 54,
   "id": "6079dabe",
   "metadata": {},
   "outputs": [
    {
     "data": {
      "text/plain": [
       "Text(0.5, 0, '')"
      ]
     },
     "execution_count": 54,
     "metadata": {},
     "output_type": "execute_result"
    },
    {
     "data": {
      "image/png": "[encoded data removed]",
      "text/plain": [
       "<Figure size 504x504 with 1 Axes>"
      ]
     },
     "metadata": {},
     "output_type": "display_data"
    }
   ],
   "source": [
    "#make a violin plot\n",
    "sns.set(style='whitegrid', context='notebook', rc={'figure.figsize': (7,7)})\n",
    "#sns.set(rc={'figure.figsize': (8,8)})\n",
    "ax = sns.violinplot(x = 'Year', y = 'Arithmetic Mean', data = cdf, palette = 'Blues')\n",
    "ax.set_title('Daily Average Ozone Concentration', fontsize=16)\n",
    "ax.set_ylabel('ozone concentration in ppm', fontsize=14)\n",
    "ax.set_xlabel('')"
   ]
  },
  {
   "cell_type": "code",
   "execution_count": 55,
   "id": "820fd9e2",
   "metadata": {},
   "outputs": [],
   "source": [
    "plt.close()"
   ]
  },
  {
   "cell_type": "markdown",
   "id": "d5c48dcd",
   "metadata": {},
   "source": [
    "### How have state levels of ozone changed over time?"
   ]
  },
  {
   "cell_type": "code",
   "execution_count": 56,
   "id": "b5991daf",
   "metadata": {},
   "outputs": [],
   "source": [
    "#calculate the ozone for each state in 1999, 2012, and 2020\n",
    "mn0 = ozone0Cleaned['Arithmetic Mean'].groupby(ozone0Cleaned['State Name']).mean()\n",
    "mn1 = ozone1Cleaned['Arithmetic Mean'].groupby(ozone1Cleaned['State Name']).mean()\n",
    "mn2 = ozone2Cleaned['Arithmetic Mean'].groupby(ozone2Cleaned['State Name']).mean()"
   ]
  },
  {
   "cell_type": "code",
   "execution_count": 57,
   "id": "99f32921",
   "metadata": {},
   "outputs": [],
   "source": [
    "#Make separate data frames for states / years\n",
    "d0 = pd.DataFrame(mn0.to_frame().reset_index())\n",
    "d1 = pd.DataFrame(mn1.to_frame().reset_index())\n",
    "d2 = pd.DataFrame(mn2.to_frame().reset_index())"
   ]
  },
  {
   "cell_type": "code",
   "execution_count": 58,
   "id": "a1314005",
   "metadata": {},
   "outputs": [],
   "source": [
    "#save d1, a dataframe for ozone arithmetic means grouped by states, for future studies\n",
    "d1.to_csv('C:\\\\Users\\\\Mary\\\\CIS5898\\\\FIT_capstone\\\\44201_2012_byState.csv', header = True)"
   ]
  },
  {
   "cell_type": "markdown",
   "id": "3f979d15",
   "metadata": {},
   "source": [
    "### Compare 1999 and 2012 ozone levels"
   ]
  },
  {
   "cell_type": "code",
   "execution_count": 59,
   "id": "c7f0630a",
   "metadata": {},
   "outputs": [],
   "source": [
    "mrg = pd.merge(d0, d1, on = 'State Name')"
   ]
  },
  {
   "cell_type": "code",
   "execution_count": 60,
   "id": "5fe8a90a",
   "metadata": {},
   "outputs": [
    {
     "data": {
      "text/plain": [
       "[Text(1, 0, '1999'), Text(3, 0, '2012')]"
      ]
     },
     "execution_count": 60,
     "metadata": {},
     "output_type": "execute_result"
    },
    {
     "data": {
      "image/png": "[encoded data removed]",
      "text/plain": [
       "<Figure size 560x560 with 1 Axes>"
      ]
     },
     "metadata": {},
     "output_type": "display_data"
    }
   ],
   "source": [
    "#Code for this plot was modified from slope chart on\n",
    "#https://www.machinelearningplus.com/plots/top-50-matplotlib-visualizations-the-master-plots-python/\n",
    "import matplotlib.lines as mlines\n",
    "\n",
    "def newline(p1, p2, color='black'):\n",
    "    ax = plt.gca()\n",
    "    l = mlines.Line2D([p1[0],p2[0]], [p1[1],p2[1]], color='blue' if p1[1]-p2[1] > 0 else 'red',  marker='o', markersize=6)\n",
    "    ax.add_line(l)\n",
    "    return l\n",
    "\n",
    "fig, ax = plt.subplots(1,1,figsize=(7,7), dpi= 80)\n",
    "\n",
    "# Vertical Lines \n",
    "ax.vlines(x=1, ymin= 0, ymax=1, color='black', alpha=0.7, linewidth=1, linestyles='dotted')\n",
    "ax.vlines(x=3, ymin=0, ymax=1, color='black', alpha=0.7, linewidth=1, linestyles='dotted')\n",
    "\n",
    "# Points\n",
    "ax.scatter(y=mrg['Arithmetic Mean_x'], x=np.repeat(1, mrg.shape[0]), s=10, color='black', alpha=0.7)\n",
    "ax.scatter(y=mrg['Arithmetic Mean_y'], x=np.repeat(3, mrg.shape[0]), s=10, color='black', alpha=0.7)\n",
    "\n",
    "# Line Segmentsand Annotation\n",
    "for p1, p2, c in zip(mrg['Arithmetic Mean_x'], mrg['Arithmetic Mean_y'], mrg['State Name']):\n",
    "    newline([1,p1], [3,p2])\n",
    "    \n",
    "# Decoration\n",
    "ax.set_title(\"Average Statewide Ozone Levels between 1999 and 2012\", fontsize=14)\n",
    "ax.set(xlim=(0,4), ylim=(0.015,0.05), ylabel='ozone concentration in ppm')\n",
    "ax.set_xticks([1,3])\n",
    "ax.set_xticklabels([\"1999\", \"2012\"])"
   ]
  },
  {
   "cell_type": "markdown",
   "id": "0a779162",
   "metadata": {},
   "source": [
    "More states have decreased ozone levels from 1999 to 2012 than increased levels. Increases are depicted with red lines."
   ]
  },
  {
   "cell_type": "code",
   "execution_count": 61,
   "id": "09528917",
   "metadata": {},
   "outputs": [],
   "source": [
    "plt.close()"
   ]
  },
  {
   "cell_type": "code",
   "execution_count": 62,
   "id": "9a74ac91",
   "metadata": {},
   "outputs": [
    {
     "data": {
      "text/html": [
       "<div>\n",
       "<style scoped>\n",
       "    .dataframe tbody tr th:only-of-type {\n",
       "        vertical-align: middle;\n",
       "    }\n",
       "\n",
       "    .dataframe tbody tr th {\n",
       "        vertical-align: top;\n",
       "    }\n",
       "\n",
       "    .dataframe thead th {\n",
       "        text-align: right;\n",
       "    }\n",
       "</style>\n",
       "<table border=\"1\" class=\"dataframe\">\n",
       "  <thead>\n",
       "    <tr style=\"text-align: right;\">\n",
       "      <th></th>\n",
       "      <th>State Name</th>\n",
       "      <th>Arithmetic Mean_x</th>\n",
       "      <th>Arithmetic Mean_y</th>\n",
       "    </tr>\n",
       "  </thead>\n",
       "  <tbody>\n",
       "    <tr>\n",
       "      <th>24</th>\n",
       "      <td>Missouri</td>\n",
       "      <td>0.035966</td>\n",
       "      <td>0.039694</td>\n",
       "    </tr>\n",
       "    <tr>\n",
       "      <th>14</th>\n",
       "      <td>Iowa</td>\n",
       "      <td>0.035182</td>\n",
       "      <td>0.035701</td>\n",
       "    </tr>\n",
       "    <tr>\n",
       "      <th>30</th>\n",
       "      <td>New Mexico</td>\n",
       "      <td>0.034813</td>\n",
       "      <td>0.036827</td>\n",
       "    </tr>\n",
       "    <tr>\n",
       "      <th>27</th>\n",
       "      <td>Nevada</td>\n",
       "      <td>0.034262</td>\n",
       "      <td>0.038848</td>\n",
       "    </tr>\n",
       "    <tr>\n",
       "      <th>35</th>\n",
       "      <td>Oklahoma</td>\n",
       "      <td>0.033853</td>\n",
       "      <td>0.036145</td>\n",
       "    </tr>\n",
       "    <tr>\n",
       "      <th>20</th>\n",
       "      <td>Massachusetts</td>\n",
       "      <td>0.032702</td>\n",
       "      <td>0.032966</td>\n",
       "    </tr>\n",
       "    <tr>\n",
       "      <th>3</th>\n",
       "      <td>Arkansas</td>\n",
       "      <td>0.032148</td>\n",
       "      <td>0.033581</td>\n",
       "    </tr>\n",
       "    <tr>\n",
       "      <th>5</th>\n",
       "      <td>Colorado</td>\n",
       "      <td>0.032102</td>\n",
       "      <td>0.041155</td>\n",
       "    </tr>\n",
       "    <tr>\n",
       "      <th>15</th>\n",
       "      <td>Kansas</td>\n",
       "      <td>0.031351</td>\n",
       "      <td>0.034516</td>\n",
       "    </tr>\n",
       "    <tr>\n",
       "      <th>4</th>\n",
       "      <td>California</td>\n",
       "      <td>0.031329</td>\n",
       "      <td>0.032747</td>\n",
       "    </tr>\n",
       "    <tr>\n",
       "      <th>22</th>\n",
       "      <td>Minnesota</td>\n",
       "      <td>0.030513</td>\n",
       "      <td>0.030612</td>\n",
       "    </tr>\n",
       "    <tr>\n",
       "      <th>28</th>\n",
       "      <td>New Hampshire</td>\n",
       "      <td>0.029725</td>\n",
       "      <td>0.031191</td>\n",
       "    </tr>\n",
       "    <tr>\n",
       "      <th>42</th>\n",
       "      <td>Texas</td>\n",
       "      <td>0.029290</td>\n",
       "      <td>0.030503</td>\n",
       "    </tr>\n",
       "    <tr>\n",
       "      <th>26</th>\n",
       "      <td>Nebraska</td>\n",
       "      <td>0.028622</td>\n",
       "      <td>0.035165</td>\n",
       "    </tr>\n",
       "    <tr>\n",
       "      <th>40</th>\n",
       "      <td>South Dakota</td>\n",
       "      <td>0.028387</td>\n",
       "      <td>0.035528</td>\n",
       "    </tr>\n",
       "    <tr>\n",
       "      <th>12</th>\n",
       "      <td>Illinois</td>\n",
       "      <td>0.027519</td>\n",
       "      <td>0.030986</td>\n",
       "    </tr>\n",
       "    <tr>\n",
       "      <th>25</th>\n",
       "      <td>Montana</td>\n",
       "      <td>0.026276</td>\n",
       "      <td>0.029614</td>\n",
       "    </tr>\n",
       "    <tr>\n",
       "      <th>46</th>\n",
       "      <td>Washington</td>\n",
       "      <td>0.025489</td>\n",
       "      <td>0.027005</td>\n",
       "    </tr>\n",
       "    <tr>\n",
       "      <th>36</th>\n",
       "      <td>Oregon</td>\n",
       "      <td>0.025139</td>\n",
       "      <td>0.028179</td>\n",
       "    </tr>\n",
       "    <tr>\n",
       "      <th>10</th>\n",
       "      <td>Hawaii</td>\n",
       "      <td>0.020252</td>\n",
       "      <td>0.022133</td>\n",
       "    </tr>\n",
       "  </tbody>\n",
       "</table>\n",
       "</div>"
      ],
      "text/plain": [
       "       State Name  Arithmetic Mean_x  Arithmetic Mean_y\n",
       "24       Missouri           0.035966           0.039694\n",
       "14           Iowa           0.035182           0.035701\n",
       "30     New Mexico           0.034813           0.036827\n",
       "27         Nevada           0.034262           0.038848\n",
       "35       Oklahoma           0.033853           0.036145\n",
       "20  Massachusetts           0.032702           0.032966\n",
       "3        Arkansas           0.032148           0.033581\n",
       "5        Colorado           0.032102           0.041155\n",
       "15         Kansas           0.031351           0.034516\n",
       "4      California           0.031329           0.032747\n",
       "22      Minnesota           0.030513           0.030612\n",
       "28  New Hampshire           0.029725           0.031191\n",
       "42          Texas           0.029290           0.030503\n",
       "26       Nebraska           0.028622           0.035165\n",
       "40   South Dakota           0.028387           0.035528\n",
       "12       Illinois           0.027519           0.030986\n",
       "25        Montana           0.026276           0.029614\n",
       "46     Washington           0.025489           0.027005\n",
       "36         Oregon           0.025139           0.028179\n",
       "10         Hawaii           0.020252           0.022133"
      ]
     },
     "execution_count": 62,
     "metadata": {},
     "output_type": "execute_result"
    }
   ],
   "source": [
    "#which states have increased levels of ozone?\n",
    "ozone0StateIncrease = mrg[mrg['Arithmetic Mean_y'] > mrg['Arithmetic Mean_x']]\n",
    "ozone0StateIncrease = ozone0StateIncrease.sort_values('Arithmetic Mean_x', ascending = False).copy()\n",
    "ozone0StateIncrease"
   ]
  },
  {
   "cell_type": "markdown",
   "id": "722426db",
   "metadata": {},
   "source": [
    "### Compare 2012 and 2020 ozone levels"
   ]
  },
  {
   "cell_type": "code",
   "execution_count": 63,
   "id": "7c238bfc",
   "metadata": {},
   "outputs": [],
   "source": [
    "mrg1 = pd.merge(d1, d2, on = 'State Name')"
   ]
  },
  {
   "cell_type": "code",
   "execution_count": 64,
   "id": "70fa8815",
   "metadata": {},
   "outputs": [
    {
     "data": {
      "text/plain": [
       "[Text(1, 0, '2012'), Text(3, 0, '2022')]"
      ]
     },
     "execution_count": 64,
     "metadata": {},
     "output_type": "execute_result"
    },
    {
     "data": {
      "image/png": "[encoded data removed]",
      "text/plain": [
       "<Figure size 560x560 with 1 Axes>"
      ]
     },
     "metadata": {},
     "output_type": "display_data"
    }
   ],
   "source": [
    "#Code for this plot was modified from slope chart on\n",
    "#https://www.machinelearningplus.com/plots/top-50-matplotlib-visualizations-the-master-plots-python/\n",
    "import matplotlib.lines as mlines\n",
    "\n",
    "def newline(p1, p2, color='black'):\n",
    "    ax = plt.gca()\n",
    "    l = mlines.Line2D([p1[0],p2[0]], [p1[1],p2[1]], color='blue' if p1[1]-p2[1] > 0 else 'red',  marker='o', markersize=6)\n",
    "    ax.add_line(l)\n",
    "    return l\n",
    "\n",
    "fig, ax = plt.subplots(1,1,figsize=(7,7), dpi= 80)\n",
    "\n",
    "# Vertical Lines \n",
    "ax.vlines(x=1, ymin= 0, ymax=1, color='black', alpha=0.7, linewidth=1, linestyles='dotted')\n",
    "ax.vlines(x=3, ymin=0, ymax=1, color='black', alpha=0.7, linewidth=1, linestyles='dotted')\n",
    "\n",
    "# Points\n",
    "ax.scatter(y=mrg1['Arithmetic Mean_x'], x=np.repeat(1, mrg1.shape[0]), s=10, color='black', alpha=0.7)\n",
    "ax.scatter(y=mrg1['Arithmetic Mean_y'], x=np.repeat(3, mrg1.shape[0]), s=10, color='black', alpha=0.7)\n",
    "\n",
    "# Line Segmentsand Annotation\n",
    "for p1, p2, c in zip(mrg1['Arithmetic Mean_x'], mrg1['Arithmetic Mean_y'], mrg1['State Name']):\n",
    "    newline([1,p1], [3,p2])\n",
    "    \n",
    "# Decoration\n",
    "ax.set_title('Average Statewide Ozone Levels between 2012 and 2022', fontsize=14)\n",
    "ax.set(xlim=(0,4), ylim=(0.020,0.045), ylabel='ozone concentration in ppm')\n",
    "ax.set_xticks([1,3])\n",
    "ax.set_xticklabels(['2012', '2022'])"
   ]
  },
  {
   "cell_type": "markdown",
   "id": "8455a45e",
   "metadata": {},
   "source": [
    "Most states have decreased average ozone levels from 2012 to 2020. A handful of states\n",
    "have increased average levels; increases are depicted with red lines."
   ]
  },
  {
   "cell_type": "code",
   "execution_count": 65,
   "id": "edbbf5f9",
   "metadata": {},
   "outputs": [],
   "source": [
    "plt.close()"
   ]
  },
  {
   "cell_type": "code",
   "execution_count": 66,
   "id": "17c8ede3",
   "metadata": {},
   "outputs": [
    {
     "data": {
      "text/html": [
       "<div>\n",
       "<style scoped>\n",
       "    .dataframe tbody tr th:only-of-type {\n",
       "        vertical-align: middle;\n",
       "    }\n",
       "\n",
       "    .dataframe tbody tr th {\n",
       "        vertical-align: top;\n",
       "    }\n",
       "\n",
       "    .dataframe thead th {\n",
       "        text-align: right;\n",
       "    }\n",
       "</style>\n",
       "<table border=\"1\" class=\"dataframe\">\n",
       "  <thead>\n",
       "    <tr style=\"text-align: right;\">\n",
       "      <th></th>\n",
       "      <th>State Name</th>\n",
       "      <th>Arithmetic Mean_x</th>\n",
       "      <th>Arithmetic Mean_y</th>\n",
       "    </tr>\n",
       "  </thead>\n",
       "  <tbody>\n",
       "    <tr>\n",
       "      <th>38</th>\n",
       "      <td>Rhode Island</td>\n",
       "      <td>0.032713</td>\n",
       "      <td>0.033101</td>\n",
       "    </tr>\n",
       "    <tr>\n",
       "      <th>12</th>\n",
       "      <td>Illinois</td>\n",
       "      <td>0.030986</td>\n",
       "      <td>0.031146</td>\n",
       "    </tr>\n",
       "    <tr>\n",
       "      <th>25</th>\n",
       "      <td>Montana</td>\n",
       "      <td>0.029614</td>\n",
       "      <td>0.031933</td>\n",
       "    </tr>\n",
       "    <tr>\n",
       "      <th>31</th>\n",
       "      <td>New York</td>\n",
       "      <td>0.029514</td>\n",
       "      <td>0.029945</td>\n",
       "    </tr>\n",
       "    <tr>\n",
       "      <th>46</th>\n",
       "      <td>Washington</td>\n",
       "      <td>0.027005</td>\n",
       "      <td>0.027408</td>\n",
       "    </tr>\n",
       "    <tr>\n",
       "      <th>1</th>\n",
       "      <td>Alaska</td>\n",
       "      <td>0.023342</td>\n",
       "      <td>0.027887</td>\n",
       "    </tr>\n",
       "  </tbody>\n",
       "</table>\n",
       "</div>"
      ],
      "text/plain": [
       "      State Name  Arithmetic Mean_x  Arithmetic Mean_y\n",
       "38  Rhode Island           0.032713           0.033101\n",
       "12      Illinois           0.030986           0.031146\n",
       "25       Montana           0.029614           0.031933\n",
       "31      New York           0.029514           0.029945\n",
       "46    Washington           0.027005           0.027408\n",
       "1         Alaska           0.023342           0.027887"
      ]
     },
     "execution_count": 66,
     "metadata": {},
     "output_type": "execute_result"
    }
   ],
   "source": [
    "#which states have increased levels of ozone?\n",
    "ozone1StateIncrease = mrg1[mrg1['Arithmetic Mean_y'] > mrg1['Arithmetic Mean_x']]\n",
    "ozone1StateIncrease = ozone1StateIncrease.sort_values('Arithmetic Mean_x', ascending = False).copy()\n",
    "ozone1StateIncrease"
   ]
  },
  {
   "cell_type": "markdown",
   "id": "0b5d2305",
   "metadata": {},
   "source": [
    "### Which states have the highest levels of ozone?\n"
   ]
  },
  {
   "cell_type": "code",
   "execution_count": 67,
   "id": "73e150a2",
   "metadata": {},
   "outputs": [
    {
     "name": "stdout",
     "output_type": "stream",
     "text": [
      "<class 'pandas.core.frame.DataFrame'>\n",
      "RangeIndex: 50 entries, 0 to 49\n",
      "Data columns (total 2 columns):\n",
      " #   Column           Non-Null Count  Dtype  \n",
      "---  ------           --------------  -----  \n",
      " 0   State Name       50 non-null     object \n",
      " 1   Arithmetic Mean  50 non-null     float64\n",
      "dtypes: float64(1), object(1)\n",
      "memory usage: 928.0+ bytes\n"
     ]
    }
   ],
   "source": [
    "d0.info()"
   ]
  },
  {
   "cell_type": "code",
   "execution_count": 68,
   "id": "372a05e8",
   "metadata": {},
   "outputs": [
    {
     "data": {
      "text/html": [
       "<div>\n",
       "<style scoped>\n",
       "    .dataframe tbody tr th:only-of-type {\n",
       "        vertical-align: middle;\n",
       "    }\n",
       "\n",
       "    .dataframe tbody tr th {\n",
       "        vertical-align: top;\n",
       "    }\n",
       "\n",
       "    .dataframe thead th {\n",
       "        text-align: right;\n",
       "    }\n",
       "</style>\n",
       "<table border=\"1\" class=\"dataframe\">\n",
       "  <thead>\n",
       "    <tr style=\"text-align: right;\">\n",
       "      <th></th>\n",
       "      <th>State Name</th>\n",
       "      <th>Arithmetic Mean</th>\n",
       "    </tr>\n",
       "  </thead>\n",
       "  <tbody>\n",
       "    <tr>\n",
       "      <th>49</th>\n",
       "      <td>Wyoming</td>\n",
       "      <td>0.048473</td>\n",
       "    </tr>\n",
       "    <tr>\n",
       "      <th>11</th>\n",
       "      <td>Idaho</td>\n",
       "      <td>0.042701</td>\n",
       "    </tr>\n",
       "    <tr>\n",
       "      <th>43</th>\n",
       "      <td>Utah</td>\n",
       "      <td>0.042589</td>\n",
       "    </tr>\n",
       "    <tr>\n",
       "      <th>41</th>\n",
       "      <td>Tennessee</td>\n",
       "      <td>0.040800</td>\n",
       "    </tr>\n",
       "    <tr>\n",
       "      <th>32</th>\n",
       "      <td>North Carolina</td>\n",
       "      <td>0.040049</td>\n",
       "    </tr>\n",
       "    <tr>\n",
       "      <th>16</th>\n",
       "      <td>Kentucky</td>\n",
       "      <td>0.039459</td>\n",
       "    </tr>\n",
       "    <tr>\n",
       "      <th>2</th>\n",
       "      <td>Arizona</td>\n",
       "      <td>0.038655</td>\n",
       "    </tr>\n",
       "    <tr>\n",
       "      <th>9</th>\n",
       "      <td>Georgia</td>\n",
       "      <td>0.038457</td>\n",
       "    </tr>\n",
       "    <tr>\n",
       "      <th>13</th>\n",
       "      <td>Indiana</td>\n",
       "      <td>0.037993</td>\n",
       "    </tr>\n",
       "    <tr>\n",
       "      <th>23</th>\n",
       "      <td>Mississippi</td>\n",
       "      <td>0.037736</td>\n",
       "    </tr>\n",
       "  </tbody>\n",
       "</table>\n",
       "</div>"
      ],
      "text/plain": [
       "        State Name  Arithmetic Mean\n",
       "49         Wyoming         0.048473\n",
       "11           Idaho         0.042701\n",
       "43            Utah         0.042589\n",
       "41       Tennessee         0.040800\n",
       "32  North Carolina         0.040049\n",
       "16        Kentucky         0.039459\n",
       "2          Arizona         0.038655\n",
       "9          Georgia         0.038457\n",
       "13         Indiana         0.037993\n",
       "23     Mississippi         0.037736"
      ]
     },
     "execution_count": 68,
     "metadata": {},
     "output_type": "execute_result"
    }
   ],
   "source": [
    "d0TopTen = d0.sort_values('Arithmetic Mean', ascending = False).head(10)\n",
    "d0TopTen"
   ]
  },
  {
   "cell_type": "code",
   "execution_count": 69,
   "id": "54dde57e",
   "metadata": {},
   "outputs": [
    {
     "data": {
      "text/plain": [
       "Text(0.5, 1.0, '1999 Highest Average Concentrations of Ozone')"
      ]
     },
     "execution_count": 69,
     "metadata": {},
     "output_type": "execute_result"
    },
    {
     "data": {
      "image/png": "[encoded data removed]",
      "text/plain": [
       "<Figure size 504x360 with 1 Axes>"
      ]
     },
     "metadata": {},
     "output_type": "display_data"
    }
   ],
   "source": [
    "#create barplots\n",
    "sns.set(style='whitegrid', context='notebook', rc={'figure.figsize': (7,5)})\n",
    "sns.barplot(x = d0TopTen['Arithmetic Mean'], y = d0TopTen['State Name'], palette = 'rocket')\n",
    "plt.xlabel('concentrations in ppm')\n",
    "plt.ylabel('')\n",
    "plt.title('1999 Highest Average Concentrations of Ozone', fontsize = 16)"
   ]
  },
  {
   "cell_type": "code",
   "execution_count": 70,
   "id": "d161eb81",
   "metadata": {},
   "outputs": [],
   "source": [
    "plt.close()"
   ]
  },
  {
   "cell_type": "code",
   "execution_count": 71,
   "id": "153233de",
   "metadata": {},
   "outputs": [
    {
     "data": {
      "text/html": [
       "<div>\n",
       "<style scoped>\n",
       "    .dataframe tbody tr th:only-of-type {\n",
       "        vertical-align: middle;\n",
       "    }\n",
       "\n",
       "    .dataframe tbody tr th {\n",
       "        vertical-align: top;\n",
       "    }\n",
       "\n",
       "    .dataframe thead th {\n",
       "        text-align: right;\n",
       "    }\n",
       "</style>\n",
       "<table border=\"1\" class=\"dataframe\">\n",
       "  <thead>\n",
       "    <tr style=\"text-align: right;\">\n",
       "      <th></th>\n",
       "      <th>State Name</th>\n",
       "      <th>Arithmetic Mean</th>\n",
       "    </tr>\n",
       "  </thead>\n",
       "  <tbody>\n",
       "    <tr>\n",
       "      <th>5</th>\n",
       "      <td>Colorado</td>\n",
       "      <td>0.041155</td>\n",
       "    </tr>\n",
       "    <tr>\n",
       "      <th>43</th>\n",
       "      <td>Utah</td>\n",
       "      <td>0.040562</td>\n",
       "    </tr>\n",
       "    <tr>\n",
       "      <th>49</th>\n",
       "      <td>Wyoming</td>\n",
       "      <td>0.040170</td>\n",
       "    </tr>\n",
       "    <tr>\n",
       "      <th>24</th>\n",
       "      <td>Missouri</td>\n",
       "      <td>0.039694</td>\n",
       "    </tr>\n",
       "    <tr>\n",
       "      <th>27</th>\n",
       "      <td>Nevada</td>\n",
       "      <td>0.038848</td>\n",
       "    </tr>\n",
       "    <tr>\n",
       "      <th>2</th>\n",
       "      <td>Arizona</td>\n",
       "      <td>0.037280</td>\n",
       "    </tr>\n",
       "    <tr>\n",
       "      <th>30</th>\n",
       "      <td>New Mexico</td>\n",
       "      <td>0.036827</td>\n",
       "    </tr>\n",
       "    <tr>\n",
       "      <th>48</th>\n",
       "      <td>Wisconsin</td>\n",
       "      <td>0.036166</td>\n",
       "    </tr>\n",
       "    <tr>\n",
       "      <th>35</th>\n",
       "      <td>Oklahoma</td>\n",
       "      <td>0.036145</td>\n",
       "    </tr>\n",
       "    <tr>\n",
       "      <th>13</th>\n",
       "      <td>Indiana</td>\n",
       "      <td>0.036128</td>\n",
       "    </tr>\n",
       "  </tbody>\n",
       "</table>\n",
       "</div>"
      ],
      "text/plain": [
       "    State Name  Arithmetic Mean\n",
       "5     Colorado         0.041155\n",
       "43        Utah         0.040562\n",
       "49     Wyoming         0.040170\n",
       "24    Missouri         0.039694\n",
       "27      Nevada         0.038848\n",
       "2      Arizona         0.037280\n",
       "30  New Mexico         0.036827\n",
       "48   Wisconsin         0.036166\n",
       "35    Oklahoma         0.036145\n",
       "13     Indiana         0.036128"
      ]
     },
     "execution_count": 71,
     "metadata": {},
     "output_type": "execute_result"
    }
   ],
   "source": [
    "#repeat top ten visualizations for years 2012 and 2020\n",
    "d1TopTen = d1.sort_values('Arithmetic Mean', ascending = False).head(10)\n",
    "d1TopTen"
   ]
  },
  {
   "cell_type": "code",
   "execution_count": 72,
   "id": "76c9878a",
   "metadata": {},
   "outputs": [
    {
     "data": {
      "text/plain": [
       "Text(0.5, 1.0, '2012 Highest Average Concentrations of Ozone')"
      ]
     },
     "execution_count": 72,
     "metadata": {},
     "output_type": "execute_result"
    },
    {
     "data": {
      "image/png": "[encoded data removed]",
      "text/plain": [
       "<Figure size 504x360 with 1 Axes>"
      ]
     },
     "metadata": {},
     "output_type": "display_data"
    }
   ],
   "source": [
    "sns.barplot(x = d1TopTen['Arithmetic Mean'], y = d1TopTen['State Name'], palette = 'rocket')\n",
    "plt.xlabel('concentrations in ppm')\n",
    "plt.ylabel('')\n",
    "plt.title('2012 Highest Average Concentrations of Ozone', fontsize=16)"
   ]
  },
  {
   "cell_type": "code",
   "execution_count": 73,
   "id": "b3f2ddd5",
   "metadata": {},
   "outputs": [],
   "source": [
    "plt.close()"
   ]
  },
  {
   "cell_type": "code",
   "execution_count": 74,
   "id": "2810f2a2",
   "metadata": {},
   "outputs": [
    {
     "data": {
      "text/html": [
       "<div>\n",
       "<style scoped>\n",
       "    .dataframe tbody tr th:only-of-type {\n",
       "        vertical-align: middle;\n",
       "    }\n",
       "\n",
       "    .dataframe tbody tr th {\n",
       "        vertical-align: top;\n",
       "    }\n",
       "\n",
       "    .dataframe thead th {\n",
       "        text-align: right;\n",
       "    }\n",
       "</style>\n",
       "<table border=\"1\" class=\"dataframe\">\n",
       "  <thead>\n",
       "    <tr style=\"text-align: right;\">\n",
       "      <th></th>\n",
       "      <th>State Name</th>\n",
       "      <th>Arithmetic Mean</th>\n",
       "    </tr>\n",
       "  </thead>\n",
       "  <tbody>\n",
       "    <tr>\n",
       "      <th>49</th>\n",
       "      <td>Wyoming</td>\n",
       "      <td>0.038629</td>\n",
       "    </tr>\n",
       "    <tr>\n",
       "      <th>5</th>\n",
       "      <td>Colorado</td>\n",
       "      <td>0.038497</td>\n",
       "    </tr>\n",
       "    <tr>\n",
       "      <th>2</th>\n",
       "      <td>Arizona</td>\n",
       "      <td>0.037082</td>\n",
       "    </tr>\n",
       "    <tr>\n",
       "      <th>30</th>\n",
       "      <td>New Mexico</td>\n",
       "      <td>0.036774</td>\n",
       "    </tr>\n",
       "    <tr>\n",
       "      <th>43</th>\n",
       "      <td>Utah</td>\n",
       "      <td>0.036190</td>\n",
       "    </tr>\n",
       "    <tr>\n",
       "      <th>27</th>\n",
       "      <td>Nevada</td>\n",
       "      <td>0.036031</td>\n",
       "    </tr>\n",
       "    <tr>\n",
       "      <th>11</th>\n",
       "      <td>Idaho</td>\n",
       "      <td>0.033721</td>\n",
       "    </tr>\n",
       "    <tr>\n",
       "      <th>6</th>\n",
       "      <td>Connecticut</td>\n",
       "      <td>0.033645</td>\n",
       "    </tr>\n",
       "    <tr>\n",
       "      <th>40</th>\n",
       "      <td>South Dakota</td>\n",
       "      <td>0.033302</td>\n",
       "    </tr>\n",
       "    <tr>\n",
       "      <th>38</th>\n",
       "      <td>Rhode Island</td>\n",
       "      <td>0.033101</td>\n",
       "    </tr>\n",
       "  </tbody>\n",
       "</table>\n",
       "</div>"
      ],
      "text/plain": [
       "      State Name  Arithmetic Mean\n",
       "49       Wyoming         0.038629\n",
       "5       Colorado         0.038497\n",
       "2        Arizona         0.037082\n",
       "30    New Mexico         0.036774\n",
       "43          Utah         0.036190\n",
       "27        Nevada         0.036031\n",
       "11         Idaho         0.033721\n",
       "6    Connecticut         0.033645\n",
       "40  South Dakota         0.033302\n",
       "38  Rhode Island         0.033101"
      ]
     },
     "execution_count": 74,
     "metadata": {},
     "output_type": "execute_result"
    }
   ],
   "source": [
    "d2TopTen = d2.sort_values('Arithmetic Mean', ascending = False).head(10)\n",
    "d2TopTen"
   ]
  },
  {
   "cell_type": "code",
   "execution_count": 75,
   "id": "4a1944b6",
   "metadata": {},
   "outputs": [
    {
     "data": {
      "text/plain": [
       "Text(0.5, 1.0, '2020 Highest Average Concentrations of Ozone')"
      ]
     },
     "execution_count": 75,
     "metadata": {},
     "output_type": "execute_result"
    },
    {
     "data": {
      "image/png": "[encoded data removed]",
      "text/plain": [
       "<Figure size 504x360 with 1 Axes>"
      ]
     },
     "metadata": {},
     "output_type": "display_data"
    }
   ],
   "source": [
    "sns.barplot(x = d2TopTen['Arithmetic Mean'], y = d2TopTen['State Name'], palette = 'rocket')\n",
    "plt.xlabel('concentrations in ppm')\n",
    "plt.ylabel('')\n",
    "plt.title('2020 Highest Average Concentrations of Ozone', fontsize=16)"
   ]
  },
  {
   "cell_type": "code",
   "execution_count": 76,
   "id": "db75c283",
   "metadata": {},
   "outputs": [],
   "source": [
    "plt.close()"
   ]
  },
  {
   "cell_type": "markdown",
   "id": "541e6d56",
   "metadata": {},
   "source": [
    "### Which states have the lowest levels of ozone?"
   ]
  },
  {
   "cell_type": "code",
   "execution_count": 77,
   "id": "e5dec801",
   "metadata": {},
   "outputs": [
    {
     "data": {
      "text/plain": [
       "Text(0.5, 1.0, '1999 Lowest Average Concentrations of Ozone')"
      ]
     },
     "execution_count": 77,
     "metadata": {},
     "output_type": "execute_result"
    },
    {
     "data": {
      "image/png": "[encoded data removed]",
      "text/plain": [
       "<Figure size 504x360 with 1 Axes>"
      ]
     },
     "metadata": {},
     "output_type": "display_data"
    }
   ],
   "source": [
    "d0LowestTen = d0.sort_values('Arithmetic Mean').head(10)\n",
    "sns.barplot(x = d0LowestTen['Arithmetic Mean'], y = d0LowestTen['State Name'], palette = 'mako_r')\n",
    "plt.xlabel('concentrations in ppm')\n",
    "plt.ylabel('')\n",
    "plt.title('1999 Lowest Average Concentrations of Ozone', fontsize=16)"
   ]
  },
  {
   "cell_type": "code",
   "execution_count": 78,
   "id": "7cd57b8e",
   "metadata": {},
   "outputs": [],
   "source": [
    "plt.close()"
   ]
  },
  {
   "cell_type": "code",
   "execution_count": 79,
   "id": "c9185103",
   "metadata": {},
   "outputs": [
    {
     "data": {
      "text/plain": [
       "Text(0.5, 1.0, '2012 Lowest Average Concentrations of Ozone')"
      ]
     },
     "execution_count": 79,
     "metadata": {},
     "output_type": "execute_result"
    },
    {
     "data": {
      "image/png": "[encoded data removed]",
      "text/plain": [
       "<Figure size 504x360 with 1 Axes>"
      ]
     },
     "metadata": {},
     "output_type": "display_data"
    }
   ],
   "source": [
    "d1LowestTen = d1.sort_values('Arithmetic Mean').head(10)\n",
    "sns.barplot(x = d1LowestTen['Arithmetic Mean'], y = d1LowestTen['State Name'], palette = 'mako_r')\n",
    "plt.xlabel('concentrations in ppm')\n",
    "plt.ylabel('')\n",
    "plt.title('2012 Lowest Average Concentrations of Ozone', fontsize=16)"
   ]
  },
  {
   "cell_type": "code",
   "execution_count": 80,
   "id": "f2dfe243",
   "metadata": {},
   "outputs": [],
   "source": [
    "plt.close()"
   ]
  },
  {
   "cell_type": "code",
   "execution_count": 81,
   "id": "3ea40453",
   "metadata": {},
   "outputs": [
    {
     "data": {
      "text/plain": [
       "Text(0.5, 1.0, '2020 Lowest Average Concentrations of Ozone')"
      ]
     },
     "execution_count": 81,
     "metadata": {},
     "output_type": "execute_result"
    },
    {
     "data": {
      "image/png": "[encoded data removed]",
      "text/plain": [
       "<Figure size 504x360 with 1 Axes>"
      ]
     },
     "metadata": {},
     "output_type": "display_data"
    }
   ],
   "source": [
    "d2LowestTen = d2.sort_values('Arithmetic Mean').head(10)\n",
    "sns.barplot(x = d2LowestTen['Arithmetic Mean'], y = d2LowestTen['State Name'], palette = 'mako_r')\n",
    "plt.xlabel('concentrations in ppm')\n",
    "plt.ylabel('')\n",
    "plt.title('2020 Lowest Average Concentrations of Ozone', fontsize=16)"
   ]
  },
  {
   "cell_type": "code",
   "execution_count": 82,
   "id": "577826d3",
   "metadata": {},
   "outputs": [],
   "source": [
    "plt.close()"
   ]
  },
  {
   "cell_type": "markdown",
   "id": "fcb359f0",
   "metadata": {},
   "source": [
    "### End ozone studies"
   ]
  },
  {
   "cell_type": "code",
   "execution_count": null,
   "id": "8f35b741",
   "metadata": {},
   "outputs": [],
   "source": []
  }
 ],
 "metadata": {
  "kernelspec": {
   "display_name": "Python 3 (ipykernel)",
   "language": "python",
   "name": "python3"
  },
  "language_info": {
   "codemirror_mode": {
    "name": "ipython",
    "version": 3
   },
   "file_extension": ".py",
   "mimetype": "text/x-python",
   "name": "python",
   "nbconvert_exporter": "python",
   "pygments_lexer": "ipython3",
   "version": "3.8.12"
  }
 },
 "nbformat": 4,
 "nbformat_minor": 5
}
